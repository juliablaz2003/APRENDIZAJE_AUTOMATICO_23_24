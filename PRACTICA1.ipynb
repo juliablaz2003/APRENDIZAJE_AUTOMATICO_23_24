{
  "nbformat": 4,
  "nbformat_minor": 0,
  "metadata": {
    "colab": {
      "provenance": [],
      "gpuType": "T4",
      "authorship_tag": "ABX9TyMoIpgRby6aBTeGCkgMmTXy",
      "include_colab_link": true
    },
    "kernelspec": {
      "name": "python3",
      "display_name": "Python 3"
    },
    "language_info": {
      "name": "python"
    },
    "accelerator": "GPU"
  },
  "cells": [
    {
      "cell_type": "markdown",
      "metadata": {
        "id": "view-in-github",
        "colab_type": "text"
      },
      "source": [
        "<a href=\"https://colab.research.google.com/github/juliablaz2003/APRENDIZAJE_AUTOMATICO_23_24/blob/main/PRACTICA1.ipynb\" target=\"_parent\"><img src=\"https://colab.research.google.com/assets/colab-badge.svg\" alt=\"Open In Colab\"/></a>"
      ]
    },
    {
      "cell_type": "markdown",
      "source": [
        "# GRUPO B01\n",
        "## Julia Callaba Blázquez\n",
        "## Ines Agudo"
      ],
      "metadata": {
        "id": "8GJWynpvbQeF"
      }
    },
    {
      "cell_type": "markdown",
      "source": [
        "Con la importación de Keras simplificamos la creación y entrenamiento de redes neuronales para resolver problemas de aprendizaje profundo,  además de proporcionarnos una interfaz de alto nivel que ahorra tiempo al definir modelos y entrenarlos más fácil."
      ],
      "metadata": {
        "id": "K_LBGAmuLtz0"
      }
    },
    {
      "cell_type": "markdown",
      "source": [
        "En este trabajo, se desarrollará un modelo de Red de Neuronas Artificiales utilizando Keras para reconocer y clasificar diferentes tipos de ropa en imágenes. El proceso incluirá la definición, configuración, entrenamiento, evaluación y mejora del modelo, que se aplicará al conjunto de datos Fashion-MNIST. Este conjunto de datos consiste en imágenes de prendas de ropa en baja resolución y escala de grises, con 70,000 imágenes en 10 categorías. De estas, 60,000 se usarán para el entrenamiento y 10,000 para evaluar la precisión del modelo en la clasificación de las imágenes."
      ],
      "metadata": {
        "id": "qytesX8kJgRG"
      }
    },
    {
      "cell_type": "markdown",
      "source": [
        "(El entorno de ejecución ha sido cambiado de CPU a T4 GPU)"
      ],
      "metadata": {
        "id": "BOPPfZMiL2t4"
      }
    },
    {
      "cell_type": "markdown",
      "source": [
        "Empezamos importando Keras y utilizamos las versión 2.13 de tensorflow."
      ],
      "metadata": {
        "id": "Wjxc1PTaM450"
      }
    },
    {
      "cell_type": "code",
      "execution_count": 2,
      "metadata": {
        "colab": {
          "base_uri": "https://localhost:8080/"
        },
        "id": "WILjxR_nbNrC",
        "outputId": "2b5eb3cd-f8bf-4338-cc46-2b5606eecdbd"
      },
      "outputs": [
        {
          "output_type": "stream",
          "name": "stdout",
          "text": [
            "Colab only includes TensorFlow 2.x; %tensorflow_version has no effect.\n",
            "GPU Available: [PhysicalDevice(name='/physical_device:GPU:0', device_type='GPU')]\n",
            "2.13.0\n"
          ]
        }
      ],
      "source": [
        "# 1.- IMPORTAMOS KERAS\n",
        "%tensorflow_version 2.x\n",
        "import tensorflow as tf\n",
        "from tensorflow import keras\n",
        "print(\"GPU Available:\", tf.config.list_physical_devices('GPU'))\n",
        "print(tf.__version__)"
      ]
    },
    {
      "cell_type": "markdown",
      "source": [
        "Cargamos el conjunto de datos fashion_mnist en keras."
      ],
      "metadata": {
        "id": "ero9LPX4c-Ke"
      }
    },
    {
      "cell_type": "code",
      "source": [
        "# 2.- CARGAMOS EL CONJUNTO DE DATOS FASHION_MNIST EN KERAS\n",
        "from keras.datasets import fashion_mnist # se importan los datos de fashion_mnist desde keras\n",
        "(train_images, train_labels), (test_images, test_labels) = fashion_mnist.load_data() # descargamos todos los datos\n",
        "# train_images y train_labels representan las imágenes y sus etiquetas que se utilizan para enseñar al modelo durante el entrenamiento, en el\n",
        "# caso de test_images y test_labels  evaluan la precisión del modelo después de haber sido entrenado."
      ],
      "metadata": {
        "id": "hFIQ4n4dc9Av",
        "colab": {
          "base_uri": "https://localhost:8080/"
        },
        "outputId": "d5851dd2-a068-4dca-fd7b-c1ed5b65423f"
      },
      "execution_count": 3,
      "outputs": [
        {
          "output_type": "stream",
          "name": "stdout",
          "text": [
            "Downloading data from https://storage.googleapis.com/tensorflow/tf-keras-datasets/train-labels-idx1-ubyte.gz\n",
            "29515/29515 [==============================] - 0s 1us/step\n",
            "Downloading data from https://storage.googleapis.com/tensorflow/tf-keras-datasets/train-images-idx3-ubyte.gz\n",
            "26421880/26421880 [==============================] - 2s 0us/step\n",
            "Downloading data from https://storage.googleapis.com/tensorflow/tf-keras-datasets/t10k-labels-idx1-ubyte.gz\n",
            "5148/5148 [==============================] - 0s 0us/step\n",
            "Downloading data from https://storage.googleapis.com/tensorflow/tf-keras-datasets/t10k-images-idx3-ubyte.gz\n",
            "4422102/4422102 [==============================] - 1s 0us/step\n"
          ]
        }
      ]
    },
    {
      "cell_type": "markdown",
      "source": [
        "Mostramos los datos de entrenamiento."
      ],
      "metadata": {
        "id": "UB6_i4pdP1S-"
      }
    },
    {
      "cell_type": "code",
      "source": [
        "print(train_images.shape)"
      ],
      "metadata": {
        "colab": {
          "base_uri": "https://localhost:8080/"
        },
        "id": "6ych7PZ7fNKp",
        "outputId": "60e3824b-026e-49a6-ac98-7e586626ebd5"
      },
      "execution_count": 4,
      "outputs": [
        {
          "output_type": "stream",
          "name": "stdout",
          "text": [
            "(60000, 28, 28)\n"
          ]
        }
      ]
    },
    {
      "cell_type": "markdown",
      "source": [
        "En la fase de preparación de datos, primero es fundamental examinar las dimensiones de las imágenes, tanto las de entrenamiento como las de prueba. Esto nos proporciona información sobre la estructura de datos que estamos tratando.\n",
        "\n",
        "Un paso imprescindible es la aplanación de las imágenes, para ello utilizamos la función de Keras llamada **\"Flatten\"**.\n",
        "\n",
        "La función **\"Flatten\"** crea una estructura lineal, permitiendo que el modelo comprenda mejor las relaciones y los patrones. Transforma imágenes 2D en vectores 1D, esto prepara nuestros datos para que puedan ser interpretadis y analizados de manera más eficiente por la red neuronal."
      ],
      "metadata": {
        "id": "4HhQFT3vgVup"
      }
    },
    {
      "cell_type": "code",
      "source": [
        "# mostramos las dimensiones de las imagenes, y cuantas hay en cada conjunto (comentario primeras 4 lineas)\n",
        "print(\"Forma de las imágenes de entrenamiento:\", train_images.shape)\n",
        "print(\"Forma de las etiquetas de entrenamiento:\", train_labels.shape)\n",
        "print(\"Forma de las imágenes de prueba:\", test_images.shape)\n",
        "print(\"Forma de las etiquetas de prueba:\", test_labels.shape)\n",
        "\n",
        "# importamos \"flatten\" pedida en el enunciado, para aplanar las imagenes\n",
        "from keras.layers import Flatten\n",
        "\n",
        "train_images_flat = train_images.reshape((train_images.shape[0], -1))\n",
        "\n",
        "test_images_flat = test_images.reshape((test_images.shape[0], -1))\n",
        "\n",
        "# iostramos las nuevas dimensiones de los conjuntos de datos aplanados\n",
        "print(\"\\nForma de las imágenes de entrenamiento aplanadas:\", train_images_flat.shape)\n",
        "print(\"Forma de las imágenes de prueba aplanadas:\", test_images_flat.shape)"
      ],
      "metadata": {
        "colab": {
          "base_uri": "https://localhost:8080/"
        },
        "id": "FB2q-OAQgBtt",
        "outputId": "7beeb752-a831-4ed5-8a4e-b60c7510b1e5"
      },
      "execution_count": 5,
      "outputs": [
        {
          "output_type": "stream",
          "name": "stdout",
          "text": [
            "Forma de las imágenes de entrenamiento: (60000, 28, 28)\n",
            "Forma de las etiquetas de entrenamiento: (60000,)\n",
            "Forma de las imágenes de prueba: (10000, 28, 28)\n",
            "Forma de las etiquetas de prueba: (10000,)\n",
            "\n",
            "Forma de las imágenes de entrenamiento aplanadas: (60000, 784)\n",
            "Forma de las imágenes de prueba aplanadas: (10000, 784)\n"
          ]
        }
      ]
    },
    {
      "cell_type": "markdown",
      "source": [
        "# CUESTIONES PARA IMPLEMENTAR Y RESPONDER"
      ],
      "metadata": {
        "id": "zG5SFN6EhOwr"
      }
    },
    {
      "cell_type": "markdown",
      "source": [
        "Con la biblioteca keras definimos, configuramos y entrenamos los modelos de redes neuronales con distintas configuraciones. Estos, se evalúan y entrenan en el conjunto de datos fashion MNIST para clasificar imágenes de moda, encontrando asi la mejor configuración del modelo para el problema."
      ],
      "metadata": {
        "id": "qcuxAVvBhbSF"
      }
    },
    {
      "cell_type": "code",
      "source": [
        "# importamos las bibliotecas necesarias.\n",
        "from keras import models\n",
        "from keras import layers\n",
        "from keras.datasets import fashion_mnist\n",
        "from keras.utils import to_categorical\n",
        "\n",
        "# cargamos los datos de fashion_mnist que contiene imágenes en blanco y negro (entreamiento y prueba).\n",
        "(train_images, train_labels), (test_images, test_labels) = fashion_mnist.load_data()\n",
        "\n",
        "# transformación de las imágenes para que la red neuronal las entienda mejor. (transformando las imágenes en un formato unidimensional y\n",
        "# asegurándose de que los valores de los píxeles estén en un rango de 0 a 1)\n",
        "\n",
        "# se transforman las etiquetas de entrenamiento en vectores \"one-hot encoding\" para su uso en problemas de clasificación.\n",
        "train_images = train_images.reshape((60000, 28 * 28))\n",
        "train_images = train_images.astype('float32') / 255\n",
        "test_images = test_images.reshape((10000, 28 * 28))\n",
        "test_images = test_images.astype('float32') / 255\n",
        "train_labels = to_categorical(train_labels)\n",
        "test_labels = to_categorical(test_labels)\n",
        "\n",
        "# se define una función llamada modelo_entrenamiento para crear y entrenar modelos de redes neuronales.\n",
        "def modelo_entrenamiento(neurons, activation, optimizer):\n",
        "    model = models.Sequential()\n",
        "    model.add(layers.Dense(neurons, activation=activation, input_shape=(28*28,)))\n",
        "    model.add(layers.Dense(10, activation='softmax'))\n",
        "\n",
        "    model.compile(optimizer=optimizer,\n",
        "                  loss='categorical_crossentropy',\n",
        "                  metrics=['accuracy'])\n",
        "\n",
        "    history = model.fit(train_images, train_labels, epochs=5, batch_size=64, validation_split=0.2)\n",
        "    return model, history\n",
        "\n",
        "# configuramos los 8 casos diferentes mediante una lista, variando el número de neuronas en la capa oculta, la función de activación y el\n",
        "# optimizador usado.\n",
        "models_and_histories = []\n",
        "\n",
        "casos = [\n",
        "    (10, 'relu', 'sgd'),\n",
        "    (10, 'relu', 'rmsprop'),\n",
        "    (10, 'sigmoid', 'sgd'),\n",
        "    (10, 'sigmoid', 'rmsprop'),\n",
        "    (512, 'relu', 'sgd'),\n",
        "    (512, 'relu', 'rmsprop'),\n",
        "    (512, 'sigmoid', 'sgd'),\n",
        "    (512, 'sigmoid', 'rmsprop')\n",
        "]\n",
        "\n",
        "# en el siguiente bucle iteramos sobre cada configuración de modelo y mostramos la información.\n",
        "for i, (neurons, activation, optimizer) in enumerate(casos, 1):\n",
        "    print(f\"Caso {i}: Neuronas_capa_1={neurons}, Función de activación={activation}, Optimizador={optimizer}\")\n",
        "    # entrenamos cada uno empleando los datos de entrenamiento.\n",
        "    model, history = modelo_entrenamiento(neurons, activation, optimizer)\n",
        "    models_and_histories.append((model, history))\n",
        "    model = models_and_histories[i - 1][0]\n",
        "    model.summary() # imprimimos un resumen de cada modelo\n",
        "    print(\"\\n\")"
      ],
      "metadata": {
        "colab": {
          "base_uri": "https://localhost:8080/"
        },
        "id": "vp6lLab8k0kc",
        "outputId": "56c6f6f7-7052-46d4-8ba8-02f11d998ec7"
      },
      "execution_count": 6,
      "outputs": [
        {
          "output_type": "stream",
          "name": "stdout",
          "text": [
            "Caso 1: Neuronas_capa_1=10, Función de activación=relu, Optimizador=sgd\n",
            "Epoch 1/5\n",
            "750/750 [==============================] - 7s 4ms/step - loss: 1.2778 - accuracy: 0.5592 - val_loss: 0.8208 - val_accuracy: 0.7063\n",
            "Epoch 2/5\n",
            "750/750 [==============================] - 5s 6ms/step - loss: 0.7450 - accuracy: 0.7354 - val_loss: 0.6695 - val_accuracy: 0.7678\n",
            "Epoch 3/5\n",
            "750/750 [==============================] - 4s 6ms/step - loss: 0.6400 - accuracy: 0.7790 - val_loss: 0.5998 - val_accuracy: 0.7880\n",
            "Epoch 4/5\n",
            "750/750 [==============================] - 3s 4ms/step - loss: 0.5829 - accuracy: 0.8011 - val_loss: 0.5643 - val_accuracy: 0.8037\n",
            "Epoch 5/5\n",
            "750/750 [==============================] - 5s 7ms/step - loss: 0.5488 - accuracy: 0.8134 - val_loss: 0.5326 - val_accuracy: 0.8142\n",
            "Model: \"sequential\"\n",
            "_________________________________________________________________\n",
            " Layer (type)                Output Shape              Param #   \n",
            "=================================================================\n",
            " dense (Dense)               (None, 10)                7850      \n",
            "                                                                 \n",
            " dense_1 (Dense)             (None, 10)                110       \n",
            "                                                                 \n",
            "=================================================================\n",
            "Total params: 7960 (31.09 KB)\n",
            "Trainable params: 7960 (31.09 KB)\n",
            "Non-trainable params: 0 (0.00 Byte)\n",
            "_________________________________________________________________\n",
            "\n",
            "\n",
            "Caso 2: Neuronas_capa_1=10, Función de activación=relu, Optimizador=rmsprop\n",
            "Epoch 1/5\n",
            "750/750 [==============================] - 4s 4ms/step - loss: 0.7547 - accuracy: 0.7513 - val_loss: 0.5202 - val_accuracy: 0.8186\n",
            "Epoch 2/5\n",
            "750/750 [==============================] - 2s 3ms/step - loss: 0.4946 - accuracy: 0.8284 - val_loss: 0.4752 - val_accuracy: 0.8335\n",
            "Epoch 3/5\n",
            "750/750 [==============================] - 3s 4ms/step - loss: 0.4603 - accuracy: 0.8389 - val_loss: 0.4534 - val_accuracy: 0.8396\n",
            "Epoch 4/5\n",
            "750/750 [==============================] - 3s 4ms/step - loss: 0.4451 - accuracy: 0.8450 - val_loss: 0.4625 - val_accuracy: 0.8375\n",
            "Epoch 5/5\n",
            "750/750 [==============================] - 2s 3ms/step - loss: 0.4338 - accuracy: 0.8493 - val_loss: 0.4335 - val_accuracy: 0.8490\n",
            "Model: \"sequential_1\"\n",
            "_________________________________________________________________\n",
            " Layer (type)                Output Shape              Param #   \n",
            "=================================================================\n",
            " dense_2 (Dense)             (None, 10)                7850      \n",
            "                                                                 \n",
            " dense_3 (Dense)             (None, 10)                110       \n",
            "                                                                 \n",
            "=================================================================\n",
            "Total params: 7960 (31.09 KB)\n",
            "Trainable params: 7960 (31.09 KB)\n",
            "Non-trainable params: 0 (0.00 Byte)\n",
            "_________________________________________________________________\n",
            "\n",
            "\n",
            "Caso 3: Neuronas_capa_1=10, Función de activación=sigmoid, Optimizador=sgd\n",
            "Epoch 1/5\n",
            "750/750 [==============================] - 4s 5ms/step - loss: 2.0960 - accuracy: 0.3225 - val_loss: 1.8992 - val_accuracy: 0.5306\n",
            "Epoch 2/5\n",
            "750/750 [==============================] - 2s 3ms/step - loss: 1.7553 - accuracy: 0.5741 - val_loss: 1.6148 - val_accuracy: 0.6059\n",
            "Epoch 3/5\n",
            "750/750 [==============================] - 3s 4ms/step - loss: 1.5104 - accuracy: 0.6233 - val_loss: 1.4028 - val_accuracy: 0.6528\n",
            "Epoch 4/5\n",
            "750/750 [==============================] - 2s 3ms/step - loss: 1.3271 - accuracy: 0.6570 - val_loss: 1.2443 - val_accuracy: 0.6766\n",
            "Epoch 5/5\n",
            "750/750 [==============================] - 3s 4ms/step - loss: 1.1886 - accuracy: 0.6776 - val_loss: 1.1241 - val_accuracy: 0.6956\n",
            "Model: \"sequential_2\"\n",
            "_________________________________________________________________\n",
            " Layer (type)                Output Shape              Param #   \n",
            "=================================================================\n",
            " dense_4 (Dense)             (None, 10)                7850      \n",
            "                                                                 \n",
            " dense_5 (Dense)             (None, 10)                110       \n",
            "                                                                 \n",
            "=================================================================\n",
            "Total params: 7960 (31.09 KB)\n",
            "Trainable params: 7960 (31.09 KB)\n",
            "Non-trainable params: 0 (0.00 Byte)\n",
            "_________________________________________________________________\n",
            "\n",
            "\n",
            "Caso 4: Neuronas_capa_1=10, Función de activación=sigmoid, Optimizador=rmsprop\n",
            "Epoch 1/5\n",
            "750/750 [==============================] - 4s 4ms/step - loss: 1.3490 - accuracy: 0.6803 - val_loss: 0.9209 - val_accuracy: 0.7847\n",
            "Epoch 2/5\n",
            "750/750 [==============================] - 3s 4ms/step - loss: 0.7477 - accuracy: 0.7993 - val_loss: 0.6288 - val_accuracy: 0.8110\n",
            "Epoch 3/5\n",
            "750/750 [==============================] - 2s 3ms/step - loss: 0.5692 - accuracy: 0.8222 - val_loss: 0.5325 - val_accuracy: 0.8223\n",
            "Epoch 4/5\n",
            "750/750 [==============================] - 3s 4ms/step - loss: 0.5027 - accuracy: 0.8344 - val_loss: 0.4924 - val_accuracy: 0.8313\n",
            "Epoch 5/5\n",
            "750/750 [==============================] - 3s 4ms/step - loss: 0.4684 - accuracy: 0.8400 - val_loss: 0.4686 - val_accuracy: 0.8370\n",
            "Model: \"sequential_3\"\n",
            "_________________________________________________________________\n",
            " Layer (type)                Output Shape              Param #   \n",
            "=================================================================\n",
            " dense_6 (Dense)             (None, 10)                7850      \n",
            "                                                                 \n",
            " dense_7 (Dense)             (None, 10)                110       \n",
            "                                                                 \n",
            "=================================================================\n",
            "Total params: 7960 (31.09 KB)\n",
            "Trainable params: 7960 (31.09 KB)\n",
            "Non-trainable params: 0 (0.00 Byte)\n",
            "_________________________________________________________________\n",
            "\n",
            "\n",
            "Caso 5: Neuronas_capa_1=512, Función de activación=relu, Optimizador=sgd\n",
            "Epoch 1/5\n",
            "750/750 [==============================] - 4s 5ms/step - loss: 0.8914 - accuracy: 0.7246 - val_loss: 0.6372 - val_accuracy: 0.7917\n",
            "Epoch 2/5\n",
            "750/750 [==============================] - 3s 4ms/step - loss: 0.5904 - accuracy: 0.8081 - val_loss: 0.5500 - val_accuracy: 0.8151\n",
            "Epoch 3/5\n",
            "750/750 [==============================] - 3s 4ms/step - loss: 0.5276 - accuracy: 0.8264 - val_loss: 0.5130 - val_accuracy: 0.8257\n",
            "Epoch 4/5\n",
            "750/750 [==============================] - 2s 3ms/step - loss: 0.4934 - accuracy: 0.8335 - val_loss: 0.4867 - val_accuracy: 0.8350\n",
            "Epoch 5/5\n",
            "750/750 [==============================] - 3s 4ms/step - loss: 0.4720 - accuracy: 0.8411 - val_loss: 0.4687 - val_accuracy: 0.8364\n",
            "Model: \"sequential_4\"\n",
            "_________________________________________________________________\n",
            " Layer (type)                Output Shape              Param #   \n",
            "=================================================================\n",
            " dense_8 (Dense)             (None, 512)               401920    \n",
            "                                                                 \n",
            " dense_9 (Dense)             (None, 10)                5130      \n",
            "                                                                 \n",
            "=================================================================\n",
            "Total params: 407050 (1.55 MB)\n",
            "Trainable params: 407050 (1.55 MB)\n",
            "Non-trainable params: 0 (0.00 Byte)\n",
            "_________________________________________________________________\n",
            "\n",
            "\n",
            "Caso 6: Neuronas_capa_1=512, Función de activación=relu, Optimizador=rmsprop\n",
            "Epoch 1/5\n",
            "750/750 [==============================] - 6s 6ms/step - loss: 0.5372 - accuracy: 0.8081 - val_loss: 0.4349 - val_accuracy: 0.8446\n",
            "Epoch 2/5\n",
            "750/750 [==============================] - 5s 6ms/step - loss: 0.3813 - accuracy: 0.8608 - val_loss: 0.3624 - val_accuracy: 0.8682\n",
            "Epoch 3/5\n",
            "750/750 [==============================] - 6s 8ms/step - loss: 0.3397 - accuracy: 0.8756 - val_loss: 0.3513 - val_accuracy: 0.8776\n",
            "Epoch 4/5\n",
            "750/750 [==============================] - 2s 3ms/step - loss: 0.3139 - accuracy: 0.8841 - val_loss: 0.3563 - val_accuracy: 0.8740\n",
            "Epoch 5/5\n",
            "750/750 [==============================] - 2s 3ms/step - loss: 0.2953 - accuracy: 0.8914 - val_loss: 0.3299 - val_accuracy: 0.8804\n",
            "Model: \"sequential_5\"\n",
            "_________________________________________________________________\n",
            " Layer (type)                Output Shape              Param #   \n",
            "=================================================================\n",
            " dense_10 (Dense)            (None, 512)               401920    \n",
            "                                                                 \n",
            " dense_11 (Dense)            (None, 10)                5130      \n",
            "                                                                 \n",
            "=================================================================\n",
            "Total params: 407050 (1.55 MB)\n",
            "Trainable params: 407050 (1.55 MB)\n",
            "Non-trainable params: 0 (0.00 Byte)\n",
            "_________________________________________________________________\n",
            "\n",
            "\n",
            "Caso 7: Neuronas_capa_1=512, Función de activación=sigmoid, Optimizador=sgd\n",
            "Epoch 1/5\n",
            "750/750 [==============================] - 3s 4ms/step - loss: 1.4904 - accuracy: 0.6342 - val_loss: 1.0705 - val_accuracy: 0.7151\n",
            "Epoch 2/5\n",
            "750/750 [==============================] - 3s 4ms/step - loss: 0.9375 - accuracy: 0.7296 - val_loss: 0.8301 - val_accuracy: 0.7452\n",
            "Epoch 3/5\n",
            "750/750 [==============================] - 3s 4ms/step - loss: 0.7874 - accuracy: 0.7489 - val_loss: 0.7365 - val_accuracy: 0.7582\n",
            "Epoch 4/5\n",
            "750/750 [==============================] - 3s 3ms/step - loss: 0.7149 - accuracy: 0.7607 - val_loss: 0.6813 - val_accuracy: 0.7662\n",
            "Epoch 5/5\n",
            "750/750 [==============================] - 2s 3ms/step - loss: 0.6701 - accuracy: 0.7705 - val_loss: 0.6466 - val_accuracy: 0.7742\n",
            "Model: \"sequential_6\"\n",
            "_________________________________________________________________\n",
            " Layer (type)                Output Shape              Param #   \n",
            "=================================================================\n",
            " dense_12 (Dense)            (None, 512)               401920    \n",
            "                                                                 \n",
            " dense_13 (Dense)            (None, 10)                5130      \n",
            "                                                                 \n",
            "=================================================================\n",
            "Total params: 407050 (1.55 MB)\n",
            "Trainable params: 407050 (1.55 MB)\n",
            "Non-trainable params: 0 (0.00 Byte)\n",
            "_________________________________________________________________\n",
            "\n",
            "\n",
            "Caso 8: Neuronas_capa_1=512, Función de activación=sigmoid, Optimizador=rmsprop\n",
            "Epoch 1/5\n",
            "750/750 [==============================] - 4s 4ms/step - loss: 0.5799 - accuracy: 0.7942 - val_loss: 0.4477 - val_accuracy: 0.8372\n",
            "Epoch 2/5\n",
            "750/750 [==============================] - 2s 3ms/step - loss: 0.4321 - accuracy: 0.8428 - val_loss: 0.4203 - val_accuracy: 0.8466\n",
            "Epoch 3/5\n",
            "750/750 [==============================] - 4s 5ms/step - loss: 0.3935 - accuracy: 0.8568 - val_loss: 0.3914 - val_accuracy: 0.8589\n",
            "Epoch 4/5\n",
            "750/750 [==============================] - 3s 4ms/step - loss: 0.3676 - accuracy: 0.8645 - val_loss: 0.3729 - val_accuracy: 0.8661\n",
            "Epoch 5/5\n",
            "750/750 [==============================] - 2s 3ms/step - loss: 0.3471 - accuracy: 0.8737 - val_loss: 0.3498 - val_accuracy: 0.8718\n",
            "Model: \"sequential_7\"\n",
            "_________________________________________________________________\n",
            " Layer (type)                Output Shape              Param #   \n",
            "=================================================================\n",
            " dense_14 (Dense)            (None, 512)               401920    \n",
            "                                                                 \n",
            " dense_15 (Dense)            (None, 10)                5130      \n",
            "                                                                 \n",
            "=================================================================\n",
            "Total params: 407050 (1.55 MB)\n",
            "Trainable params: 407050 (1.55 MB)\n",
            "Non-trainable params: 0 (0.00 Byte)\n",
            "_________________________________________________________________\n",
            "\n",
            "\n"
          ]
        }
      ]
    },
    {
      "cell_type": "markdown",
      "source": [
        "Cada caso incluye dos capas que realiza la llamada **model.summary()**: Una oculta y una de salida. La capa oculta varía en el número de neuronas y la función de activación, mientras que la de salida consta de 10 neuronas y utiliza la función softmax. La tabla muestra información sobre la cantidad total de parámetros, lo que demuestra la complejidad del modelo.\n",
        "\n",
        "Caso 1:\n",
        "- Configuración: 10 neuronas en la oculta, función activación= \"relu,\" optimizador \"sgd.\"\n",
        "- Rendimiento: La red alcanza una precisión del 81.42% después de 5 épocas.\n",
        "- Estructura: Dos capas, una con 10 neuronas y otra con 10 neuronas de salida.\n",
        "\n",
        "Caso 2:\n",
        "- Configuración: 10 neuronas en la oculta, función activación=\"relu,\" optimizador \"rmsprop.\"\n",
        "- Rendimiento: La red alcanza una precisión del 84.39% tras de 5 épocas.\n",
        "- Estructura: Dos capas, una con 10 neuronas y otra con 10 neuronas de salida.\n",
        "\n",
        "Caso 3:\n",
        "- Configuración: 10 neuronas en la oculta, función activación = \"sigmoid,\" optimizador \"sgd.\"\n",
        "- Rendimiento: 67.68% después de 5 épocas.\n",
        "- Estructura: Dos capas, 10 neuronas en cada una\n",
        "\n",
        "Caso 4:\n",
        "- Configuración: 10 neuronas en la oculta, función activación \"sigmoid,\" optimizador \"rmsprop.\"\n",
        "- Rendimiento: alcanza una precisión del 83.72% al final de 5 épocas.\n",
        "- Estructura: Dos capas, 10 neuronas en cada una.\n",
        "\n",
        "Caso 5:\n",
        "- Configuración: 512 neuronas en la oculta, función activación \"relu,\" optimizador \"sgd.\"\n",
        "- Rendimiento: 83.97% en el conjunto de validación tras 5 épocas.\n",
        "- Estructura: Dos capas, una con 512 neuronas y otra 10 de salida.\n",
        "\n",
        "Caso 6:\n",
        "- Configuración: 512 neuronas en la oculta, función activación \"relu,\" optimizador \"rmsprop.\"\n",
        "- Rendimiento: 86.87% después de 5 épocas.\n",
        "- Estructura: Dos capas, una con 512 neuronas y otra con 10 de salida.\n",
        "\n",
        "Caso 7:\n",
        "- Configuración: 512 neuronas en la  oculta, función activación \"sigmoid,\" optimizador \"sgd.\"\n",
        "- Rendimiento: La red alcanza una precisión del 77.70% en el conjunto de validación después de 5 épocas.\n",
        "- Estructura: Dos capas, una con 512 neuronas y otra con 10 de salida.\n",
        "\n",
        "Caso 8:\n",
        "- Configuración: 512 neuronas en la oculta, función activación \"sigmoid,\" optimizador \"rmsprop.\"\n",
        "- Rendimiento: obtiene una precisión del 87.07% después de 5 épocas.\n",
        "- Estructura: Dos capas, una con 512 neuronas y otra con 10 de salida."
      ],
      "metadata": {
        "id": "IjyMMErJsbwL"
      }
    },
    {
      "cell_type": "markdown",
      "source": [
        " Este código genera un archivo de imagen llamado \"my_first_model.png\" que muestra las capas del modelo y las conexiones entre ellas, permitiendo una visualización gráfica de la arquitectura de la red. La opción show_shapes=True en la función plot_model agrega información sobre las formas de los tensores en cada capa."
      ],
      "metadata": {
        "id": "QRfrdfs7eR4e"
      }
    },
    {
      "cell_type": "code",
      "source": [
        "import tensorflow as tf\n",
        "from tensorflow import keras\n",
        "from tensorflow.keras import layers\n",
        "keras.utils.plot_model(model, \"my_first_model.png\", show_shapes=True)"
      ],
      "metadata": {
        "colab": {
          "base_uri": "https://localhost:8080/",
          "height": 312
        },
        "id": "ngBnTKV7471p",
        "outputId": "b50abec3-9e6d-461e-be89-47c912d6d6fa"
      },
      "execution_count": 7,
      "outputs": [
        {
          "output_type": "execute_result",
          "data": {
            "image/png": "[encoded data removed]",
            "text/plain": [
              "<IPython.core.display.Image object>"
            ]
          },
          "metadata": {},
          "execution_count": 7
        }
      ]
    },
    {
      "cell_type": "code",
      "source": [
        "# función para crear y entrenar un modelo con 25 épocas\n",
        "def modemo_entrenamiento_25_epocas(neurons, activation, optimizer):\n",
        "    model = models.Sequential()\n",
        "    model.add(layers.Dense(neurons, activation=activation, input_shape=(28*28,)))\n",
        "    model.add(layers.Dense(10, activation='softmax'))\n",
        "\n",
        "    model.compile(optimizer=optimizer,\n",
        "                  loss='categorical_crossentropy',\n",
        "                  metrics=['accuracy'])\n",
        "\n",
        "    history = model.fit(train_images, train_labels, epochs=25, batch_size=64, validation_split=0.2)\n",
        "    return model, history\n",
        "\n",
        "# configurar y entrenar los casos 2 y 7 con 25 épocas\n",
        "casos2 = [\n",
        "    (10, 'relu', 'rmsprop'), # caso 2\n",
        "    (512, 'sigmoid', 'sgd') # caso 7\n",
        "]\n",
        "\n",
        "results_with_25_epochs = []\n",
        "\n",
        "for i, (neurons, activation, optimizer) in enumerate(casos2, 1):\n",
        "    print(f\"Caso {i} con 25 épocas: Neuronas_capa_1={neurons}, Función de activación={activation}, Optimizador={optimizer}\")\n",
        "    model, history = modemo_entrenamiento_25_epocas(neurons, activation, optimizer)\n",
        "    results_with_25_epochs.append((model, history))\n",
        "    print(\"\\n\")\n",
        "\n",
        "# ahora tenemos los resultados de los casos 2 y 7 con 25 épocas de entrenamiento."
      ],
      "metadata": {
        "colab": {
          "base_uri": "https://localhost:8080/"
        },
        "id": "QgXo7roXt99J",
        "outputId": "36b6b938-0f70-445d-c568-41e3ec69ee22"
      },
      "execution_count": 8,
      "outputs": [
        {
          "output_type": "stream",
          "name": "stdout",
          "text": [
            "Caso 1 con 25 épocas: Neuronas_capa_1=10, Función de activación=relu, Optimizador=rmsprop\n",
            "Epoch 1/25\n",
            "750/750 [==============================] - 4s 4ms/step - loss: 0.7941 - accuracy: 0.7340 - val_loss: 0.5507 - val_accuracy: 0.8122\n",
            "Epoch 2/25\n",
            "750/750 [==============================] - 2s 3ms/step - loss: 0.5104 - accuracy: 0.8236 - val_loss: 0.4859 - val_accuracy: 0.8301\n",
            "Epoch 3/25\n",
            "750/750 [==============================] - 3s 4ms/step - loss: 0.4724 - accuracy: 0.8358 - val_loss: 0.4743 - val_accuracy: 0.8404\n",
            "Epoch 4/25\n",
            "750/750 [==============================] - 3s 4ms/step - loss: 0.4500 - accuracy: 0.8430 - val_loss: 0.4510 - val_accuracy: 0.8456\n",
            "Epoch 5/25\n",
            "750/750 [==============================] - 3s 3ms/step - loss: 0.4339 - accuracy: 0.8497 - val_loss: 0.4451 - val_accuracy: 0.8450\n",
            "Epoch 6/25\n",
            "750/750 [==============================] - 3s 4ms/step - loss: 0.4225 - accuracy: 0.8534 - val_loss: 0.4429 - val_accuracy: 0.8508\n",
            "Epoch 7/25\n",
            "750/750 [==============================] - 3s 4ms/step - loss: 0.4127 - accuracy: 0.8577 - val_loss: 0.4472 - val_accuracy: 0.8459\n",
            "Epoch 8/25\n",
            "750/750 [==============================] - 3s 4ms/step - loss: 0.4058 - accuracy: 0.8591 - val_loss: 0.4305 - val_accuracy: 0.8496\n",
            "Epoch 9/25\n",
            "750/750 [==============================] - 3s 4ms/step - loss: 0.4018 - accuracy: 0.8606 - val_loss: 0.4201 - val_accuracy: 0.8552\n",
            "Epoch 10/25\n",
            "750/750 [==============================] - 3s 4ms/step - loss: 0.3960 - accuracy: 0.8619 - val_loss: 0.4193 - val_accuracy: 0.8568\n",
            "Epoch 11/25\n",
            "750/750 [==============================] - 2s 3ms/step - loss: 0.3915 - accuracy: 0.8645 - val_loss: 0.4372 - val_accuracy: 0.8523\n",
            "Epoch 12/25\n",
            "750/750 [==============================] - 2s 3ms/step - loss: 0.3883 - accuracy: 0.8646 - val_loss: 0.4222 - val_accuracy: 0.8555\n",
            "Epoch 13/25\n",
            "750/750 [==============================] - 3s 4ms/step - loss: 0.3854 - accuracy: 0.8644 - val_loss: 0.4148 - val_accuracy: 0.8562\n",
            "Epoch 14/25\n",
            "750/750 [==============================] - 3s 4ms/step - loss: 0.3813 - accuracy: 0.8671 - val_loss: 0.4259 - val_accuracy: 0.8517\n",
            "Epoch 15/25\n",
            "750/750 [==============================] - 2s 3ms/step - loss: 0.3796 - accuracy: 0.8683 - val_loss: 0.4199 - val_accuracy: 0.8560\n",
            "Epoch 16/25\n",
            "750/750 [==============================] - 2s 3ms/step - loss: 0.3777 - accuracy: 0.8685 - val_loss: 0.4283 - val_accuracy: 0.8488\n",
            "Epoch 17/25\n",
            "750/750 [==============================] - 2s 3ms/step - loss: 0.3755 - accuracy: 0.8699 - val_loss: 0.4117 - val_accuracy: 0.8597\n",
            "Epoch 18/25\n",
            "750/750 [==============================] - 3s 5ms/step - loss: 0.3733 - accuracy: 0.8692 - val_loss: 0.4177 - val_accuracy: 0.8558\n",
            "Epoch 19/25\n",
            "750/750 [==============================] - 2s 3ms/step - loss: 0.3703 - accuracy: 0.8700 - val_loss: 0.4393 - val_accuracy: 0.8498\n",
            "Epoch 20/25\n",
            "750/750 [==============================] - 3s 4ms/step - loss: 0.3690 - accuracy: 0.8707 - val_loss: 0.4224 - val_accuracy: 0.8551\n",
            "Epoch 21/25\n",
            "750/750 [==============================] - 3s 4ms/step - loss: 0.3672 - accuracy: 0.8722 - val_loss: 0.4117 - val_accuracy: 0.8612\n",
            "Epoch 22/25\n",
            "750/750 [==============================] - 3s 4ms/step - loss: 0.3661 - accuracy: 0.8729 - val_loss: 0.4368 - val_accuracy: 0.8474\n",
            "Epoch 23/25\n",
            "750/750 [==============================] - 3s 4ms/step - loss: 0.3642 - accuracy: 0.8733 - val_loss: 0.4288 - val_accuracy: 0.8546\n",
            "Epoch 24/25\n",
            "750/750 [==============================] - 3s 4ms/step - loss: 0.3628 - accuracy: 0.8735 - val_loss: 0.4154 - val_accuracy: 0.8584\n",
            "Epoch 25/25\n",
            "750/750 [==============================] - 2s 3ms/step - loss: 0.3619 - accuracy: 0.8725 - val_loss: 0.4116 - val_accuracy: 0.8597\n",
            "\n",
            "\n",
            "Caso 2 con 25 épocas: Neuronas_capa_1=512, Función de activación=sigmoid, Optimizador=sgd\n",
            "Epoch 1/25\n",
            "750/750 [==============================] - 4s 4ms/step - loss: 1.4908 - accuracy: 0.6365 - val_loss: 1.0710 - val_accuracy: 0.7185\n",
            "Epoch 2/25\n",
            "750/750 [==============================] - 2s 3ms/step - loss: 0.9426 - accuracy: 0.7306 - val_loss: 0.8346 - val_accuracy: 0.7419\n",
            "Epoch 3/25\n",
            "750/750 [==============================] - 2s 3ms/step - loss: 0.7906 - accuracy: 0.7491 - val_loss: 0.7371 - val_accuracy: 0.7564\n",
            "Epoch 4/25\n",
            "750/750 [==============================] - 3s 4ms/step - loss: 0.7174 - accuracy: 0.7603 - val_loss: 0.6837 - val_accuracy: 0.7675\n",
            "Epoch 5/25\n",
            "750/750 [==============================] - 3s 4ms/step - loss: 0.6721 - accuracy: 0.7709 - val_loss: 0.6520 - val_accuracy: 0.7726\n",
            "Epoch 6/25\n",
            "750/750 [==============================] - 3s 4ms/step - loss: 0.6398 - accuracy: 0.7801 - val_loss: 0.6218 - val_accuracy: 0.7823\n",
            "Epoch 7/25\n",
            "750/750 [==============================] - 2s 3ms/step - loss: 0.6146 - accuracy: 0.7878 - val_loss: 0.6009 - val_accuracy: 0.7893\n",
            "Epoch 8/25\n",
            "750/750 [==============================] - 3s 3ms/step - loss: 0.5944 - accuracy: 0.7958 - val_loss: 0.5837 - val_accuracy: 0.7943\n",
            "Epoch 9/25\n",
            "750/750 [==============================] - 3s 4ms/step - loss: 0.5778 - accuracy: 0.8002 - val_loss: 0.5684 - val_accuracy: 0.7997\n",
            "Epoch 10/25\n",
            "750/750 [==============================] - 3s 4ms/step - loss: 0.5638 - accuracy: 0.8046 - val_loss: 0.5558 - val_accuracy: 0.8045\n",
            "Epoch 11/25\n",
            "750/750 [==============================] - 3s 4ms/step - loss: 0.5514 - accuracy: 0.8099 - val_loss: 0.5485 - val_accuracy: 0.8059\n",
            "Epoch 12/25\n",
            "750/750 [==============================] - 3s 4ms/step - loss: 0.5412 - accuracy: 0.8127 - val_loss: 0.5361 - val_accuracy: 0.8123\n",
            "Epoch 13/25\n",
            "750/750 [==============================] - 3s 4ms/step - loss: 0.5317 - accuracy: 0.8161 - val_loss: 0.5290 - val_accuracy: 0.8133\n",
            "Epoch 14/25\n",
            "750/750 [==============================] - 3s 4ms/step - loss: 0.5237 - accuracy: 0.8183 - val_loss: 0.5212 - val_accuracy: 0.8152\n",
            "Epoch 15/25\n",
            "750/750 [==============================] - 3s 3ms/step - loss: 0.5164 - accuracy: 0.8211 - val_loss: 0.5136 - val_accuracy: 0.8183\n",
            "Epoch 16/25\n",
            "750/750 [==============================] - 3s 3ms/step - loss: 0.5099 - accuracy: 0.8228 - val_loss: 0.5085 - val_accuracy: 0.8181\n",
            "Epoch 17/25\n",
            "750/750 [==============================] - 3s 4ms/step - loss: 0.5041 - accuracy: 0.8253 - val_loss: 0.5039 - val_accuracy: 0.8191\n",
            "Epoch 18/25\n",
            "750/750 [==============================] - 3s 4ms/step - loss: 0.4987 - accuracy: 0.8272 - val_loss: 0.4984 - val_accuracy: 0.8231\n",
            "Epoch 19/25\n",
            "750/750 [==============================] - 3s 5ms/step - loss: 0.4937 - accuracy: 0.8294 - val_loss: 0.4942 - val_accuracy: 0.8244\n",
            "Epoch 20/25\n",
            "750/750 [==============================] - 3s 4ms/step - loss: 0.4893 - accuracy: 0.8299 - val_loss: 0.4930 - val_accuracy: 0.8255\n",
            "Epoch 21/25\n",
            "750/750 [==============================] - 3s 4ms/step - loss: 0.4850 - accuracy: 0.8321 - val_loss: 0.4866 - val_accuracy: 0.8263\n",
            "Epoch 22/25\n",
            "750/750 [==============================] - 3s 4ms/step - loss: 0.4814 - accuracy: 0.8339 - val_loss: 0.4839 - val_accuracy: 0.8288\n",
            "Epoch 23/25\n",
            "750/750 [==============================] - 4s 5ms/step - loss: 0.4776 - accuracy: 0.8345 - val_loss: 0.4803 - val_accuracy: 0.8294\n",
            "Epoch 24/25\n",
            "750/750 [==============================] - 3s 4ms/step - loss: 0.4743 - accuracy: 0.8351 - val_loss: 0.4773 - val_accuracy: 0.8290\n",
            "Epoch 25/25\n",
            "750/750 [==============================] - 3s 4ms/step - loss: 0.4710 - accuracy: 0.8371 - val_loss: 0.4735 - val_accuracy: 0.8325\n",
            "\n",
            "\n"
          ]
        }
      ]
    },
    {
      "cell_type": "markdown",
      "source": [
        "Al incrementar de 5 épocas a 25, el caso 2 en un principio tenía capa oculta de 10 neuronas, función de activación \"relu\" y optimizador \"rmsprop\". El modelo ha mejorado su capacidad para aprender patrones en los datos, lo que conlleva a una mejor precisión disminuyendo la pérdida. Es importante tener en cuenta que puede haber sobreajuste un riesgo de sobreajuste ya que el modelo podría aprender detalles demasiado específicos de los ejemplos de entrenamiento.\n",
        "\n",
        "En el caso 7, con 512 neuronas en la capa oculta, función de activación \"sigmoide\" y optimizador \"sgd\" se observa una mejora en el rendimiento en comparación con el resultado después de 5 épocas. Esto se debe a que el modelo dispone de más tiempo para alcanzar una solución óptima."
      ],
      "metadata": {
        "id": "obmO8sqFvXyT"
      }
    },
    {
      "cell_type": "markdown",
      "source": [
        "Visualizamos la matriz de confusión que se muestra como una imagen con etiquetas de clase y valores en cada celda. Con la función se puede evaluar el rendimiento de modelos de clasificación y entender cómo se comportan en la clasificación de datos."
      ],
      "metadata": {
        "id": "eB8Tb1BNyDlT"
      }
    },
    {
      "cell_type": "code",
      "source": [
        "# importamos biblioteca numpy para calculos numéricos.\n",
        "import numpy as np\n",
        "\n",
        "# importamos biblioteca itertools para iteraciones.\n",
        "import itertools\n",
        "\n",
        "# para la creación de gráficos.\n",
        "import matplotlib.pyplot as plt\n",
        "\n",
        "# definimos una función para la matriz de confusión\n",
        "def plot_confusion_matrix(cm, classes, # matriz de confusión y lista de clases\n",
        "                          normalize=False, # vemos si se normaliza la matriz\n",
        "                          title='Matriz de confusión', # título\n",
        "                          cmap=plt.cm.Blues): # colores para la visualización\n",
        "    \"\"\"\n",
        "    This function prints and plots the confusion matrix.\n",
        "    Normalization can be applied by setting `normalize=True`.\n",
        "    \"\"\"\n",
        "    # muestra la matriz como una imagen\n",
        "    plt.imshow(cm, interpolation='nearest', cmap=cmap)\n",
        "    plt.title(title)\n",
        "    plt.colorbar() # colores para interpretar los valores\n",
        "    tick_marks = np.arange(len(classes))\n",
        "    plt.xticks(tick_marks, classes, rotation=45)\n",
        "    plt.yticks(tick_marks, classes) # marcas para saber la longitud de la lista de clases\n",
        "\n",
        "    # en caso de True convierte los valores en proporciones\n",
        "    if normalize:\n",
        "        cm = cm.astype('float') / cm.sum(axis=1)[:, np.newaxis]\n",
        "\n",
        "    thresh = cm.max() / 2. # calcula el umbral\n",
        "\n",
        "    # bucle que recorre filas y columnas de la matriz\n",
        "    for i, j in itertools.product(range(cm.shape[0]), range(cm.shape[1])):\n",
        "        plt.text(j, i, cm[i, j], # agrega texto en las celdas según el valor del umbral\n",
        "                 horizontalalignment=\"center\",\n",
        "                 color=\"white\" if cm[i, j] > thresh else \"black\")\n",
        "\n",
        "    plt.tight_layout()\n",
        "    plt.ylabel('Observación') # eje Y observación\n",
        "    plt.xlabel('Predicción') # eje X predicción"
      ],
      "metadata": {
        "id": "AIysEeWcyA7G"
      },
      "execution_count": 9,
      "outputs": []
    },
    {
      "cell_type": "code",
      "source": [
        "from sklearn.metrics import confusion_matrix\n",
        "import itertools\n",
        "import numpy as np\n",
        "import matplotlib.pyplot as plt\n",
        "\n",
        "casos = [\n",
        "    (10, 'relu', 'sgd'),\n",
        "    (10, 'relu', 'rmsprop'),\n",
        "    (10, 'sigmoid', 'sgd'),\n",
        "    (10, 'sigmoid', 'rmsprop'),\n",
        "    (512, 'relu', 'sgd'),\n",
        "    (512, 'relu', 'rmsprop'),\n",
        "    (512, 'sigmoid', 'sgd'),\n",
        "    (512, 'sigmoid', 'rmsprop')\n",
        "]\n",
        "\n",
        "# mostramos el rendimiento\n",
        "def evaluar_modelo(model, test_images, test_labels):\n",
        "    test_loss, test_acc = model.evaluate(test_images, test_labels)\n",
        "    print('Test Loss:', test_loss)\n",
        "    print('Test Accuracy:', test_acc)\n",
        "\n",
        "    # predicción de valores\n",
        "Y_pred = model.predict(test_images)\n",
        "\n",
        "    # convertir en predicciones\n",
        "Y_pred_classes = np.argmax(Y_pred, axis=1)\n",
        "\n",
        "    # convertir en clases de observación\n",
        "Y_true = np.argmax(test_labels, axis=1)\n",
        "\n",
        "    # matriz de confusión\n",
        "confusion_mtx = confusion_matrix(Y_true, Y_pred_classes)\n",
        "\n",
        "# la dibujamos\n",
        "plot_confusion_matrix(confusion_mtx, classes=range(10))\n",
        "\n",
        "# evaluamos y mostramos rendimiento\n",
        "for i, (neurons, activation, optimizer) in enumerate(casos, 1):\n",
        "    print(f\"Caso {i}: Neuronas_capa_1={neurons}, Función de activación={activation}, Optimizador={optimizer}\")\n",
        "    model = models_and_histories[i - 1][0]\n",
        "    evaluar_modelo(model, test_images, test_labels)\n",
        "    print(\"\\n\")"
      ],
      "metadata": {
        "colab": {
          "base_uri": "https://localhost:8080/",
          "height": 1000
        },
        "id": "XPfGQw5jxVZQ",
        "outputId": "aaaa58f0-a524-4233-a862-0cc74431dc50"
      },
      "execution_count": 10,
      "outputs": [
        {
          "output_type": "stream",
          "name": "stdout",
          "text": [
            "313/313 [==============================] - 1s 2ms/step\n",
            "Caso 1: Neuronas_capa_1=10, Función de activación=relu, Optimizador=sgd\n",
            "313/313 [==============================] - 1s 3ms/step - loss: 0.5548 - accuracy: 0.8060\n",
            "Test Loss: 0.554787278175354\n",
            "Test Accuracy: 0.8059999942779541\n",
            "\n",
            "\n",
            "Caso 2: Neuronas_capa_1=10, Función de activación=relu, Optimizador=rmsprop\n",
            "313/313 [==============================] - 1s 4ms/step - loss: 0.4574 - accuracy: 0.8370\n",
            "Test Loss: 0.4573749601840973\n",
            "Test Accuracy: 0.8370000123977661\n",
            "\n",
            "\n",
            "Caso 3: Neuronas_capa_1=10, Función de activación=sigmoid, Optimizador=sgd\n",
            "313/313 [==============================] - 1s 3ms/step - loss: 1.1381 - accuracy: 0.6845\n",
            "Test Loss: 1.1380698680877686\n",
            "Test Accuracy: 0.684499979019165\n",
            "\n",
            "\n",
            "Caso 4: Neuronas_capa_1=10, Función de activación=sigmoid, Optimizador=rmsprop\n",
            "313/313 [==============================] - 1s 3ms/step - loss: 0.4896 - accuracy: 0.8296\n",
            "Test Loss: 0.4896344840526581\n",
            "Test Accuracy: 0.8295999765396118\n",
            "\n",
            "\n",
            "Caso 5: Neuronas_capa_1=512, Función de activación=relu, Optimizador=sgd\n",
            "313/313 [==============================] - 1s 3ms/step - loss: 0.4911 - accuracy: 0.8310\n",
            "Test Loss: 0.4910929799079895\n",
            "Test Accuracy: 0.8309999704360962\n",
            "\n",
            "\n",
            "Caso 6: Neuronas_capa_1=512, Función de activación=relu, Optimizador=rmsprop\n",
            "313/313 [==============================] - 1s 3ms/step - loss: 0.3605 - accuracy: 0.8722\n",
            "Test Loss: 0.36053231358528137\n",
            "Test Accuracy: 0.8722000122070312\n",
            "\n",
            "\n",
            "Caso 7: Neuronas_capa_1=512, Función de activación=sigmoid, Optimizador=sgd\n",
            "313/313 [==============================] - 1s 3ms/step - loss: 0.6666 - accuracy: 0.7655\n",
            "Test Loss: 0.6666351556777954\n",
            "Test Accuracy: 0.765500009059906\n",
            "\n",
            "\n",
            "Caso 8: Neuronas_capa_1=512, Función de activación=sigmoid, Optimizador=rmsprop\n",
            "313/313 [==============================] - 1s 3ms/step - loss: 0.3784 - accuracy: 0.8633\n",
            "Test Loss: 0.3784449100494385\n",
            "Test Accuracy: 0.8633000254631042\n",
            "\n",
            "\n"
          ]
        },
        {
          "output_type": "display_data",
          "data": {
            "text/plain": [
              "<Figure size 640x480 with 2 Axes>"
            ],
            "image/png": "[encoded data removed]"
          },
          "metadata": {}
        }
      ]
    },
    {
      "cell_type": "markdown",
      "source": [
        "Estos resultados muestran el rendimiento de cada uno de los 8 modelos comparando en el conjunto de datos de prueba.\n",
        "\n",
        "Caso 1:\n",
        "\n",
        "- Neuronas en la capa oculta: 10\n",
        "- Función de activación: relu\n",
        "- Optimizador: sgd\n",
        "- Pérdida en el conjunto de prueba: 0.5538\n",
        "- Precisión en el conjunto de prueba: 80.43%\n",
        "\n",
        "Caso 2:\n",
        "\n",
        "- Neuronas en la capa oculta: 10\n",
        "- Función de activación: relu\n",
        "- Optimizador: rmsprop\n",
        "- Pérdida en el conjunto de prueba: 0.4669\n",
        "- Precisión en el conjunto de prueba: 83.74%\n",
        "\n",
        "Caso 3:\n",
        "\n",
        "- Neuronas en la capa oculta: 10\n",
        "- Función de activación: sigmoid\n",
        "- Optimizador: sgd\n",
        "- Pérdida en el conjunto de prueba: 1.0809\n",
        "- Precisión en el conjunto de prueba: 72.13%\n",
        "\n",
        "Caso 4:\n",
        "\n",
        "- Neuronas en la capa oculta: 10\n",
        "- Función de activación: sigmoid\n",
        "- Optimizador: rmsprop\n",
        "- Pérdida en el conjunto de prueba: 0.4921\n",
        "- Precisión en el conjunto de prueba: 82.84%\n",
        "\n",
        "Caso 5:\n",
        "\n",
        "- Neuronas en la capa oculta: 512\n",
        "- Función de activación: relu\n",
        "- Optimizador: sgd\n",
        "- Pérdida en el conjunto de prueba: 0.4935\n",
        "- Precisión en el conjunto de prueba: 82.98%\n",
        "\n",
        "Caso 6:\n",
        "\n",
        "- Neuronas en la capa oculta: 512\n",
        "- Función de activación: relu\n",
        "- Optimizador: rmsprop\n",
        "- Pérdida en el conjunto de prueba: 0.3470\n",
        "- Precisión en el conjunto de prueba: 87.76%\n",
        "\n",
        "\n",
        "Caso 7:\n",
        "\n",
        "- Neuronas en la capa oculta: 512\n",
        "- Función de activación: sigmoid\n",
        "- Optimizador: sgd\n",
        "- Pérdida en el conjunto de prueba: 0.6690\n",
        "- Precisión en el conjunto de prueba: 76.71%\n",
        "\n",
        "\n",
        "Caso 8:\n",
        "\n",
        "- Neuronas en la capa oculta: 512\n",
        "- Función de activación: sigmoid\n",
        "- Optimizador: rmsprop\n",
        "- Pérdida en el conjunto de prueba: 0.3865\n",
        "- Precisión en el conjunto de prueba: 86.13%"
      ],
      "metadata": {
        "id": "fEZpF9ZvfBGe"
      }
    },
    {
      "cell_type": "markdown",
      "source": [
        "Evaluamos y comparamos el rendimiento de los difenentes modelos en la clasificación de la sexta imagen de prueba en función de sus configuraciones específicas.\n",
        "\n",
        "El código nos devuelve infrormación importate sobre las prediciones y resultados de cada modelo."
      ],
      "metadata": {
        "id": "fqeKnGGr3DJY"
      }
    },
    {
      "cell_type": "code",
      "source": [
        "# imprtamos las bibliotecas necesarias\n",
        "import matplotlib.pyplot as plt\n",
        "import numpy as np\n",
        "\n",
        "# tomamos la sexta imagen de prueba del conjunto de datos y la redimensionamos(28x28 píxeles) para visualizarla\n",
        "digit = test_images[5].reshape(28, 28)\n",
        "plt.imshow(digit, cmap=plt.cm.binary)\n",
        "plt.show()\n",
        "\n",
        "# realizamos predicciones con los 8 modelos diferentes iterando cada caso\n",
        "for i, (neurons, activation, optimizer) in enumerate(casos, 1):\n",
        "    print(f\"Caso {i}: Neuronas_capa_1={neurons}, Función de activación={activation}, Optimizador={optimizer}\")\n",
        "    model, history = models_and_histories[i - 1]\n",
        "    print(\"\\n\")\n",
        "\n",
        "    # hacemos la predicción ara la imagen de prueba(probabilidad de pertenecer a una clase)\n",
        "    prediction = model.predict(np.expand_dims(test_images[5], axis=0))\n",
        "\n",
        "    print(\"=Predicción del modelo=======================\")\n",
        "    print(prediction)\n",
        "    print(\"=Clase predicha (índice)=====================\")\n",
        "    predicted_class = np.argmax(prediction)\n",
        "    print(predicted_class)\n",
        "    print(\"=Probabilidad de clase predicha================\")\n",
        "    probability = prediction[0][predicted_class]\n",
        "    print(probability)\n",
        "    print(\"=============================================\\n\")\n"
      ],
      "metadata": {
        "colab": {
          "base_uri": "https://localhost:8080/",
          "height": 1000
        },
        "id": "MPLD1p6X3Cxz",
        "outputId": "d1256bcc-1e17-49d2-96fb-2ccdb0088f95"
      },
      "execution_count": 11,
      "outputs": [
        {
          "output_type": "display_data",
          "data": {
            "text/plain": [
              "<Figure size 640x480 with 1 Axes>"
            ],
            "image/png": "[encoded data removed]"
          },
          "metadata": {}
        },
        {
          "output_type": "stream",
          "name": "stdout",
          "text": [
            "Caso 1: Neuronas_capa_1=10, Función de activación=relu, Optimizador=sgd\n",
            "\n",
            "\n",
            "1/1 [==============================] - 0s 48ms/step\n",
            "=Predicción del modelo=======================\n",
            "[[2.8284623e-03 9.8607671e-01 1.0721680e-03 2.0923666e-03 7.5332951e-03\n",
            "  7.7485659e-08 3.4837410e-04 1.3961478e-08 4.8114263e-05 3.6727459e-07]]\n",
            "=Clase predicha (índice)=====================\n",
            "1\n",
            "=Probabilidad de clase predicha================\n",
            "0.9860767\n",
            "=============================================\n",
            "\n",
            "Caso 2: Neuronas_capa_1=10, Función de activación=relu, Optimizador=rmsprop\n",
            "\n",
            "\n",
            "1/1 [==============================] - 0s 50ms/step\n",
            "=Predicción del modelo=======================\n",
            "[[5.6356442e-04 9.9856383e-01 1.0046139e-04 1.1585520e-04 6.3924200e-04\n",
            "  7.1215525e-12 1.1809275e-05 3.4514866e-07 4.9566243e-06 2.2123571e-08]]\n",
            "=Clase predicha (índice)=====================\n",
            "1\n",
            "=Probabilidad de clase predicha================\n",
            "0.9985638\n",
            "=============================================\n",
            "\n",
            "Caso 3: Neuronas_capa_1=10, Función de activación=sigmoid, Optimizador=sgd\n",
            "\n",
            "\n",
            "1/1 [==============================] - 0s 40ms/step\n",
            "=Predicción del modelo=======================\n",
            "[[0.08855149 0.51892906 0.03218612 0.1761221  0.05198902 0.01596095\n",
            "  0.08853239 0.00968639 0.00537469 0.01266779]]\n",
            "=Clase predicha (índice)=====================\n",
            "1\n",
            "=Probabilidad de clase predicha================\n",
            "0.51892906\n",
            "=============================================\n",
            "\n",
            "Caso 4: Neuronas_capa_1=10, Función de activación=sigmoid, Optimizador=rmsprop\n",
            "\n",
            "\n"
          ]
        },
        {
          "output_type": "stream",
          "name": "stderr",
          "text": [
            "WARNING:tensorflow:5 out of the last 317 calls to <function Model.make_predict_function.<locals>.predict_function at 0x7b7947abb490> triggered tf.function retracing. Tracing is expensive and the excessive number of tracings could be due to (1) creating @tf.function repeatedly in a loop, (2) passing tensors with different shapes, (3) passing Python objects instead of tensors. For (1), please define your @tf.function outside of the loop. For (2), @tf.function has reduce_retracing=True option that can avoid unnecessary retracing. For (3), please refer to https://www.tensorflow.org/guide/function#controlling_retracing and https://www.tensorflow.org/api_docs/python/tf/function for  more details.\n"
          ]
        },
        {
          "output_type": "stream",
          "name": "stdout",
          "text": [
            "1/1 [==============================] - 0s 48ms/step\n",
            "=Predicción del modelo=======================\n",
            "[[1.1752772e-03 9.7528774e-01 3.5187018e-03 4.6929698e-03 7.4723046e-03\n",
            "  1.1689992e-05 7.3721502e-03 1.5173787e-04 7.9152524e-05 2.3821548e-04]]\n",
            "=Clase predicha (índice)=====================\n",
            "1\n",
            "=Probabilidad de clase predicha================\n",
            "0.97528774\n",
            "=============================================\n",
            "\n",
            "Caso 5: Neuronas_capa_1=512, Función de activación=relu, Optimizador=sgd\n",
            "\n",
            "\n"
          ]
        },
        {
          "output_type": "stream",
          "name": "stderr",
          "text": [
            "WARNING:tensorflow:6 out of the last 318 calls to <function Model.make_predict_function.<locals>.predict_function at 0x7b7947af55a0> triggered tf.function retracing. Tracing is expensive and the excessive number of tracings could be due to (1) creating @tf.function repeatedly in a loop, (2) passing tensors with different shapes, (3) passing Python objects instead of tensors. For (1), please define your @tf.function outside of the loop. For (2), @tf.function has reduce_retracing=True option that can avoid unnecessary retracing. For (3), please refer to https://www.tensorflow.org/guide/function#controlling_retracing and https://www.tensorflow.org/api_docs/python/tf/function for  more details.\n"
          ]
        },
        {
          "output_type": "stream",
          "name": "stdout",
          "text": [
            "1/1 [==============================] - 0s 43ms/step\n",
            "=Predicción del modelo=======================\n",
            "[[4.7821384e-03 9.8584020e-01 1.0264219e-03 1.7752900e-03 6.1503290e-03\n",
            "  8.2446172e-07 3.8337926e-04 2.1076792e-06 3.6647427e-05 2.6022740e-06]]\n",
            "=Clase predicha (índice)=====================\n",
            "1\n",
            "=Probabilidad de clase predicha================\n",
            "0.9858402\n",
            "=============================================\n",
            "\n",
            "Caso 6: Neuronas_capa_1=512, Función de activación=relu, Optimizador=rmsprop\n",
            "\n",
            "\n",
            "1/1 [==============================] - 0s 42ms/step\n",
            "=Predicción del modelo=======================\n",
            "[[4.1009672e-04 9.9955720e-01 1.5693949e-07 8.3681589e-06 1.8506866e-05\n",
            "  1.8435740e-10 5.5556716e-06 2.5324809e-10 1.0895006e-08 6.6775335e-10]]\n",
            "=Clase predicha (índice)=====================\n",
            "1\n",
            "=Probabilidad de clase predicha================\n",
            "0.9995572\n",
            "=============================================\n",
            "\n",
            "Caso 7: Neuronas_capa_1=512, Función de activación=sigmoid, Optimizador=sgd\n",
            "\n",
            "\n",
            "1/1 [==============================] - 0s 41ms/step\n",
            "=Predicción del modelo=======================\n",
            "[[2.45872233e-02 9.05396283e-01 5.06007578e-03 3.05008665e-02\n",
            "  1.92616135e-02 1.01223712e-04 1.48354331e-02 8.30362187e-05\n",
            "  1.20032586e-04 5.42841262e-05]]\n",
            "=Clase predicha (índice)=====================\n",
            "1\n",
            "=Probabilidad de clase predicha================\n",
            "0.9053963\n",
            "=============================================\n",
            "\n",
            "Caso 8: Neuronas_capa_1=512, Función de activación=sigmoid, Optimizador=rmsprop\n",
            "\n",
            "\n",
            "1/1 [==============================] - 0s 41ms/step\n",
            "=Predicción del modelo=======================\n",
            "[[1.8889796e-03 9.9570578e-01 3.7433000e-04 6.9098338e-04 1.1618769e-03\n",
            "  3.0917596e-10 1.7276513e-04 2.1470731e-07 5.0760618e-06 3.2689222e-09]]\n",
            "=Clase predicha (índice)=====================\n",
            "1\n",
            "=Probabilidad de clase predicha================\n",
            "0.9957058\n",
            "=============================================\n",
            "\n"
          ]
        }
      ]
    },
    {
      "cell_type": "markdown",
      "source": [
        "Importamos los datos de Fashion MNIST, realizamos predicciones con un modelo previamente entrenado y presentamos las predicciones junto con las etiquetas reales para evaluar el rendimiento del modelo.\n",
        "\n"
      ],
      "metadata": {
        "id": "PxyzWWgg-0vh"
      }
    },
    {
      "cell_type": "code",
      "source": [
        "# importamos bibliotemcas necesarias para los datos de visualización\n",
        "from keras.datasets import fashion_mnist\n",
        "import numpy as np\n",
        "import matplotlib.pyplot as plt\n",
        "\n",
        "# cargamos el conjunto de datos fashion_mnist(imagenes de prendas y sus categorias)\n",
        "(train_images, train_labels), (test_images, test_labels) = fashion_mnist.load_data()\n",
        "train_images = train_images.reshape((60000, 28 * 28))\n",
        "test_images = test_images.reshape((10000, 28 * 28))\n",
        "\n",
        "train_images = train_images.astype('float32') / 255\n",
        "test_images = test_images.astype('float32') / 255\n",
        "\n",
        "# realizamos predicciones en el conjunto de prueba usando el modelo ya entenado\n",
        "predictions = model.predict(test_images)\n",
        "\n",
        "# definimos funciones para ver las imagenes, etiquetas y predicciones\n",
        "def plot_image(i, predictions_array, true_labels, images):\n",
        "    plt.grid(False)\n",
        "    plt.xticks([])\n",
        "    plt.yticks([])\n",
        "\n",
        "    plt.imshow(images[i], cmap=plt.cm.binary)\n",
        "\n",
        "    predicted_label = np.argmax(predictions_array)\n",
        "    true_label = np.argmax(true_labels[i])\n",
        "\n",
        "    if predicted_label == true_label:\n",
        "        color = 'blue'\n",
        "    else:\n",
        "        color = 'red'\n",
        "\n",
        "    plt.xlabel(\"{} {:2.0f}% ({})\".format(predicted_label,\n",
        "                                100*np.max(predictions_array),\n",
        "                                true_label),\n",
        "                                color=color.strip())  # Eliminar espacios en blanco alrededor del color\n",
        "\n",
        "def plot_value_array(i, predictions_array, true_label):\n",
        "    predictions_array, true_label = predictions_array, true_label[i]\n",
        "    plt.grid(False)\n",
        "    plt.xticks(range(10))\n",
        "    plt.yticks([])\n",
        "    thisplot = plt.bar(range(10), predictions_array, color=\"#777777\")\n",
        "    plt.ylim([0, 1])\n",
        "    predicted_label = np.argmax(predictions_array)\n",
        "\n",
        "    thisplot[predicted_label].set_color('red')\n",
        "    thisplot[true_label].set_color('blue')\n",
        "\n",
        "# iteramos las 10 primeras imagenes que se muestran con sus etiquetas predichas y probabilidades de clasificación\n",
        "for i in range(10):\n",
        "    plt.figure(figsize=(6, 3))\n",
        "    plt.subplot(1, 2, 1)\n",
        "    plot_image(i, predictions[i], test_labels, test_images.reshape(10000, 28, 28))\n",
        "    plt.subplot(1, 2, 2)\n",
        "    plot_value_array(i, predictions[i], test_labels)\n",
        "    plt.show()\n",
        "    plt.clf()"
      ],
      "metadata": {
        "colab": {
          "base_uri": "https://localhost:8080/",
          "height": 1000
        },
        "id": "wv_8B0PW-9Zv",
        "outputId": "e4b43ef6-2f19-4dcd-c504-aa31f4d197c4"
      },
      "execution_count": 12,
      "outputs": [
        {
          "output_type": "stream",
          "name": "stdout",
          "text": [
            "313/313 [==============================] - 1s 2ms/step\n"
          ]
        },
        {
          "output_type": "display_data",
          "data": {
            "text/plain": [
              "<Figure size 600x300 with 2 Axes>"
            ],
            "image/png": "[encoded data removed]"
          },
          "metadata": {}
        },
        {
          "output_type": "display_data",
          "data": {
            "text/plain": [
              "<Figure size 640x480 with 0 Axes>"
            ]
          },
          "metadata": {}
        },
        {
          "output_type": "display_data",
          "data": {
            "text/plain": [
              "<Figure size 600x300 with 2 Axes>"
            ],
            "image/png": "[encoded data removed]"
          },
          "metadata": {}
        },
        {
          "output_type": "display_data",
          "data": {
            "text/plain": [
              "<Figure size 640x480 with 0 Axes>"
            ]
          },
          "metadata": {}
        },
        {
          "output_type": "display_data",
          "data": {
            "text/plain": [
              "<Figure size 600x300 with 2 Axes>"
            ],
            "image/png": "[encoded data removed]"
          },
          "metadata": {}
        },
        {
          "output_type": "display_data",
          "data": {
            "text/plain": [
              "<Figure size 640x480 with 0 Axes>"
            ]
          },
          "metadata": {}
        },
        {
          "output_type": "display_data",
          "data": {
            "text/plain": [
              "<Figure size 600x300 with 2 Axes>"
            ],
            "image/png": "[encoded data removed]"
          },
          "metadata": {}
        },
        {
          "output_type": "display_data",
          "data": {
            "text/plain": [
              "<Figure size 640x480 with 0 Axes>"
            ]
          },
          "metadata": {}
        },
        {
          "output_type": "display_data",
          "data": {
            "text/plain": [
              "<Figure size 600x300 with 2 Axes>"
            ],
            "image/png": "[encoded data removed]"
          },
          "metadata": {}
        },
        {
          "output_type": "display_data",
          "data": {
            "text/plain": [
              "<Figure size 640x480 with 0 Axes>"
            ]
          },
          "metadata": {}
        },
        {
          "output_type": "display_data",
          "data": {
            "text/plain": [
              "<Figure size 600x300 with 2 Axes>"
            ],
            "image/png": "[encoded data removed]"
          },
          "metadata": {}
        },
        {
          "output_type": "display_data",
          "data": {
            "text/plain": [
              "<Figure size 640x480 with 0 Axes>"
            ]
          },
          "metadata": {}
        },
        {
          "output_type": "display_data",
          "data": {
            "text/plain": [
              "<Figure size 600x300 with 2 Axes>"
            ],
            "image/png": "[encoded data removed]"
          },
          "metadata": {}
        },
        {
          "output_type": "display_data",
          "data": {
            "text/plain": [
              "<Figure size 640x480 with 0 Axes>"
            ]
          },
          "metadata": {}
        },
        {
          "output_type": "display_data",
          "data": {
            "text/plain": [
              "<Figure size 600x300 with 2 Axes>"
            ],
            "image/png": "[encoded data removed]"
          },
          "metadata": {}
        },
        {
          "output_type": "display_data",
          "data": {
            "text/plain": [
              "<Figure size 640x480 with 0 Axes>"
            ]
          },
          "metadata": {}
        },
        {
          "output_type": "display_data",
          "data": {
            "text/plain": [
              "<Figure size 600x300 with 2 Axes>"
            ],
            "image/png": "[encoded data removed]"
          },
          "metadata": {}
        },
        {
          "output_type": "display_data",
          "data": {
            "text/plain": [
              "<Figure size 640x480 with 0 Axes>"
            ]
          },
          "metadata": {}
        },
        {
          "output_type": "display_data",
          "data": {
            "text/plain": [
              "<Figure size 600x300 with 2 Axes>"
            ],
            "image/png": "[encoded data removed]"
          },
          "metadata": {}
        },
        {
          "output_type": "display_data",
          "data": {
            "text/plain": [
              "<Figure size 640x480 with 0 Axes>"
            ]
          },
          "metadata": {}
        }
      ]
    },
    {
      "cell_type": "markdown",
      "source": [
        "En esta etapa, buscamos mejorar nuestro modelo implementando el\n",
        "optimizador **\"Adam\"** y la función de perdida **\"sparse_categorical_crossentropy\"**, cambios que pueden afectar en el rendimiento.\n",
        "\n",
        "Finalmente, procedemos a entrenar el modelo con las configuraciones actualizadas y los cambios realizados para ver su eficacia y rendimiento."
      ],
      "metadata": {
        "id": "5t7v4z1JGWX1"
      }
    },
    {
      "cell_type": "code",
      "source": [
        "from keras.optimizers import Adam\n",
        "\n",
        "# función que crea y entrena un modelo de red neuronal con una configuración específica\n",
        "def modelo_entrenamiento_optimizador_adam(neurons, activation):\n",
        "    model = models.Sequential()\n",
        "    model.add(layers.Dense(neurons, activation=activation, input_shape=(28*28,)))\n",
        "    model.add(layers.Dense(10, activation='softmax'))\n",
        "\n",
        "    optimizer = Adam(learning_rate=0.001) # configuramos el optimizador con 0.001 como tasa de aprendizaje\n",
        "\n",
        "    model.compile(optimizer=optimizer,\n",
        "                  loss='sparse_categorical_crossentropy',  # selecionamos la función de pérdida\n",
        "                  metrics=['accuracy'])\n",
        "    # compilamos y entrenamos el modelo(5 épocas, lote 64, 20% datos validación)\n",
        "    history = model.fit(train_images, train_labels, epochs=5, batch_size=64, validation_split=0.2)\n",
        "    return model, history\n",
        "\n",
        "neurons = 10\n",
        "activation = 'sigmoid'\n",
        "# se devuelve el modelo entrenado junto con su hsitorial de entrenamiento\n",
        "model, history = modelo_entrenamiento_optimizador_adam(neurons, activation)\n",
        "model.summary()"
      ],
      "metadata": {
        "colab": {
          "base_uri": "https://localhost:8080/"
        },
        "id": "lX0AK0aSI4RO",
        "outputId": "998e7dee-14ca-4bd3-f9dc-6927d08c6015"
      },
      "execution_count": 13,
      "outputs": [
        {
          "output_type": "stream",
          "name": "stdout",
          "text": [
            "Epoch 1/5\n",
            "750/750 [==============================] - 4s 4ms/step - loss: 1.3292 - accuracy: 0.6513 - val_loss: 0.9347 - val_accuracy: 0.7686\n",
            "Epoch 2/5\n",
            "750/750 [==============================] - 3s 4ms/step - loss: 0.7714 - accuracy: 0.7830 - val_loss: 0.6568 - val_accuracy: 0.7993\n",
            "Epoch 3/5\n",
            "750/750 [==============================] - 2s 3ms/step - loss: 0.5994 - accuracy: 0.8122 - val_loss: 0.5586 - val_accuracy: 0.8206\n",
            "Epoch 4/5\n",
            "750/750 [==============================] - 3s 3ms/step - loss: 0.5286 - accuracy: 0.8284 - val_loss: 0.5148 - val_accuracy: 0.8279\n",
            "Epoch 5/5\n",
            "750/750 [==============================] - 3s 4ms/step - loss: 0.4895 - accuracy: 0.8358 - val_loss: 0.4848 - val_accuracy: 0.8333\n",
            "Model: \"sequential_10\"\n",
            "_________________________________________________________________\n",
            " Layer (type)                Output Shape              Param #   \n",
            "=================================================================\n",
            " dense_20 (Dense)            (None, 10)                7850      \n",
            "                                                                 \n",
            " dense_21 (Dense)            (None, 10)                110       \n",
            "                                                                 \n",
            "=================================================================\n",
            "Total params: 7960 (31.09 KB)\n",
            "Trainable params: 7960 (31.09 KB)\n",
            "Non-trainable params: 0 (0.00 Byte)\n",
            "_________________________________________________________________\n"
          ]
        }
      ]
    },
    {
      "cell_type": "markdown",
      "source": [
        "En el transcurso de 5 épocas, comprobamos cómo la función de pérdida (loss) disminuye, y la precisión (accuracy) aumenta en los datos de entrenamiento y en el conjunto de validación, lo que significa que el modelo está aprendiendo y generaliza bien a datos no vistos.\n",
        "\n",
        "La función de pérdida utilizada es adecuada para problemas de clasificación con muchas clases, como en este caso. La disminución constante de la pérdida y el aumento de la precisión son indicadores positivos de que la elección de esta función de pérdida es la elegida cprrectamente en este tipo de problema."
      ],
      "metadata": {
        "id": "01ihXtsiv8Ey"
      }
    },
    {
      "cell_type": "markdown",
      "source": [
        "# Conclusión\n",
        "\n",
        "En este trabajo, utilizamos Keras, una biblioteca de Phyton que simplifica la creación y entrenamiento de redes neuronales profundas. Nuestro objetivo ha sido desarrollar un modelo para identificar distintas prendas en imágenes a partir del conjunto de datos Fashion-MNIST.\n",
        "\n",
        "En cuanto al proceso, incluimos la importación de datos, la preparación de estos datos, y la configuración y entrenamiento de diferentes modelos. Probamos con distintas opciones, como la cantidad de neuronas ocultas, las funciones de activación y los optimizadores, para entender cómo afectan al rendimiento de nuestros modelos.                                                        \n",
        "\n",
        "Identificamos mejores configuraciones, evaluamos con visualización y matrices de confusión. Exploramos \"Adam\" y sparse_categorical_crossentropy\" para mejorar el rendimiento.\n",
        "\n",
        "En cuanto al trabajo en equipo, nos dividimos las tareas. Una importaba y preparaba los datos, mientras que otra exploraba distintos modelos de IA. Trabajamos juntas y compartimos nuestras experiencias, haciendo prácticamente todo el trabajo a la vez. Al final, logramos nuestros objetivos."
      ],
      "metadata": {
        "id": "_yM5yv1AxgHW"
      }
    }
  ]
}