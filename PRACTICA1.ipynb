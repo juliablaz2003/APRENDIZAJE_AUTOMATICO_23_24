{
  "nbformat": 4,
  "nbformat_minor": 0,
  "metadata": {
    "colab": {
      "provenance": [],
      "gpuType": "T4",
      "authorship_tag": "ABX9TyP5E4oU815TL3Cwik49w5Jt",
      "include_colab_link": true
    },
    "kernelspec": {
      "name": "python3",
      "display_name": "Python 3"
    },
    "language_info": {
      "name": "python"
    },
    "accelerator": "GPU"
  },
  "cells": [
    {
      "cell_type": "markdown",
      "metadata": {
        "id": "view-in-github",
        "colab_type": "text"
      },
      "source": [
        "<a href=\"https://colab.research.google.com/github/juliablaz2003/APRENDIZAJE_AUTOMATICO_23_24/blob/main/PRACTICA1.ipynb\" target=\"_parent\"><img src=\"https://colab.research.google.com/assets/colab-badge.svg\" alt=\"Open In Colab\"/></a>"
      ]
    },
    {
      "cell_type": "markdown",
      "source": [
        "# GRUPO B01\n",
        "## Julia Callaba Blázquez\n",
        "## Ines Agudo"
      ],
      "metadata": {
        "id": "8GJWynpvbQeF"
      }
    },
    {
      "cell_type": "markdown",
      "source": [
        "Con la importación de Keras simplificamos la creación y entrenamiento de redes neuronales para resolver problemas de aprendizaje profundo,  además de proporcionarnos una interfaz de alto nivel que ahorra tiempo al definir modelos y entrenarlos más fácil."
      ],
      "metadata": {
        "id": "K_LBGAmuLtz0"
      }
    },
    {
      "cell_type": "markdown",
      "source": [
        "En este trabajo, se desarrollará un modelo de Red de Neuronas Artificiales utilizando Keras para reconocer y clasificar diferentes tipos de ropa en imágenes. El proceso incluirá la definición, configuración, entrenamiento, evaluación y mejora del modelo, que se aplicará al conjunto de datos Fashion-MNIST. Este conjunto de datos consiste en imágenes de prendas de ropa en baja resolución y escala de grises, con 70,000 imágenes en 10 categorías. De estas, 60,000 se usarán para el entrenamiento y 10,000 para evaluar la precisión del modelo en la clasificación de las imágenes."
      ],
      "metadata": {
        "id": "qytesX8kJgRG"
      }
    },
    {
      "cell_type": "markdown",
      "source": [
        "(El entorno de ejecución ha sido cambiado de CPU a T4 GPU)"
      ],
      "metadata": {
        "id": "BOPPfZMiL2t4"
      }
    },
    {
      "cell_type": "markdown",
      "source": [
        "Empezamos importando Keras y utilizamos las versión 2.13 de tensorflow."
      ],
      "metadata": {
        "id": "Wjxc1PTaM450"
      }
    },
    {
      "cell_type": "code",
      "execution_count": 26,
      "metadata": {
        "colab": {
          "base_uri": "https://localhost:8080/"
        },
        "id": "WILjxR_nbNrC",
        "outputId": "e61d918a-1bd6-43d7-955d-a5d5ced80514"
      },
      "outputs": [
        {
          "output_type": "stream",
          "name": "stdout",
          "text": [
            "Colab only includes TensorFlow 2.x; %tensorflow_version has no effect.\n",
            "GPU Available: [PhysicalDevice(name='/physical_device:GPU:0', device_type='GPU')]\n",
            "2.13.0\n"
          ]
        }
      ],
      "source": [
        "# 1.- IMPORTAMOS KERAS\n",
        "%tensorflow_version 2.x\n",
        "import tensorflow as tf\n",
        "from tensorflow import keras\n",
        "print(\"GPU Available:\", tf.config.list_physical_devices('GPU'))\n",
        "print(tf.__version__)"
      ]
    },
    {
      "cell_type": "markdown",
      "source": [
        "Cargamos el conjunto de datos fashion_mnist en keras."
      ],
      "metadata": {
        "id": "ero9LPX4c-Ke"
      }
    },
    {
      "cell_type": "code",
      "source": [
        "# 2.- CARGAMOS EL CONJUNTO DE DATOS FASHION_MNIST EN KERAS\n",
        "from keras.datasets import fashion_mnist # se importan los datos de fashion_mnist desde keras\n",
        "(train_images, train_labels), (test_images, test_labels) = fashion_mnist.load_data() # descargamos todos los datos\n",
        "# train_images y train_labels representan las imágenes y sus etiquetas que se utilizan para enseñar al modelo durante el entrenamiento, en el\n",
        "# caso de test_images y test_labels  evaluan la precisión del modelo después de haber sido entrenado."
      ],
      "metadata": {
        "id": "hFIQ4n4dc9Av"
      },
      "execution_count": 27,
      "outputs": []
    },
    {
      "cell_type": "markdown",
      "source": [
        "Mostramos los datos de entrenamiento."
      ],
      "metadata": {
        "id": "UB6_i4pdP1S-"
      }
    },
    {
      "cell_type": "code",
      "source": [
        "print(train_images.shape)"
      ],
      "metadata": {
        "colab": {
          "base_uri": "https://localhost:8080/"
        },
        "id": "6ych7PZ7fNKp",
        "outputId": "64ba7107-c266-44f2-b17d-774a4d6ad0d4"
      },
      "execution_count": 28,
      "outputs": [
        {
          "output_type": "stream",
          "name": "stdout",
          "text": [
            "(60000, 28, 28)\n"
          ]
        }
      ]
    },
    {
      "cell_type": "markdown",
      "source": [
        "En la fase de preparación de datos, primero es fundamental examinar las dimensiones de las imágenes, tanto las de entrenamiento como las de prueba. Esto nos proporciona información sobre la estructura de datos que estamos tratando.\n",
        "\n",
        "Un paso imprescindible es la aplanación de las imágenes, para ello utilizamos la función de Keras llamada **\"Flatten\"**.\n",
        "\n",
        "La función **\"Flatten\"** crea una estructura lineal, permitiendo que el modelo comprenda mejor las relaciones y los patrones. Transforma imágenes 2D en vectores 1D, esto prepara nuestros datos para que puedan ser interpretadis y analizados de manera más eficiente por la red neuronal."
      ],
      "metadata": {
        "id": "4HhQFT3vgVup"
      }
    },
    {
      "cell_type": "code",
      "source": [
        "# mostramos las dimensiones de las imagenes, y cuantas hay en cada conjunto (comentario primeras 4 lineas)\n",
        "print(\"Forma de las imágenes de entrenamiento:\", train_images.shape)\n",
        "print(\"Forma de las etiquetas de entrenamiento:\", train_labels.shape)\n",
        "print(\"Forma de las imágenes de prueba:\", test_images.shape)\n",
        "print(\"Forma de las etiquetas de prueba:\", test_labels.shape)\n",
        "\n",
        "# importamos \"flatten\" pedida en el enunciado, para aplanar las imagenes\n",
        "from keras.layers import Flatten\n",
        "\n",
        "train_images_flat = train_images.reshape((train_images.shape[0], -1))\n",
        "\n",
        "test_images_flat = test_images.reshape((test_images.shape[0], -1))\n",
        "\n",
        "# iostramos las nuevas dimensiones de los conjuntos de datos aplanados\n",
        "print(\"\\nForma de las imágenes de entrenamiento aplanadas:\", train_images_flat.shape)\n",
        "print(\"Forma de las imágenes de prueba aplanadas:\", test_images_flat.shape)"
      ],
      "metadata": {
        "colab": {
          "base_uri": "https://localhost:8080/"
        },
        "id": "FB2q-OAQgBtt",
        "outputId": "8724c91e-0a49-48ef-aa0b-81110e6f1491"
      },
      "execution_count": 29,
      "outputs": [
        {
          "output_type": "stream",
          "name": "stdout",
          "text": [
            "Forma de las imágenes de entrenamiento: (60000, 28, 28)\n",
            "Forma de las etiquetas de entrenamiento: (60000,)\n",
            "Forma de las imágenes de prueba: (10000, 28, 28)\n",
            "Forma de las etiquetas de prueba: (10000,)\n",
            "\n",
            "Forma de las imágenes de entrenamiento aplanadas: (60000, 784)\n",
            "Forma de las imágenes de prueba aplanadas: (10000, 784)\n"
          ]
        }
      ]
    },
    {
      "cell_type": "markdown",
      "source": [
        "# CUESTIONES PARA IMPLEMENTAR Y RESPONDER"
      ],
      "metadata": {
        "id": "zG5SFN6EhOwr"
      }
    },
    {
      "cell_type": "markdown",
      "source": [
        "Con la biblioteca keras definimos, configuramos y entrenamos los modelos de redes neuronales con distintas configuraciones. Estos, se evalúan y entrenan en el conjunto de datos fashion MNIST para clasificar imágenes de moda, encontrando asi la mejor configuración del modelo para el problema."
      ],
      "metadata": {
        "id": "qcuxAVvBhbSF"
      }
    },
    {
      "cell_type": "code",
      "source": [
        "# importamos las bibliotecas necesarias.\n",
        "from keras import models\n",
        "from keras import layers\n",
        "from keras.datasets import fashion_mnist\n",
        "from keras.utils import to_categorical\n",
        "\n",
        "# cargamos los datos de fashion_mnist que contiene imágenes en blanco y negro (entreamiento y prueba).\n",
        "(train_images, train_labels), (test_images, test_labels) = fashion_mnist.load_data()\n",
        "\n",
        "# transformación de las imágenes para que la red neuronal las entienda mejor. (transformando las imágenes en un formato unidimensional y\n",
        "# asegurándose de que los valores de los píxeles estén en un rango de 0 a 1)\n",
        "\n",
        "# se transforman las etiquetas de entrenamiento en vectores \"one-hot encoding\" para su uso en problemas de clasificación.\n",
        "train_images = train_images.reshape((60000, 28 * 28))\n",
        "train_images = train_images.astype('float32') / 255\n",
        "test_images = test_images.reshape((10000, 28 * 28))\n",
        "test_images = test_images.astype('float32') / 255\n",
        "train_labels = to_categorical(train_labels)\n",
        "test_labels = to_categorical(test_labels)\n",
        "\n",
        "# se define una función llamada modelo_entrenamiento para crear y entrenar modelos de redes neuronales.\n",
        "def modelo_entrenamiento(neurons, activation, optimizer):\n",
        "    model = models.Sequential()\n",
        "    model.add(layers.Dense(neurons, activation=activation, input_shape=(28*28,)))\n",
        "    model.add(layers.Dense(10, activation='softmax'))\n",
        "\n",
        "    model.compile(optimizer=optimizer,\n",
        "                  loss='categorical_crossentropy',\n",
        "                  metrics=['accuracy'])\n",
        "\n",
        "    history = model.fit(train_images, train_labels, epochs=5, batch_size=64, validation_split=0.2)\n",
        "    return model, history\n",
        "\n",
        "# configuramos los 8 casos diferentes mediante una lista, variando el número de neuronas en la capa oculta, la función de activación y el\n",
        "# optimizador usado.\n",
        "models_and_histories = []\n",
        "\n",
        "casos = [\n",
        "    (10, 'relu', 'sgd'),\n",
        "    (10, 'relu', 'rmsprop'),\n",
        "    (10, 'sigmoid', 'sgd'),\n",
        "    (10, 'sigmoid', 'rmsprop'),\n",
        "    (512, 'relu', 'sgd'),\n",
        "    (512, 'relu', 'rmsprop'),\n",
        "    (512, 'sigmoid', 'sgd'),\n",
        "    (512, 'sigmoid', 'rmsprop')\n",
        "]\n",
        "\n",
        "# en el siguiente bucle iteramos sobre cada configuración de modelo y mostramos la información.\n",
        "for i, (neurons, activation, optimizer) in enumerate(casos, 1):\n",
        "    print(f\"Caso {i}: Neuronas_capa_1={neurons}, Función de activación={activation}, Optimizador={optimizer}\")\n",
        "    # entrenamos cada uno empleando los datos de entrenamiento.\n",
        "    model, history = modelo_entrenamiento(neurons, activation, optimizer)\n",
        "    models_and_histories.append((model, history))\n",
        "    model = models_and_histories[i - 1][0]\n",
        "    model.summary() # imprimimos un resumen de cada modelo\n",
        "    print(\"\\n\")"
      ],
      "metadata": {
        "colab": {
          "base_uri": "https://localhost:8080/"
        },
        "id": "vp6lLab8k0kc",
        "outputId": "f27b4465-240d-4af9-c7b9-7b987d0bc766"
      },
      "execution_count": 30,
      "outputs": [
        {
          "output_type": "stream",
          "name": "stdout",
          "text": [
            "Caso 1: Neuronas_capa_1=10, Función de activación=relu, Optimizador=sgd\n",
            "Epoch 1/5\n",
            "750/750 [==============================] - 4s 4ms/step - loss: 1.2070 - accuracy: 0.6124 - val_loss: 0.7901 - val_accuracy: 0.7335\n",
            "Epoch 2/5\n",
            "750/750 [==============================] - 3s 3ms/step - loss: 0.7113 - accuracy: 0.7559 - val_loss: 0.6484 - val_accuracy: 0.7758\n",
            "Epoch 3/5\n",
            "750/750 [==============================] - 3s 4ms/step - loss: 0.6175 - accuracy: 0.7866 - val_loss: 0.5911 - val_accuracy: 0.7931\n",
            "Epoch 4/5\n",
            "750/750 [==============================] - 3s 4ms/step - loss: 0.5714 - accuracy: 0.8051 - val_loss: 0.5552 - val_accuracy: 0.8109\n",
            "Epoch 5/5\n",
            "750/750 [==============================] - 3s 4ms/step - loss: 0.5429 - accuracy: 0.8149 - val_loss: 0.5326 - val_accuracy: 0.8163\n",
            "Model: \"sequential_14\"\n",
            "_________________________________________________________________\n",
            " Layer (type)                Output Shape              Param #   \n",
            "=================================================================\n",
            " dense_28 (Dense)            (None, 10)                7850      \n",
            "                                                                 \n",
            " dense_29 (Dense)            (None, 10)                110       \n",
            "                                                                 \n",
            "=================================================================\n",
            "Total params: 7960 (31.09 KB)\n",
            "Trainable params: 7960 (31.09 KB)\n",
            "Non-trainable params: 0 (0.00 Byte)\n",
            "_________________________________________________________________\n",
            "\n",
            "\n",
            "Caso 2: Neuronas_capa_1=10, Función de activación=relu, Optimizador=rmsprop\n",
            "Epoch 1/5\n",
            "750/750 [==============================] - 3s 4ms/step - loss: 0.8293 - accuracy: 0.7183 - val_loss: 0.6089 - val_accuracy: 0.7861\n",
            "Epoch 2/5\n",
            "750/750 [==============================] - 3s 4ms/step - loss: 0.5303 - accuracy: 0.8183 - val_loss: 0.5089 - val_accuracy: 0.8276\n",
            "Epoch 3/5\n",
            "750/750 [==============================] - 3s 4ms/step - loss: 0.4771 - accuracy: 0.8355 - val_loss: 0.4899 - val_accuracy: 0.8304\n",
            "Epoch 4/5\n",
            "750/750 [==============================] - 3s 4ms/step - loss: 0.4502 - accuracy: 0.8430 - val_loss: 0.4549 - val_accuracy: 0.8457\n",
            "Epoch 5/5\n",
            "750/750 [==============================] - 3s 4ms/step - loss: 0.4352 - accuracy: 0.8482 - val_loss: 0.4433 - val_accuracy: 0.8468\n",
            "Model: \"sequential_15\"\n",
            "_________________________________________________________________\n",
            " Layer (type)                Output Shape              Param #   \n",
            "=================================================================\n",
            " dense_30 (Dense)            (None, 10)                7850      \n",
            "                                                                 \n",
            " dense_31 (Dense)            (None, 10)                110       \n",
            "                                                                 \n",
            "=================================================================\n",
            "Total params: 7960 (31.09 KB)\n",
            "Trainable params: 7960 (31.09 KB)\n",
            "Non-trainable params: 0 (0.00 Byte)\n",
            "_________________________________________________________________\n",
            "\n",
            "\n",
            "Caso 3: Neuronas_capa_1=10, Función de activación=sigmoid, Optimizador=sgd\n",
            "Epoch 1/5\n",
            "750/750 [==============================] - 4s 5ms/step - loss: 2.0287 - accuracy: 0.2936 - val_loss: 1.8255 - val_accuracy: 0.4642\n",
            "Epoch 2/5\n",
            "750/750 [==============================] - 3s 4ms/step - loss: 1.6839 - accuracy: 0.5305 - val_loss: 1.5501 - val_accuracy: 0.5860\n",
            "Epoch 3/5\n",
            "750/750 [==============================] - 3s 3ms/step - loss: 1.4466 - accuracy: 0.6186 - val_loss: 1.3451 - val_accuracy: 0.6628\n",
            "Epoch 4/5\n",
            "750/750 [==============================] - 3s 3ms/step - loss: 1.2672 - accuracy: 0.6841 - val_loss: 1.1886 - val_accuracy: 0.7131\n",
            "Epoch 5/5\n",
            "750/750 [==============================] - 5s 6ms/step - loss: 1.1302 - accuracy: 0.7110 - val_loss: 1.0701 - val_accuracy: 0.7288\n",
            "Model: \"sequential_16\"\n",
            "_________________________________________________________________\n",
            " Layer (type)                Output Shape              Param #   \n",
            "=================================================================\n",
            " dense_32 (Dense)            (None, 10)                7850      \n",
            "                                                                 \n",
            " dense_33 (Dense)            (None, 10)                110       \n",
            "                                                                 \n",
            "=================================================================\n",
            "Total params: 7960 (31.09 KB)\n",
            "Trainable params: 7960 (31.09 KB)\n",
            "Non-trainable params: 0 (0.00 Byte)\n",
            "_________________________________________________________________\n",
            "\n",
            "\n",
            "Caso 4: Neuronas_capa_1=10, Función de activación=sigmoid, Optimizador=rmsprop\n",
            "Epoch 1/5\n",
            "750/750 [==============================] - 5s 5ms/step - loss: 1.2592 - accuracy: 0.6399 - val_loss: 0.8536 - val_accuracy: 0.7352\n",
            "Epoch 2/5\n",
            "750/750 [==============================] - 3s 4ms/step - loss: 0.7189 - accuracy: 0.7760 - val_loss: 0.6175 - val_accuracy: 0.8032\n",
            "Epoch 3/5\n",
            "750/750 [==============================] - 3s 4ms/step - loss: 0.5691 - accuracy: 0.8166 - val_loss: 0.5288 - val_accuracy: 0.8246\n",
            "Epoch 4/5\n",
            "750/750 [==============================] - 3s 4ms/step - loss: 0.5044 - accuracy: 0.8334 - val_loss: 0.4860 - val_accuracy: 0.8346\n",
            "Epoch 5/5\n",
            "750/750 [==============================] - 3s 3ms/step - loss: 0.4712 - accuracy: 0.8414 - val_loss: 0.4689 - val_accuracy: 0.8387\n",
            "Model: \"sequential_17\"\n",
            "_________________________________________________________________\n",
            " Layer (type)                Output Shape              Param #   \n",
            "=================================================================\n",
            " dense_34 (Dense)            (None, 10)                7850      \n",
            "                                                                 \n",
            " dense_35 (Dense)            (None, 10)                110       \n",
            "                                                                 \n",
            "=================================================================\n",
            "Total params: 7960 (31.09 KB)\n",
            "Trainable params: 7960 (31.09 KB)\n",
            "Non-trainable params: 0 (0.00 Byte)\n",
            "_________________________________________________________________\n",
            "\n",
            "\n",
            "Caso 5: Neuronas_capa_1=512, Función de activación=relu, Optimizador=sgd\n",
            "Epoch 1/5\n",
            "750/750 [==============================] - 3s 4ms/step - loss: 0.8902 - accuracy: 0.7237 - val_loss: 0.6388 - val_accuracy: 0.7926\n",
            "Epoch 2/5\n",
            "750/750 [==============================] - 3s 4ms/step - loss: 0.5904 - accuracy: 0.8090 - val_loss: 0.5521 - val_accuracy: 0.8147\n",
            "Epoch 3/5\n",
            "750/750 [==============================] - 3s 5ms/step - loss: 0.5268 - accuracy: 0.8256 - val_loss: 0.5082 - val_accuracy: 0.8282\n",
            "Epoch 4/5\n",
            "750/750 [==============================] - 3s 4ms/step - loss: 0.4939 - accuracy: 0.8338 - val_loss: 0.4835 - val_accuracy: 0.8326\n",
            "Epoch 5/5\n",
            "750/750 [==============================] - 3s 4ms/step - loss: 0.4722 - accuracy: 0.8395 - val_loss: 0.4705 - val_accuracy: 0.8363\n",
            "Model: \"sequential_18\"\n",
            "_________________________________________________________________\n",
            " Layer (type)                Output Shape              Param #   \n",
            "=================================================================\n",
            " dense_36 (Dense)            (None, 512)               401920    \n",
            "                                                                 \n",
            " dense_37 (Dense)            (None, 10)                5130      \n",
            "                                                                 \n",
            "=================================================================\n",
            "Total params: 407050 (1.55 MB)\n",
            "Trainable params: 407050 (1.55 MB)\n",
            "Non-trainable params: 0 (0.00 Byte)\n",
            "_________________________________________________________________\n",
            "\n",
            "\n",
            "Caso 6: Neuronas_capa_1=512, Función de activación=relu, Optimizador=rmsprop\n",
            "Epoch 1/5\n",
            "750/750 [==============================] - 3s 4ms/step - loss: 0.5374 - accuracy: 0.8083 - val_loss: 0.3905 - val_accuracy: 0.8612\n",
            "Epoch 2/5\n",
            "750/750 [==============================] - 3s 3ms/step - loss: 0.3810 - accuracy: 0.8616 - val_loss: 0.3730 - val_accuracy: 0.8653\n",
            "Epoch 3/5\n",
            "750/750 [==============================] - 3s 4ms/step - loss: 0.3382 - accuracy: 0.8757 - val_loss: 0.3628 - val_accuracy: 0.8694\n",
            "Epoch 4/5\n",
            "750/750 [==============================] - 3s 4ms/step - loss: 0.3144 - accuracy: 0.8857 - val_loss: 0.3434 - val_accuracy: 0.8783\n",
            "Epoch 5/5\n",
            "750/750 [==============================] - 3s 4ms/step - loss: 0.2967 - accuracy: 0.8908 - val_loss: 0.3233 - val_accuracy: 0.8861\n",
            "Model: \"sequential_19\"\n",
            "_________________________________________________________________\n",
            " Layer (type)                Output Shape              Param #   \n",
            "=================================================================\n",
            " dense_38 (Dense)            (None, 512)               401920    \n",
            "                                                                 \n",
            " dense_39 (Dense)            (None, 10)                5130      \n",
            "                                                                 \n",
            "=================================================================\n",
            "Total params: 407050 (1.55 MB)\n",
            "Trainable params: 407050 (1.55 MB)\n",
            "Non-trainable params: 0 (0.00 Byte)\n",
            "_________________________________________________________________\n",
            "\n",
            "\n",
            "Caso 7: Neuronas_capa_1=512, Función de activación=sigmoid, Optimizador=sgd\n",
            "Epoch 1/5\n",
            "750/750 [==============================] - 4s 4ms/step - loss: 1.5149 - accuracy: 0.6222 - val_loss: 1.0855 - val_accuracy: 0.7041\n",
            "Epoch 2/5\n",
            "750/750 [==============================] - 3s 4ms/step - loss: 0.9481 - accuracy: 0.7267 - val_loss: 0.8413 - val_accuracy: 0.7339\n",
            "Epoch 3/5\n",
            "750/750 [==============================] - 3s 4ms/step - loss: 0.7943 - accuracy: 0.7474 - val_loss: 0.7417 - val_accuracy: 0.7582\n",
            "Epoch 4/5\n",
            "750/750 [==============================] - 3s 4ms/step - loss: 0.7202 - accuracy: 0.7610 - val_loss: 0.6874 - val_accuracy: 0.7653\n",
            "Epoch 5/5\n",
            "750/750 [==============================] - 4s 5ms/step - loss: 0.6749 - accuracy: 0.7720 - val_loss: 0.6491 - val_accuracy: 0.7768\n",
            "Model: \"sequential_20\"\n",
            "_________________________________________________________________\n",
            " Layer (type)                Output Shape              Param #   \n",
            "=================================================================\n",
            " dense_40 (Dense)            (None, 512)               401920    \n",
            "                                                                 \n",
            " dense_41 (Dense)            (None, 10)                5130      \n",
            "                                                                 \n",
            "=================================================================\n",
            "Total params: 407050 (1.55 MB)\n",
            "Trainable params: 407050 (1.55 MB)\n",
            "Non-trainable params: 0 (0.00 Byte)\n",
            "_________________________________________________________________\n",
            "\n",
            "\n",
            "Caso 8: Neuronas_capa_1=512, Función de activación=sigmoid, Optimizador=rmsprop\n",
            "Epoch 1/5\n",
            "750/750 [==============================] - 4s 4ms/step - loss: 0.5791 - accuracy: 0.7941 - val_loss: 0.4405 - val_accuracy: 0.8373\n",
            "Epoch 2/5\n",
            "750/750 [==============================] - 3s 4ms/step - loss: 0.4326 - accuracy: 0.8431 - val_loss: 0.4130 - val_accuracy: 0.8521\n",
            "Epoch 3/5\n",
            "750/750 [==============================] - 3s 4ms/step - loss: 0.3941 - accuracy: 0.8578 - val_loss: 0.3797 - val_accuracy: 0.8619\n",
            "Epoch 4/5\n",
            "750/750 [==============================] - 3s 4ms/step - loss: 0.3665 - accuracy: 0.8674 - val_loss: 0.3811 - val_accuracy: 0.8583\n",
            "Epoch 5/5\n",
            "750/750 [==============================] - 3s 4ms/step - loss: 0.3468 - accuracy: 0.8739 - val_loss: 0.3564 - val_accuracy: 0.8717\n",
            "Model: \"sequential_21\"\n",
            "_________________________________________________________________\n",
            " Layer (type)                Output Shape              Param #   \n",
            "=================================================================\n",
            " dense_42 (Dense)            (None, 512)               401920    \n",
            "                                                                 \n",
            " dense_43 (Dense)            (None, 10)                5130      \n",
            "                                                                 \n",
            "=================================================================\n",
            "Total params: 407050 (1.55 MB)\n",
            "Trainable params: 407050 (1.55 MB)\n",
            "Non-trainable params: 0 (0.00 Byte)\n",
            "_________________________________________________________________\n",
            "\n",
            "\n"
          ]
        }
      ]
    },
    {
      "cell_type": "markdown",
      "source": [
        "Cada caso incluye dos capas que realiza la llamada **model.summary()**: Una oculta y una de salida. La capa oculta varía en el número de neuronas y la función de activación, mientras que la de salida consta de 10 neuronas y utiliza la función softmax. La tabla muestra información sobre la cantidad total de parámetros, lo que demuestra la complejidad del modelo.\n",
        "\n",
        "Caso 1:\n",
        "- Configuración: 10 neuronas en la oculta, función activación= \"relu,\" optimizador \"sgd.\"\n",
        "- Rendimiento: La red alcanza una precisión del 81.42% después de 5 épocas.\n",
        "- Estructura: Dos capas, una con 10 neuronas y otra con 10 neuronas de salida.\n",
        "\n",
        "Caso 2:\n",
        "- Configuración: 10 neuronas en la oculta, función activación=\"relu,\" optimizador \"rmsprop.\"\n",
        "- Rendimiento: La red alcanza una precisión del 84.39% tras de 5 épocas.\n",
        "- Estructura: Dos capas, una con 10 neuronas y otra con 10 neuronas de salida.\n",
        "\n",
        "Caso 3:\n",
        "- Configuración: 10 neuronas en la oculta, función activación = \"sigmoid,\" optimizador \"sgd.\"\n",
        "- Rendimiento: 67.68% después de 5 épocas.\n",
        "- Estructura: Dos capas, 10 neuronas en cada una\n",
        "\n",
        "Caso 4:\n",
        "- Configuración: 10 neuronas en la oculta, función activación \"sigmoid,\" optimizador \"rmsprop.\"\n",
        "- Rendimiento: alcanza una precisión del 83.72% al final de 5 épocas.\n",
        "- Estructura: Dos capas, 10 neuronas en cada una.\n",
        "\n",
        "Caso 5:\n",
        "- Configuración: 512 neuronas en la oculta, función activación \"relu,\" optimizador \"sgd.\"\n",
        "- Rendimiento: 83.97% en el conjunto de validación tras 5 épocas.\n",
        "- Estructura: Dos capas, una con 512 neuronas y otra 10 de salida.\n",
        "\n",
        "Caso 6:\n",
        "- Configuración: 512 neuronas en la oculta, función activación \"relu,\" optimizador \"rmsprop.\"\n",
        "- Rendimiento: 86.87% después de 5 épocas.\n",
        "- Estructura: Dos capas, una con 512 neuronas y otra con 10 de salida.\n",
        "\n",
        "Caso 7:\n",
        "- Configuración: 512 neuronas en la  oculta, función activación \"sigmoid,\" optimizador \"sgd.\"\n",
        "- Rendimiento: La red alcanza una precisión del 77.70% en el conjunto de validación después de 5 épocas.\n",
        "- Estructura: Dos capas, una con 512 neuronas y otra con 10 de salida.\n",
        "\n",
        "Caso 8:\n",
        "- Configuración: 512 neuronas en la oculta, función activación \"sigmoid,\" optimizador \"rmsprop.\"\n",
        "- Rendimiento: obtiene una precisión del 87.07% después de 5 épocas.\n",
        "- Estructura: Dos capas, una con 512 neuronas y otra con 10 de salida."
      ],
      "metadata": {
        "id": "IjyMMErJsbwL"
      }
    },
    {
      "cell_type": "markdown",
      "source": [
        " Este código genera un archivo de imagen llamado \"my_first_model.png\" que muestra las capas del modelo y las conexiones entre ellas, permitiendo una visualización gráfica de la arquitectura de la red. La opción show_shapes=True en la función plot_model agrega información sobre las formas de los tensores en cada capa."
      ],
      "metadata": {
        "id": "QRfrdfs7eR4e"
      }
    },
    {
      "cell_type": "code",
      "source": [
        "import tensorflow as tf\n",
        "from tensorflow import keras\n",
        "from tensorflow.keras import layers\n",
        "keras.utils.plot_model(model, \"my_first_model.png\", show_shapes=True)"
      ],
      "metadata": {
        "colab": {
          "base_uri": "https://localhost:8080/",
          "height": 312
        },
        "id": "ngBnTKV7471p",
        "outputId": "7d8371d1-a0e8-42f0-d4d2-71767b17b050"
      },
      "execution_count": 31,
      "outputs": [
        {
          "output_type": "execute_result",
          "data": {
            "image/png": "[encoded data removed]",
            "text/plain": [
              "<IPython.core.display.Image object>"
            ]
          },
          "metadata": {},
          "execution_count": 31
        }
      ]
    },
    {
      "cell_type": "code",
      "source": [
        "# función para crear y entrenar un modelo con 25 épocas\n",
        "def modemo_entrenamiento_25_epocas(neurons, activation, optimizer):\n",
        "    model = models.Sequential()\n",
        "    model.add(layers.Dense(neurons, activation=activation, input_shape=(28*28,)))\n",
        "    model.add(layers.Dense(10, activation='softmax'))\n",
        "\n",
        "    model.compile(optimizer=optimizer,\n",
        "                  loss='categorical_crossentropy',\n",
        "                  metrics=['accuracy'])\n",
        "\n",
        "    history = model.fit(train_images, train_labels, epochs=25, batch_size=64, validation_split=0.2)\n",
        "    return model, history\n",
        "\n",
        "# aonfigurar y entrenar los casos 2 y 7 con 25 épocas\n",
        "casos2 = [\n",
        "    (10, 'relu', 'rmsprop'), # caso 2\n",
        "    (512, 'sigmoid', 'sgd') # caso 7\n",
        "]\n",
        "\n",
        "results_with_25_epochs = []\n",
        "\n",
        "for i, (neurons, activation, optimizer) in enumerate(casos2, 1):\n",
        "    print(f\"Caso {i} con 25 épocas: Neuronas_capa_1={neurons}, Función de activación={activation}, Optimizador={optimizer}\")\n",
        "    model, history = modemo_entrenamiento_25_epocas(neurons, activation, optimizer)\n",
        "    results_with_25_epochs.append((model, history))\n",
        "    print(\"\\n\")\n",
        "\n",
        "# ahora tenemos los resultados de los casos 2 y 7 con 25 épocas de entrenamiento."
      ],
      "metadata": {
        "colab": {
          "base_uri": "https://localhost:8080/"
        },
        "id": "QgXo7roXt99J",
        "outputId": "7f3ed919-367d-4845-da65-3fd4f570548f"
      },
      "execution_count": 32,
      "outputs": [
        {
          "output_type": "stream",
          "name": "stdout",
          "text": [
            "Caso 1 con 25 épocas: Neuronas_capa_1=10, Función de activación=relu, Optimizador=rmsprop\n",
            "Epoch 1/25\n",
            "750/750 [==============================] - 4s 4ms/step - loss: 0.7924 - accuracy: 0.7335 - val_loss: 0.5727 - val_accuracy: 0.8025\n",
            "Epoch 2/25\n",
            "750/750 [==============================] - 3s 4ms/step - loss: 0.5314 - accuracy: 0.8175 - val_loss: 0.5075 - val_accuracy: 0.8233\n",
            "Epoch 3/25\n",
            "750/750 [==============================] - 3s 4ms/step - loss: 0.4834 - accuracy: 0.8356 - val_loss: 0.4801 - val_accuracy: 0.8358\n",
            "Epoch 4/25\n",
            "750/750 [==============================] - 3s 4ms/step - loss: 0.4587 - accuracy: 0.8427 - val_loss: 0.4574 - val_accuracy: 0.8396\n",
            "Epoch 5/25\n",
            "750/750 [==============================] - 5s 6ms/step - loss: 0.4404 - accuracy: 0.8481 - val_loss: 0.4696 - val_accuracy: 0.8367\n",
            "Epoch 6/25\n",
            "750/750 [==============================] - 5s 7ms/step - loss: 0.4258 - accuracy: 0.8516 - val_loss: 0.4501 - val_accuracy: 0.8417\n",
            "Epoch 7/25\n",
            "750/750 [==============================] - 3s 4ms/step - loss: 0.4135 - accuracy: 0.8559 - val_loss: 0.4350 - val_accuracy: 0.8486\n",
            "Epoch 8/25\n",
            "750/750 [==============================] - 3s 4ms/step - loss: 0.4052 - accuracy: 0.8589 - val_loss: 0.4255 - val_accuracy: 0.8524\n",
            "Epoch 9/25\n",
            "750/750 [==============================] - 3s 3ms/step - loss: 0.3978 - accuracy: 0.8609 - val_loss: 0.4210 - val_accuracy: 0.8543\n",
            "Epoch 10/25\n",
            "750/750 [==============================] - 3s 5ms/step - loss: 0.3927 - accuracy: 0.8627 - val_loss: 0.4217 - val_accuracy: 0.8538\n",
            "Epoch 11/25\n",
            "750/750 [==============================] - 3s 4ms/step - loss: 0.3869 - accuracy: 0.8645 - val_loss: 0.4097 - val_accuracy: 0.8583\n",
            "Epoch 12/25\n",
            "750/750 [==============================] - 3s 4ms/step - loss: 0.3826 - accuracy: 0.8654 - val_loss: 0.4361 - val_accuracy: 0.8509\n",
            "Epoch 13/25\n",
            "750/750 [==============================] - 4s 6ms/step - loss: 0.3799 - accuracy: 0.8679 - val_loss: 0.4433 - val_accuracy: 0.8401\n",
            "Epoch 14/25\n",
            "750/750 [==============================] - 3s 4ms/step - loss: 0.3766 - accuracy: 0.8669 - val_loss: 0.4163 - val_accuracy: 0.8552\n",
            "Epoch 15/25\n",
            "750/750 [==============================] - 3s 4ms/step - loss: 0.3733 - accuracy: 0.8683 - val_loss: 0.4085 - val_accuracy: 0.8566\n",
            "Epoch 16/25\n",
            "750/750 [==============================] - 3s 3ms/step - loss: 0.3711 - accuracy: 0.8693 - val_loss: 0.4190 - val_accuracy: 0.8537\n",
            "Epoch 17/25\n",
            "750/750 [==============================] - 4s 5ms/step - loss: 0.3689 - accuracy: 0.8702 - val_loss: 0.4108 - val_accuracy: 0.8593\n",
            "Epoch 18/25\n",
            "750/750 [==============================] - 4s 5ms/step - loss: 0.3661 - accuracy: 0.8700 - val_loss: 0.4126 - val_accuracy: 0.8602\n",
            "Epoch 19/25\n",
            "750/750 [==============================] - 4s 5ms/step - loss: 0.3646 - accuracy: 0.8709 - val_loss: 0.4064 - val_accuracy: 0.8627\n",
            "Epoch 20/25\n",
            "750/750 [==============================] - 3s 5ms/step - loss: 0.3626 - accuracy: 0.8716 - val_loss: 0.4127 - val_accuracy: 0.8585\n",
            "Epoch 21/25\n",
            "750/750 [==============================] - 4s 6ms/step - loss: 0.3607 - accuracy: 0.8717 - val_loss: 0.4038 - val_accuracy: 0.8627\n",
            "Epoch 22/25\n",
            "750/750 [==============================] - 4s 5ms/step - loss: 0.3579 - accuracy: 0.8727 - val_loss: 0.4090 - val_accuracy: 0.8610\n",
            "Epoch 23/25\n",
            "750/750 [==============================] - 4s 5ms/step - loss: 0.3565 - accuracy: 0.8728 - val_loss: 0.4082 - val_accuracy: 0.8632\n",
            "Epoch 24/25\n",
            "750/750 [==============================] - 5s 7ms/step - loss: 0.3551 - accuracy: 0.8737 - val_loss: 0.4080 - val_accuracy: 0.8608\n",
            "Epoch 25/25\n",
            "750/750 [==============================] - 3s 4ms/step - loss: 0.3534 - accuracy: 0.8744 - val_loss: 0.4182 - val_accuracy: 0.8567\n",
            "\n",
            "\n",
            "Caso 2 con 25 épocas: Neuronas_capa_1=512, Función de activación=sigmoid, Optimizador=sgd\n",
            "Epoch 1/25\n",
            "750/750 [==============================] - 5s 6ms/step - loss: 1.5246 - accuracy: 0.6205 - val_loss: 1.0902 - val_accuracy: 0.7147\n",
            "Epoch 2/25\n",
            "750/750 [==============================] - 3s 4ms/step - loss: 0.9533 - accuracy: 0.7243 - val_loss: 0.8432 - val_accuracy: 0.7346\n",
            "Epoch 3/25\n",
            "750/750 [==============================] - 3s 4ms/step - loss: 0.7957 - accuracy: 0.7468 - val_loss: 0.7411 - val_accuracy: 0.7522\n",
            "Epoch 4/25\n",
            "750/750 [==============================] - 4s 5ms/step - loss: 0.7205 - accuracy: 0.7611 - val_loss: 0.6861 - val_accuracy: 0.7667\n",
            "Epoch 5/25\n",
            "750/750 [==============================] - 3s 4ms/step - loss: 0.6746 - accuracy: 0.7707 - val_loss: 0.6504 - val_accuracy: 0.7753\n",
            "Epoch 6/25\n",
            "750/750 [==============================] - 3s 4ms/step - loss: 0.6416 - accuracy: 0.7788 - val_loss: 0.6230 - val_accuracy: 0.7822\n",
            "Epoch 7/25\n",
            "750/750 [==============================] - 4s 5ms/step - loss: 0.6164 - accuracy: 0.7883 - val_loss: 0.6027 - val_accuracy: 0.7886\n",
            "Epoch 8/25\n",
            "750/750 [==============================] - 5s 6ms/step - loss: 0.5960 - accuracy: 0.7943 - val_loss: 0.5841 - val_accuracy: 0.7958\n",
            "Epoch 9/25\n",
            "750/750 [==============================] - 3s 5ms/step - loss: 0.5795 - accuracy: 0.8005 - val_loss: 0.5704 - val_accuracy: 0.8015\n",
            "Epoch 10/25\n",
            "750/750 [==============================] - 4s 5ms/step - loss: 0.5653 - accuracy: 0.8053 - val_loss: 0.5567 - val_accuracy: 0.8054\n",
            "Epoch 11/25\n",
            "750/750 [==============================] - 5s 7ms/step - loss: 0.5530 - accuracy: 0.8085 - val_loss: 0.5493 - val_accuracy: 0.8078\n",
            "Epoch 12/25\n",
            "750/750 [==============================] - 4s 6ms/step - loss: 0.5425 - accuracy: 0.8120 - val_loss: 0.5389 - val_accuracy: 0.8118\n",
            "Epoch 13/25\n",
            "750/750 [==============================] - 4s 6ms/step - loss: 0.5335 - accuracy: 0.8151 - val_loss: 0.5291 - val_accuracy: 0.8135\n",
            "Epoch 14/25\n",
            "750/750 [==============================] - 6s 7ms/step - loss: 0.5252 - accuracy: 0.8187 - val_loss: 0.5224 - val_accuracy: 0.8163\n",
            "Epoch 15/25\n",
            "750/750 [==============================] - 3s 4ms/step - loss: 0.5183 - accuracy: 0.8209 - val_loss: 0.5164 - val_accuracy: 0.8163\n",
            "Epoch 16/25\n",
            "750/750 [==============================] - 3s 5ms/step - loss: 0.5114 - accuracy: 0.8232 - val_loss: 0.5104 - val_accuracy: 0.8195\n",
            "Epoch 17/25\n",
            "750/750 [==============================] - 4s 5ms/step - loss: 0.5055 - accuracy: 0.8246 - val_loss: 0.5094 - val_accuracy: 0.8178\n",
            "Epoch 18/25\n",
            "750/750 [==============================] - 3s 4ms/step - loss: 0.5003 - accuracy: 0.8271 - val_loss: 0.5022 - val_accuracy: 0.8222\n",
            "Epoch 19/25\n",
            "750/750 [==============================] - 3s 4ms/step - loss: 0.4954 - accuracy: 0.8279 - val_loss: 0.4958 - val_accuracy: 0.8230\n",
            "Epoch 20/25\n",
            "750/750 [==============================] - 3s 4ms/step - loss: 0.4908 - accuracy: 0.8299 - val_loss: 0.4944 - val_accuracy: 0.8221\n",
            "Epoch 21/25\n",
            "750/750 [==============================] - 4s 6ms/step - loss: 0.4869 - accuracy: 0.8316 - val_loss: 0.4883 - val_accuracy: 0.8257\n",
            "Epoch 22/25\n",
            "750/750 [==============================] - 4s 5ms/step - loss: 0.4828 - accuracy: 0.8323 - val_loss: 0.4843 - val_accuracy: 0.8277\n",
            "Epoch 23/25\n",
            "750/750 [==============================] - 4s 5ms/step - loss: 0.4791 - accuracy: 0.8339 - val_loss: 0.4825 - val_accuracy: 0.8293\n",
            "Epoch 24/25\n",
            "750/750 [==============================] - 3s 4ms/step - loss: 0.4757 - accuracy: 0.8353 - val_loss: 0.4782 - val_accuracy: 0.8288\n",
            "Epoch 25/25\n",
            "750/750 [==============================] - 3s 5ms/step - loss: 0.4725 - accuracy: 0.8364 - val_loss: 0.4776 - val_accuracy: 0.8317\n",
            "\n",
            "\n"
          ]
        }
      ]
    },
    {
      "cell_type": "markdown",
      "source": [
        "Al incrementar de 5 épocas a 25, el caso 2 en un principio tenía capa oculta de 10 neuronas, función de activación \"relu\" y optimizador \"rmsprop\". El modelo ha mejorado su capacidad para aprender patrones en los datos, lo que conlleva a una mejor precisión disminuyendo la pérdida. Es importante tener en cuenta que puede haber sobreajuste un riesgo de sobreajuste ya que el modelo podría aprender detalles demasiado específicos de los ejemplos de entrenamiento.\n",
        "\n",
        "En el caso 7, con 512 neuronas en la capa oculta, función de activación \"sigmoide\" y optimizador \"sgd\" se observa una mejora en el rendimiento en comparación con el resultado después de 5 épocas. Esto se debe a que el modelo dispone de más tiempo para alcanzar una solución óptima."
      ],
      "metadata": {
        "id": "obmO8sqFvXyT"
      }
    },
    {
      "cell_type": "markdown",
      "source": [
        "Visualizamos la matriz de confusión que se muestra como una imagen con etiquetas de clase y valores en cada celda. Con la función se puede evaluar el rendimiento de modelos de clasificación y entender cómo se comportan en la clasificación de datos."
      ],
      "metadata": {
        "id": "eB8Tb1BNyDlT"
      }
    },
    {
      "cell_type": "code",
      "source": [
        "# importamos biblioteca numpy para calculos numéricos.\n",
        "import numpy as np\n",
        "\n",
        "# importamos biblioteca itertools para iteraciones.\n",
        "import itertools\n",
        "\n",
        "# para la creación de gráficos.\n",
        "import matplotlib.pyplot as plt\n",
        "\n",
        "# definimos una función para la matriz de confusión\n",
        "def plot_confusion_matrix(cm, classes, # matriz de confusión y lista de clases\n",
        "                          normalize=False, # vemos si se normaliza la matriz\n",
        "                          title='Matriz de confusión', # título\n",
        "                          cmap=plt.cm.Blues): # colores para la visualización\n",
        "    \"\"\"\n",
        "    This function prints and plots the confusion matrix.\n",
        "    Normalization can be applied by setting `normalize=True`.\n",
        "    \"\"\"\n",
        "    # muestra la matriz como una imagen\n",
        "    plt.imshow(cm, interpolation='nearest', cmap=cmap)\n",
        "    plt.title(title)\n",
        "    plt.colorbar() # colores para interpretar los valores\n",
        "    tick_marks = np.arange(len(classes))\n",
        "    plt.xticks(tick_marks, classes, rotation=45)\n",
        "    plt.yticks(tick_marks, classes) # marcas para saber la longitud de la lista de clases\n",
        "\n",
        "    # en caso de True convierte los valores en proporciones\n",
        "    if normalize:\n",
        "        cm = cm.astype('float') / cm.sum(axis=1)[:, np.newaxis]\n",
        "\n",
        "    thresh = cm.max() / 2. # calcula el umbral\n",
        "\n",
        "    # bucle que recorre filas y columnas de la matriz\n",
        "    for i, j in itertools.product(range(cm.shape[0]), range(cm.shape[1])):\n",
        "        plt.text(j, i, cm[i, j], # agrega texto en las celdas según el valor del umbral\n",
        "                 horizontalalignment=\"center\",\n",
        "                 color=\"white\" if cm[i, j] > thresh else \"black\")\n",
        "\n",
        "    plt.tight_layout()\n",
        "    plt.ylabel('Observación') # eje Y observación\n",
        "    plt.xlabel('Predicción') # eje X predicción"
      ],
      "metadata": {
        "id": "AIysEeWcyA7G"
      },
      "execution_count": 33,
      "outputs": []
    },
    {
      "cell_type": "code",
      "source": [
        "from sklearn.metrics import confusion_matrix\n",
        "import itertools\n",
        "import numpy as np\n",
        "import matplotlib.pyplot as plt\n",
        "\n",
        "casos = [\n",
        "    (10, 'relu', 'sgd'),\n",
        "    (10, 'relu', 'rmsprop'),\n",
        "    (10, 'sigmoid', 'sgd'),\n",
        "    (10, 'sigmoid', 'rmsprop'),\n",
        "    (512, 'relu', 'sgd'),\n",
        "    (512, 'relu', 'rmsprop'),\n",
        "    (512, 'sigmoid', 'sgd'),\n",
        "    (512, 'sigmoid', 'rmsprop')\n",
        "]\n",
        "\n",
        "# mostramos el rendimiento\n",
        "def evaluar_modelo(model, test_images, test_labels):\n",
        "    test_loss, test_acc = model.evaluate(test_images, test_labels)\n",
        "    print('Test Loss:', test_loss)\n",
        "    print('Test Accuracy:', test_acc)\n",
        "\n",
        "    # predicción de valores\n",
        "Y_pred = model.predict(test_images)\n",
        "\n",
        "    # convertir en predicciones\n",
        "Y_pred_classes = np.argmax(Y_pred, axis=1)\n",
        "\n",
        "    # convertir en clases de observación\n",
        "Y_true = np.argmax(test_labels, axis=1)\n",
        "\n",
        "    # matriz de confusión\n",
        "confusion_mtx = confusion_matrix(Y_true, Y_pred_classes)\n",
        "\n",
        "# la dibujamos\n",
        "plot_confusion_matrix(confusion_mtx, classes=range(10))\n",
        "\n",
        "# evaluamos y mostramos rendimiento\n",
        "for i, (neurons, activation, optimizer) in enumerate(casos, 1):\n",
        "    print(f\"Caso {i}: Neuronas_capa_1={neurons}, Función de activación={activation}, Optimizador={optimizer}\")\n",
        "    model = models_and_histories[i - 1][0]\n",
        "    evaluar_modelo(model, test_images, test_labels)\n",
        "    print(\"\\n\")"
      ],
      "metadata": {
        "colab": {
          "base_uri": "https://localhost:8080/",
          "height": 1000
        },
        "id": "XPfGQw5jxVZQ",
        "outputId": "e9b0ad23-bc7d-4c32-b21f-8eeccf31b20e"
      },
      "execution_count": 34,
      "outputs": [
        {
          "output_type": "stream",
          "name": "stdout",
          "text": [
            "313/313 [==============================] - 1s 2ms/step\n",
            "Caso 1: Neuronas_capa_1=10, Función de activación=relu, Optimizador=sgd\n",
            "313/313 [==============================] - 1s 3ms/step - loss: 0.5538 - accuracy: 0.8043\n",
            "Test Loss: 0.5538048148155212\n",
            "Test Accuracy: 0.8043000102043152\n",
            "\n",
            "\n",
            "Caso 2: Neuronas_capa_1=10, Función de activación=relu, Optimizador=rmsprop\n",
            "313/313 [==============================] - 1s 3ms/step - loss: 0.4669 - accuracy: 0.8374\n",
            "Test Loss: 0.46690309047698975\n",
            "Test Accuracy: 0.8374000191688538\n",
            "\n",
            "\n",
            "Caso 3: Neuronas_capa_1=10, Función de activación=sigmoid, Optimizador=sgd\n",
            "313/313 [==============================] - 1s 3ms/step - loss: 1.0809 - accuracy: 0.7213\n",
            "Test Loss: 1.0808902978897095\n",
            "Test Accuracy: 0.7213000059127808\n",
            "\n",
            "\n",
            "Caso 4: Neuronas_capa_1=10, Función de activación=sigmoid, Optimizador=rmsprop\n",
            "313/313 [==============================] - 1s 3ms/step - loss: 0.4921 - accuracy: 0.8284\n",
            "Test Loss: 0.492061048746109\n",
            "Test Accuracy: 0.8284000158309937\n",
            "\n",
            "\n",
            "Caso 5: Neuronas_capa_1=512, Función de activación=relu, Optimizador=sgd\n",
            "313/313 [==============================] - 1s 3ms/step - loss: 0.4935 - accuracy: 0.8298\n",
            "Test Loss: 0.49346572160720825\n",
            "Test Accuracy: 0.829800009727478\n",
            "\n",
            "\n",
            "Caso 6: Neuronas_capa_1=512, Función de activación=relu, Optimizador=rmsprop\n",
            "313/313 [==============================] - 1s 3ms/step - loss: 0.3470 - accuracy: 0.8776\n",
            "Test Loss: 0.3469771146774292\n",
            "Test Accuracy: 0.8776000142097473\n",
            "\n",
            "\n",
            "Caso 7: Neuronas_capa_1=512, Función de activación=sigmoid, Optimizador=sgd\n",
            "313/313 [==============================] - 1s 3ms/step - loss: 0.6690 - accuracy: 0.7671\n",
            "Test Loss: 0.6689819097518921\n",
            "Test Accuracy: 0.7670999765396118\n",
            "\n",
            "\n",
            "Caso 8: Neuronas_capa_1=512, Función de activación=sigmoid, Optimizador=rmsprop\n",
            "313/313 [==============================] - 1s 3ms/step - loss: 0.3865 - accuracy: 0.8613\n",
            "Test Loss: 0.38653337955474854\n",
            "Test Accuracy: 0.861299991607666\n",
            "\n",
            "\n"
          ]
        },
        {
          "output_type": "display_data",
          "data": {
            "text/plain": [
              "<Figure size 640x480 with 2 Axes>"
            ],
            "image/png": "[encoded data removed]"
          },
          "metadata": {}
        }
      ]
    },
    {
      "cell_type": "markdown",
      "source": [
        "Caso 1:\n",
        "\n",
        "- Neuronas en la capa oculta: 10\n",
        "- Función de activación: relu\n",
        "- Optimizador: sgd\n",
        "- Pérdida en el conjunto de prueba: 0.5538\n",
        "- Precisión en el conjunto de prueba: 80.43%\n",
        "\n",
        "Caso 2:\n",
        "\n",
        "- Neuronas en la capa oculta: 10\n",
        "- Función de activación: relu\n",
        "- Optimizador: rmsprop\n",
        "- Pérdida en el conjunto de prueba: 0.4669\n",
        "- Precisión en el conjunto de prueba: 83.74%\n",
        "\n",
        "Caso 3:\n",
        "\n",
        "- Neuronas en la capa oculta: 10\n",
        "- Función de activación: sigmoid\n",
        "- Optimizador: sgd\n",
        "- Pérdida en el conjunto de prueba: 1.0809\n",
        "- Precisión en el conjunto de prueba: 72.13%\n",
        "\n",
        "Caso 4:\n",
        "\n",
        "- Neuronas en la capa oculta: 10\n",
        "- Función de activación: sigmoid\n",
        "- Optimizador: rmsprop\n",
        "- Pérdida en el conjunto de prueba: 0.4921\n",
        "- Precisión en el conjunto de prueba: 82.84%\n",
        "\n",
        "Caso 5:\n",
        "\n",
        "- Neuronas en la capa oculta: 512\n",
        "- Función de activación: relu\n",
        "- Optimizador: sgd\n",
        "- Pérdida en el conjunto de prueba: 0.4935\n",
        "- Precisión en el conjunto de prueba: 82.98%\n",
        "\n",
        "Caso 6:\n",
        "\n",
        "Neuronas en la capa oculta: 512\n",
        "Función de activación: relu\n",
        "Optimizador: rmsprop\n",
        "Pérdida en el conjunto de prueba: 0.3470\n",
        "Precisión en el conjunto de prueba: 87.76%\n",
        "Caso 7:\n",
        "\n",
        "Neuronas en la capa oculta: 512\n",
        "Función de activación: sigmoid\n",
        "Optimizador: sgd\n",
        "Pérdida en el conjunto de prueba: 0.6690\n",
        "Precisión en el conjunto de prueba: 76.71%\n",
        "Caso 8:\n",
        "\n",
        "Neuronas en la capa oculta: 512\n",
        "Función de activación: sigmoid\n",
        "Optimizador: rmsprop\n",
        "Pérdida en el conjunto de prueba: 0.3865\n",
        "Precisión en el conjunto de prueba: 86.13%"
      ],
      "metadata": {
        "id": "fEZpF9ZvfBGe"
      }
    },
    {
      "cell_type": "markdown",
      "source": [
        "Evaluamos y comparamos el rendimiento de los difenentes modelos en la clasificación de la sexta imagen de prueba en función de sus configuraciones específicas.\n",
        "\n",
        "El código nos devuelve infrormación importate sobre las prediciones y resultados de cada modelo."
      ],
      "metadata": {
        "id": "fqeKnGGr3DJY"
      }
    },
    {
      "cell_type": "code",
      "source": [
        "# imprtamos las bibliotecas necesarias\n",
        "import matplotlib.pyplot as plt\n",
        "import numpy as np\n",
        "\n",
        "# tomamos la sexta imagen de prueba del conjunto de datos y la redimensionamos(28x28 píxeles) para visualizarla\n",
        "digit = test_images[5].reshape(28, 28)\n",
        "plt.imshow(digit, cmap=plt.cm.binary)\n",
        "plt.show()\n",
        "\n",
        "# realizamos predicciones con los 8 modelos diferentes iterando cada caso\n",
        "for i, (neurons, activation, optimizer) in enumerate(casos, 1):\n",
        "    print(f\"Caso {i}: Neuronas_capa_1={neurons}, Función de activación={activation}, Optimizador={optimizer}\")\n",
        "    model, history = models_and_histories[i - 1]\n",
        "    print(\"\\n\")\n",
        "\n",
        "    # hacemos la predicción ara la imagen de prueba(probabilidad de pertenecer a una clase)\n",
        "    prediction = model.predict(np.expand_dims(test_images[5], axis=0))\n",
        "\n",
        "    print(\"=Predicción del modelo=======================\")\n",
        "    print(prediction)\n",
        "    print(\"=Clase predicha (índice)=====================\")\n",
        "    predicted_class = np.argmax(prediction)\n",
        "    print(predicted_class)\n",
        "    print(\"=Probabilidad de clase predicha================\")\n",
        "    probability = prediction[0][predicted_class]\n",
        "    print(probability)\n",
        "    print(\"=============================================\\n\")\n"
      ],
      "metadata": {
        "colab": {
          "base_uri": "https://localhost:8080/",
          "height": 1000
        },
        "id": "MPLD1p6X3Cxz",
        "outputId": "bc87a69d-d756-4318-e7b8-6c634495bcfd"
      },
      "execution_count": 35,
      "outputs": [
        {
          "output_type": "display_data",
          "data": {
            "text/plain": [
              "<Figure size 640x480 with 1 Axes>"
            ],
            "image/png": "[encoded data removed]"
          },
          "metadata": {}
        },
        {
          "output_type": "stream",
          "name": "stdout",
          "text": [
            "Caso 1: Neuronas_capa_1=10, Función de activación=relu, Optimizador=sgd\n",
            "\n",
            "\n",
            "1/1 [==============================] - 0s 72ms/step\n",
            "=Predicción del modelo=======================\n",
            "[[5.7246606e-04 9.8806363e-01 9.8695082e-04 1.3313484e-03 8.9766840e-03\n",
            "  1.8894376e-10 6.6493471e-05 9.4048283e-07 1.4861587e-06 4.7253605e-09]]\n",
            "=Clase predicha (índice)=====================\n",
            "1\n",
            "=Probabilidad de clase predicha================\n",
            "0.98806363\n",
            "=============================================\n",
            "\n",
            "Caso 2: Neuronas_capa_1=10, Función de activación=relu, Optimizador=rmsprop\n",
            "\n",
            "\n",
            "1/1 [==============================] - 0s 75ms/step\n",
            "=Predicción del modelo=======================\n",
            "[[1.0554440e-03 9.9742198e-01 6.6347515e-05 9.8441727e-04 4.1370542e-04\n",
            "  2.3283622e-10 5.8041333e-05 9.3141597e-12 4.6770360e-08 3.5646576e-11]]\n",
            "=Clase predicha (índice)=====================\n",
            "1\n",
            "=Probabilidad de clase predicha================\n",
            "0.997422\n",
            "=============================================\n",
            "\n",
            "Caso 3: Neuronas_capa_1=10, Función de activación=sigmoid, Optimizador=sgd\n",
            "\n",
            "\n",
            "1/1 [==============================] - 0s 74ms/step\n",
            "=Predicción del modelo=======================\n",
            "[[0.11022136 0.62357724 0.04660439 0.08476206 0.05534826 0.0155371\n",
            "  0.05172003 0.00331789 0.00814772 0.00076403]]\n",
            "=Clase predicha (índice)=====================\n",
            "1\n",
            "=Probabilidad de clase predicha================\n",
            "0.62357724\n",
            "=============================================\n",
            "\n",
            "Caso 4: Neuronas_capa_1=10, Función de activación=sigmoid, Optimizador=rmsprop\n",
            "\n",
            "\n"
          ]
        },
        {
          "output_type": "stream",
          "name": "stderr",
          "text": [
            "WARNING:tensorflow:5 out of the last 317 calls to <function Model.make_predict_function.<locals>.predict_function at 0x78e7baa47520> triggered tf.function retracing. Tracing is expensive and the excessive number of tracings could be due to (1) creating @tf.function repeatedly in a loop, (2) passing tensors with different shapes, (3) passing Python objects instead of tensors. For (1), please define your @tf.function outside of the loop. For (2), @tf.function has reduce_retracing=True option that can avoid unnecessary retracing. For (3), please refer to https://www.tensorflow.org/guide/function#controlling_retracing and https://www.tensorflow.org/api_docs/python/tf/function for  more details.\n"
          ]
        },
        {
          "output_type": "stream",
          "name": "stdout",
          "text": [
            "1/1 [==============================] - 0s 69ms/step\n",
            "=Predicción del modelo=======================\n",
            "[[6.2081614e-04 9.4814998e-01 2.7189092e-03 9.0479571e-03 3.7930518e-02\n",
            "  1.4855036e-04 1.0274119e-03 1.3730292e-04 1.7885865e-04 3.9639857e-05]]\n",
            "=Clase predicha (índice)=====================\n",
            "1\n",
            "=Probabilidad de clase predicha================\n",
            "0.94815\n",
            "=============================================\n",
            "\n",
            "Caso 5: Neuronas_capa_1=512, Función de activación=relu, Optimizador=sgd\n",
            "\n",
            "\n"
          ]
        },
        {
          "output_type": "stream",
          "name": "stderr",
          "text": [
            "WARNING:tensorflow:6 out of the last 318 calls to <function Model.make_predict_function.<locals>.predict_function at 0x78e7baa46c20> triggered tf.function retracing. Tracing is expensive and the excessive number of tracings could be due to (1) creating @tf.function repeatedly in a loop, (2) passing tensors with different shapes, (3) passing Python objects instead of tensors. For (1), please define your @tf.function outside of the loop. For (2), @tf.function has reduce_retracing=True option that can avoid unnecessary retracing. For (3), please refer to https://www.tensorflow.org/guide/function#controlling_retracing and https://www.tensorflow.org/api_docs/python/tf/function for  more details.\n"
          ]
        },
        {
          "output_type": "stream",
          "name": "stdout",
          "text": [
            "1/1 [==============================] - 0s 75ms/step\n",
            "=Predicción del modelo=======================\n",
            "[[5.1767882e-03 9.8226464e-01 8.0681650e-04 1.2685187e-03 1.0145678e-02\n",
            "  5.9199920e-07 3.1554073e-04 1.7974666e-06 1.8544226e-05 1.0613551e-06]]\n",
            "=Clase predicha (índice)=====================\n",
            "1\n",
            "=Probabilidad de clase predicha================\n",
            "0.98226464\n",
            "=============================================\n",
            "\n",
            "Caso 6: Neuronas_capa_1=512, Función de activación=relu, Optimizador=rmsprop\n",
            "\n",
            "\n",
            "1/1 [==============================] - 0s 73ms/step\n",
            "=Predicción del modelo=======================\n",
            "[[2.5557872e-06 9.9999738e-01 2.5928329e-10 1.7718808e-08 7.9274400e-09\n",
            "  1.4708609e-12 7.4968817e-08 6.6478225e-13 1.3374039e-12 5.9940198e-13]]\n",
            "=Clase predicha (índice)=====================\n",
            "1\n",
            "=Probabilidad de clase predicha================\n",
            "0.9999974\n",
            "=============================================\n",
            "\n",
            "Caso 7: Neuronas_capa_1=512, Función de activación=sigmoid, Optimizador=sgd\n",
            "\n",
            "\n",
            "1/1 [==============================] - 0s 57ms/step\n",
            "=Predicción del modelo=======================\n",
            "[[1.9319585e-02 9.0688860e-01 7.4426937e-03 3.1270519e-02 2.3826478e-02\n",
            "  2.2546948e-04 1.0696668e-02 6.2439656e-05 2.2812615e-04 3.9400107e-05]]\n",
            "=Clase predicha (índice)=====================\n",
            "1\n",
            "=Probabilidad de clase predicha================\n",
            "0.9068886\n",
            "=============================================\n",
            "\n",
            "Caso 8: Neuronas_capa_1=512, Función de activación=sigmoid, Optimizador=rmsprop\n",
            "\n",
            "\n",
            "1/1 [==============================] - 0s 47ms/step\n",
            "=Predicción del modelo=======================\n",
            "[[9.3627709e-04 9.9840325e-01 2.3731947e-04 1.9625862e-04 1.5411511e-04\n",
            "  9.6610206e-11 6.4865555e-05 1.5138734e-07 7.7898248e-06 2.6594984e-09]]\n",
            "=Clase predicha (índice)=====================\n",
            "1\n",
            "=Probabilidad de clase predicha================\n",
            "0.99840325\n",
            "=============================================\n",
            "\n"
          ]
        }
      ]
    },
    {
      "cell_type": "markdown",
      "source": [
        "Cargamos datos de Fashion MNIST, realizamos predicciones con un modelo previamente entrenado y visualizamos las predicciones junto con las etiquetas reales para evaluar el rendimiento del modelo."
      ],
      "metadata": {
        "id": "PxyzWWgg-0vh"
      }
    },
    {
      "cell_type": "code",
      "source": [
        "# importamos bibliotemcas necesarias para los datos de visualización\n",
        "from keras.datasets import fashion_mnist\n",
        "import numpy as np\n",
        "import matplotlib.pyplot as plt\n",
        "\n",
        "# cargamos el conjunto de datos fashion_mnist(imagenes de prendas y sus categorias)\n",
        "(train_images, train_labels), (test_images, test_labels) = fashion_mnist.load_data()\n",
        "train_images = train_images.reshape((60000, 28 * 28))\n",
        "test_images = test_images.reshape((10000, 28 * 28))\n",
        "\n",
        "train_images = train_images.astype('float32') / 255\n",
        "test_images = test_images.astype('float32') / 255\n",
        "\n",
        "# realizamos predicciones en el conjunto de prueba usando el modelo ya entenado\n",
        "predictions = model.predict(test_images)\n",
        "\n",
        "# definimos funciones para ver las imagenes, etiquetas y predicciones\n",
        "def plot_image(i, predictions_array, true_labels, images):\n",
        "    plt.grid(False)\n",
        "    plt.xticks([])\n",
        "    plt.yticks([])\n",
        "\n",
        "    plt.imshow(images[i], cmap=plt.cm.binary)\n",
        "\n",
        "    predicted_label = np.argmax(predictions_array)\n",
        "    true_label = np.argmax(true_labels[i])\n",
        "\n",
        "    if predicted_label == true_label:\n",
        "        color = 'blue'\n",
        "    else:\n",
        "        color = 'red'\n",
        "\n",
        "    plt.xlabel(\"{} {:2.0f}% ({})\".format(predicted_label,\n",
        "                                100*np.max(predictions_array),\n",
        "                                true_label),\n",
        "                                color=color.strip())  # Eliminar espacios en blanco alrededor del color\n",
        "\n",
        "def plot_value_array(i, predictions_array, true_label):\n",
        "    predictions_array, true_label = predictions_array, true_label[i]\n",
        "    plt.grid(False)\n",
        "    plt.xticks(range(10))\n",
        "    plt.yticks([])\n",
        "    thisplot = plt.bar(range(10), predictions_array, color=\"#777777\")\n",
        "    plt.ylim([0, 1])\n",
        "    predicted_label = np.argmax(predictions_array)\n",
        "\n",
        "    thisplot[predicted_label].set_color('red')\n",
        "    thisplot[true_label].set_color('blue')\n",
        "\n",
        "# iteramos las 10 primeras imagenes que se muestran con sus etiquetas predichas y probabilidades de clasificación\n",
        "for i in range(10):\n",
        "    plt.figure(figsize=(6, 3))\n",
        "    plt.subplot(1, 2, 1)\n",
        "    plot_image(i, predictions[i], test_labels, test_images.reshape(10000, 28, 28))\n",
        "    plt.subplot(1, 2, 2)\n",
        "    plot_value_array(i, predictions[i], test_labels)\n",
        "    plt.show()\n",
        "    plt.clf()"
      ],
      "metadata": {
        "colab": {
          "base_uri": "https://localhost:8080/",
          "height": 1000
        },
        "id": "wv_8B0PW-9Zv",
        "outputId": "0cd6aab4-d750-4c86-c07b-ef59e94506d6"
      },
      "execution_count": 36,
      "outputs": [
        {
          "output_type": "stream",
          "name": "stdout",
          "text": [
            "313/313 [==============================] - 1s 2ms/step\n"
          ]
        },
        {
          "output_type": "display_data",
          "data": {
            "text/plain": [
              "<Figure size 600x300 with 2 Axes>"
            ],
            "image/png": "[encoded data removed]"
          },
          "metadata": {}
        },
        {
          "output_type": "display_data",
          "data": {
            "text/plain": [
              "<Figure size 640x480 with 0 Axes>"
            ]
          },
          "metadata": {}
        },
        {
          "output_type": "display_data",
          "data": {
            "text/plain": [
              "<Figure size 600x300 with 2 Axes>"
            ],
            "image/png": "[encoded data removed]"
          },
          "metadata": {}
        },
        {
          "output_type": "display_data",
          "data": {
            "text/plain": [
              "<Figure size 640x480 with 0 Axes>"
            ]
          },
          "metadata": {}
        },
        {
          "output_type": "display_data",
          "data": {
            "text/plain": [
              "<Figure size 600x300 with 2 Axes>"
            ],
            "image/png": "[encoded data removed]"
          },
          "metadata": {}
        },
        {
          "output_type": "display_data",
          "data": {
            "text/plain": [
              "<Figure size 640x480 with 0 Axes>"
            ]
          },
          "metadata": {}
        },
        {
          "output_type": "display_data",
          "data": {
            "text/plain": [
              "<Figure size 600x300 with 2 Axes>"
            ],
            "image/png": "[encoded data removed]"
          },
          "metadata": {}
        },
        {
          "output_type": "display_data",
          "data": {
            "text/plain": [
              "<Figure size 640x480 with 0 Axes>"
            ]
          },
          "metadata": {}
        },
        {
          "output_type": "display_data",
          "data": {
            "text/plain": [
              "<Figure size 600x300 with 2 Axes>"
            ],
            "image/png": "[encoded data removed]"
          },
          "metadata": {}
        },
        {
          "output_type": "display_data",
          "data": {
            "text/plain": [
              "<Figure size 640x480 with 0 Axes>"
            ]
          },
          "metadata": {}
        },
        {
          "output_type": "display_data",
          "data": {
            "text/plain": [
              "<Figure size 600x300 with 2 Axes>"
            ],
            "image/png": "[encoded data removed]"
          },
          "metadata": {}
        },
        {
          "output_type": "display_data",
          "data": {
            "text/plain": [
              "<Figure size 640x480 with 0 Axes>"
            ]
          },
          "metadata": {}
        },
        {
          "output_type": "display_data",
          "data": {
            "text/plain": [
              "<Figure size 600x300 with 2 Axes>"
            ],
            "image/png": "[encoded data removed]"
          },
          "metadata": {}
        },
        {
          "output_type": "display_data",
          "data": {
            "text/plain": [
              "<Figure size 640x480 with 0 Axes>"
            ]
          },
          "metadata": {}
        },
        {
          "output_type": "display_data",
          "data": {
            "text/plain": [
              "<Figure size 600x300 with 2 Axes>"
            ],
            "image/png": "[encoded data removed]"
          },
          "metadata": {}
        },
        {
          "output_type": "display_data",
          "data": {
            "text/plain": [
              "<Figure size 640x480 with 0 Axes>"
            ]
          },
          "metadata": {}
        },
        {
          "output_type": "display_data",
          "data": {
            "text/plain": [
              "<Figure size 600x300 with 2 Axes>"
            ],
            "image/png": "[encoded data removed]"
          },
          "metadata": {}
        },
        {
          "output_type": "display_data",
          "data": {
            "text/plain": [
              "<Figure size 640x480 with 0 Axes>"
            ]
          },
          "metadata": {}
        },
        {
          "output_type": "display_data",
          "data": {
            "text/plain": [
              "<Figure size 600x300 with 2 Axes>"
            ],
            "image/png": "[encoded data removed]"
          },
          "metadata": {}
        },
        {
          "output_type": "display_data",
          "data": {
            "text/plain": [
              "<Figure size 640x480 with 0 Axes>"
            ]
          },
          "metadata": {}
        }
      ]
    },
    {
      "cell_type": "markdown",
      "source": [
        "En este paso, mejoramos nuestro modelo mediante la utilización del optimizador \"adam\" y la función de perdida \"sparse_categorical_crossentropy\", cambios que pueden afectar en el rendimiento.\n",
        "\n",
        "Por ultimo, entrenamos el modelo con las configuraciones y cambios actualizam¡dos para ver su eficacia."
      ],
      "metadata": {
        "id": "5t7v4z1JGWX1"
      }
    },
    {
      "cell_type": "code",
      "source": [
        "from keras.optimizers import Adam\n",
        "\n",
        "# función que crea y entrena un modelo de red neuronal con una configuración específica\n",
        "def modelo_entrenamiento_optimizador_adam(neurons, activation):\n",
        "    model = models.Sequential()\n",
        "    model.add(layers.Dense(neurons, activation=activation, input_shape=(28*28,)))\n",
        "    model.add(layers.Dense(10, activation='softmax'))\n",
        "\n",
        "    optimizer = Adam(learning_rate=0.001) # configuramos el optimizador con 0.001 como tasa de aprendizaje\n",
        "\n",
        "    model.compile(optimizer=optimizer,\n",
        "                  loss='sparse_categorical_crossentropy',  # selecionamos la función de pérdida\n",
        "                  metrics=['accuracy'])\n",
        "    # compilamos y entrenamos el modelo(5 épocas, lote 64, 20% datos validación)\n",
        "    history = model.fit(train_images, train_labels, epochs=5, batch_size=64, validation_split=0.2)\n",
        "    return model, history\n",
        "\n",
        "neurons = 10\n",
        "activation = 'sigmoid'\n",
        "# se devuelve el modelo entrenado junto con su hsitorial de entrenamiento\n",
        "model, history = modelo_entrenamiento_optimizador_adam(neurons, activation)\n",
        "model.summary()"
      ],
      "metadata": {
        "colab": {
          "base_uri": "https://localhost:8080/"
        },
        "id": "lX0AK0aSI4RO",
        "outputId": "7b314581-25bd-4f5e-e497-f7de56448639"
      },
      "execution_count": 38,
      "outputs": [
        {
          "output_type": "stream",
          "name": "stdout",
          "text": [
            "Epoch 1/5\n",
            "750/750 [==============================] - 5s 5ms/step - loss: 1.3157 - accuracy: 0.6304 - val_loss: 0.9040 - val_accuracy: 0.7430\n",
            "Epoch 2/5\n",
            "750/750 [==============================] - 3s 4ms/step - loss: 0.7777 - accuracy: 0.7648 - val_loss: 0.6855 - val_accuracy: 0.7837\n",
            "Epoch 3/5\n",
            "750/750 [==============================] - 3s 4ms/step - loss: 0.6274 - accuracy: 0.8067 - val_loss: 0.5819 - val_accuracy: 0.8167\n",
            "Epoch 4/5\n",
            "750/750 [==============================] - 3s 4ms/step - loss: 0.5478 - accuracy: 0.8275 - val_loss: 0.5275 - val_accuracy: 0.8275\n",
            "Epoch 5/5\n",
            "750/750 [==============================] - 3s 4ms/step - loss: 0.5012 - accuracy: 0.8367 - val_loss: 0.4950 - val_accuracy: 0.8355\n",
            "Model: \"sequential_24\"\n",
            "_________________________________________________________________\n",
            " Layer (type)                Output Shape              Param #   \n",
            "=================================================================\n",
            " dense_48 (Dense)            (None, 10)                7850      \n",
            "                                                                 \n",
            " dense_49 (Dense)            (None, 10)                110       \n",
            "                                                                 \n",
            "=================================================================\n",
            "Total params: 7960 (31.09 KB)\n",
            "Trainable params: 7960 (31.09 KB)\n",
            "Non-trainable params: 0 (0.00 Byte)\n",
            "_________________________________________________________________\n"
          ]
        }
      ]
    },
    {
      "cell_type": "markdown",
      "source": [
        "En el transcurso de 5 épocas, comprobamos cómo la función de pérdida (loss) disminuye, y la precisión (accuracy) aumenta en los datos de entrenamiento y en el conjunto de validación, lo que significa que el modelo está aprendiendo y generaliza bien a datos no vistos.\n",
        "\n",
        "La función de pérdida utilizada es adecuada para problemas de clasificación con muchas clases, como en este caso. La disminución constante de la pérdida y el aumento de la precisión son indicadores positivos de que la elección de esta función de pérdida es la elegida cprrectamente en este tipo de problema."
      ],
      "metadata": {
        "id": "01ihXtsiv8Ey"
      }
    },
    {
      "cell_type": "markdown",
      "source": [
        "# Conclusión\n",
        "\n",
        "En este trabajo, utilizamos Keras, una biblioteca de Phyton que simplifica la creación y entrenamiento de redes neuronales profundas. Nuestro objetivo ha sido desarrollar un modelo para identificar distintas prendas en imágenes a partir del conjunto de datos Fashion-MNIST.\n",
        "\n",
        "En cuanto al proceso, incluimos la importación de datos, la preparación de estos datos, y la configuración y entrenamiento de diferentes modelos. Probamos con distintas opciones, como la cantidad de neuronas ocultas, las funciones de activación y los optimizadores, para entender cómo afectan al rendimiento de nuestros modelos.                                                        \n",
        "\n",
        "Identificamos mejores configuraciones, evaluamos con visualización y matrices de confusión. Exploramos \"Adam\" y sparse_categorical_crossentropy\" para mejorar el rendimiento.\n",
        "\n",
        "En cuanto al trabajo en equipo, nos dividimos las tareas. Una importaba y preparaba los datos, mientras que otra exploraba distintos modelos de IA. Trabajamos juntas y compartimos nuestras experiencias, haciendo prácticamente todo el trabajo a la vez. Al final, logramos nuestros objetivos."
      ],
      "metadata": {
        "id": "_yM5yv1AxgHW"
      }
    }
  ]
}