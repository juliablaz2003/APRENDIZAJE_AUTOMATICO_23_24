{
  "nbformat": 4,
  "nbformat_minor": 0,
  "metadata": {
    "colab": {
      "provenance": [],
      "gpuType": "T4",
      "authorship_tag": "ABX9TyOamXMVrnCSt9PIQ47KR2AX",
      "include_colab_link": true
    },
    "kernelspec": {
      "name": "python3",
      "display_name": "Python 3"
    },
    "language_info": {
      "name": "python"
    },
    "accelerator": "GPU"
  },
  "cells": [
    {
      "cell_type": "markdown",
      "metadata": {
        "id": "view-in-github",
        "colab_type": "text"
      },
      "source": [
        "<a href=\"https://colab.research.google.com/github/juliablaz2003/APRENDIZAJE_AUTOMATICO_23_24/blob/main/PRACTICA1.ipynb\" target=\"_parent\"><img src=\"https://colab.research.google.com/assets/colab-badge.svg\" alt=\"Open In Colab\"/></a>"
      ]
    },
    {
      "cell_type": "markdown",
      "source": [
        "# GRUPO B01\n",
        "## Julia Callaba Blázquez\n",
        "## Ines Agudo"
      ],
      "metadata": {
        "id": "8GJWynpvbQeF"
      }
    },
    {
      "cell_type": "markdown",
      "source": [
        "Con la importación de Keras simplificamos la creación y entrenamiento de redes neuronales para resolver problemas de aprendizaje profundo,  además de proporcionarnos una interfaz de alto nivel que ahorra tiempo al definir modelos y entrenarlos más fácil."
      ],
      "metadata": {
        "id": "K_LBGAmuLtz0"
      }
    },
    {
      "cell_type": "markdown",
      "source": [
        "En este trabajo, se desarrollará un modelo de Red de Neuronas Artificiales utilizando Keras para reconocer y clasificar diferentes tipos de ropa en imágenes. El proceso incluirá la definición, configuración, entrenamiento, evaluación y mejora del modelo, que se aplicará al conjunto de datos Fashion-MNIST. Este conjunto de datos consiste en imágenes de prendas de ropa en baja resolución y escala de grises, con 70,000 imágenes en 10 categorías. De estas, 60,000 se usarán para el entrenamiento y 10,000 para evaluar la precisión del modelo en la clasificación de las imágenes."
      ],
      "metadata": {
        "id": "qytesX8kJgRG"
      }
    },
    {
      "cell_type": "markdown",
      "source": [
        "(El entorno de ejecución ha sido cambiado de CPU a T4GPU)"
      ],
      "metadata": {
        "id": "BOPPfZMiL2t4"
      }
    },
    {
      "cell_type": "code",
      "source": [
        "# poner todas las librerias"
      ],
      "metadata": {
        "id": "Jwjr_QhZMmWg"
      },
      "execution_count": 18,
      "outputs": []
    },
    {
      "cell_type": "markdown",
      "source": [
        "Empezamos importando Keras y utilizamos las versión 2.13 de tensorflow."
      ],
      "metadata": {
        "id": "Wjxc1PTaM450"
      }
    },
    {
      "cell_type": "code",
      "execution_count": 19,
      "metadata": {
        "colab": {
          "base_uri": "https://localhost:8080/"
        },
        "id": "WILjxR_nbNrC",
        "outputId": "49331c2f-a993-434b-b0f0-89cb0af2b977"
      },
      "outputs": [
        {
          "output_type": "stream",
          "name": "stdout",
          "text": [
            "Colab only includes TensorFlow 2.x; %tensorflow_version has no effect.\n",
            "GPU Available: [PhysicalDevice(name='/physical_device:GPU:0', device_type='GPU')]\n",
            "2.13.0\n"
          ]
        }
      ],
      "source": [
        "# 1.- IMPORTAMOS KERAS\n",
        "%tensorflow_version 2.x\n",
        "import tensorflow as tf\n",
        "from tensorflow import keras\n",
        "print(\"GPU Available:\", tf.config.list_physical_devices('GPU'))\n",
        "print(tf.__version__)"
      ]
    },
    {
      "cell_type": "markdown",
      "source": [
        "Cargamos el conjunto de datos fashion_mnist en keras."
      ],
      "metadata": {
        "id": "ero9LPX4c-Ke"
      }
    },
    {
      "cell_type": "code",
      "source": [
        "# 2.- CARGAMOS EL CONJUNTO DE DATOS FASHION_MNIST EN KERAS\n",
        "from keras.datasets import fashion_mnist # se importan los datos de fashion_mnist desde keras\n",
        "(train_images, train_labels), (test_images, test_labels) = fashion_mnist.load_data() # descargamos todos los datos\n",
        "# train_images y train_labels representan las imágenes y sus etiquetas que se utilizan para enseñar al modelo durante el entrenamiento, en el\n",
        "# caso de test_images y test_labels  evaluan la precisión del modelo después de haber sido entrenado."
      ],
      "metadata": {
        "id": "hFIQ4n4dc9Av"
      },
      "execution_count": 43,
      "outputs": []
    },
    {
      "cell_type": "markdown",
      "source": [
        "Mostramos los datos de entrenamiento."
      ],
      "metadata": {
        "id": "UB6_i4pdP1S-"
      }
    },
    {
      "cell_type": "code",
      "source": [
        "print(train_images.shape)"
      ],
      "metadata": {
        "colab": {
          "base_uri": "https://localhost:8080/"
        },
        "id": "6ych7PZ7fNKp",
        "outputId": "60475e12-e930-409f-afbe-136f9c339dc1"
      },
      "execution_count": 21,
      "outputs": [
        {
          "output_type": "stream",
          "name": "stdout",
          "text": [
            "(60000, 28, 28)\n"
          ]
        }
      ]
    },
    {
      "cell_type": "markdown",
      "source": [
        "Preparacion de datos: Mostramos las dimensiones de las imagenes de entrenamiento y prueba, las aplanamos con la función pedida (keras.layers.Flatten) y mostramos las nuevas dimensiones de los conjuntos aplanados, lo que facilitara el proceso de entrenamiento."
      ],
      "metadata": {
        "id": "4HhQFT3vgVup"
      }
    },
    {
      "cell_type": "markdown",
      "source": [
        "\"Flatten\" simplifica datos de imágenes, facilitando la clasificación eficiente en problemas de aprendizaje profundo, en este caso convierte imagenes 2D en 1D."
      ],
      "metadata": {
        "id": "mFb4iOLkUHaG"
      }
    },
    {
      "cell_type": "code",
      "source": [
        "# Mostramos las dimensiones de las imagenes, y cuantas hay en cada conjunto (comentario primeras 4 lineas)\n",
        "print(\"Forma de las imágenes de entrenamiento:\", train_images.shape)\n",
        "print(\"Forma de las etiquetas de entrenamiento:\", train_labels.shape)\n",
        "print(\"Forma de las imágenes de prueba:\", test_images.shape)\n",
        "print(\"Forma de las etiquetas de prueba:\", test_labels.shape)\n",
        "\n",
        "# Importamos \"flatten\" pedida en el enunciado, para aplanar las imagenes\n",
        "from keras.layers import Flatten\n",
        "\n",
        "train_images_flat = train_images.reshape((train_images.shape[0], -1))\n",
        "\n",
        "test_images_flat = test_images.reshape((test_images.shape[0], -1))\n",
        "\n",
        "# Mostramos las nuevas dimensiones de los conjuntos de datos aplanados\n",
        "print(\"\\nForma de las imágenes de entrenamiento aplanadas:\", train_images_flat.shape)\n",
        "print(\"Forma de las imágenes de prueba aplanadas:\", test_images_flat.shape)"
      ],
      "metadata": {
        "colab": {
          "base_uri": "https://localhost:8080/"
        },
        "id": "FB2q-OAQgBtt",
        "outputId": "4bac3847-0c53-4800-d1e4-b3e4e2098d18"
      },
      "execution_count": 29,
      "outputs": [
        {
          "output_type": "stream",
          "name": "stdout",
          "text": [
            "Forma de las imágenes de entrenamiento: (60000, 28, 28)\n",
            "Forma de las etiquetas de entrenamiento: (60000,)\n",
            "Forma de las imágenes de prueba: (10000, 28, 28)\n",
            "Forma de las etiquetas de prueba: (10000,)\n",
            "\n",
            "Forma de las imágenes de entrenamiento aplanadas: (60000, 784)\n",
            "Forma de las imágenes de prueba aplanadas: (10000, 784)\n"
          ]
        }
      ]
    },
    {
      "cell_type": "markdown",
      "source": [
        "# CUESTIONES PARA IMPLEMENTAR Y RESPONDER"
      ],
      "metadata": {
        "id": "zG5SFN6EhOwr"
      }
    },
    {
      "cell_type": "markdown",
      "source": [
        "Con la biblioteca keras definimos, configuramos y entrenamos los modelos de redes neuronales con distintas configuraciones. Estos, se evalúan y entrenan en el conjunto de datos fashion MNIST para clasificar imágenes de moda, encontrando asi la mejor configuración del modelo para el problema"
      ],
      "metadata": {
        "id": "qcuxAVvBhbSF"
      }
    },
    {
      "cell_type": "code",
      "source": [
        "# importamos las bibliotecas necesarias.\n",
        "from keras import models\n",
        "from keras import layers\n",
        "from keras.datasets import fashion_mnist\n",
        "from keras.utils import to_categorical\n",
        "\n",
        "# cargamos los datos de fashion_mnist que contiene imágenes en blanco y negro (entreamiento y prueba).\n",
        "(train_images, train_labels), (test_images, test_labels) = fashion_mnist.load_data()\n",
        "\n",
        "# transformación de las imágenes para que la red neuronal las entienda mejor. (transformando las imágenes en un formato unidimensional y\n",
        "# asegurándose de que los valores de los píxeles estén en un rango de 0 a 1)\n",
        "\n",
        "# se transforman las etiquetas de entrenamiento en vectores \"one-hot encoding\" para su uso en problemas de clasificación.\n",
        "train_images = train_images.reshape((60000, 28 * 28))\n",
        "train_images = train_images.astype('float32') / 255\n",
        "test_images = test_images.reshape((10000, 28 * 28))\n",
        "test_images = test_images.astype('float32') / 255\n",
        "train_labels = to_categorical(train_labels)\n",
        "test_labels = to_categorical(test_labels)\n",
        "\n",
        "# se define una función llamada modelo_entrenamiento para crear y entrenar modelos de redes neuronales.\n",
        "def modelo_entrenamiento(neurons, activation, optimizer):\n",
        "    model = models.Sequential()\n",
        "    model.add(layers.Dense(neurons, activation=activation, input_shape=(28*28,)))\n",
        "    model.add(layers.Dense(10, activation='softmax'))\n",
        "\n",
        "    model.compile(optimizer=optimizer,\n",
        "                  loss='categorical_crossentropy',\n",
        "                  metrics=['accuracy'])\n",
        "\n",
        "    history = model.fit(train_images, train_labels, epochs=5, batch_size=64, validation_split=0.2)\n",
        "    return model, history\n",
        "\n",
        "# configuramos los 8 casos diferentes mediante una lista, variando el número de neuronas en la capa oculta, la función de activación y el\n",
        "# optimizador usado.\n",
        "models_and_histories = []\n",
        "\n",
        "casos = [\n",
        "    (10, 'relu', 'sgd'),\n",
        "    (10, 'relu', 'rmsprop'),\n",
        "    (10, 'sigmoid', 'sgd'),\n",
        "    (10, 'sigmoid', 'rmsprop'),\n",
        "    (512, 'relu', 'sgd'),\n",
        "    (512, 'relu', 'rmsprop'),\n",
        "    (512, 'sigmoid', 'sgd'),\n",
        "    (512, 'sigmoid', 'rmsprop')\n",
        "]\n",
        "\n",
        "# en el siguiente bucle iteramos sobre cada configuración de modelo y mostramos la información.\n",
        "for i, (neurons, activation, optimizer) in enumerate(casos, 1):\n",
        "    print(f\"Caso {i}: Neuronas_capa_1={neurons}, Función de activación={activation}, Optimizador={optimizer}\")\n",
        "    # entrenamos cada uno empleando los datos de entrenamiento.\n",
        "    model, history = train_model(neurons, activation, optimizer)\n",
        "    models_and_histories.append((model, history))\n",
        "    model = models_and_histories[i - 1][0]\n",
        "    model.summary() # imprimimos un resumen de cada modelo\n",
        "    print(\"\\n\")"
      ],
      "metadata": {
        "colab": {
          "base_uri": "https://localhost:8080/"
        },
        "id": "vp6lLab8k0kc",
        "outputId": "5eb51117-dc4a-48ad-a061-715122d8c253"
      },
      "execution_count": 30,
      "outputs": [
        {
          "output_type": "stream",
          "name": "stdout",
          "text": [
            "Caso 1: Neuronas_capa_1=10, Función de activación=relu, Optimizador=sgd\n",
            "Epoch 1/5\n",
            "750/750 [==============================] - 3s 3ms/step - loss: 1.2383 - accuracy: 0.5737 - val_loss: 0.8265 - val_accuracy: 0.7080\n",
            "Epoch 2/5\n",
            "750/750 [==============================] - 3s 3ms/step - loss: 0.7435 - accuracy: 0.7387 - val_loss: 0.6722 - val_accuracy: 0.7707\n",
            "Epoch 3/5\n",
            "750/750 [==============================] - 2s 3ms/step - loss: 0.6379 - accuracy: 0.7836 - val_loss: 0.6022 - val_accuracy: 0.7918\n",
            "Epoch 4/5\n",
            "750/750 [==============================] - 3s 4ms/step - loss: 0.5837 - accuracy: 0.8026 - val_loss: 0.5679 - val_accuracy: 0.8029\n",
            "Epoch 5/5\n",
            "750/750 [==============================] - 3s 3ms/step - loss: 0.5496 - accuracy: 0.8120 - val_loss: 0.5377 - val_accuracy: 0.8142\n",
            "Model: \"sequential_19\"\n",
            "_________________________________________________________________\n",
            " Layer (type)                Output Shape              Param #   \n",
            "=================================================================\n",
            " dense_38 (Dense)            (None, 10)                7850      \n",
            "                                                                 \n",
            " dense_39 (Dense)            (None, 10)                110       \n",
            "                                                                 \n",
            "=================================================================\n",
            "Total params: 7960 (31.09 KB)\n",
            "Trainable params: 7960 (31.09 KB)\n",
            "Non-trainable params: 0 (0.00 Byte)\n",
            "_________________________________________________________________\n",
            "\n",
            "\n",
            "Caso 2: Neuronas_capa_1=10, Función de activación=relu, Optimizador=rmsprop\n",
            "Epoch 1/5\n",
            "750/750 [==============================] - 4s 4ms/step - loss: 0.7928 - accuracy: 0.7252 - val_loss: 0.5650 - val_accuracy: 0.8074\n",
            "Epoch 2/5\n",
            "750/750 [==============================] - 3s 4ms/step - loss: 0.4977 - accuracy: 0.8278 - val_loss: 0.4713 - val_accuracy: 0.8357\n",
            "Epoch 3/5\n",
            "750/750 [==============================] - 3s 3ms/step - loss: 0.4560 - accuracy: 0.8405 - val_loss: 0.4608 - val_accuracy: 0.8400\n",
            "Epoch 4/5\n",
            "750/750 [==============================] - 2s 3ms/step - loss: 0.4343 - accuracy: 0.8481 - val_loss: 0.4412 - val_accuracy: 0.8466\n",
            "Epoch 5/5\n",
            "750/750 [==============================] - 3s 4ms/step - loss: 0.4216 - accuracy: 0.8523 - val_loss: 0.4446 - val_accuracy: 0.8439\n",
            "Model: \"sequential_20\"\n",
            "_________________________________________________________________\n",
            " Layer (type)                Output Shape              Param #   \n",
            "=================================================================\n",
            " dense_40 (Dense)            (None, 10)                7850      \n",
            "                                                                 \n",
            " dense_41 (Dense)            (None, 10)                110       \n",
            "                                                                 \n",
            "=================================================================\n",
            "Total params: 7960 (31.09 KB)\n",
            "Trainable params: 7960 (31.09 KB)\n",
            "Non-trainable params: 0 (0.00 Byte)\n",
            "_________________________________________________________________\n",
            "\n",
            "\n",
            "Caso 3: Neuronas_capa_1=10, Función de activación=sigmoid, Optimizador=sgd\n",
            "Epoch 1/5\n",
            "750/750 [==============================] - 3s 4ms/step - loss: 2.0460 - accuracy: 0.3467 - val_loss: 1.8292 - val_accuracy: 0.4762\n",
            "Epoch 2/5\n",
            "750/750 [==============================] - 3s 3ms/step - loss: 1.6783 - accuracy: 0.5280 - val_loss: 1.5420 - val_accuracy: 0.6036\n",
            "Epoch 3/5\n",
            "750/750 [==============================] - 2s 3ms/step - loss: 1.4433 - accuracy: 0.6215 - val_loss: 1.3478 - val_accuracy: 0.6497\n",
            "Epoch 4/5\n",
            "750/750 [==============================] - 3s 4ms/step - loss: 1.2793 - accuracy: 0.6499 - val_loss: 1.2079 - val_accuracy: 0.6597\n",
            "Epoch 5/5\n",
            "750/750 [==============================] - 3s 4ms/step - loss: 1.1581 - accuracy: 0.6607 - val_loss: 1.1007 - val_accuracy: 0.6768\n",
            "Model: \"sequential_21\"\n",
            "_________________________________________________________________\n",
            " Layer (type)                Output Shape              Param #   \n",
            "=================================================================\n",
            " dense_42 (Dense)            (None, 10)                7850      \n",
            "                                                                 \n",
            " dense_43 (Dense)            (None, 10)                110       \n",
            "                                                                 \n",
            "=================================================================\n",
            "Total params: 7960 (31.09 KB)\n",
            "Trainable params: 7960 (31.09 KB)\n",
            "Non-trainable params: 0 (0.00 Byte)\n",
            "_________________________________________________________________\n",
            "\n",
            "\n",
            "Caso 4: Neuronas_capa_1=10, Función de activación=sigmoid, Optimizador=rmsprop\n",
            "Epoch 1/5\n",
            "750/750 [==============================] - 4s 4ms/step - loss: 1.2708 - accuracy: 0.6622 - val_loss: 0.8648 - val_accuracy: 0.7627\n",
            "Epoch 2/5\n",
            "750/750 [==============================] - 2s 3ms/step - loss: 0.7121 - accuracy: 0.7976 - val_loss: 0.6112 - val_accuracy: 0.8082\n",
            "Epoch 3/5\n",
            "750/750 [==============================] - 3s 4ms/step - loss: 0.5556 - accuracy: 0.8246 - val_loss: 0.5260 - val_accuracy: 0.8248\n",
            "Epoch 4/5\n",
            "750/750 [==============================] - 2s 3ms/step - loss: 0.4955 - accuracy: 0.8355 - val_loss: 0.4872 - val_accuracy: 0.8344\n",
            "Epoch 5/5\n",
            "750/750 [==============================] - 3s 3ms/step - loss: 0.4648 - accuracy: 0.8431 - val_loss: 0.4640 - val_accuracy: 0.8372\n",
            "Model: \"sequential_22\"\n",
            "_________________________________________________________________\n",
            " Layer (type)                Output Shape              Param #   \n",
            "=================================================================\n",
            " dense_44 (Dense)            (None, 10)                7850      \n",
            "                                                                 \n",
            " dense_45 (Dense)            (None, 10)                110       \n",
            "                                                                 \n",
            "=================================================================\n",
            "Total params: 7960 (31.09 KB)\n",
            "Trainable params: 7960 (31.09 KB)\n",
            "Non-trainable params: 0 (0.00 Byte)\n",
            "_________________________________________________________________\n",
            "\n",
            "\n",
            "Caso 5: Neuronas_capa_1=512, Función de activación=relu, Optimizador=sgd\n",
            "Epoch 1/5\n",
            "750/750 [==============================] - 3s 4ms/step - loss: 0.8956 - accuracy: 0.7218 - val_loss: 0.6410 - val_accuracy: 0.7926\n",
            "Epoch 2/5\n",
            "750/750 [==============================] - 3s 4ms/step - loss: 0.5910 - accuracy: 0.8092 - val_loss: 0.5533 - val_accuracy: 0.8161\n",
            "Epoch 3/5\n",
            "750/750 [==============================] - 2s 3ms/step - loss: 0.5277 - accuracy: 0.8250 - val_loss: 0.5118 - val_accuracy: 0.8292\n",
            "Epoch 4/5\n",
            "750/750 [==============================] - 2s 3ms/step - loss: 0.4944 - accuracy: 0.8343 - val_loss: 0.4895 - val_accuracy: 0.8313\n",
            "Epoch 5/5\n",
            "750/750 [==============================] - 3s 3ms/step - loss: 0.4724 - accuracy: 0.8393 - val_loss: 0.4693 - val_accuracy: 0.8397\n",
            "Model: \"sequential_23\"\n",
            "_________________________________________________________________\n",
            " Layer (type)                Output Shape              Param #   \n",
            "=================================================================\n",
            " dense_46 (Dense)            (None, 512)               401920    \n",
            "                                                                 \n",
            " dense_47 (Dense)            (None, 10)                5130      \n",
            "                                                                 \n",
            "=================================================================\n",
            "Total params: 407050 (1.55 MB)\n",
            "Trainable params: 407050 (1.55 MB)\n",
            "Non-trainable params: 0 (0.00 Byte)\n",
            "_________________________________________________________________\n",
            "\n",
            "\n",
            "Caso 6: Neuronas_capa_1=512, Función de activación=relu, Optimizador=rmsprop\n",
            "Epoch 1/5\n",
            "750/750 [==============================] - 5s 5ms/step - loss: 0.5334 - accuracy: 0.8080 - val_loss: 0.4112 - val_accuracy: 0.8490\n",
            "Epoch 2/5\n",
            "750/750 [==============================] - 2s 3ms/step - loss: 0.3779 - accuracy: 0.8627 - val_loss: 0.3653 - val_accuracy: 0.8728\n",
            "Epoch 3/5\n",
            "750/750 [==============================] - 3s 3ms/step - loss: 0.3360 - accuracy: 0.8765 - val_loss: 0.3571 - val_accuracy: 0.8755\n",
            "Epoch 4/5\n",
            "750/750 [==============================] - 3s 4ms/step - loss: 0.3125 - accuracy: 0.8859 - val_loss: 0.3415 - val_accuracy: 0.8757\n",
            "Epoch 5/5\n",
            "750/750 [==============================] - 3s 4ms/step - loss: 0.2938 - accuracy: 0.8921 - val_loss: 0.3693 - val_accuracy: 0.8687\n",
            "Model: \"sequential_24\"\n",
            "_________________________________________________________________\n",
            " Layer (type)                Output Shape              Param #   \n",
            "=================================================================\n",
            " dense_48 (Dense)            (None, 512)               401920    \n",
            "                                                                 \n",
            " dense_49 (Dense)            (None, 10)                5130      \n",
            "                                                                 \n",
            "=================================================================\n",
            "Total params: 407050 (1.55 MB)\n",
            "Trainable params: 407050 (1.55 MB)\n",
            "Non-trainable params: 0 (0.00 Byte)\n",
            "_________________________________________________________________\n",
            "\n",
            "\n",
            "Caso 7: Neuronas_capa_1=512, Función de activación=sigmoid, Optimizador=sgd\n",
            "Epoch 1/5\n",
            "750/750 [==============================] - 3s 4ms/step - loss: 1.5058 - accuracy: 0.6250 - val_loss: 1.0719 - val_accuracy: 0.7210\n",
            "Epoch 2/5\n",
            "750/750 [==============================] - 2s 3ms/step - loss: 0.9396 - accuracy: 0.7294 - val_loss: 0.8307 - val_accuracy: 0.7415\n",
            "Epoch 3/5\n",
            "750/750 [==============================] - 2s 3ms/step - loss: 0.7871 - accuracy: 0.7489 - val_loss: 0.7360 - val_accuracy: 0.7567\n",
            "Epoch 4/5\n",
            "750/750 [==============================] - 2s 3ms/step - loss: 0.7144 - accuracy: 0.7609 - val_loss: 0.6809 - val_accuracy: 0.7667\n",
            "Epoch 5/5\n",
            "750/750 [==============================] - 3s 4ms/step - loss: 0.6699 - accuracy: 0.7722 - val_loss: 0.6497 - val_accuracy: 0.7770\n",
            "Model: \"sequential_25\"\n",
            "_________________________________________________________________\n",
            " Layer (type)                Output Shape              Param #   \n",
            "=================================================================\n",
            " dense_50 (Dense)            (None, 512)               401920    \n",
            "                                                                 \n",
            " dense_51 (Dense)            (None, 10)                5130      \n",
            "                                                                 \n",
            "=================================================================\n",
            "Total params: 407050 (1.55 MB)\n",
            "Trainable params: 407050 (1.55 MB)\n",
            "Non-trainable params: 0 (0.00 Byte)\n",
            "_________________________________________________________________\n",
            "\n",
            "\n",
            "Caso 8: Neuronas_capa_1=512, Función de activación=sigmoid, Optimizador=rmsprop\n",
            "Epoch 1/5\n",
            "750/750 [==============================] - 3s 4ms/step - loss: 0.5771 - accuracy: 0.7958 - val_loss: 0.4451 - val_accuracy: 0.8359\n",
            "Epoch 2/5\n",
            "750/750 [==============================] - 3s 4ms/step - loss: 0.4319 - accuracy: 0.8430 - val_loss: 0.4241 - val_accuracy: 0.8481\n",
            "Epoch 3/5\n",
            "750/750 [==============================] - 2s 3ms/step - loss: 0.3926 - accuracy: 0.8579 - val_loss: 0.3911 - val_accuracy: 0.8618\n",
            "Epoch 4/5\n",
            "750/750 [==============================] - 3s 4ms/step - loss: 0.3656 - accuracy: 0.8664 - val_loss: 0.4068 - val_accuracy: 0.8470\n",
            "Epoch 5/5\n",
            "750/750 [==============================] - 3s 4ms/step - loss: 0.3459 - accuracy: 0.8749 - val_loss: 0.3593 - val_accuracy: 0.8707\n",
            "Model: \"sequential_26\"\n",
            "_________________________________________________________________\n",
            " Layer (type)                Output Shape              Param #   \n",
            "=================================================================\n",
            " dense_52 (Dense)            (None, 512)               401920    \n",
            "                                                                 \n",
            " dense_53 (Dense)            (None, 10)                5130      \n",
            "                                                                 \n",
            "=================================================================\n",
            "Total params: 407050 (1.55 MB)\n",
            "Trainable params: 407050 (1.55 MB)\n",
            "Non-trainable params: 0 (0.00 Byte)\n",
            "_________________________________________________________________\n",
            "\n",
            "\n"
          ]
        }
      ]
    },
    {
      "cell_type": "markdown",
      "source": [
        "Cada caso incluye dos capas: una oculta y una de salida. La capa oculta varía en el número de neuronas y la función de activación, mientras que la de salida tiene de 10 neuronas y utiliza la función softmax. La tabla muestra información sobre la cantidad total de parámetros, lo que demuestra la complejidad del modelo.\n",
        "\n",
        "Caso 1:\n",
        "- Configuración: 10 neuronas en la oculta, función activación= \"relu,\" optimizador \"sgd.\"\n",
        "- Rendimiento: La red alcanza una precisión del 81.42% después de 5 épocas.\n",
        "- Estructura: Dos capas, una con 10 neuronas y otra con 10 neuronas de salida.\n",
        "\n",
        "Caso 2:\n",
        "- Configuración: 10 neuronas en la oculta, función activación=\"relu,\" optimizador \"rmsprop.\"\n",
        "- Rendimiento: La red alcanza una precisión del 84.39% tras de 5 épocas.\n",
        "- Estructura: Dos capas, una con 10 neuronas y otra con 10 neuronas de salida.\n",
        "\n",
        "Caso 3:\n",
        "- Configuración: 10 neuronas en la oculta, función activación = \"sigmoid,\" optimizador \"sgd.\"\n",
        "- Rendimiento: 67.68% después de 5 épocas.\n",
        "- Estructura: Dos capas, 10 neuronas en cada una\n",
        "\n",
        "Caso 4:\n",
        "- Configuración: 10 neuronas en la oculta, función activación \"sigmoid,\" optimizador \"rmsprop.\"\n",
        "- Rendimiento: alcanza una precisión del 83.72% al final de 5 épocas.\n",
        "- Estructura: Dos capas, 10 neuronas en cada una.\n",
        "\n",
        "Caso 5:\n",
        "- Configuración: 512 neuronas en la oculta, función activación \"relu,\" optimizador \"sgd.\"\n",
        "- Rendimiento: 83.97% en el conjunto de validación tras 5 épocas.\n",
        "- Estructura: Dos capas, una con 512 neuronas y otra 10 de salida.\n",
        "\n",
        "Caso 6:\n",
        "- Configuración: 512 neuronas en la oculta, función activación \"relu,\" optimizador \"rmsprop.\"\n",
        "- Rendimiento: 86.87% después de 5 épocas.\n",
        "- Estructura: Dos capas, una con 512 neuronas y otra con 10 de salida.\n",
        "\n",
        "Caso 7:\n",
        "- Configuración: 512 neuronas en la  oculta, función activación \"sigmoid,\" optimizador \"sgd.\"\n",
        "- Rendimiento: La red alcanza una precisión del 77.70% en el conjunto de validación después de 5 épocas.\n",
        "- Estructura: Dos capas, una con 512 neuronas y otra con 10 de salida.\n",
        "\n",
        "Caso 8:\n",
        "- Configuración: 512 neuronas en la oculta, función activación \"sigmoid,\" optimizador \"rmsprop.\"\n",
        "- Rendimiento: obtiene una precisión del 87.07% después de 5 épocas.\n",
        "- Estructura: Dos capas, una con 512 neuronas y otra con 10 de salida."
      ],
      "metadata": {
        "id": "IjyMMErJsbwL"
      }
    },
    {
      "cell_type": "markdown",
      "source": [
        " Este código genera un archivo de imagen llamado \"my_first_model.png\" que muestra las capas del modelo y las conexiones entre ellas, permitiendo una visualización gráfica de la arquitectura de la red. La opción show_shapes=True en la función plot_model agrega información sobre las formas de los tensores en cada capa."
      ],
      "metadata": {
        "id": "QRfrdfs7eR4e"
      }
    },
    {
      "cell_type": "code",
      "source": [
        "import tensorflow as tf\n",
        "from tensorflow import keras\n",
        "from tensorflow.keras import layers\n",
        "keras.utils.plot_model(model, \"my_first_model.png\", show_shapes=True)"
      ],
      "metadata": {
        "colab": {
          "base_uri": "https://localhost:8080/",
          "height": 312
        },
        "id": "ngBnTKV7471p",
        "outputId": "a751df51-a59f-4cc3-dd4a-b681b47b197a"
      },
      "execution_count": 34,
      "outputs": [
        {
          "output_type": "execute_result",
          "data": {
            "image/png": "[encoded data removed]",
            "text/plain": [
              "<IPython.core.display.Image object>"
            ]
          },
          "metadata": {},
          "execution_count": 34
        }
      ]
    },
    {
      "cell_type": "code",
      "source": [
        "# Función para crear y entrenar un modelo con 25 épocas\n",
        "def modemo_entrenamiento_25_epocas(neurons, activation, optimizer):\n",
        "    model = models.Sequential()\n",
        "    model.add(layers.Dense(neurons, activation=activation, input_shape=(28*28,)))\n",
        "    model.add(layers.Dense(10, activation='softmax'))\n",
        "\n",
        "    model.compile(optimizer=optimizer,\n",
        "                  loss='categorical_crossentropy',\n",
        "                  metrics=['accuracy'])\n",
        "\n",
        "    history = model.fit(train_images, train_labels, epochs=25, batch_size=64, validation_split=0.2)\n",
        "    return model, history\n",
        "\n",
        "# Configurar y entrenar los casos 2 y 7 con 25 épocas\n",
        "casos = [\n",
        "    (10, 'relu', 'rmsprop'),\n",
        "    (512, 'sigmoid', 'sgd')\n",
        "]\n",
        "\n",
        "results_with_25_epochs = []\n",
        "\n",
        "for i, (neurons, activation, optimizer) in enumerate(casos, 1):\n",
        "    print(f\"Caso {i} con 25 épocas: Neuronas_capa_1={neurons}, Función de activación={activation}, Optimizador={optimizer}\")\n",
        "    model, history = train_model_with_25_epochs(neurons, activation, optimizer)\n",
        "    results_with_25_epochs.append((model, history))\n",
        "    print(\"\\n\")\n",
        "\n",
        "# Ahora tenemos los resultados de los casos 2 y 7 con 25 épocas de entrenamiento."
      ],
      "metadata": {
        "colab": {
          "base_uri": "https://localhost:8080/"
        },
        "id": "QgXo7roXt99J",
        "outputId": "5397441a-722f-45d0-a254-b9cd272b50d4"
      },
      "execution_count": 33,
      "outputs": [
        {
          "output_type": "stream",
          "name": "stdout",
          "text": [
            "Caso 1 con 25 épocas: Neuronas_capa_1=10, Función de activación=relu, Optimizador=rmsprop\n",
            "Epoch 1/25\n",
            "750/750 [==============================] - 3s 3ms/step - loss: 0.7895 - accuracy: 0.7347 - val_loss: 0.5515 - val_accuracy: 0.8131\n",
            "Epoch 2/25\n",
            "750/750 [==============================] - 2s 3ms/step - loss: 0.4953 - accuracy: 0.8288 - val_loss: 0.4717 - val_accuracy: 0.8374\n",
            "Epoch 3/25\n",
            "750/750 [==============================] - 3s 4ms/step - loss: 0.4589 - accuracy: 0.8402 - val_loss: 0.4575 - val_accuracy: 0.8396\n",
            "Epoch 4/25\n",
            "750/750 [==============================] - 3s 4ms/step - loss: 0.4390 - accuracy: 0.8461 - val_loss: 0.4516 - val_accuracy: 0.8385\n",
            "Epoch 5/25\n",
            "750/750 [==============================] - 2s 3ms/step - loss: 0.4253 - accuracy: 0.8500 - val_loss: 0.4576 - val_accuracy: 0.8419\n",
            "Epoch 6/25\n",
            "750/750 [==============================] - 3s 4ms/step - loss: 0.4159 - accuracy: 0.8530 - val_loss: 0.4435 - val_accuracy: 0.8412\n",
            "Epoch 7/25\n",
            "750/750 [==============================] - 2s 3ms/step - loss: 0.4073 - accuracy: 0.8564 - val_loss: 0.4268 - val_accuracy: 0.8511\n",
            "Epoch 8/25\n",
            "750/750 [==============================] - 3s 4ms/step - loss: 0.4007 - accuracy: 0.8592 - val_loss: 0.4156 - val_accuracy: 0.8536\n",
            "Epoch 9/25\n",
            "750/750 [==============================] - 2s 3ms/step - loss: 0.3965 - accuracy: 0.8596 - val_loss: 0.4129 - val_accuracy: 0.8559\n",
            "Epoch 10/25\n",
            "750/750 [==============================] - 4s 5ms/step - loss: 0.3913 - accuracy: 0.8610 - val_loss: 0.4221 - val_accuracy: 0.8528\n",
            "Epoch 11/25\n",
            "750/750 [==============================] - 3s 3ms/step - loss: 0.3862 - accuracy: 0.8630 - val_loss: 0.4142 - val_accuracy: 0.8537\n",
            "Epoch 12/25\n",
            "750/750 [==============================] - 3s 4ms/step - loss: 0.3839 - accuracy: 0.8646 - val_loss: 0.4146 - val_accuracy: 0.8533\n",
            "Epoch 13/25\n",
            "750/750 [==============================] - 3s 3ms/step - loss: 0.3809 - accuracy: 0.8652 - val_loss: 0.4135 - val_accuracy: 0.8575\n",
            "Epoch 14/25\n",
            "750/750 [==============================] - 3s 3ms/step - loss: 0.3773 - accuracy: 0.8661 - val_loss: 0.4158 - val_accuracy: 0.8533\n",
            "Epoch 15/25\n",
            "750/750 [==============================] - 2s 3ms/step - loss: 0.3747 - accuracy: 0.8670 - val_loss: 0.4202 - val_accuracy: 0.8505\n",
            "Epoch 16/25\n",
            "750/750 [==============================] - 2s 3ms/step - loss: 0.3720 - accuracy: 0.8689 - val_loss: 0.4354 - val_accuracy: 0.8526\n",
            "Epoch 17/25\n",
            "750/750 [==============================] - 3s 4ms/step - loss: 0.3692 - accuracy: 0.8706 - val_loss: 0.4038 - val_accuracy: 0.8585\n",
            "Epoch 18/25\n",
            "750/750 [==============================] - 2s 3ms/step - loss: 0.3665 - accuracy: 0.8708 - val_loss: 0.4112 - val_accuracy: 0.8579\n",
            "Epoch 19/25\n",
            "750/750 [==============================] - 3s 3ms/step - loss: 0.3652 - accuracy: 0.8700 - val_loss: 0.4132 - val_accuracy: 0.8588\n",
            "Epoch 20/25\n",
            "750/750 [==============================] - 3s 3ms/step - loss: 0.3631 - accuracy: 0.8720 - val_loss: 0.4269 - val_accuracy: 0.8525\n",
            "Epoch 21/25\n",
            "750/750 [==============================] - 3s 4ms/step - loss: 0.3610 - accuracy: 0.8721 - val_loss: 0.4211 - val_accuracy: 0.8577\n",
            "Epoch 22/25\n",
            "750/750 [==============================] - 2s 3ms/step - loss: 0.3588 - accuracy: 0.8727 - val_loss: 0.4200 - val_accuracy: 0.8569\n",
            "Epoch 23/25\n",
            "750/750 [==============================] - 2s 3ms/step - loss: 0.3587 - accuracy: 0.8732 - val_loss: 0.4350 - val_accuracy: 0.8520\n",
            "Epoch 24/25\n",
            "750/750 [==============================] - 2s 3ms/step - loss: 0.3560 - accuracy: 0.8744 - val_loss: 0.4083 - val_accuracy: 0.8611\n",
            "Epoch 25/25\n",
            "750/750 [==============================] - 3s 3ms/step - loss: 0.3554 - accuracy: 0.8741 - val_loss: 0.4126 - val_accuracy: 0.8596\n",
            "\n",
            "\n",
            "Caso 2 con 25 épocas: Neuronas_capa_1=512, Función de activación=sigmoid, Optimizador=sgd\n",
            "Epoch 1/25\n",
            "750/750 [==============================] - 3s 4ms/step - loss: 1.4912 - accuracy: 0.6213 - val_loss: 1.0804 - val_accuracy: 0.6956\n",
            "Epoch 2/25\n",
            "750/750 [==============================] - 3s 3ms/step - loss: 0.9460 - accuracy: 0.7273 - val_loss: 0.8398 - val_accuracy: 0.7361\n",
            "Epoch 3/25\n",
            "750/750 [==============================] - 3s 4ms/step - loss: 0.7936 - accuracy: 0.7475 - val_loss: 0.7406 - val_accuracy: 0.7541\n",
            "Epoch 4/25\n",
            "750/750 [==============================] - 3s 4ms/step - loss: 0.7196 - accuracy: 0.7615 - val_loss: 0.6855 - val_accuracy: 0.7641\n",
            "Epoch 5/25\n",
            "750/750 [==============================] - 3s 3ms/step - loss: 0.6739 - accuracy: 0.7715 - val_loss: 0.6489 - val_accuracy: 0.7755\n",
            "Epoch 6/25\n",
            "750/750 [==============================] - 2s 3ms/step - loss: 0.6415 - accuracy: 0.7791 - val_loss: 0.6231 - val_accuracy: 0.7815\n",
            "Epoch 7/25\n",
            "750/750 [==============================] - 3s 3ms/step - loss: 0.6165 - accuracy: 0.7871 - val_loss: 0.6012 - val_accuracy: 0.7911\n",
            "Epoch 8/25\n",
            "750/750 [==============================] - 3s 4ms/step - loss: 0.5964 - accuracy: 0.7935 - val_loss: 0.5880 - val_accuracy: 0.7943\n",
            "Epoch 9/25\n",
            "750/750 [==============================] - 3s 4ms/step - loss: 0.5797 - accuracy: 0.8002 - val_loss: 0.5694 - val_accuracy: 0.8002\n",
            "Epoch 10/25\n",
            "750/750 [==============================] - 3s 3ms/step - loss: 0.5653 - accuracy: 0.8040 - val_loss: 0.5568 - val_accuracy: 0.8054\n",
            "Epoch 11/25\n",
            "750/750 [==============================] - 2s 3ms/step - loss: 0.5532 - accuracy: 0.8095 - val_loss: 0.5464 - val_accuracy: 0.8077\n",
            "Epoch 12/25\n",
            "750/750 [==============================] - 3s 3ms/step - loss: 0.5426 - accuracy: 0.8124 - val_loss: 0.5392 - val_accuracy: 0.8105\n",
            "Epoch 13/25\n",
            "750/750 [==============================] - 4s 5ms/step - loss: 0.5334 - accuracy: 0.8167 - val_loss: 0.5284 - val_accuracy: 0.8148\n",
            "Epoch 14/25\n",
            "750/750 [==============================] - 3s 3ms/step - loss: 0.5251 - accuracy: 0.8188 - val_loss: 0.5227 - val_accuracy: 0.8143\n",
            "Epoch 15/25\n",
            "750/750 [==============================] - 2s 3ms/step - loss: 0.5175 - accuracy: 0.8221 - val_loss: 0.5151 - val_accuracy: 0.8183\n",
            "Epoch 16/25\n",
            "750/750 [==============================] - 3s 4ms/step - loss: 0.5111 - accuracy: 0.8236 - val_loss: 0.5111 - val_accuracy: 0.8195\n",
            "Epoch 17/25\n",
            "750/750 [==============================] - 4s 6ms/step - loss: 0.5053 - accuracy: 0.8252 - val_loss: 0.5061 - val_accuracy: 0.8209\n",
            "Epoch 18/25\n",
            "750/750 [==============================] - 2s 3ms/step - loss: 0.4999 - accuracy: 0.8267 - val_loss: 0.5000 - val_accuracy: 0.8253\n",
            "Epoch 19/25\n",
            "750/750 [==============================] - 3s 3ms/step - loss: 0.4948 - accuracy: 0.8286 - val_loss: 0.4967 - val_accuracy: 0.8229\n",
            "Epoch 20/25\n",
            "750/750 [==============================] - 3s 4ms/step - loss: 0.4905 - accuracy: 0.8299 - val_loss: 0.4915 - val_accuracy: 0.8237\n",
            "Epoch 21/25\n",
            "750/750 [==============================] - 5s 6ms/step - loss: 0.4861 - accuracy: 0.8315 - val_loss: 0.4874 - val_accuracy: 0.8250\n",
            "Epoch 22/25\n",
            "750/750 [==============================] - 2s 3ms/step - loss: 0.4824 - accuracy: 0.8331 - val_loss: 0.4868 - val_accuracy: 0.8288\n",
            "Epoch 23/25\n",
            "750/750 [==============================] - 2s 3ms/step - loss: 0.4785 - accuracy: 0.8354 - val_loss: 0.4832 - val_accuracy: 0.8278\n",
            "Epoch 24/25\n",
            "750/750 [==============================] - 2s 3ms/step - loss: 0.4751 - accuracy: 0.8350 - val_loss: 0.4789 - val_accuracy: 0.8304\n",
            "Epoch 25/25\n",
            "750/750 [==============================] - 3s 3ms/step - loss: 0.4719 - accuracy: 0.8366 - val_loss: 0.4751 - val_accuracy: 0.8317\n",
            "\n",
            "\n"
          ]
        }
      ]
    },
    {
      "cell_type": "markdown",
      "source": [
        "Al incrementar de 5 épocas a 25, el caso 2 en un principio tenía capa oculta(10 neuronas), activación relu y optimizador rmsprop. El modelo ha mejorado s capacidad para aprender patrones en los datos, lo que conlleva a un amejor precisión disminuyendo la pérdida(puede haber sobreajuste porque el entrenamiento dura más)\n",
        "\n",
        "En el caso 7, con 512 neuronas en la capa oculta, activación sigmoide y optimizador sgd puede mejorar su rendimiento en comparación con 5 épocas porque dispone de más tiempo para alcanzar una solución óptima."
      ],
      "metadata": {
        "id": "obmO8sqFvXyT"
      }
    },
    {
      "cell_type": "markdown",
      "source": [
        "Visualizamos la matriz de confusión que se muestra como una imagen con etiquetas de clase y valores en cada celda. Con la función se puede evaluar el rendimiento de modelos de clasificación y entender cómo se comportan en la clasificación de datos."
      ],
      "metadata": {
        "id": "eB8Tb1BNyDlT"
      }
    },
    {
      "cell_type": "code",
      "source": [
        "# importamos biblioteca numpy para calculos numéricos.\n",
        "import numpy as np\n",
        "\n",
        "# importamos biblioteca itertools para iteraciones.\n",
        "import itertools\n",
        "\n",
        "# para la creación de gráficos.\n",
        "import matplotlib.pyplot as plt\n",
        "\n",
        "# definimos una función para la matriz de confusión\n",
        "def plot_confusion_matrix(cm, classes, # matriz de confusión y lista de clases\n",
        "                          normalize=False, # vemos si se normaliza la matriz\n",
        "                          title='Matriz de confusión', # título\n",
        "                          cmap=plt.cm.Blues): # colores para la visualización\n",
        "    \"\"\"\n",
        "    This function prints and plots the confusion matrix.\n",
        "    Normalization can be applied by setting `normalize=True`.\n",
        "    \"\"\"\n",
        "    # muestra la matriz como una imagen\n",
        "    plt.imshow(cm, interpolation='nearest', cmap=cmap)\n",
        "    plt.title(title)\n",
        "    plt.colorbar() # colores para interpretar los valores\n",
        "    tick_marks = np.arange(len(classes))\n",
        "    plt.xticks(tick_marks, classes, rotation=45)\n",
        "    plt.yticks(tick_marks, classes) # marcas para saber la longitud de la lista de clases\n",
        "\n",
        "    # en caso de True convierte los valores en proporciones\n",
        "    if normalize:\n",
        "        cm = cm.astype('float') / cm.sum(axis=1)[:, np.newaxis]\n",
        "\n",
        "    thresh = cm.max() / 2. # calcula el umbral\n",
        "\n",
        "    # bucle que recorre filas y columnas de la matriz\n",
        "    for i, j in itertools.product(range(cm.shape[0]), range(cm.shape[1])):\n",
        "        plt.text(j, i, cm[i, j], # agrega texto en las celdas según el valor del umbral\n",
        "                 horizontalalignment=\"center\",\n",
        "                 color=\"white\" if cm[i, j] > thresh else \"black\")\n",
        "\n",
        "    plt.tight_layout()\n",
        "    plt.ylabel('Observación') # eje Y observación\n",
        "    plt.xlabel('Predicción') # eje X predicción"
      ],
      "metadata": {
        "id": "AIysEeWcyA7G"
      },
      "execution_count": 39,
      "outputs": []
    },
    {
      "cell_type": "code",
      "source": [
        "from sklearn.metrics import confusion_matrix\n",
        "import itertools\n",
        "import numpy as np\n",
        "import matplotlib.pyplot as plt\n",
        "\n",
        "# mostramos el rendimiento\n",
        "def evaluate_model(model, test_images, test_labels):\n",
        "    test_loss, test_acc = model.evaluate(test_images, test_labels)\n",
        "    print('Test Loss:', test_loss)\n",
        "    print('Test Accuracy:', test_acc)\n",
        "\n",
        "    # Predicción de valores\n",
        "    Y_pred = model.predict(test_images)\n",
        "\n",
        "    # Convertir en predicciones\n",
        "    Y_pred_classes = np.argmax(Y_pred, axis=1)\n",
        "\n",
        "    # Convertir en clases de observación\n",
        "    Y_true = np.argmax(test_labels, axis=1)\n",
        "\n",
        "    # matriz de confusión\n",
        "    confusion_mtx = confusion_matrix(Y_true, Y_pred_classes)\n",
        "\n",
        "    # la dibujamos\n",
        "    plot_confusion_matrix(confusion_mtx, classes=range(10))\n",
        "\n",
        "# evaluamos y mostramos rendimiento\n",
        "for i, (neurons, activation, optimizer) in enumerate(cases, 1):\n",
        "    print(f\"Caso {i}: Neuronas_capa_1={neurons}, Función de activación={activation}, Optimizador={optimizer}\")\n",
        "    model = models_and_histories[i - 1][0]\n",
        "    evaluate_model(model, test_images, test_labels)\n",
        "    print(\"\\n\")"
      ],
      "metadata": {
        "colab": {
          "base_uri": "https://localhost:8080/",
          "height": 713
        },
        "id": "XPfGQw5jxVZQ",
        "outputId": "5461a14f-327d-4a18-8b39-8a5ec408ab85"
      },
      "execution_count": 40,
      "outputs": [
        {
          "output_type": "stream",
          "name": "stdout",
          "text": [
            "Caso 1: Neuronas_capa_1=10, Función de activación=relu, Optimizador=rmsprop\n",
            "313/313 [==============================] - 1s 3ms/step - loss: 0.5629 - accuracy: 0.8049\n",
            "Test Loss: 0.5628547668457031\n",
            "Test Accuracy: 0.8048999905586243\n",
            "313/313 [==============================] - 1s 2ms/step\n",
            "\n",
            "\n",
            "Caso 2: Neuronas_capa_1=512, Función de activación=sigmoid, Optimizador=sgd\n",
            "313/313 [==============================] - 1s 3ms/step - loss: 0.4644 - accuracy: 0.8362\n",
            "Test Loss: 0.4644416570663452\n",
            "Test Accuracy: 0.8361999988555908\n",
            "313/313 [==============================] - 0s 2ms/step\n",
            "\n",
            "\n"
          ]
        },
        {
          "output_type": "display_data",
          "data": {
            "text/plain": [
              "<Figure size 640x480 with 3 Axes>"
            ],
            "image/png": "[encoded data removed]"
          },
          "metadata": {}
        }
      ]
    },
    {
      "cell_type": "markdown",
      "source": [
        "Evaluamos y comparamos el rendimiento de los difenentes modelos en la clasificación de la sexta imagen de prueba en función de sus configuraciones específicas.\n",
        "\n",
        "El código nos devuelve infrormación importate sobre las prediciones y resultados de cada modelo."
      ],
      "metadata": {
        "id": "fqeKnGGr3DJY"
      }
    },
    {
      "cell_type": "code",
      "source": [
        "# imprtamos las bibliotecas necesarias\n",
        "import matplotlib.pyplot as plt\n",
        "import numpy as np\n",
        "\n",
        "# tomamos la sexta imagen de prueba del conjunto de datos y la redimensionamos(28x28 píxeles) para visualizarla\n",
        "digit = test_images[5].reshape(28, 28)\n",
        "plt.imshow(digit, cmap=plt.cm.binary)\n",
        "plt.show()\n",
        "\n",
        "# realizamos predicciones con los 8 modelos diferentes iterando cada caso\n",
        "for i, (neurons, activation, optimizer) in enumerate(cases, 1):\n",
        "    print(f\"Caso {i}: Neuronas_capa_1={neurons}, Función de activación={activation}, Optimizador={optimizer}\")\n",
        "    model, history = models_and_histories[i - 1]\n",
        "    print(\"\\n\")\n",
        "\n",
        "    # hacemos la predicción ara la imagen de prueba( probabilidad de pertenecer a una clase)\n",
        "    prediction = model.predict(np.expand_dims(test_images[5], axis=0))\n",
        "\n",
        "    print(\"=Predicción del modelo=======================\")\n",
        "    print(prediction)\n",
        "    print(\"=Clase predicha (índice)=====================\")\n",
        "    predicted_class = np.argmax(prediction)\n",
        "    print(predicted_class)\n",
        "    print(\"=Probabilidad de clase predicha================\")\n",
        "    probability = prediction[0][predicted_class]\n",
        "    print(probability)\n",
        "    print(\"=============================================\\n\")\n"
      ],
      "metadata": {
        "colab": {
          "base_uri": "https://localhost:8080/",
          "height": 881
        },
        "id": "MPLD1p6X3Cxz",
        "outputId": "08342e61-6a69-4558-baad-0bdfe0e0e972"
      },
      "execution_count": 38,
      "outputs": [
        {
          "output_type": "display_data",
          "data": {
            "text/plain": [
              "<Figure size 640x480 with 1 Axes>"
            ],
            "image/png": "[encoded data removed]"
          },
          "metadata": {}
        },
        {
          "output_type": "stream",
          "name": "stdout",
          "text": [
            "Caso 1: Neuronas_capa_1=10, Función de activación=relu, Optimizador=rmsprop\n",
            "\n",
            "\n",
            "1/1 [==============================] - 0s 18ms/step\n",
            "=Predicción del modelo=======================\n",
            "[[6.8190962e-04 9.9430686e-01 4.7735829e-04 4.9731409e-04 3.7727449e-03\n",
            "  1.2608047e-07 2.3368049e-04 2.0888174e-06 2.6019179e-05 1.9790468e-06]]\n",
            "=Clase predicha (índice)=====================\n",
            "1\n",
            "=Probabilidad de clase predicha================\n",
            "0.99430686\n",
            "=============================================\n",
            "\n",
            "Caso 2: Neuronas_capa_1=512, Función de activación=sigmoid, Optimizador=sgd\n",
            "\n",
            "\n",
            "1/1 [==============================] - 0s 19ms/step\n",
            "=Predicción del modelo=======================\n",
            "[[1.9834142e-03 9.7733319e-01 3.4528240e-03 2.3438162e-03 1.3520739e-02\n",
            "  7.2582625e-05 1.1299364e-03 3.4318493e-08 1.5906448e-04 4.4539311e-06]]\n",
            "=Clase predicha (índice)=====================\n",
            "1\n",
            "=Probabilidad de clase predicha================\n",
            "0.9773332\n",
            "=============================================\n",
            "\n"
          ]
        }
      ]
    },
    {
      "cell_type": "markdown",
      "source": [
        "Cargamoa datos de Fashion MNIST, realizamos predicciones con un modelo previamente entrenado y visualizamos las predicciones junto con las etiquetas reales para evaluar el rendimiento del modelo."
      ],
      "metadata": {
        "id": "PxyzWWgg-0vh"
      }
    },
    {
      "cell_type": "code",
      "source": [
        "# importamos bibliotemcas necesarias para los datos de visualización\n",
        "from keras.datasets import fashion_mnist\n",
        "import numpy as np\n",
        "import matplotlib.pyplot as plt\n",
        "\n",
        "# cargamos el conjunto de datos fashion_mnist(imagenes de prendas y sus categorias)\n",
        "(train_images, train_labels), (test_images, test_labels) = fashion_mnist.load_data()\n",
        "train_images = train_images.reshape((60000, 28 * 28))\n",
        "test_images = test_images.reshape((10000, 28 * 28))\n",
        "\n",
        "train_images = train_images.astype('float32') / 255\n",
        "test_images = test_images.astype('float32') / 255\n",
        "\n",
        "# realizamos predicciones en el conjunto de prueba usando el modelo ya entenado\n",
        "predictions = model.predict(test_images)\n",
        "\n",
        "# definimos funciones para ver las imagenes, etiquetas y predicciones\n",
        "def plot_image(i, predictions_array, true_labels, images):\n",
        "    plt.grid(False)\n",
        "    plt.xticks([])\n",
        "    plt.yticks([])\n",
        "\n",
        "    plt.imshow(images[i], cmap=plt.cm.binary)\n",
        "\n",
        "    predicted_label = np.argmax(predictions_array)\n",
        "    true_label = np.argmax(true_labels[i])\n",
        "\n",
        "    if predicted_label == true_label:\n",
        "        color = 'blue'\n",
        "    else:\n",
        "        color = 'red'\n",
        "\n",
        "    plt.xlabel(\"{} {:2.0f}% ({})\".format(predicted_label,\n",
        "                                100*np.max(predictions_array),\n",
        "                                true_label),\n",
        "                                color=color.strip())  # Eliminar espacios en blanco alrededor del color\n",
        "\n",
        "def plot_value_array(i, predictions_array, true_label):\n",
        "    predictions_array, true_label = predictions_array, true_label[i]\n",
        "    plt.grid(False)\n",
        "    plt.xticks(range(10))\n",
        "    plt.yticks([])\n",
        "    thisplot = plt.bar(range(10), predictions_array, color=\"#777777\")\n",
        "    plt.ylim([0, 1])\n",
        "    predicted_label = np.argmax(predictions_array)\n",
        "\n",
        "    thisplot[predicted_label].set_color('red')\n",
        "    thisplot[true_label].set_color('blue')\n",
        "\n",
        "# iteramos las 10 primeras imagenes que se muestran con sus etiquetas predichas y probabilidades de clasificación\n",
        "for i in range(10):\n",
        "    plt.figure(figsize=(6, 3))\n",
        "    plt.subplot(1, 2, 1)\n",
        "    plot_image(i, predictions[i], test_labels, test_images.reshape(10000, 28, 28))\n",
        "    plt.subplot(1, 2, 2)\n",
        "    plot_value_array(i, predictions[i], test_labels)\n",
        "    plt.show()\n",
        "    plt.clf()"
      ],
      "metadata": {
        "colab": {
          "base_uri": "https://localhost:8080/",
          "height": 1000
        },
        "id": "wv_8B0PW-9Zv",
        "outputId": "31b4273c-dc9d-4218-c3c7-f8a2dcbd2434"
      },
      "execution_count": 41,
      "outputs": [
        {
          "output_type": "stream",
          "name": "stdout",
          "text": [
            "313/313 [==============================] - 1s 4ms/step\n"
          ]
        },
        {
          "output_type": "display_data",
          "data": {
            "text/plain": [
              "<Figure size 600x300 with 2 Axes>"
            ],
            "image/png": "[encoded data removed]"
          },
          "metadata": {}
        },
        {
          "output_type": "display_data",
          "data": {
            "text/plain": [
              "<Figure size 640x480 with 0 Axes>"
            ]
          },
          "metadata": {}
        },
        {
          "output_type": "display_data",
          "data": {
            "text/plain": [
              "<Figure size 600x300 with 2 Axes>"
            ],
            "image/png": "[encoded data removed]"
          },
          "metadata": {}
        },
        {
          "output_type": "display_data",
          "data": {
            "text/plain": [
              "<Figure size 640x480 with 0 Axes>"
            ]
          },
          "metadata": {}
        },
        {
          "output_type": "display_data",
          "data": {
            "text/plain": [
              "<Figure size 600x300 with 2 Axes>"
            ],
            "image/png": "[encoded data removed]"
          },
          "metadata": {}
        },
        {
          "output_type": "display_data",
          "data": {
            "text/plain": [
              "<Figure size 640x480 with 0 Axes>"
            ]
          },
          "metadata": {}
        },
        {
          "output_type": "display_data",
          "data": {
            "text/plain": [
              "<Figure size 600x300 with 2 Axes>"
            ],
            "image/png": "[encoded data removed]"
          },
          "metadata": {}
        },
        {
          "output_type": "display_data",
          "data": {
            "text/plain": [
              "<Figure size 640x480 with 0 Axes>"
            ]
          },
          "metadata": {}
        },
        {
          "output_type": "display_data",
          "data": {
            "text/plain": [
              "<Figure size 600x300 with 2 Axes>"
            ],
            "image/png": "[encoded data removed]"
          },
          "metadata": {}
        },
        {
          "output_type": "display_data",
          "data": {
            "text/plain": [
              "<Figure size 640x480 with 0 Axes>"
            ]
          },
          "metadata": {}
        },
        {
          "output_type": "display_data",
          "data": {
            "text/plain": [
              "<Figure size 600x300 with 2 Axes>"
            ],
            "image/png": "[encoded data removed]"
          },
          "metadata": {}
        },
        {
          "output_type": "display_data",
          "data": {
            "text/plain": [
              "<Figure size 640x480 with 0 Axes>"
            ]
          },
          "metadata": {}
        },
        {
          "output_type": "display_data",
          "data": {
            "text/plain": [
              "<Figure size 600x300 with 2 Axes>"
            ],
            "image/png": "[encoded data removed]"
          },
          "metadata": {}
        },
        {
          "output_type": "display_data",
          "data": {
            "text/plain": [
              "<Figure size 640x480 with 0 Axes>"
            ]
          },
          "metadata": {}
        },
        {
          "output_type": "display_data",
          "data": {
            "text/plain": [
              "<Figure size 600x300 with 2 Axes>"
            ],
            "image/png": "[encoded data removed]"
          },
          "metadata": {}
        },
        {
          "output_type": "display_data",
          "data": {
            "text/plain": [
              "<Figure size 640x480 with 0 Axes>"
            ]
          },
          "metadata": {}
        },
        {
          "output_type": "display_data",
          "data": {
            "text/plain": [
              "<Figure size 600x300 with 2 Axes>"
            ],
            "image/png": "[encoded data removed]"
          },
          "metadata": {}
        },
        {
          "output_type": "display_data",
          "data": {
            "text/plain": [
              "<Figure size 640x480 with 0 Axes>"
            ]
          },
          "metadata": {}
        },
        {
          "output_type": "display_data",
          "data": {
            "text/plain": [
              "<Figure size 600x300 with 2 Axes>"
            ],
            "image/png": "[encoded data removed]"
          },
          "metadata": {}
        },
        {
          "output_type": "display_data",
          "data": {
            "text/plain": [
              "<Figure size 640x480 with 0 Axes>"
            ]
          },
          "metadata": {}
        }
      ]
    },
    {
      "cell_type": "markdown",
      "source": [
        "En este paso, mejoramos nuestro modelo mediante la utilización del optimizador \"adam\" y la función de perdida \"sparse_categorical_crossentropy\", cambios que pueden afectar en el rendimiento.\n",
        "\n",
        "Por ultimo, entrenamos el modelo con las configuraciones y cambios actualizam¡dos para ver su eficacia."
      ],
      "metadata": {
        "id": "5t7v4z1JGWX1"
      }
    },
    {
      "cell_type": "code",
      "source": [
        "from keras.optimizers import Adam\n",
        "\n",
        "# función que crea y entrena un modelo de red neuronal con una configuración específica\n",
        "def modelo_entrenamiento_optimizador_adam(neurons, activation):\n",
        "    model = models.Sequential()\n",
        "    model.add(layers.Dense(neurons, activation=activation, input_shape=(28*28,)))\n",
        "    model.add(layers.Dense(10, activation='softmax'))\n",
        "\n",
        "    optimizer = Adam(learning_rate=0.001) # configuramos el optimizador con 0.001 como tasa de aprendizaje\n",
        "\n",
        "    model.compile(optimizer=optimizer,\n",
        "                  loss='sparse_categorical_crossentropy',  # selecionamos la función de pérdida\n",
        "                  metrics=['accuracy'])\n",
        "    # compilamos y entrenamos el modelo(5 épocas, lote 64, 20% datos validación)\n",
        "    history = model.fit(train_images, train_labels, epochs=5, batch_size=64, validation_split=0.2)\n",
        "    return model, history\n",
        "\n",
        "neurons = 10\n",
        "activation = 'sigmoid'\n",
        "# se devuelve el modelo entrenado junto con su hsitorial de entrenamiento\n",
        "model, history = train_model_with_adam_optimizer(neurons, activation)\n",
        "model.summary()"
      ],
      "metadata": {
        "colab": {
          "base_uri": "https://localhost:8080/"
        },
        "id": "lX0AK0aSI4RO",
        "outputId": "56de36af-3170-4449-d3c9-37f0e81e6d15"
      },
      "execution_count": 42,
      "outputs": [
        {
          "output_type": "stream",
          "name": "stdout",
          "text": [
            "Epoch 1/5\n",
            "750/750 [==============================] - 6s 7ms/step - loss: 1.4580 - accuracy: 0.5948 - val_loss: 0.9791 - val_accuracy: 0.7197\n",
            "Epoch 2/5\n",
            "750/750 [==============================] - 4s 6ms/step - loss: 0.7858 - accuracy: 0.7664 - val_loss: 0.6623 - val_accuracy: 0.7878\n",
            "Epoch 3/5\n",
            "750/750 [==============================] - 5s 7ms/step - loss: 0.6065 - accuracy: 0.8081 - val_loss: 0.5635 - val_accuracy: 0.8181\n",
            "Epoch 4/5\n",
            "750/750 [==============================] - 5s 7ms/step - loss: 0.5336 - accuracy: 0.8269 - val_loss: 0.5157 - val_accuracy: 0.8282\n",
            "Epoch 5/5\n",
            "750/750 [==============================] - 3s 4ms/step - loss: 0.4911 - accuracy: 0.8378 - val_loss: 0.4905 - val_accuracy: 0.8286\n",
            "Model: \"sequential_30\"\n",
            "_________________________________________________________________\n",
            " Layer (type)                Output Shape              Param #   \n",
            "=================================================================\n",
            " dense_60 (Dense)            (None, 10)                7850      \n",
            "                                                                 \n",
            " dense_61 (Dense)            (None, 10)                110       \n",
            "                                                                 \n",
            "=================================================================\n",
            "Total params: 7960 (31.09 KB)\n",
            "Trainable params: 7960 (31.09 KB)\n",
            "Non-trainable params: 0 (0.00 Byte)\n",
            "_________________________________________________________________\n"
          ]
        }
      ]
    },
    {
      "cell_type": "markdown",
      "source": [
        "En el transcurso de 5 épocas, comprobamos cómo la función de pérdida (loss) disminuye, y la precisión (accuracy) aumenta en los datos de entrenamiento y en el conjunto de validación, lo que significa que el modelo está aprendiendo y generaliza bien a datos no vistos.\n",
        "\n",
        "La función de pérdida utilizada es adecuada para problemas de clasificación con muchas clases, como en este caso. La disminución constante de la pérdida y el aumento de la precisión son indicadores positivos de que la elección de esta función de pérdida es la elegida cprrectamente en este tipo de problema."
      ],
      "metadata": {
        "id": "01ihXtsiv8Ey"
      }
    },
    {
      "cell_type": "markdown",
      "source": [
        "# Conclusión\n",
        "\n",
        "En este trabajo, utilizamos Keras, una biblioteca de Phyton que simplifica la creación y entrenamiento de redes neuronales profundas. Nuestro objetivo ha sido desarrollar un modelo para identificar distintas prendas en imágenes a partir del conjunto de datos Fashion-MNIST.\n",
        "\n",
        "En cuanto al proceso, incluimos la importación de datos, la preparación de estos datos, y la configuración y entrenamiento de diferentes modelos. Probamos con distintas opciones, como la cantidad de neuronas ocultas, las funciones de activación y los optimizadores, para entender cómo afectan al rendimiento de nuestros modelos.                                                        \n",
        "\n",
        "Identificamos mejores configuraciones, evaluamos con visualización y matrices de confusión. Exploramos \"Adam\" y sparse_categorical_crossentropy\" para mejorar el rendimiento.\n",
        "\n",
        "En cuanto al trabajo en equipo, nos dividimos las tareas. Una importaba y preparaba los datos, mientras que otra exploraba distintos modelos de IA. Trabajamos juntas y compartimos nuestras experiencias, haciendo prácticamente todo el trabajo a la vez. Al final, logramos nuestros objetivos."
      ],
      "metadata": {
        "id": "_yM5yv1AxgHW"
      }
    }
  ]
}