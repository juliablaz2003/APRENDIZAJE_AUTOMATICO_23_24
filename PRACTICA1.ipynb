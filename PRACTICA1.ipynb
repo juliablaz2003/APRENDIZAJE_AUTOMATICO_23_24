{
  "nbformat": 4,
  "nbformat_minor": 0,
  "metadata": {
    "colab": {
      "provenance": [],
      "gpuType": "T4",
      "authorship_tag": "ABX9TyP7agrjiEWZRXsv5MHNN2hA",
      "include_colab_link": true
    },
    "kernelspec": {
      "name": "python3",
      "display_name": "Python 3"
    },
    "language_info": {
      "name": "python"
    },
    "accelerator": "GPU"
  },
  "cells": [
    {
      "cell_type": "markdown",
      "metadata": {
        "id": "view-in-github",
        "colab_type": "text"
      },
      "source": [
        "<a href=\"https://colab.research.google.com/github/juliablaz2003/APRENDIZAJE_AUTOMATICO_23_24/blob/main/PRACTICA1.ipynb\" target=\"_parent\"><img src=\"https://colab.research.google.com/assets/colab-badge.svg\" alt=\"Open In Colab\"/></a>"
      ]
    },
    {
      "cell_type": "markdown",
      "source": [
        "# GRUPO B01\n",
        "## Julia Callaba Blázquez\n",
        "## Ines Agudo"
      ],
      "metadata": {
        "id": "8GJWynpvbQeF"
      }
    },
    {
      "cell_type": "markdown",
      "source": [
        "Con la importación de Keras simplificamos la creación y entrenamiento de redes neuronales para resolver problemas de aprendizaje profundo,  además de proporcionarnos una interfaz de alto nivel que ahorra tiempo al definir modelos y entrenarlos más fácil."
      ],
      "metadata": {
        "id": "K_LBGAmuLtz0"
      }
    },
    {
      "cell_type": "markdown",
      "source": [
        "En este trabajo, se desarrollará un modelo de Red de Neuronas Artificiales utilizando Keras para reconocer y clasificar diferentes tipos de ropa en imágenes. El proceso incluirá la definición, configuración, entrenamiento, evaluación y mejora del modelo, que se aplicará al conjunto de datos Fashion-MNIST. Este conjunto de datos consiste en imágenes de prendas de ropa en baja resolución y escala de grises, con 70,000 imágenes en 10 categorías. De estas, 60,000 se usarán para el entrenamiento y 10,000 para evaluar la precisión del modelo en la clasificación de las imágenes."
      ],
      "metadata": {
        "id": "qytesX8kJgRG"
      }
    },
    {
      "cell_type": "markdown",
      "source": [
        "(El entorno de ejecución ha sido cambiado de CPU a T4 GPU)"
      ],
      "metadata": {
        "id": "BOPPfZMiL2t4"
      }
    },
    {
      "cell_type": "markdown",
      "source": [
        "Empezamos importando Keras y utilizamos las versión 2.13.0 de tensorflow."
      ],
      "metadata": {
        "id": "Wjxc1PTaM450"
      }
    },
    {
      "cell_type": "code",
      "execution_count": 15,
      "metadata": {
        "colab": {
          "base_uri": "https://localhost:8080/"
        },
        "id": "WILjxR_nbNrC",
        "outputId": "bf518fac-2cc0-4ff3-813f-fff98048815e"
      },
      "outputs": [
        {
          "output_type": "stream",
          "name": "stdout",
          "text": [
            "Colab only includes TensorFlow 2.x; %tensorflow_version has no effect.\n",
            "GPU Available: [PhysicalDevice(name='/physical_device:GPU:0', device_type='GPU')]\n",
            "2.13.0\n"
          ]
        }
      ],
      "source": [
        "# 1.- IMPORTAMOS KERAS\n",
        "%tensorflow_version 2.x\n",
        "import tensorflow as tf\n",
        "from tensorflow import keras\n",
        "print(\"GPU Available:\", tf.config.list_physical_devices('GPU'))\n",
        "print(tf.__version__)"
      ]
    },
    {
      "cell_type": "markdown",
      "source": [
        "Cargamos el conjunto de datos fashion_mnist en keras."
      ],
      "metadata": {
        "id": "ero9LPX4c-Ke"
      }
    },
    {
      "cell_type": "code",
      "source": [
        "# 2.- CARGAMOS EL CONJUNTO DE DATOS FASHION_MNIST EN KERAS\n",
        "from keras.datasets import fashion_mnist # se importan los datos de fashion_mnist desde keras\n",
        "(train_images, train_labels), (test_images, test_labels) = fashion_mnist.load_data() # descargamos todos los datos\n",
        "# train_images y train_labels representan las imágenes y sus etiquetas que se utilizan para enseñar al modelo durante el entrenamiento, en el\n",
        "# caso de test_images y test_labels  evaluan la precisión del modelo después de haber sido entrenado."
      ],
      "metadata": {
        "id": "hFIQ4n4dc9Av"
      },
      "execution_count": 16,
      "outputs": []
    },
    {
      "cell_type": "markdown",
      "source": [
        "Mostramos los datos de entrenamiento."
      ],
      "metadata": {
        "id": "UB6_i4pdP1S-"
      }
    },
    {
      "cell_type": "code",
      "source": [
        "print(train_images.shape)"
      ],
      "metadata": {
        "colab": {
          "base_uri": "https://localhost:8080/"
        },
        "id": "6ych7PZ7fNKp",
        "outputId": "c93681ab-1dff-42d5-cb21-b631419a072f"
      },
      "execution_count": 17,
      "outputs": [
        {
          "output_type": "stream",
          "name": "stdout",
          "text": [
            "(60000, 28, 28)\n"
          ]
        }
      ]
    },
    {
      "cell_type": "markdown",
      "source": [
        "En la fase de preparación de datos, primero es fundamental examinar las dimensiones de las imágenes, tanto las de entrenamiento como las de prueba. Esto nos proporciona información sobre la estructura de datos que estamos tratando.\n",
        "\n",
        "Un paso imprescindible es la aplanación de las imágenes, para ello utilizamos la función de Keras llamada **\"Flatten\"**.\n",
        "\n",
        "La función **\"Flatten\"** crea una estructura lineal, permitiendo que el modelo comprenda mejor las relaciones y los patrones. Transforma imágenes 2D en vectores 1D, esto prepara nuestros datos para que puedan ser interpretadis y analizados de manera más eficiente por la red neuronal."
      ],
      "metadata": {
        "id": "4HhQFT3vgVup"
      }
    },
    {
      "cell_type": "code",
      "source": [
        "# mostramos las dimensiones de las imagenes, y cuantas hay en cada conjunto (comentario primeras 4 lineas)\n",
        "print(\"Forma de las imágenes de entrenamiento:\", train_images.shape)\n",
        "print(\"Forma de las etiquetas de entrenamiento:\", train_labels.shape)\n",
        "print(\"Forma de las imágenes de prueba:\", test_images.shape)\n",
        "print(\"Forma de las etiquetas de prueba:\", test_labels.shape)\n",
        "\n",
        "# importamos \"flatten\" pedida en el enunciado, para aplanar las imagenes\n",
        "from keras.layers import Flatten\n",
        "\n",
        "train_images_flat = train_images.reshape((train_images.shape[0], -1))\n",
        "\n",
        "test_images_flat = test_images.reshape((test_images.shape[0], -1))\n",
        "\n",
        "# iostramos las nuevas dimensiones de los conjuntos de datos aplanados\n",
        "print(\"\\nForma de las imágenes de entrenamiento aplanadas:\", train_images_flat.shape)\n",
        "print(\"Forma de las imágenes de prueba aplanadas:\", test_images_flat.shape)"
      ],
      "metadata": {
        "colab": {
          "base_uri": "https://localhost:8080/"
        },
        "id": "FB2q-OAQgBtt",
        "outputId": "ab5b73fc-f9c7-49e1-b298-53256a91c095"
      },
      "execution_count": 18,
      "outputs": [
        {
          "output_type": "stream",
          "name": "stdout",
          "text": [
            "Forma de las imágenes de entrenamiento: (60000, 28, 28)\n",
            "Forma de las etiquetas de entrenamiento: (60000,)\n",
            "Forma de las imágenes de prueba: (10000, 28, 28)\n",
            "Forma de las etiquetas de prueba: (10000,)\n",
            "\n",
            "Forma de las imágenes de entrenamiento aplanadas: (60000, 784)\n",
            "Forma de las imágenes de prueba aplanadas: (10000, 784)\n"
          ]
        }
      ]
    },
    {
      "cell_type": "markdown",
      "source": [
        "# CUESTIONES PARA IMPLEMENTAR Y RESPONDER"
      ],
      "metadata": {
        "id": "zG5SFN6EhOwr"
      }
    },
    {
      "cell_type": "markdown",
      "source": [
        "Con la biblioteca keras definimos, configuramos y entrenamos los modelos de redes neuronales con distintas configuraciones. Estos, se evalúan y entrenan en el conjunto de datos fashion MNIST para clasificar imágenes de moda, encontrando asi la mejor configuración del modelo para el problema."
      ],
      "metadata": {
        "id": "qcuxAVvBhbSF"
      }
    },
    {
      "cell_type": "code",
      "source": [
        "# importamos las bibliotecas necesarias.\n",
        "from keras import models\n",
        "from keras import layers\n",
        "from keras.datasets import fashion_mnist\n",
        "from keras.utils import to_categorical\n",
        "\n",
        "# cargamos los datos de fashion_mnist que contiene imágenes en blanco y negro (entreamiento y prueba).\n",
        "(train_images, train_labels), (test_images, test_labels) = fashion_mnist.load_data()\n",
        "\n",
        "# transformación de las imágenes para que la red neuronal las entienda mejor. (transformando las imágenes en un formato unidimensional y\n",
        "# asegurándose de que los valores de los píxeles estén en un rango de 0 a 1)\n",
        "\n",
        "# se transforman las etiquetas de entrenamiento en vectores \"one-hot encoding\" para su uso en problemas de clasificación.\n",
        "train_images = train_images.reshape((60000, 28 * 28))\n",
        "train_images = train_images.astype('float32') / 255\n",
        "test_images = test_images.reshape((10000, 28 * 28))\n",
        "test_images = test_images.astype('float32') / 255\n",
        "train_labels = to_categorical(train_labels)\n",
        "test_labels = to_categorical(test_labels)\n",
        "\n",
        "# se define una función llamada modelo_entrenamiento para crear y entrenar modelos de redes neuronales.\n",
        "def modelo_entrenamiento(neurons, activation, optimizer):\n",
        "    model = models.Sequential()\n",
        "    model.add(layers.Dense(neurons, activation=activation, input_shape=(28*28,)))\n",
        "    model.add(layers.Dense(10, activation='softmax'))\n",
        "\n",
        "    model.compile(optimizer=optimizer,\n",
        "                  loss='categorical_crossentropy',\n",
        "                  metrics=['accuracy'])\n",
        "\n",
        "    history = model.fit(train_images, train_labels, epochs=5, batch_size=64, validation_split=0.2)\n",
        "    return model, history\n",
        "\n",
        "# configuramos los 8 casos diferentes mediante una lista, variando el número de neuronas en la capa oculta, la función de activación y el\n",
        "# optimizador usado.\n",
        "models_and_histories = []\n",
        "\n",
        "casos = [\n",
        "    (10, 'relu', 'sgd'),\n",
        "    (10, 'relu', 'rmsprop'),\n",
        "    (10, 'sigmoid', 'sgd'),\n",
        "    (10, 'sigmoid', 'rmsprop'),\n",
        "    (512, 'relu', 'sgd'),\n",
        "    (512, 'relu', 'rmsprop'),\n",
        "    (512, 'sigmoid', 'sgd'),\n",
        "    (512, 'sigmoid', 'rmsprop')\n",
        "]\n",
        "\n",
        "# en el siguiente bucle iteramos sobre cada configuración de modelo y mostramos la información.\n",
        "for i, (neurons, activation, optimizer) in enumerate(casos, 1):\n",
        "    print(f\"Caso {i}: Neuronas_capa_1={neurons}, Función de activación={activation}, Optimizador={optimizer}\")\n",
        "    # entrenamos cada uno empleando los datos de entrenamiento.\n",
        "    model, history = modelo_entrenamiento(neurons, activation, optimizer)\n",
        "    models_and_histories.append((model, history))\n",
        "    model = models_and_histories[i - 1][0]\n",
        "    model.summary() # imprimimos un resumen de cada modelo\n",
        "    print(\"\\n\")"
      ],
      "metadata": {
        "colab": {
          "base_uri": "https://localhost:8080/"
        },
        "id": "vp6lLab8k0kc",
        "outputId": "13692556-2494-445f-e51c-ec0f9aa428f2"
      },
      "execution_count": 19,
      "outputs": [
        {
          "output_type": "stream",
          "name": "stdout",
          "text": [
            "Caso 1: Neuronas_capa_1=10, Función de activación=relu, Optimizador=sgd\n",
            "Epoch 1/5\n",
            "750/750 [==============================] - 3s 4ms/step - loss: 1.3386 - accuracy: 0.5671 - val_loss: 0.8565 - val_accuracy: 0.7277\n",
            "Epoch 2/5\n",
            "750/750 [==============================] - 3s 3ms/step - loss: 0.7573 - accuracy: 0.7580 - val_loss: 0.6750 - val_accuracy: 0.7803\n",
            "Epoch 3/5\n",
            "750/750 [==============================] - 3s 3ms/step - loss: 0.6423 - accuracy: 0.7919 - val_loss: 0.6105 - val_accuracy: 0.7940\n",
            "Epoch 4/5\n",
            "750/750 [==============================] - 3s 4ms/step - loss: 0.5884 - accuracy: 0.8064 - val_loss: 0.5677 - val_accuracy: 0.8080\n",
            "Epoch 5/5\n",
            "750/750 [==============================] - 3s 4ms/step - loss: 0.5561 - accuracy: 0.8146 - val_loss: 0.5453 - val_accuracy: 0.8168\n",
            "Model: \"sequential_11\"\n",
            "_________________________________________________________________\n",
            " Layer (type)                Output Shape              Param #   \n",
            "=================================================================\n",
            " dense_22 (Dense)            (None, 10)                7850      \n",
            "                                                                 \n",
            " dense_23 (Dense)            (None, 10)                110       \n",
            "                                                                 \n",
            "=================================================================\n",
            "Total params: 7960 (31.09 KB)\n",
            "Trainable params: 7960 (31.09 KB)\n",
            "Non-trainable params: 0 (0.00 Byte)\n",
            "_________________________________________________________________\n",
            "\n",
            "\n",
            "Caso 2: Neuronas_capa_1=10, Función de activación=relu, Optimizador=rmsprop\n",
            "Epoch 1/5\n",
            "750/750 [==============================] - 4s 4ms/step - loss: 0.7591 - accuracy: 0.7404 - val_loss: 0.5546 - val_accuracy: 0.8079\n",
            "Epoch 2/5\n",
            "750/750 [==============================] - 3s 4ms/step - loss: 0.5136 - accuracy: 0.8257 - val_loss: 0.4786 - val_accuracy: 0.8359\n",
            "Epoch 3/5\n",
            "750/750 [==============================] - 3s 4ms/step - loss: 0.4669 - accuracy: 0.8397 - val_loss: 0.4882 - val_accuracy: 0.8328\n",
            "Epoch 4/5\n",
            "750/750 [==============================] - 3s 4ms/step - loss: 0.4449 - accuracy: 0.8463 - val_loss: 0.4567 - val_accuracy: 0.8393\n",
            "Epoch 5/5\n",
            "750/750 [==============================] - 4s 5ms/step - loss: 0.4299 - accuracy: 0.8521 - val_loss: 0.4328 - val_accuracy: 0.8526\n",
            "Model: \"sequential_12\"\n",
            "_________________________________________________________________\n",
            " Layer (type)                Output Shape              Param #   \n",
            "=================================================================\n",
            " dense_24 (Dense)            (None, 10)                7850      \n",
            "                                                                 \n",
            " dense_25 (Dense)            (None, 10)                110       \n",
            "                                                                 \n",
            "=================================================================\n",
            "Total params: 7960 (31.09 KB)\n",
            "Trainable params: 7960 (31.09 KB)\n",
            "Non-trainable params: 0 (0.00 Byte)\n",
            "_________________________________________________________________\n",
            "\n",
            "\n",
            "Caso 3: Neuronas_capa_1=10, Función de activación=sigmoid, Optimizador=sgd\n",
            "Epoch 1/5\n",
            "750/750 [==============================] - 3s 4ms/step - loss: 2.0947 - accuracy: 0.3071 - val_loss: 1.8804 - val_accuracy: 0.4545\n",
            "Epoch 2/5\n",
            "750/750 [==============================] - 3s 4ms/step - loss: 1.7287 - accuracy: 0.5142 - val_loss: 1.5859 - val_accuracy: 0.5803\n",
            "Epoch 3/5\n",
            "750/750 [==============================] - 3s 4ms/step - loss: 1.4854 - accuracy: 0.5958 - val_loss: 1.3837 - val_accuracy: 0.6145\n",
            "Epoch 4/5\n",
            "750/750 [==============================] - 3s 4ms/step - loss: 1.3123 - accuracy: 0.6276 - val_loss: 1.2361 - val_accuracy: 0.6515\n",
            "Epoch 5/5\n",
            "750/750 [==============================] - 3s 3ms/step - loss: 1.1860 - accuracy: 0.6582 - val_loss: 1.1276 - val_accuracy: 0.6743\n",
            "Model: \"sequential_13\"\n",
            "_________________________________________________________________\n",
            " Layer (type)                Output Shape              Param #   \n",
            "=================================================================\n",
            " dense_26 (Dense)            (None, 10)                7850      \n",
            "                                                                 \n",
            " dense_27 (Dense)            (None, 10)                110       \n",
            "                                                                 \n",
            "=================================================================\n",
            "Total params: 7960 (31.09 KB)\n",
            "Trainable params: 7960 (31.09 KB)\n",
            "Non-trainable params: 0 (0.00 Byte)\n",
            "_________________________________________________________________\n",
            "\n",
            "\n",
            "Caso 4: Neuronas_capa_1=10, Función de activación=sigmoid, Optimizador=rmsprop\n",
            "Epoch 1/5\n",
            "750/750 [==============================] - 3s 4ms/step - loss: 1.3284 - accuracy: 0.6589 - val_loss: 0.9110 - val_accuracy: 0.7550\n",
            "Epoch 2/5\n",
            "750/750 [==============================] - 3s 4ms/step - loss: 0.7636 - accuracy: 0.7705 - val_loss: 0.6579 - val_accuracy: 0.7907\n",
            "Epoch 3/5\n",
            "750/750 [==============================] - 3s 4ms/step - loss: 0.6025 - accuracy: 0.8070 - val_loss: 0.5586 - val_accuracy: 0.8227\n",
            "Epoch 4/5\n",
            "750/750 [==============================] - 3s 4ms/step - loss: 0.5298 - accuracy: 0.8266 - val_loss: 0.5102 - val_accuracy: 0.8312\n",
            "Epoch 5/5\n",
            "750/750 [==============================] - 3s 3ms/step - loss: 0.4893 - accuracy: 0.8359 - val_loss: 0.4852 - val_accuracy: 0.8387\n",
            "Model: \"sequential_14\"\n",
            "_________________________________________________________________\n",
            " Layer (type)                Output Shape              Param #   \n",
            "=================================================================\n",
            " dense_28 (Dense)            (None, 10)                7850      \n",
            "                                                                 \n",
            " dense_29 (Dense)            (None, 10)                110       \n",
            "                                                                 \n",
            "=================================================================\n",
            "Total params: 7960 (31.09 KB)\n",
            "Trainable params: 7960 (31.09 KB)\n",
            "Non-trainable params: 0 (0.00 Byte)\n",
            "_________________________________________________________________\n",
            "\n",
            "\n",
            "Caso 5: Neuronas_capa_1=512, Función de activación=relu, Optimizador=sgd\n",
            "Epoch 1/5\n",
            "750/750 [==============================] - 3s 4ms/step - loss: 0.8979 - accuracy: 0.7212 - val_loss: 0.6396 - val_accuracy: 0.7969\n",
            "Epoch 2/5\n",
            "750/750 [==============================] - 3s 3ms/step - loss: 0.5913 - accuracy: 0.8092 - val_loss: 0.5528 - val_accuracy: 0.8164\n",
            "Epoch 3/5\n",
            "750/750 [==============================] - 3s 4ms/step - loss: 0.5283 - accuracy: 0.8248 - val_loss: 0.5080 - val_accuracy: 0.8271\n",
            "Epoch 4/5\n",
            "750/750 [==============================] - 4s 5ms/step - loss: 0.4946 - accuracy: 0.8347 - val_loss: 0.4843 - val_accuracy: 0.8351\n",
            "Epoch 5/5\n",
            "750/750 [==============================] - 2s 3ms/step - loss: 0.4721 - accuracy: 0.8411 - val_loss: 0.4689 - val_accuracy: 0.8396\n",
            "Model: \"sequential_15\"\n",
            "_________________________________________________________________\n",
            " Layer (type)                Output Shape              Param #   \n",
            "=================================================================\n",
            " dense_30 (Dense)            (None, 512)               401920    \n",
            "                                                                 \n",
            " dense_31 (Dense)            (None, 10)                5130      \n",
            "                                                                 \n",
            "=================================================================\n",
            "Total params: 407050 (1.55 MB)\n",
            "Trainable params: 407050 (1.55 MB)\n",
            "Non-trainable params: 0 (0.00 Byte)\n",
            "_________________________________________________________________\n",
            "\n",
            "\n",
            "Caso 6: Neuronas_capa_1=512, Función de activación=relu, Optimizador=rmsprop\n",
            "Epoch 1/5\n",
            "750/750 [==============================] - 4s 5ms/step - loss: 0.5427 - accuracy: 0.8065 - val_loss: 0.4186 - val_accuracy: 0.8484\n",
            "Epoch 2/5\n",
            "750/750 [==============================] - 3s 3ms/step - loss: 0.3810 - accuracy: 0.8618 - val_loss: 0.3691 - val_accuracy: 0.8637\n",
            "Epoch 3/5\n",
            "750/750 [==============================] - 2s 3ms/step - loss: 0.3403 - accuracy: 0.8736 - val_loss: 0.3705 - val_accuracy: 0.8673\n",
            "Epoch 4/5\n",
            "750/750 [==============================] - 3s 4ms/step - loss: 0.3160 - accuracy: 0.8853 - val_loss: 0.3352 - val_accuracy: 0.8788\n",
            "Epoch 5/5\n",
            "750/750 [==============================] - 3s 5ms/step - loss: 0.2961 - accuracy: 0.8914 - val_loss: 0.3472 - val_accuracy: 0.8798\n",
            "Model: \"sequential_16\"\n",
            "_________________________________________________________________\n",
            " Layer (type)                Output Shape              Param #   \n",
            "=================================================================\n",
            " dense_32 (Dense)            (None, 512)               401920    \n",
            "                                                                 \n",
            " dense_33 (Dense)            (None, 10)                5130      \n",
            "                                                                 \n",
            "=================================================================\n",
            "Total params: 407050 (1.55 MB)\n",
            "Trainable params: 407050 (1.55 MB)\n",
            "Non-trainable params: 0 (0.00 Byte)\n",
            "_________________________________________________________________\n",
            "\n",
            "\n",
            "Caso 7: Neuronas_capa_1=512, Función de activación=sigmoid, Optimizador=sgd\n",
            "Epoch 1/5\n",
            "750/750 [==============================] - 3s 4ms/step - loss: 1.5169 - accuracy: 0.6124 - val_loss: 1.0837 - val_accuracy: 0.7184\n",
            "Epoch 2/5\n",
            "750/750 [==============================] - 4s 6ms/step - loss: 0.9461 - accuracy: 0.7268 - val_loss: 0.8377 - val_accuracy: 0.7382\n",
            "Epoch 3/5\n",
            "750/750 [==============================] - 3s 4ms/step - loss: 0.7914 - accuracy: 0.7471 - val_loss: 0.7405 - val_accuracy: 0.7525\n",
            "Epoch 4/5\n",
            "750/750 [==============================] - 3s 3ms/step - loss: 0.7175 - accuracy: 0.7598 - val_loss: 0.6830 - val_accuracy: 0.7653\n",
            "Epoch 5/5\n",
            "750/750 [==============================] - 3s 3ms/step - loss: 0.6719 - accuracy: 0.7705 - val_loss: 0.6478 - val_accuracy: 0.7763\n",
            "Model: \"sequential_17\"\n",
            "_________________________________________________________________\n",
            " Layer (type)                Output Shape              Param #   \n",
            "=================================================================\n",
            " dense_34 (Dense)            (None, 512)               401920    \n",
            "                                                                 \n",
            " dense_35 (Dense)            (None, 10)                5130      \n",
            "                                                                 \n",
            "=================================================================\n",
            "Total params: 407050 (1.55 MB)\n",
            "Trainable params: 407050 (1.55 MB)\n",
            "Non-trainable params: 0 (0.00 Byte)\n",
            "_________________________________________________________________\n",
            "\n",
            "\n",
            "Caso 8: Neuronas_capa_1=512, Función de activación=sigmoid, Optimizador=rmsprop\n",
            "Epoch 1/5\n",
            "750/750 [==============================] - 3s 4ms/step - loss: 0.5851 - accuracy: 0.7930 - val_loss: 0.4755 - val_accuracy: 0.8205\n",
            "Epoch 2/5\n",
            "750/750 [==============================] - 2s 3ms/step - loss: 0.4331 - accuracy: 0.8418 - val_loss: 0.4321 - val_accuracy: 0.8407\n",
            "Epoch 3/5\n",
            "750/750 [==============================] - 3s 4ms/step - loss: 0.3951 - accuracy: 0.8566 - val_loss: 0.4041 - val_accuracy: 0.8494\n",
            "Epoch 4/5\n",
            "750/750 [==============================] - 3s 3ms/step - loss: 0.3676 - accuracy: 0.8656 - val_loss: 0.4278 - val_accuracy: 0.8418\n",
            "Epoch 5/5\n",
            "750/750 [==============================] - 3s 3ms/step - loss: 0.3486 - accuracy: 0.8718 - val_loss: 0.3677 - val_accuracy: 0.8662\n",
            "Model: \"sequential_18\"\n",
            "_________________________________________________________________\n",
            " Layer (type)                Output Shape              Param #   \n",
            "=================================================================\n",
            " dense_36 (Dense)            (None, 512)               401920    \n",
            "                                                                 \n",
            " dense_37 (Dense)            (None, 10)                5130      \n",
            "                                                                 \n",
            "=================================================================\n",
            "Total params: 407050 (1.55 MB)\n",
            "Trainable params: 407050 (1.55 MB)\n",
            "Non-trainable params: 0 (0.00 Byte)\n",
            "_________________________________________________________________\n",
            "\n",
            "\n"
          ]
        }
      ]
    },
    {
      "cell_type": "markdown",
      "source": [
        "Cada caso incluye dos capas que realiza la llamada **model.summary()**: Una oculta y una de salida. La capa oculta varía en el número de neuronas y la función de activación, mientras que la de salida consta de 10 neuronas y utiliza la función softmax. La tabla muestra información sobre la cantidad total de parámetros, lo que demuestra la complejidad del modelo.\n",
        "\n",
        "Caso 1:\n",
        "- Configuración: 10 neuronas en la oculta, función activación= \"relu,\" optimizador \"sgd.\"\n",
        "- Rendimiento: La red alcanza una precisión del 81.42% después de 5 épocas.\n",
        "- Estructura: Dos capas, una con 10 neuronas y otra con 10 neuronas de salida.\n",
        "\n",
        "Caso 2:\n",
        "- Configuración: 10 neuronas en la oculta, función activación=\"relu,\" optimizador \"rmsprop.\"\n",
        "- Rendimiento: La red alcanza una precisión del 84.39% tras de 5 épocas.\n",
        "- Estructura: Dos capas, una con 10 neuronas y otra con 10 neuronas de salida.\n",
        "\n",
        "Caso 3:\n",
        "- Configuración: 10 neuronas en la oculta, función activación = \"sigmoid,\" optimizador \"sgd.\"\n",
        "- Rendimiento: 67.68% después de 5 épocas.\n",
        "- Estructura: Dos capas, 10 neuronas en cada una\n",
        "\n",
        "Caso 4:\n",
        "- Configuración: 10 neuronas en la oculta, función activación \"sigmoid,\" optimizador \"rmsprop.\"\n",
        "- Rendimiento: alcanza una precisión del 83.72% al final de 5 épocas.\n",
        "- Estructura: Dos capas, 10 neuronas en cada una.\n",
        "\n",
        "Caso 5:\n",
        "- Configuración: 512 neuronas en la oculta, función activación \"relu,\" optimizador \"sgd.\"\n",
        "- Rendimiento: 83.97% en el conjunto de validación tras 5 épocas.\n",
        "- Estructura: Dos capas, una con 512 neuronas y otra 10 de salida.\n",
        "\n",
        "Caso 6:\n",
        "- Configuración: 512 neuronas en la oculta, función activación \"relu,\" optimizador \"rmsprop.\"\n",
        "- Rendimiento: 86.87% después de 5 épocas.\n",
        "- Estructura: Dos capas, una con 512 neuronas y otra con 10 de salida.\n",
        "\n",
        "Caso 7:\n",
        "- Configuración: 512 neuronas en la  oculta, función activación \"sigmoid,\" optimizador \"sgd.\"\n",
        "- Rendimiento: La red alcanza una precisión del 77.70% en el conjunto de validación después de 5 épocas.\n",
        "- Estructura: Dos capas, una con 512 neuronas y otra con 10 de salida.\n",
        "\n",
        "Caso 8:\n",
        "- Configuración: 512 neuronas en la oculta, función activación \"sigmoid,\" optimizador \"rmsprop.\"\n",
        "- Rendimiento: obtiene una precisión del 87.07% después de 5 épocas.\n",
        "- Estructura: Dos capas, una con 512 neuronas y otra con 10 de salida."
      ],
      "metadata": {
        "id": "IjyMMErJsbwL"
      }
    },
    {
      "cell_type": "markdown",
      "source": [
        " Este código genera un archivo de imagen llamado \"my_first_model.png\" que muestra las capas del modelo y las conexiones entre ellas, permitiendo una visualización gráfica de la arquitectura de la red. La opción show_shapes=True en la función plot_model agrega información sobre las formas de los tensores en cada capa."
      ],
      "metadata": {
        "id": "QRfrdfs7eR4e"
      }
    },
    {
      "cell_type": "code",
      "source": [
        "import tensorflow as tf\n",
        "from tensorflow import keras\n",
        "from tensorflow.keras import layers\n",
        "keras.utils.plot_model(model, \"my_first_model.png\", show_shapes=True)"
      ],
      "metadata": {
        "colab": {
          "base_uri": "https://localhost:8080/",
          "height": 312
        },
        "id": "ngBnTKV7471p",
        "outputId": "ccfd79a2-152e-4fa8-c1ef-feeab915c421"
      },
      "execution_count": 20,
      "outputs": [
        {
          "output_type": "execute_result",
          "data": {
            "image/png": "[encoded data removed]",
            "text/plain": [
              "<IPython.core.display.Image object>"
            ]
          },
          "metadata": {},
          "execution_count": 20
        }
      ]
    },
    {
      "cell_type": "code",
      "source": [
        "# función para crear y entrenar un modelo con 25 épocas\n",
        "def modemo_entrenamiento_25_epocas(neurons, activation, optimizer):\n",
        "    model = models.Sequential()\n",
        "    model.add(layers.Dense(neurons, activation=activation, input_shape=(28*28,)))\n",
        "    model.add(layers.Dense(10, activation='softmax'))\n",
        "\n",
        "    model.compile(optimizer=optimizer,\n",
        "                  loss='categorical_crossentropy',\n",
        "                  metrics=['accuracy'])\n",
        "\n",
        "    history = model.fit(train_images, train_labels, epochs=25, batch_size=64, validation_split=0.2)\n",
        "    return model, history\n",
        "\n",
        "# configurar y entrenar los casos 2 y 7 con 25 épocas\n",
        "casos2 = [\n",
        "    (10, 'relu', 'rmsprop'), # caso 2\n",
        "    (512, 'sigmoid', 'sgd') # caso 7\n",
        "]\n",
        "\n",
        "results_with_25_epochs = []\n",
        "\n",
        "for i, (neurons, activation, optimizer) in enumerate(casos2, 1):\n",
        "    print(f\"Caso {i} con 25 épocas: Neuronas_capa_1={neurons}, Función de activación={activation}, Optimizador={optimizer}\")\n",
        "    model, history = modemo_entrenamiento_25_epocas(neurons, activation, optimizer)\n",
        "    results_with_25_epochs.append((model, history))\n",
        "    print(\"\\n\")\n",
        "\n",
        "# ahora tenemos los resultados de los casos 2 y 7 con 25 épocas de entrenamiento."
      ],
      "metadata": {
        "colab": {
          "base_uri": "https://localhost:8080/"
        },
        "id": "QgXo7roXt99J",
        "outputId": "dac93088-0c32-440e-ba33-c6723f02fe53"
      },
      "execution_count": 21,
      "outputs": [
        {
          "output_type": "stream",
          "name": "stdout",
          "text": [
            "Caso 1 con 25 épocas: Neuronas_capa_1=10, Función de activación=relu, Optimizador=rmsprop\n",
            "Epoch 1/25\n",
            "750/750 [==============================] - 3s 4ms/step - loss: 0.8015 - accuracy: 0.7443 - val_loss: 0.5369 - val_accuracy: 0.8133\n",
            "Epoch 2/25\n",
            "750/750 [==============================] - 3s 4ms/step - loss: 0.5022 - accuracy: 0.8269 - val_loss: 0.4912 - val_accuracy: 0.8255\n",
            "Epoch 3/25\n",
            "750/750 [==============================] - 3s 4ms/step - loss: 0.4623 - accuracy: 0.8406 - val_loss: 0.4658 - val_accuracy: 0.8340\n",
            "Epoch 4/25\n",
            "750/750 [==============================] - 2s 3ms/step - loss: 0.4407 - accuracy: 0.8470 - val_loss: 0.4612 - val_accuracy: 0.8329\n",
            "Epoch 5/25\n",
            "750/750 [==============================] - 2s 3ms/step - loss: 0.4268 - accuracy: 0.8518 - val_loss: 0.4312 - val_accuracy: 0.8485\n",
            "Epoch 6/25\n",
            "750/750 [==============================] - 2s 3ms/step - loss: 0.4186 - accuracy: 0.8553 - val_loss: 0.4408 - val_accuracy: 0.8455\n",
            "Epoch 7/25\n",
            "750/750 [==============================] - 3s 4ms/step - loss: 0.4089 - accuracy: 0.8568 - val_loss: 0.4228 - val_accuracy: 0.8524\n",
            "Epoch 8/25\n",
            "750/750 [==============================] - 3s 4ms/step - loss: 0.4030 - accuracy: 0.8591 - val_loss: 0.4233 - val_accuracy: 0.8545\n",
            "Epoch 9/25\n",
            "750/750 [==============================] - 2s 3ms/step - loss: 0.3986 - accuracy: 0.8612 - val_loss: 0.4368 - val_accuracy: 0.8461\n",
            "Epoch 10/25\n",
            "750/750 [==============================] - 3s 4ms/step - loss: 0.3928 - accuracy: 0.8628 - val_loss: 0.4149 - val_accuracy: 0.8521\n",
            "Epoch 11/25\n",
            "750/750 [==============================] - 3s 4ms/step - loss: 0.3889 - accuracy: 0.8629 - val_loss: 0.4193 - val_accuracy: 0.8547\n",
            "Epoch 12/25\n",
            "750/750 [==============================] - 3s 4ms/step - loss: 0.3853 - accuracy: 0.8643 - val_loss: 0.4099 - val_accuracy: 0.8594\n",
            "Epoch 13/25\n",
            "750/750 [==============================] - 3s 4ms/step - loss: 0.3830 - accuracy: 0.8661 - val_loss: 0.4370 - val_accuracy: 0.8499\n",
            "Epoch 14/25\n",
            "750/750 [==============================] - 3s 4ms/step - loss: 0.3798 - accuracy: 0.8670 - val_loss: 0.4285 - val_accuracy: 0.8497\n",
            "Epoch 15/25\n",
            "750/750 [==============================] - 3s 4ms/step - loss: 0.3768 - accuracy: 0.8664 - val_loss: 0.4096 - val_accuracy: 0.8584\n",
            "Epoch 16/25\n",
            "750/750 [==============================] - 3s 4ms/step - loss: 0.3739 - accuracy: 0.8683 - val_loss: 0.4300 - val_accuracy: 0.8500\n",
            "Epoch 17/25\n",
            "750/750 [==============================] - 3s 3ms/step - loss: 0.3726 - accuracy: 0.8691 - val_loss: 0.4084 - val_accuracy: 0.8608\n",
            "Epoch 18/25\n",
            "750/750 [==============================] - 3s 4ms/step - loss: 0.3703 - accuracy: 0.8700 - val_loss: 0.4212 - val_accuracy: 0.8534\n",
            "Epoch 19/25\n",
            "750/750 [==============================] - 3s 4ms/step - loss: 0.3689 - accuracy: 0.8700 - val_loss: 0.4086 - val_accuracy: 0.8609\n",
            "Epoch 20/25\n",
            "750/750 [==============================] - 3s 4ms/step - loss: 0.3667 - accuracy: 0.8714 - val_loss: 0.4125 - val_accuracy: 0.8558\n",
            "Epoch 21/25\n",
            "750/750 [==============================] - 2s 3ms/step - loss: 0.3644 - accuracy: 0.8716 - val_loss: 0.4204 - val_accuracy: 0.8584\n",
            "Epoch 22/25\n",
            "750/750 [==============================] - 3s 3ms/step - loss: 0.3624 - accuracy: 0.8730 - val_loss: 0.4171 - val_accuracy: 0.8568\n",
            "Epoch 23/25\n",
            "750/750 [==============================] - 3s 4ms/step - loss: 0.3614 - accuracy: 0.8710 - val_loss: 0.4134 - val_accuracy: 0.8586\n",
            "Epoch 24/25\n",
            "750/750 [==============================] - 3s 4ms/step - loss: 0.3594 - accuracy: 0.8728 - val_loss: 0.4216 - val_accuracy: 0.8546\n",
            "Epoch 25/25\n",
            "750/750 [==============================] - 3s 4ms/step - loss: 0.3577 - accuracy: 0.8735 - val_loss: 0.4137 - val_accuracy: 0.8578\n",
            "\n",
            "\n",
            "Caso 2 con 25 épocas: Neuronas_capa_1=512, Función de activación=sigmoid, Optimizador=sgd\n",
            "Epoch 1/25\n",
            "750/750 [==============================] - 3s 4ms/step - loss: 1.5271 - accuracy: 0.6092 - val_loss: 1.0899 - val_accuracy: 0.7102\n",
            "Epoch 2/25\n",
            "750/750 [==============================] - 3s 4ms/step - loss: 0.9526 - accuracy: 0.7288 - val_loss: 0.8412 - val_accuracy: 0.7450\n",
            "Epoch 3/25\n",
            "750/750 [==============================] - 3s 4ms/step - loss: 0.7960 - accuracy: 0.7489 - val_loss: 0.7437 - val_accuracy: 0.7567\n",
            "Epoch 4/25\n",
            "750/750 [==============================] - 3s 4ms/step - loss: 0.7208 - accuracy: 0.7603 - val_loss: 0.6874 - val_accuracy: 0.7643\n",
            "Epoch 5/25\n",
            "750/750 [==============================] - 3s 4ms/step - loss: 0.6745 - accuracy: 0.7711 - val_loss: 0.6585 - val_accuracy: 0.7731\n",
            "Epoch 6/25\n",
            "750/750 [==============================] - 3s 3ms/step - loss: 0.6421 - accuracy: 0.7803 - val_loss: 0.6247 - val_accuracy: 0.7849\n",
            "Epoch 7/25\n",
            "750/750 [==============================] - 2s 3ms/step - loss: 0.6168 - accuracy: 0.7883 - val_loss: 0.6010 - val_accuracy: 0.7915\n",
            "Epoch 8/25\n",
            "750/750 [==============================] - 3s 4ms/step - loss: 0.5963 - accuracy: 0.7939 - val_loss: 0.5841 - val_accuracy: 0.7972\n",
            "Epoch 9/25\n",
            "750/750 [==============================] - 2s 3ms/step - loss: 0.5796 - accuracy: 0.8005 - val_loss: 0.5717 - val_accuracy: 0.7978\n",
            "Epoch 10/25\n",
            "750/750 [==============================] - 2s 3ms/step - loss: 0.5655 - accuracy: 0.8043 - val_loss: 0.5569 - val_accuracy: 0.8029\n",
            "Epoch 11/25\n",
            "750/750 [==============================] - 3s 4ms/step - loss: 0.5533 - accuracy: 0.8089 - val_loss: 0.5464 - val_accuracy: 0.8066\n",
            "Epoch 12/25\n",
            "750/750 [==============================] - 3s 4ms/step - loss: 0.5426 - accuracy: 0.8126 - val_loss: 0.5404 - val_accuracy: 0.8100\n",
            "Epoch 13/25\n",
            "750/750 [==============================] - 3s 4ms/step - loss: 0.5336 - accuracy: 0.8169 - val_loss: 0.5299 - val_accuracy: 0.8144\n",
            "Epoch 14/25\n",
            "750/750 [==============================] - 3s 4ms/step - loss: 0.5256 - accuracy: 0.8189 - val_loss: 0.5245 - val_accuracy: 0.8157\n",
            "Epoch 15/25\n",
            "750/750 [==============================] - 3s 4ms/step - loss: 0.5183 - accuracy: 0.8215 - val_loss: 0.5167 - val_accuracy: 0.8187\n",
            "Epoch 16/25\n",
            "750/750 [==============================] - 3s 4ms/step - loss: 0.5119 - accuracy: 0.8230 - val_loss: 0.5136 - val_accuracy: 0.8176\n",
            "Epoch 17/25\n",
            "750/750 [==============================] - 3s 5ms/step - loss: 0.5062 - accuracy: 0.8252 - val_loss: 0.5049 - val_accuracy: 0.8222\n",
            "Epoch 18/25\n",
            "750/750 [==============================] - 3s 4ms/step - loss: 0.5008 - accuracy: 0.8267 - val_loss: 0.5010 - val_accuracy: 0.8215\n",
            "Epoch 19/25\n",
            "750/750 [==============================] - 3s 4ms/step - loss: 0.4956 - accuracy: 0.8288 - val_loss: 0.4956 - val_accuracy: 0.8241\n",
            "Epoch 20/25\n",
            "750/750 [==============================] - 3s 4ms/step - loss: 0.4912 - accuracy: 0.8302 - val_loss: 0.4928 - val_accuracy: 0.8230\n",
            "Epoch 21/25\n",
            "750/750 [==============================] - 3s 4ms/step - loss: 0.4872 - accuracy: 0.8315 - val_loss: 0.4881 - val_accuracy: 0.8264\n",
            "Epoch 22/25\n",
            "750/750 [==============================] - 3s 4ms/step - loss: 0.4832 - accuracy: 0.8329 - val_loss: 0.4868 - val_accuracy: 0.8269\n",
            "Epoch 23/25\n",
            "750/750 [==============================] - 2s 3ms/step - loss: 0.4796 - accuracy: 0.8345 - val_loss: 0.4848 - val_accuracy: 0.8251\n",
            "Epoch 24/25\n",
            "750/750 [==============================] - 2s 3ms/step - loss: 0.4762 - accuracy: 0.8351 - val_loss: 0.4796 - val_accuracy: 0.8282\n",
            "Epoch 25/25\n",
            "750/750 [==============================] - 2s 3ms/step - loss: 0.4733 - accuracy: 0.8368 - val_loss: 0.4751 - val_accuracy: 0.8322\n",
            "\n",
            "\n"
          ]
        }
      ]
    },
    {
      "cell_type": "markdown",
      "source": [
        "Al incrementar de 5 épocas a 25, el caso 2 en un principio tenía capa oculta de 10 neuronas, función de activación \"relu\" y optimizador \"rmsprop\". El modelo ha mejorado su capacidad para aprender patrones en los datos, lo que conlleva a una mejor precisión disminuyendo la pérdida. Es importante tener en cuenta que puede haber sobreajuste un riesgo de sobreajuste ya que el modelo podría aprender detalles demasiado específicos de los ejemplos de entrenamiento.\n",
        "\n",
        "En el caso 7, con 512 neuronas en la capa oculta, función de activación \"sigmoide\" y optimizador \"sgd\" se observa una mejora en el rendimiento en comparación con el resultado después de 5 épocas. Esto se debe a que el modelo dispone de más tiempo para alcanzar una solución óptima."
      ],
      "metadata": {
        "id": "obmO8sqFvXyT"
      }
    },
    {
      "cell_type": "markdown",
      "source": [
        "Visualizamos la matriz de confusión que se muestra como una imagen con etiquetas de clase y valores en cada celda. Con la función se puede evaluar el rendimiento de modelos de clasificación y entender cómo se comportan en la clasificación de datos."
      ],
      "metadata": {
        "id": "eB8Tb1BNyDlT"
      }
    },
    {
      "cell_type": "code",
      "source": [
        "# importamos biblioteca numpy para calculos numéricos.\n",
        "import numpy as np\n",
        "\n",
        "# importamos biblioteca itertools para iteraciones.\n",
        "import itertools\n",
        "\n",
        "# para la creación de gráficos.\n",
        "import matplotlib.pyplot as plt\n",
        "\n",
        "# definimos una función para la matriz de confusión\n",
        "def plot_confusion_matrix(cm, classes, # matriz de confusión y lista de clases\n",
        "                          normalize=False, # vemos si se normaliza la matriz\n",
        "                          title='Matriz de confusión', # título\n",
        "                          cmap=plt.cm.Blues): # colores para la visualización\n",
        "    \"\"\"\n",
        "    This function prints and plots the confusion matrix.\n",
        "    Normalization can be applied by setting `normalize=True`.\n",
        "    \"\"\"\n",
        "    # muestra la matriz como una imagen\n",
        "    plt.imshow(cm, interpolation='nearest', cmap=cmap)\n",
        "    plt.title(title)\n",
        "    plt.colorbar() # colores para interpretar los valores\n",
        "    tick_marks = np.arange(len(classes))\n",
        "    plt.xticks(tick_marks, classes, rotation=45)\n",
        "    plt.yticks(tick_marks, classes) # marcas para saber la longitud de la lista de clases\n",
        "\n",
        "    # en caso de True convierte los valores en proporciones\n",
        "    if normalize:\n",
        "        cm = cm.astype('float') / cm.sum(axis=1)[:, np.newaxis]\n",
        "\n",
        "    thresh = cm.max() / 2. # calcula el umbral\n",
        "\n",
        "    # bucle que recorre filas y columnas de la matriz\n",
        "    for i, j in itertools.product(range(cm.shape[0]), range(cm.shape[1])):\n",
        "        plt.text(j, i, cm[i, j], # agrega texto en las celdas según el valor del umbral\n",
        "                 horizontalalignment=\"center\",\n",
        "                 color=\"white\" if cm[i, j] > thresh else \"black\")\n",
        "\n",
        "    plt.tight_layout()\n",
        "    plt.ylabel('Observación') # eje Y observación\n",
        "    plt.xlabel('Predicción') # eje X predicción"
      ],
      "metadata": {
        "id": "AIysEeWcyA7G"
      },
      "execution_count": 22,
      "outputs": []
    },
    {
      "cell_type": "code",
      "source": [
        "from sklearn.metrics import confusion_matrix\n",
        "import itertools\n",
        "import numpy as np\n",
        "import matplotlib.pyplot as plt\n",
        "\n",
        "casos = [\n",
        "    (10, 'relu', 'sgd'),\n",
        "    (10, 'relu', 'rmsprop'),\n",
        "    (10, 'sigmoid', 'sgd'),\n",
        "    (10, 'sigmoid', 'rmsprop'),\n",
        "    (512, 'relu', 'sgd'),\n",
        "    (512, 'relu', 'rmsprop'),\n",
        "    (512, 'sigmoid', 'sgd'),\n",
        "    (512, 'sigmoid', 'rmsprop')\n",
        "]\n",
        "\n",
        "# mostramos el rendimiento\n",
        "def evaluar_modelo(model, test_images, test_labels):\n",
        "    test_loss, test_acc = model.evaluate(test_images, test_labels)\n",
        "    print('Test Loss:', test_loss)\n",
        "    print('Test Accuracy:', test_acc)\n",
        "\n",
        "    # predicción de valores\n",
        "Y_pred = model.predict(test_images)\n",
        "\n",
        "    # convertir en predicciones\n",
        "Y_pred_classes = np.argmax(Y_pred, axis=1)\n",
        "\n",
        "    # convertir en clases de observación\n",
        "Y_true = np.argmax(test_labels, axis=1)\n",
        "\n",
        "    # matriz de confusión\n",
        "confusion_mtx = confusion_matrix(Y_true, Y_pred_classes)\n",
        "\n",
        "# la dibujamos\n",
        "plot_confusion_matrix(confusion_mtx, classes=range(10))\n",
        "\n",
        "# evaluamos y mostramos rendimiento\n",
        "for i, (neurons, activation, optimizer) in enumerate(casos, 1):\n",
        "    print(f\"Caso {i}: Neuronas_capa_1={neurons}, Función de activación={activation}, Optimizador={optimizer}\")\n",
        "    model = models_and_histories[i - 1][0]\n",
        "    evaluar_modelo(model, test_images, test_labels)\n",
        "    print(\"\\n\")"
      ],
      "metadata": {
        "colab": {
          "base_uri": "https://localhost:8080/",
          "height": 1000
        },
        "id": "XPfGQw5jxVZQ",
        "outputId": "803e0196-880c-4fe6-e0db-9c0b72f09626"
      },
      "execution_count": 23,
      "outputs": [
        {
          "output_type": "stream",
          "name": "stdout",
          "text": [
            "313/313 [==============================] - 1s 2ms/step\n",
            "Caso 1: Neuronas_capa_1=10, Función de activación=relu, Optimizador=sgd\n",
            "313/313 [==============================] - 1s 4ms/step - loss: 0.5720 - accuracy: 0.8051\n",
            "Test Loss: 0.5719558000564575\n",
            "Test Accuracy: 0.8051000237464905\n",
            "\n",
            "\n",
            "Caso 2: Neuronas_capa_1=10, Función de activación=relu, Optimizador=rmsprop\n",
            "313/313 [==============================] - 1s 4ms/step - loss: 0.4604 - accuracy: 0.8425\n",
            "Test Loss: 0.4603579044342041\n",
            "Test Accuracy: 0.8424999713897705\n",
            "\n",
            "\n",
            "Caso 3: Neuronas_capa_1=10, Función de activación=sigmoid, Optimizador=sgd\n",
            "313/313 [==============================] - 1s 3ms/step - loss: 1.1416 - accuracy: 0.6624\n",
            "Test Loss: 1.1416089534759521\n",
            "Test Accuracy: 0.6624000072479248\n",
            "\n",
            "\n",
            "Caso 4: Neuronas_capa_1=10, Función de activación=sigmoid, Optimizador=rmsprop\n",
            "313/313 [==============================] - 1s 3ms/step - loss: 0.5105 - accuracy: 0.8251\n",
            "Test Loss: 0.5105220675468445\n",
            "Test Accuracy: 0.8251000046730042\n",
            "\n",
            "\n",
            "Caso 5: Neuronas_capa_1=512, Función de activación=relu, Optimizador=sgd\n",
            "313/313 [==============================] - 1s 3ms/step - loss: 0.4920 - accuracy: 0.8306\n",
            "Test Loss: 0.4919898509979248\n",
            "Test Accuracy: 0.8306000232696533\n",
            "\n",
            "\n",
            "Caso 6: Neuronas_capa_1=512, Función de activación=relu, Optimizador=rmsprop\n",
            "313/313 [==============================] - 1s 2ms/step - loss: 0.3738 - accuracy: 0.8737\n",
            "Test Loss: 0.3738108277320862\n",
            "Test Accuracy: 0.8737000226974487\n",
            "\n",
            "\n",
            "Caso 7: Neuronas_capa_1=512, Función de activación=sigmoid, Optimizador=sgd\n",
            "313/313 [==============================] - 1s 3ms/step - loss: 0.6680 - accuracy: 0.7676\n",
            "Test Loss: 0.6679749488830566\n",
            "Test Accuracy: 0.7675999999046326\n",
            "\n",
            "\n",
            "Caso 8: Neuronas_capa_1=512, Función de activación=sigmoid, Optimizador=rmsprop\n",
            "313/313 [==============================] - 1s 3ms/step - loss: 0.3985 - accuracy: 0.8577\n",
            "Test Loss: 0.3985190987586975\n",
            "Test Accuracy: 0.857699990272522\n",
            "\n",
            "\n"
          ]
        },
        {
          "output_type": "display_data",
          "data": {
            "text/plain": [
              "<Figure size 640x480 with 2 Axes>"
            ],
            "image/png": "[encoded data removed]"
          },
          "metadata": {}
        }
      ]
    },
    {
      "cell_type": "markdown",
      "source": [
        "Estos resultados muestran el rendimiento de cada uno de los 8 modelos comparando en el conjunto de datos de prueba.\n",
        "\n",
        "Caso 1:\n",
        "\n",
        "- Neuronas en la capa oculta: 10\n",
        "- Función de activación: relu\n",
        "- Optimizador: sgd\n",
        "- Pérdida en el conjunto de prueba: 0.5538\n",
        "- Precisión en el conjunto de prueba: 80.43%\n",
        "\n",
        "Caso 2:\n",
        "\n",
        "- Neuronas en la capa oculta: 10\n",
        "- Función de activación: relu\n",
        "- Optimizador: rmsprop\n",
        "- Pérdida en el conjunto de prueba: 0.4669\n",
        "- Precisión en el conjunto de prueba: 83.74%\n",
        "\n",
        "Caso 3:\n",
        "\n",
        "- Neuronas en la capa oculta: 10\n",
        "- Función de activación: sigmoid\n",
        "- Optimizador: sgd\n",
        "- Pérdida en el conjunto de prueba: 1.0809\n",
        "- Precisión en el conjunto de prueba: 72.13%\n",
        "\n",
        "Caso 4:\n",
        "\n",
        "- Neuronas en la capa oculta: 10\n",
        "- Función de activación: sigmoid\n",
        "- Optimizador: rmsprop\n",
        "- Pérdida en el conjunto de prueba: 0.4921\n",
        "- Precisión en el conjunto de prueba: 82.84%\n",
        "\n",
        "Caso 5:\n",
        "\n",
        "- Neuronas en la capa oculta: 512\n",
        "- Función de activación: relu\n",
        "- Optimizador: sgd\n",
        "- Pérdida en el conjunto de prueba: 0.4935\n",
        "- Precisión en el conjunto de prueba: 82.98%\n",
        "\n",
        "Caso 6:\n",
        "\n",
        "- Neuronas en la capa oculta: 512\n",
        "- Función de activación: relu\n",
        "- Optimizador: rmsprop\n",
        "- Pérdida en el conjunto de prueba: 0.3470\n",
        "- Precisión en el conjunto de prueba: 87.76%\n",
        "\n",
        "\n",
        "Caso 7:\n",
        "\n",
        "- Neuronas en la capa oculta: 512\n",
        "- Función de activación: sigmoid\n",
        "- Optimizador: sgd\n",
        "- Pérdida en el conjunto de prueba: 0.6690\n",
        "- Precisión en el conjunto de prueba: 76.71%\n",
        "\n",
        "\n",
        "Caso 8:\n",
        "\n",
        "- Neuronas en la capa oculta: 512\n",
        "- Función de activación: sigmoid\n",
        "- Optimizador: rmsprop\n",
        "- Pérdida en el conjunto de prueba: 0.3865\n",
        "- Precisión en el conjunto de prueba: 86.13%"
      ],
      "metadata": {
        "id": "fEZpF9ZvfBGe"
      }
    },
    {
      "cell_type": "markdown",
      "source": [
        "Evaluamos y comparamos el rendimiento de los difenentes modelos en la clasificación de la sexta imagen de prueba en función de sus configuraciones específicas.\n",
        "\n",
        "El código nos devuelve infrormación importate sobre las prediciones y resultados de cada modelo."
      ],
      "metadata": {
        "id": "fqeKnGGr3DJY"
      }
    },
    {
      "cell_type": "code",
      "source": [
        "# imprtamos las bibliotecas necesarias\n",
        "import matplotlib.pyplot as plt\n",
        "import numpy as np\n",
        "\n",
        "# tomamos la sexta imagen de prueba del conjunto de datos y la redimensionamos(28x28 píxeles) para visualizarla\n",
        "digit = test_images[5].reshape(28, 28)\n",
        "plt.imshow(digit, cmap=plt.cm.binary)\n",
        "plt.show()\n",
        "\n",
        "def predecir_y_mostrar(model, imagen):\n",
        "    print(\"=Predicción del modelo=======================\")\n",
        "    # hacemos la predicción ara la imagen de prueba(probabilidad de pertenecer a una clase)\n",
        "    prediction = model.predict(np.expand_dims(imagen, axis=0))\n",
        "    print(prediction)\n",
        "    print(\"=Clase predicha (índice)=====================\")\n",
        "    predicted_class = np.argmax(prediction)\n",
        "    print(predicted_class)\n",
        "    print(\"=Probabilidad de clase predicha================\")\n",
        "    probability = prediction[0][predicted_class]\n",
        "    print(probability)\n",
        "    print(\"=============================================\\n\")\n",
        "\n",
        "# realizamos predicciones con los 8 modelos diferentes iterando cada caso\n",
        "for i, (neurons, activation, optimizer) in enumerate(casos, 1):\n",
        "    print(f\"Caso {i}: Neuronas_capa_1={neurons}, Función de activación={activation}, Optimizador={optimizer}\")\n",
        "    model, history = models_and_histories[i - 1]\n",
        "    print(\"\\n\")\n",
        "\n",
        "    predecir_y_mostrar(model, test_images[5])\n"
      ],
      "metadata": {
        "colab": {
          "base_uri": "https://localhost:8080/",
          "height": 1000
        },
        "id": "MPLD1p6X3Cxz",
        "outputId": "3c6a7ced-218e-463f-aaf8-22d73f33d21d"
      },
      "execution_count": 24,
      "outputs": [
        {
          "output_type": "display_data",
          "data": {
            "text/plain": [
              "<Figure size 640x480 with 1 Axes>"
            ],
            "image/png": "[encoded data removed]"
          },
          "metadata": {}
        },
        {
          "output_type": "stream",
          "name": "stdout",
          "text": [
            "Caso 1: Neuronas_capa_1=10, Función de activación=relu, Optimizador=sgd\n",
            "\n",
            "\n",
            "=Predicción del modelo=======================\n",
            "1/1 [==============================] - 0s 41ms/step\n",
            "[[1.2524405e-01 8.5938638e-01 1.0797360e-04 9.3946159e-03 8.5470581e-04\n",
            "  8.9639343e-07 4.9266987e-03 5.7388961e-06 4.6286459e-05 3.2704749e-05]]\n",
            "=Clase predicha (índice)=====================\n",
            "1\n",
            "=Probabilidad de clase predicha================\n",
            "0.8593864\n",
            "=============================================\n",
            "\n",
            "Caso 2: Neuronas_capa_1=10, Función de activación=relu, Optimizador=rmsprop\n",
            "\n",
            "\n",
            "=Predicción del modelo=======================\n",
            "1/1 [==============================] - 0s 40ms/step\n",
            "[[3.13674711e-04 9.98701811e-01 2.44720548e-04 1.02476995e-04\n",
            "  6.13336917e-04 1.05257945e-13 2.36764063e-05 2.47949956e-14\n",
            "  2.66690847e-07 1.80019573e-13]]\n",
            "=Clase predicha (índice)=====================\n",
            "1\n",
            "=Probabilidad de clase predicha================\n",
            "0.9987018\n",
            "=============================================\n",
            "\n",
            "Caso 3: Neuronas_capa_1=10, Función de activación=sigmoid, Optimizador=sgd\n",
            "\n",
            "\n",
            "=Predicción del modelo=======================\n",
            "1/1 [==============================] - 0s 39ms/step\n",
            "[[0.16203131 0.5100084  0.02809738 0.17352045 0.03370279 0.01434672\n",
            "  0.0420761  0.01232772 0.01348302 0.01040615]]\n",
            "=Clase predicha (índice)=====================\n",
            "1\n",
            "=Probabilidad de clase predicha================\n",
            "0.5100084\n",
            "=============================================\n",
            "\n",
            "Caso 4: Neuronas_capa_1=10, Función de activación=sigmoid, Optimizador=rmsprop\n",
            "\n",
            "\n",
            "=Predicción del modelo=======================\n",
            "1/1 [==============================] - 0s 42ms/step\n",
            "[[1.5706901e-02 9.6332997e-01 7.5223306e-03 6.7416392e-03 1.2419980e-03\n",
            "  2.3847728e-03 2.9544355e-03 1.8780196e-05 9.7788616e-05 1.2679468e-06]]\n",
            "=Clase predicha (índice)=====================\n",
            "1\n",
            "=Probabilidad de clase predicha================\n",
            "0.96333\n",
            "=============================================\n",
            "\n",
            "Caso 5: Neuronas_capa_1=512, Función de activación=relu, Optimizador=sgd\n",
            "\n",
            "\n",
            "=Predicción del modelo=======================\n",
            "1/1 [==============================] - 0s 44ms/step\n",
            "[[4.3825386e-03 9.8117459e-01 1.2259099e-03 1.3031280e-03 1.1539592e-02\n",
            "  2.0070299e-06 3.4334403e-04 6.3446214e-06 2.1072174e-05 1.5248335e-06]]\n",
            "=Clase predicha (índice)=====================\n",
            "1\n",
            "=Probabilidad de clase predicha================\n",
            "0.9811746\n",
            "=============================================\n",
            "\n",
            "Caso 6: Neuronas_capa_1=512, Función de activación=relu, Optimizador=rmsprop\n",
            "\n",
            "\n",
            "=Predicción del modelo=======================\n",
            "1/1 [==============================] - 0s 43ms/step\n",
            "[[7.9215853e-05 9.9991655e-01 6.6617298e-09 3.7560412e-06 6.2622988e-08\n",
            "  6.4580654e-12 2.4494543e-07 6.4699912e-11 5.3644483e-10 8.0999554e-11]]\n",
            "=Clase predicha (índice)=====================\n",
            "1\n",
            "=Probabilidad de clase predicha================\n",
            "0.99991655\n",
            "=============================================\n",
            "\n",
            "Caso 7: Neuronas_capa_1=512, Función de activación=sigmoid, Optimizador=sgd\n",
            "\n",
            "\n",
            "=Predicción del modelo=======================\n",
            "1/1 [==============================] - 0s 42ms/step\n",
            "[[2.4214942e-02 9.0978146e-01 7.3433281e-03 2.5702883e-02 1.8879129e-02\n",
            "  1.2594316e-04 1.3688804e-02 7.1707509e-05 1.5751336e-04 3.4320365e-05]]\n",
            "=Clase predicha (índice)=====================\n",
            "1\n",
            "=Probabilidad de clase predicha================\n",
            "0.90978146\n",
            "=============================================\n",
            "\n",
            "Caso 8: Neuronas_capa_1=512, Función de activación=sigmoid, Optimizador=rmsprop\n",
            "\n",
            "\n",
            "=Predicción del modelo=======================\n",
            "1/1 [==============================] - 0s 51ms/step\n",
            "[[8.3832495e-04 9.9892080e-01 2.8879032e-05 5.9444294e-05 1.2813386e-04\n",
            "  1.1486533e-10 2.3252362e-05 8.6235985e-08 1.1295562e-06 2.8916936e-10]]\n",
            "=Clase predicha (índice)=====================\n",
            "1\n",
            "=Probabilidad de clase predicha================\n",
            "0.9989208\n",
            "=============================================\n",
            "\n"
          ]
        }
      ]
    },
    {
      "cell_type": "markdown",
      "source": [
        "Importamos los datos de Fashion MNIST, realizamos predicciones con un modelo previamente entrenado y presentamos las predicciones junto con las etiquetas reales para evaluar el rendimiento del modelo.\n",
        "\n"
      ],
      "metadata": {
        "id": "PxyzWWgg-0vh"
      }
    },
    {
      "cell_type": "code",
      "source": [
        "# importamos bibliotemcas necesarias para los datos de visualización\n",
        "from keras.datasets import fashion_mnist\n",
        "import numpy as np\n",
        "import matplotlib.pyplot as plt\n",
        "\n",
        "# cargamos el conjunto de datos fashion_mnist(imagenes de prendas y sus categorias)\n",
        "(train_images, train_labels), (test_images, test_labels) = fashion_mnist.load_data()\n",
        "train_images = train_images.reshape((60000, 28 * 28))\n",
        "test_images = test_images.reshape((10000, 28 * 28))\n",
        "\n",
        "train_images = train_images.astype('float32') / 255\n",
        "test_images = test_images.astype('float32') / 255\n",
        "\n",
        "# realizamos predicciones en el conjunto de prueba usando el modelo ya entenado\n",
        "predictions = model.predict(test_images)\n",
        "\n",
        "# definimos funciones para ver las imagenes, etiquetas y predicciones\n",
        "def plot_image(i, predictions_array, true_labels, images):\n",
        "    plt.grid(False)\n",
        "    plt.xticks([])\n",
        "    plt.yticks([])\n",
        "\n",
        "    plt.imshow(images[i], cmap=plt.cm.binary)\n",
        "\n",
        "    predicted_label = np.argmax(predictions_array)\n",
        "    true_label = np.argmax(true_labels[i])\n",
        "\n",
        "    if predicted_label == true_label:\n",
        "        color = 'blue'\n",
        "    else:\n",
        "        color = 'red'\n",
        "\n",
        "    plt.xlabel(\"{} {:2.0f}% ({})\".format(predicted_label,\n",
        "                                100*np.max(predictions_array),\n",
        "                                true_label),\n",
        "                                color=color.strip())  # Eliminar espacios en blanco alrededor del color\n",
        "\n",
        "def plot_value_array(i, predictions_array, true_label):\n",
        "    predictions_array, true_label = predictions_array, true_label[i]\n",
        "    plt.grid(False)\n",
        "    plt.xticks(range(10))\n",
        "    plt.yticks([])\n",
        "    thisplot = plt.bar(range(10), predictions_array, color=\"#777777\")\n",
        "    plt.ylim([0, 1])\n",
        "    predicted_label = np.argmax(predictions_array)\n",
        "\n",
        "    thisplot[predicted_label].set_color('red')\n",
        "    thisplot[true_label].set_color('blue')\n",
        "\n",
        "# iteramos las 10 primeras imagenes que se muestran con sus etiquetas predichas y probabilidades de clasificación\n",
        "for i in range(10):\n",
        "    plt.figure(figsize=(6, 3))\n",
        "    plt.subplot(1, 2, 1)\n",
        "    plot_image(i, predictions[i], test_labels, test_images.reshape(10000, 28, 28))\n",
        "    plt.subplot(1, 2, 2)\n",
        "    plot_value_array(i, predictions[i], test_labels)\n",
        "    plt.show()\n",
        "    plt.clf()"
      ],
      "metadata": {
        "colab": {
          "base_uri": "https://localhost:8080/",
          "height": 1000
        },
        "id": "wv_8B0PW-9Zv",
        "outputId": "11718e48-2715-48d5-ae3c-fa03bfc560cd"
      },
      "execution_count": 25,
      "outputs": [
        {
          "output_type": "stream",
          "name": "stdout",
          "text": [
            "313/313 [==============================] - 1s 2ms/step\n"
          ]
        },
        {
          "output_type": "display_data",
          "data": {
            "text/plain": [
              "<Figure size 600x300 with 2 Axes>"
            ],
            "image/png": "[encoded data removed]"
          },
          "metadata": {}
        },
        {
          "output_type": "display_data",
          "data": {
            "text/plain": [
              "<Figure size 640x480 with 0 Axes>"
            ]
          },
          "metadata": {}
        },
        {
          "output_type": "display_data",
          "data": {
            "text/plain": [
              "<Figure size 600x300 with 2 Axes>"
            ],
            "image/png": "[encoded data removed]"
          },
          "metadata": {}
        },
        {
          "output_type": "display_data",
          "data": {
            "text/plain": [
              "<Figure size 640x480 with 0 Axes>"
            ]
          },
          "metadata": {}
        },
        {
          "output_type": "display_data",
          "data": {
            "text/plain": [
              "<Figure size 600x300 with 2 Axes>"
            ],
            "image/png": "[encoded data removed]"
          },
          "metadata": {}
        },
        {
          "output_type": "display_data",
          "data": {
            "text/plain": [
              "<Figure size 640x480 with 0 Axes>"
            ]
          },
          "metadata": {}
        },
        {
          "output_type": "display_data",
          "data": {
            "text/plain": [
              "<Figure size 600x300 with 2 Axes>"
            ],
            "image/png": "[encoded data removed]"
          },
          "metadata": {}
        },
        {
          "output_type": "display_data",
          "data": {
            "text/plain": [
              "<Figure size 640x480 with 0 Axes>"
            ]
          },
          "metadata": {}
        },
        {
          "output_type": "display_data",
          "data": {
            "text/plain": [
              "<Figure size 600x300 with 2 Axes>"
            ],
            "image/png": "[encoded data removed]"
          },
          "metadata": {}
        },
        {
          "output_type": "display_data",
          "data": {
            "text/plain": [
              "<Figure size 640x480 with 0 Axes>"
            ]
          },
          "metadata": {}
        },
        {
          "output_type": "display_data",
          "data": {
            "text/plain": [
              "<Figure size 600x300 with 2 Axes>"
            ],
            "image/png": "[encoded data removed]"
          },
          "metadata": {}
        },
        {
          "output_type": "display_data",
          "data": {
            "text/plain": [
              "<Figure size 640x480 with 0 Axes>"
            ]
          },
          "metadata": {}
        },
        {
          "output_type": "display_data",
          "data": {
            "text/plain": [
              "<Figure size 600x300 with 2 Axes>"
            ],
            "image/png": "[encoded data removed]"
          },
          "metadata": {}
        },
        {
          "output_type": "display_data",
          "data": {
            "text/plain": [
              "<Figure size 640x480 with 0 Axes>"
            ]
          },
          "metadata": {}
        },
        {
          "output_type": "display_data",
          "data": {
            "text/plain": [
              "<Figure size 600x300 with 2 Axes>"
            ],
            "image/png": "[encoded data removed]"
          },
          "metadata": {}
        },
        {
          "output_type": "display_data",
          "data": {
            "text/plain": [
              "<Figure size 640x480 with 0 Axes>"
            ]
          },
          "metadata": {}
        },
        {
          "output_type": "display_data",
          "data": {
            "text/plain": [
              "<Figure size 600x300 with 2 Axes>"
            ],
            "image/png": "[encoded data removed]"
          },
          "metadata": {}
        },
        {
          "output_type": "display_data",
          "data": {
            "text/plain": [
              "<Figure size 640x480 with 0 Axes>"
            ]
          },
          "metadata": {}
        },
        {
          "output_type": "display_data",
          "data": {
            "text/plain": [
              "<Figure size 600x300 with 2 Axes>"
            ],
            "image/png": "[encoded data removed]"
          },
          "metadata": {}
        },
        {
          "output_type": "display_data",
          "data": {
            "text/plain": [
              "<Figure size 640x480 with 0 Axes>"
            ]
          },
          "metadata": {}
        }
      ]
    },
    {
      "cell_type": "markdown",
      "source": [
        "En esta etapa, buscamos mejorar nuestro modelo implementando el\n",
        "optimizador **\"Adam\"** y la función de perdida **\"sparse_categorical_crossentropy\"**, cambios que pueden afectar en el rendimiento.\n",
        "\n",
        "Finalmente, procedemos a entrenar el modelo con las configuraciones actualizadas y los cambios realizados para ver su eficacia y rendimiento."
      ],
      "metadata": {
        "id": "5t7v4z1JGWX1"
      }
    },
    {
      "cell_type": "code",
      "source": [
        "from keras.optimizers import Adam\n",
        "\n",
        "# función que crea y entrena un modelo de red neuronal con una configuración específica\n",
        "def modelo_entrenamiento_optimizador_adam(neurons, activation):\n",
        "    model = models.Sequential()\n",
        "    model.add(layers.Dense(neurons, activation=activation, input_shape=(28*28,)))\n",
        "    model.add(layers.Dense(10, activation='softmax'))\n",
        "\n",
        "    optimizer = Adam(learning_rate=0.001) # configuramos el optimizador con 0.001 como tasa de aprendizaje\n",
        "\n",
        "    model.compile(optimizer=optimizer,\n",
        "                  loss='sparse_categorical_crossentropy',  # selecionamos la función de pérdida\n",
        "                  metrics=['accuracy'])\n",
        "    # compilamos y entrenamos el modelo(5 épocas, lote 64, 20% datos validación)\n",
        "    history = model.fit(train_images, train_labels, epochs=5, batch_size=64, validation_split=0.2)\n",
        "    return model, history\n",
        "\n",
        "neurons = 10\n",
        "activation = 'sigmoid'\n",
        "# se devuelve el modelo entrenado junto con su hsitorial de entrenamiento\n",
        "model, history = modelo_entrenamiento_optimizador_adam(neurons, activation)\n",
        "model.summary()"
      ],
      "metadata": {
        "colab": {
          "base_uri": "https://localhost:8080/"
        },
        "id": "lX0AK0aSI4RO",
        "outputId": "594bb6e8-5550-4e6b-a7fd-ee42186da103"
      },
      "execution_count": 26,
      "outputs": [
        {
          "output_type": "stream",
          "name": "stdout",
          "text": [
            "Epoch 1/5\n",
            "750/750 [==============================] - 4s 4ms/step - loss: 1.2967 - accuracy: 0.6600 - val_loss: 0.9053 - val_accuracy: 0.7772\n",
            "Epoch 2/5\n",
            "750/750 [==============================] - 3s 4ms/step - loss: 0.7628 - accuracy: 0.7933 - val_loss: 0.6575 - val_accuracy: 0.8090\n",
            "Epoch 3/5\n",
            "750/750 [==============================] - 3s 3ms/step - loss: 0.5990 - accuracy: 0.8176 - val_loss: 0.5535 - val_accuracy: 0.8242\n",
            "Epoch 4/5\n",
            "750/750 [==============================] - 3s 4ms/step - loss: 0.5236 - accuracy: 0.8306 - val_loss: 0.5070 - val_accuracy: 0.8340\n",
            "Epoch 5/5\n",
            "750/750 [==============================] - 3s 4ms/step - loss: 0.4828 - accuracy: 0.8391 - val_loss: 0.4804 - val_accuracy: 0.8386\n",
            "Model: \"sequential_21\"\n",
            "_________________________________________________________________\n",
            " Layer (type)                Output Shape              Param #   \n",
            "=================================================================\n",
            " dense_42 (Dense)            (None, 10)                7850      \n",
            "                                                                 \n",
            " dense_43 (Dense)            (None, 10)                110       \n",
            "                                                                 \n",
            "=================================================================\n",
            "Total params: 7960 (31.09 KB)\n",
            "Trainable params: 7960 (31.09 KB)\n",
            "Non-trainable params: 0 (0.00 Byte)\n",
            "_________________________________________________________________\n"
          ]
        }
      ]
    },
    {
      "cell_type": "markdown",
      "source": [
        "En el transcurso de 5 épocas, comprobamos cómo la función de pérdida (loss) disminuye, y la precisión (accuracy) aumenta en los datos de entrenamiento y en el conjunto de validación, lo que significa que el modelo está aprendiendo y generaliza bien a datos no vistos.\n",
        "\n",
        "La función de pérdida utilizada es adecuada para problemas de clasificación con muchas clases, como en este caso. La disminución constante de la pérdida y el aumento de la precisión son indicadores positivos de que la elección de esta función de pérdida es la elegida cprrectamente en este tipo de problema."
      ],
      "metadata": {
        "id": "01ihXtsiv8Ey"
      }
    },
    {
      "cell_type": "markdown",
      "source": [
        "# Conclusión\n",
        "\n",
        "En este trabajo, utilizamos Keras, una biblioteca de Phyton que simplifica la creación y entrenamiento de redes neuronales profundas. Nuestro objetivo ha sido desarrollar un modelo para identificar distintas prendas en imágenes a partir del conjunto de datos Fashion-MNIST.\n",
        "\n",
        "En cuanto al proceso, incluimos la importación de datos, la preparación de estos datos, y la configuración y entrenamiento de diferentes modelos. Probamos con distintas opciones, como la cantidad de neuronas ocultas, las funciones de activación y los optimizadores, para entender cómo afectan al rendimiento de nuestros modelos.                                                        \n",
        "\n",
        "Identificamos mejores configuraciones, evaluamos con visualización y matrices de confusión. Exploramos \"Adam\" y sparse_categorical_crossentropy\" para mejorar el rendimiento.\n",
        "\n",
        "En cuanto al trabajo en equipo, nos dividimos las tareas. Una importaba y preparaba los datos, mientras que otra exploraba distintos modelos de IA. Trabajamos juntas y compartimos nuestras experiencias, haciendo prácticamente todo el trabajo a la vez. Al final, logramos nuestros objetivos."
      ],
      "metadata": {
        "id": "_yM5yv1AxgHW"
      }
    }
  ]
}