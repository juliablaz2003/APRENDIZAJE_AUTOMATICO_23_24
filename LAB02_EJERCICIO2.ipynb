{
  "nbformat": 4,
  "nbformat_minor": 0,
  "metadata": {
    "colab": {
      "provenance": [],
      "include_colab_link": true
    },
    "kernelspec": {
      "name": "python3",
      "display_name": "Python 3"
    },
    "language_info": {
      "name": "python"
    }
  },
  "cells": [
    {
      "cell_type": "markdown",
      "metadata": {
        "id": "view-in-github",
        "colab_type": "text"
      },
      "source": [
        "<a href=\"https://colab.research.google.com/github/juliablaz2003/APRENDIZAJE_AUTOMATICO_23_24/blob/main/LAB02_EJERCICIO2.ipynb\" target=\"_parent\"><img src=\"https://colab.research.google.com/assets/colab-badge.svg\" alt=\"Open In Colab\"/></a>"
      ]
    },
    {
      "cell_type": "markdown",
      "source": [
        "# **LABORATORIO 2**\n",
        "**Grupo**: B01\n",
        "\n",
        "**Integrantes**: Claudia Esnarrizaga, Ana Robledano, Celia Díaz, Julia Callaba"
      ],
      "metadata": {
        "id": "pMSEp4AsW0WI"
      }
    },
    {
      "cell_type": "markdown",
      "source": [
        "## **PRÁCTICA 1 (Reglas de Asociación)**"
      ],
      "metadata": {
        "id": "CCDukk5mGNOZ"
      }
    },
    {
      "cell_type": "markdown",
      "source": [
        "###**Enunciado**\n",
        "\n",
        "Usa la librería `mlxtend` que nos permita solucionar todos los problemas relacionados con las reglas de\n",
        "asociación. Para ello tendremos que usar el algoritmo Apriori y una serie de métodos para obtener la distinta\n",
        "información que este genera.\n",
        "\n",
        "Usaremos la librería con el Dataset **Market_Basket_Optimisation.csv** que se ha proporcionado."
      ],
      "metadata": {
        "id": "4-KozIuiGpTN"
      }
    },
    {
      "cell_type": "markdown",
      "source": [
        "Prueba al menos tres configuraciones de soporte y frecuencia para cada tipo de puntuación."
      ],
      "metadata": {
        "id": "qc3qJTNuG7Kp"
      }
    },
    {
      "cell_type": "code",
      "source": [],
      "metadata": {
        "id": "o3jjDtEVG4ut"
      },
      "execution_count": null,
      "outputs": []
    },
    {
      "cell_type": "markdown",
      "source": [
        "¿Qué diferencias hay entre usar soporte y frecuencia? Respalda la respuesta con datos"
      ],
      "metadata": {
        "id": "pk_lHANeGis8"
      }
    },
    {
      "cell_type": "markdown",
      "source": [
        "¿Qué tipo de reglas desaparecen según la configuración usada y el tipo de puntuación? ¿Por qué?"
      ],
      "metadata": {
        "id": "L0WvLzP5HAkh"
      }
    },
    {
      "cell_type": "markdown",
      "source": [
        "Para una de las configuraciones, interpreta algunas de las reglas que te hayan resultado curiosas obtenidas\n",
        "usando la clase `association_rules` y un par de configuraciones cambiando la variable `metric` y `min_threshold`."
      ],
      "metadata": {
        "id": "5vtWasPNHFhG"
      }
    },
    {
      "cell_type": "markdown",
      "source": [
        "Dadas las mejores configuraciones. ¿Existen reglas o patrones que se repitan? ¿Podemos generalizar de alguna\n",
        "manera como se comportan los clientes del supermercado?"
      ],
      "metadata": {
        "id": "yNOdmY6hHJ2Z"
      }
    },
    {
      "cell_type": "markdown",
      "source": [
        "## **PRÁCTICA 2 (Patronces Secuenciales)**\n",
        "\n",
        "\n"
      ],
      "metadata": {
        "id": "7arOjGHTGW0U"
      }
    }
  ]
}