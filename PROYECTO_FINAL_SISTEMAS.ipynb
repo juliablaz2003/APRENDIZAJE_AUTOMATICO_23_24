{
  "nbformat": 4,
  "nbformat_minor": 0,
  "metadata": {
    "colab": {
      "provenance": [],
      "authorship_tag": "ABX9TyO/qIYQf50yaXE49vjCgTYQ",
      "include_colab_link": true
    },
    "kernelspec": {
      "name": "python3",
      "display_name": "Python 3"
    },
    "language_info": {
      "name": "python"
    }
  },
  "cells": [
    {
      "cell_type": "markdown",
      "metadata": {
        "id": "view-in-github",
        "colab_type": "text"
      },
      "source": [
        "<a href=\"https://colab.research.google.com/github/juliablaz2003/APRENDIZAJE_AUTOMATICO_23_24/blob/main/PROYECTO_FINAL_SISTEMAS.ipynb\" target=\"_parent\"><img src=\"https://colab.research.google.com/assets/colab-badge.svg\" alt=\"Open In Colab\"/></a>"
      ]
    },
    {
      "cell_type": "markdown",
      "source": [],
      "metadata": {
        "id": "5VQKYmPW7Mvt"
      }
    },
    {
      "cell_type": "markdown",
      "source": [
        "# Instalación de la biblioteca de control e importación de librerías necesárias."
      ],
      "metadata": {
        "id": "I9L7tZzDExuy"
      }
    },
    {
      "cell_type": "markdown",
      "source": [
        "Instalamos la biblioteca de control necesaria para realizar análisis y diseño de sistemas de control en Python. Se utiliza el comando **pip install control**."
      ],
      "metadata": {
        "id": "tzx2BraKE_Kf"
      }
    },
    {
      "cell_type": "code",
      "source": [
        "pip install control"
      ],
      "metadata": {
        "colab": {
          "base_uri": "https://localhost:8080/"
        },
        "id": "TroVMvmfrHEe",
        "outputId": "ee4c2d93-a3a7-4a4f-d230-41d881fdac56"
      },
      "execution_count": 12,
      "outputs": [
        {
          "output_type": "stream",
          "name": "stdout",
          "text": [
            "Requirement already satisfied: control in /usr/local/lib/python3.10/dist-packages (0.10.0)\n",
            "Requirement already satisfied: numpy>=1.23 in /usr/local/lib/python3.10/dist-packages (from control) (1.25.2)\n",
            "Requirement already satisfied: scipy>=1.8 in /usr/local/lib/python3.10/dist-packages (from control) (1.11.4)\n",
            "Requirement already satisfied: matplotlib>=3.6 in /usr/local/lib/python3.10/dist-packages (from control) (3.7.1)\n",
            "Requirement already satisfied: contourpy>=1.0.1 in /usr/local/lib/python3.10/dist-packages (from matplotlib>=3.6->control) (1.2.1)\n",
            "Requirement already satisfied: cycler>=0.10 in /usr/local/lib/python3.10/dist-packages (from matplotlib>=3.6->control) (0.12.1)\n",
            "Requirement already satisfied: fonttools>=4.22.0 in /usr/local/lib/python3.10/dist-packages (from matplotlib>=3.6->control) (4.50.0)\n",
            "Requirement already satisfied: kiwisolver>=1.0.1 in /usr/local/lib/python3.10/dist-packages (from matplotlib>=3.6->control) (1.4.5)\n",
            "Requirement already satisfied: packaging>=20.0 in /usr/local/lib/python3.10/dist-packages (from matplotlib>=3.6->control) (24.0)\n",
            "Requirement already satisfied: pillow>=6.2.0 in /usr/local/lib/python3.10/dist-packages (from matplotlib>=3.6->control) (9.4.0)\n",
            "Requirement already satisfied: pyparsing>=2.3.1 in /usr/local/lib/python3.10/dist-packages (from matplotlib>=3.6->control) (3.1.2)\n",
            "Requirement already satisfied: python-dateutil>=2.7 in /usr/local/lib/python3.10/dist-packages (from matplotlib>=3.6->control) (2.8.2)\n",
            "Requirement already satisfied: six>=1.5 in /usr/local/lib/python3.10/dist-packages (from python-dateutil>=2.7->matplotlib>=3.6->control) (1.16.0)\n"
          ]
        }
      ]
    },
    {
      "cell_type": "markdown",
      "source": [
        "Importamos las bibliotecas necesarias para el análisis y diseño de sistemas de control y la creación de gráficos en Python: **NumPy** se importa para el manejo de matrices y operaciones matemáticas, **control** para el análisis y diseño de sistemas de control, y **Matplotlib** para trazar gráficos estáticos y crear animaciones, con el módulo de animación importado como animation."
      ],
      "metadata": {
        "id": "r_JWlN0BFGJm"
      }
    },
    {
      "cell_type": "code",
      "source": [
        "import numpy as np\n",
        "import control as ctrl\n",
        "import matplotlib.pyplot as plt\n",
        "import matplotlib.animation as animation\n",
        "from IPython.display import HTML"
      ],
      "metadata": {
        "id": "OFlwJUMbFGwx"
      },
      "execution_count": 13,
      "outputs": []
    },
    {
      "cell_type": "markdown",
      "source": [
        "# Modelado del sistema"
      ],
      "metadata": {
        "id": "8MGm_395q1_e"
      }
    },
    {
      "cell_type": "markdown",
      "source": [
        "Definimos los parámetros del sistema, donde **g** representa la aceleración debido a la gravedad y **l** la longitud del péndulo. Luego, se calculan los coeficientes del numerador num y del denominador den de la función de transferencia $$G(s) = \\frac{1}{{s^2 - \\frac{g}{l}}}$$\n",
        "\n",
        "\n",
        ",donde *ctrl.TransferFunction* se utiliza para crear un objeto de función de transferencia G utilizando los coeficientes **num** y **den**. Finalmente, imprimimos la función de transferencia del sistema."
      ],
      "metadata": {
        "id": "3pr7lvDnFhOa"
      }
    },
    {
      "cell_type": "code",
      "execution_count": 14,
      "metadata": {
        "colab": {
          "base_uri": "https://localhost:8080/"
        },
        "id": "s2CDVJ9Sqxo2",
        "outputId": "0489bbc5-4a0c-40a5-f28c-426bfc0d3ca7"
      },
      "outputs": [
        {
          "output_type": "stream",
          "name": "stdout",
          "text": [
            "Función de transferencia del sistema:\n",
            "<TransferFunction>: sys[7]\n",
            "Inputs (1): ['u[0]']\n",
            "Outputs (1): ['y[0]']\n",
            "\n",
            "\n",
            "    1\n",
            "----------\n",
            "s^2 - 9.81\n",
            "\n"
          ]
        }
      ],
      "source": [
        "# Parámetros del sistema\n",
        "g = 9.81  # gravedad (m/s^2)\n",
        "l = 1.0   # longitud del péndulo (m)\n",
        "\n",
        "# Transfer function G(s) = 1 / (s^2 - g/l)\n",
        "num = [1]\n",
        "den = [1, 0, -g/l]\n",
        "G = ctrl.TransferFunction(num, den)\n",
        "\n",
        "print(\"Función de transferencia del sistema:\")\n",
        "print(G)"
      ]
    },
    {
      "cell_type": "markdown",
      "source": [
        "Vemos que se ha creado con éxito un objeto de función de transferencia llamado **sys**[1], que tiene una entrada **u**[0] y una salida **y**[0]. La función de transferencia refleja la dinámica del sistema de péndulo invertido en el dominio de Laplace."
      ],
      "metadata": {
        "id": "sOCKfDHQIiYi"
      }
    },
    {
      "cell_type": "markdown",
      "source": [
        "# Análisis de Estabilidad"
      ],
      "metadata": {
        "id": "Fx3U_GZwq7ko"
      }
    },
    {
      "cell_type": "markdown",
      "source": [
        "Calculamos los polos del sistema representado por la función de transferencia G. Los polos son las raíces del denominador de la función de transferencia y representan las ubicaciones en el plano complejo donde la respuesta del sistema puede ser inestable. La función *ctrl.poles(G)* devuelve los polos del sistema y los asigna a la variable poles. Luego, imprime los polos del sistema en la consola."
      ],
      "metadata": {
        "id": "Stxc_w_0JSRb"
      }
    },
    {
      "cell_type": "code",
      "source": [
        "# Polos del sistema\n",
        "poles = ctrl.poles(G)\n",
        "print(\"Polos del sistema:\", poles)"
      ],
      "metadata": {
        "colab": {
          "base_uri": "https://localhost:8080/"
        },
        "id": "hf6XxWs8rWDR",
        "outputId": "9dba1cb7-16a5-4fbc-c7fe-2a0a094468df"
      },
      "execution_count": 15,
      "outputs": [
        {
          "output_type": "stream",
          "name": "stdout",
          "text": [
            "Polos del sistema: [-3.13209195+0.j  3.13209195+0.j]\n"
          ]
        }
      ]
    },
    {
      "cell_type": "markdown",
      "source": [
        "El resultado indica que los polos del sistema tienen valores complejos conjugados. Esto indica que el sistema es estable ya que los polos tienen parte real negativa, lo que significa que la respuesta del sistema decae con el tiempo."
      ],
      "metadata": {
        "id": "2syunB6QC3-a"
      }
    },
    {
      "cell_type": "markdown",
      "source": [
        "# Diseño del Controlador PID"
      ],
      "metadata": {
        "id": "93YkwhoTrUYE"
      }
    },
    {
      "cell_type": "markdown",
      "source": [
        "\n",
        "Definimos los parámetros del controlador PID: *Kp*, *Ki* y Kd\n",
        " , que representan las ganancias proporcional, integral y derivativa, respectivamente. Luego, creamos el controlador PID utilizando la función *TransferFunction* de la biblioteca **control**, donde se especifican los coeficientes del numerador y del denominador del controlador. Por último,imprimimos el controlador PID creado."
      ],
      "metadata": {
        "id": "YNVj8ZknJ5X9"
      }
    },
    {
      "cell_type": "code",
      "source": [
        "# Parámetros del controlador PID\n",
        "Kp = 40.0\n",
        "Ki = 0.0\n",
        "Kd = 4.0\n",
        "\n",
        "# Controlador PID\n",
        "controller = ctrl.TransferFunction([Kd, Kp, Ki], [1, 0])\n",
        "\n",
        "print(\"Controlador PID:\")\n",
        "print(controller)"
      ],
      "metadata": {
        "colab": {
          "base_uri": "https://localhost:8080/"
        },
        "id": "hU5Me63vrWZP",
        "outputId": "73390634-507d-420f-dd42-eeaba1b78115"
      },
      "execution_count": 16,
      "outputs": [
        {
          "output_type": "stream",
          "name": "stdout",
          "text": [
            "Controlador PID:\n",
            "<TransferFunction>: sys[8]\n",
            "Inputs (1): ['u[0]']\n",
            "Outputs (1): ['y[0]']\n",
            "\n",
            "\n",
            "4 s^2 + 40 s\n",
            "------------\n",
            "     s\n",
            "\n"
          ]
        }
      ]
    },
    {
      "cell_type": "markdown",
      "source": [
        "El controlador PID se ha definido correctamente y se ha impreso su representación en forma de función de transferencia. La función de transferencia del controlador PID es:\n",
        "$$\\frac{2s^2 + 10s + 1}{s}$$\n",
        "\n",
        "Esto corresponde a un controlador PID con ganancias\n",
        "**Kp** = **10.0**, **Ki** = **1.0** y **Kd** = **2.0**, como se esperaba.\n"
      ],
      "metadata": {
        "id": "Cq8_Zxz4KiAD"
      }
    },
    {
      "cell_type": "markdown",
      "source": [
        "# Simulación"
      ],
      "metadata": {
        "id": "Spojqk6HrXyH"
      }
    },
    {
      "cell_type": "markdown",
      "source": [
        "Calculamos el sistema en lazo cerrado combinando la función de transferencia del sistema y la del controlador mediante la función **ctrl.feedback**. Después, simulamos la respuesta temporal del sistema en lazo cerrado usando **ctrl.step_response**, obteniendo los datos de tiempo (t) y la salida del sistema (y). Por último, graficamos la respuesta temporal."
      ],
      "metadata": {
        "id": "q74Zku89LfEc"
      }
    },
    {
      "cell_type": "code",
      "source": [
        "# Sistema en lazo cerrado\n",
        "closed_loop = ctrl.feedback(G * controller)\n",
        "\n",
        "# Respuesta temporal\n",
        "t, y = ctrl.step_response(closed_loop)\n",
        "\n",
        "# Gráfica\n",
        "plt.plot(t, y)\n",
        "plt.xlabel('Tiempo (s)')\n",
        "plt.ylabel('Ángulo (rad)')\n",
        "plt.title('Respuesta al escalón del sistema en lazo cerrado')\n",
        "plt.grid(True)\n",
        "plt.show()"
      ],
      "metadata": {
        "colab": {
          "base_uri": "https://localhost:8080/",
          "height": 472
        },
        "id": "M2RgXwfjrZgT",
        "outputId": "e4e354a9-0ea9-4449-adb2-3e76f8e932ba"
      },
      "execution_count": 17,
      "outputs": [
        {
          "output_type": "display_data",
          "data": {
            "text/plain": [
              "<Figure size 640x480 with 1 Axes>"
            ],
            "image/png": "[encoded data removed]"
          },
          "metadata": {}
        }
      ]
    },
    {
      "cell_type": "markdown",
      "source": [
        "Basándonos en la gráfica, se observa que a medida que el tiempo progresa, el ángulo del péndulo invertido aumenta. Esto indica que el sistema está respondiendo al escalón aplicado, y el ángulo continúa incrementándose con el tiempo en la configuración de lazo cerrado controlada por el controlador PID."
      ],
      "metadata": {
        "id": "mfT3sZJFLWwZ"
      }
    },
    {
      "cell_type": "markdown",
      "source": [
        "# Visualización"
      ],
      "metadata": {
        "id": "Rw3lyDPzraYE"
      }
    },
    {
      "cell_type": "markdown",
      "source": [
        "Para la visualización, creamos una animación del péndulo invertido, definiendo una función llamada *animate* que actualiza la posición del péndulo en cada cuadro de la animación y después, creamos una figura y un eje para la animación, establecemos los límites del eje x e y, y creamos una línea para representar el péndulo. Utilizamos la función *FuncAnimation* del módulo **animation** para generar la animación."
      ],
      "metadata": {
        "id": "dxQkNzBZMawI"
      }
    },
    {
      "cell_type": "code",
      "source": [
        "def animate(i, y):\n",
        "    line.set_data([0, np.sin(y[i])], [0, np.cos(y[i])])\n",
        "    return line,\n",
        "\n",
        "fig, ax = plt.subplots()\n",
        "ax.set_xlim(-1.5, 1.5)\n",
        "ax.set_ylim(-1.5, 1.5)\n",
        "line, = ax.plot([], [], 'o-', lw=2)\n",
        "\n",
        "ani = animation.FuncAnimation(fig, animate, frames=len(y), fargs=(y,), interval=50, blit=True)\n",
        "\n",
        "plt.xlabel('Posición x')\n",
        "plt.ylabel('Posición y')\n",
        "plt.title('Animación del péndulo invertido')\n",
        "plt.show()"
      ],
      "metadata": {
        "colab": {
          "base_uri": "https://localhost:8080/",
          "height": 472
        },
        "id": "BwUBzGxrrcMX",
        "outputId": "11a94c50-be5b-45b7-89e1-07e066c54b2b"
      },
      "execution_count": 23,
      "outputs": [
        {
          "output_type": "display_data",
          "data": {
            "text/plain": [
              "<Figure size 640x480 with 1 Axes>"
            ],
            "image/png": "[encoded data removed]"
          },
          "metadata": {}
        }
      ]
    },
    {
      "cell_type": "markdown",
      "source": [
        "La animación muestra una línea que representa el péndulo invertido. Comienza en la posición vertical (0,0) y se extiende hacia abajo hasta aproximadamente la posición (1,0). Este movimiento ilustra cómo el péndulo inicialmente se encuentra en reposo en una posición vertical y luego se mueve hacia abajo debido a la gravedad, representada por la dirección negativa del eje y en el plano cartesiano."
      ],
      "metadata": {
        "id": "EnJqz9Y2M7B8"
      }
    },
    {
      "cell_type": "code",
      "source": [
        "HTML(ani.to_html5_video())"
      ],
      "metadata": {
        "colab": {
          "base_uri": "https://localhost:8080/",
          "height": 501
        },
        "id": "vOM1w50DDpAa",
        "outputId": "cfee74f0-e3e3-468f-b394-172c237765b4"
      },
      "execution_count": 24,
      "outputs": [
        {
          "output_type": "execute_result",
          "data": {
            "text/plain": [
              "<IPython.core.display.HTML object>"
            ],
            "text/html": [
              "<video width=\"640\" height=\"480\" controls autoplay loop>\n",
              "  <source type=\"video/mp4\" src=\"data:video/mp4;base64,AAAAIGZ0eXBNNFYgAAACAE00ViBpc29taXNvMmF2YzEAAAAIZnJlZQAAi0JtZGF0AAACrgYF//+q\n",
              "3EXpvebZSLeWLNgg2SPu73gyNjQgLSBjb3JlIDE2MyByMzA2MCA1ZGI2YWE2IC0gSC4yNjQvTVBF\n",
              "Ry00IEFWQyBjb2RlYyAtIENvcHlsZWZ0IDIwMDMtMjAyMSAtIGh0dHA6Ly93d3cudmlkZW9sYW4u\n",
              "b3JnL3gyNjQuaHRtbCAtIG9wdGlvbnM6IGNhYmFjPTEgcmVmPTMgZGVibG9jaz0xOjA6MCBhbmFs\n",
              "eXNlPTB4MzoweDExMyBtZT1oZXggc3VibWU9NyBwc3k9MSBwc3lfcmQ9MS4wMDowLjAwIG1peGVk\n",
              "X3JlZj0xIG1lX3JhbmdlPTE2IGNocm9tYV9tZT0xIHRyZWxsaXM9MSA4eDhkY3Q9MSBjcW09MCBk\n",
              "ZWFkem9uZT0yMSwxMSBmYXN0X3Bza2lwPTEgY2hyb21hX3FwX29mZnNldD0tMiB0aHJlYWRzPTMg\n",
              "bG9va2FoZWFkX3RocmVhZHM9MSBzbGljZWRfdGhyZWFkcz0wIG5yPTAgZGVjaW1hdGU9MSBpbnRl\n",
              "cmxhY2VkPTAgYmx1cmF5X2NvbXBhdD0wIGNvbnN0cmFpbmVkX2ludHJhPTAgYmZyYW1lcz0zIGJf\n",
              "cHlyYW1pZD0yIGJfYWRhcHQ9MSBiX2JpYXM9MCBkaXJlY3Q9MSB3ZWlnaHRiPTEgb3Blbl9nb3A9\n",
              "MCB3ZWlnaHRwPTIga2V5aW50PTI1MCBrZXlpbnRfbWluPTIwIHNjZW5lY3V0PTQwIGludHJhX3Jl\n",
              "ZnJlc2g9MCByY19sb29rYWhlYWQ9NDAgcmM9Y3JmIG1idHJlZT0xIGNyZj0yMy4wIHFjb21wPTAu\n",
              "NjAgcXBtaW49MCBxcG1heD02OSBxcHN0ZXA9NCBpcF9yYXRpbz0xLjQwIGFxPTE6MS4wMACAAAAZ\n",
              "JmWIhAA3//728P4FNjuY0JcRzeidMx+/Fbi6NDe9zgAAAwAAAwAAAwG5pYX/dnfziCAAAAMAduaA\n",
              "QuNrON7xiAORod3eyw4IU6o5rEs28PfqoO8MJLbJ2WLeb4iqDac3T7+tt25PCWHaRkC+j06K7ity\n",
              "aNePaAMLCxd9pglDxHXDVX9IcZZN3oarI4Rmtb3lPCLEFBjwCQWt1q4u1dPd/aZoF8cJxbMPom5n\n",
              "8XfXXP/qtgcIqDNjfKJji9GqmtieRt1j8x288UKQ1xWw0QEdrHTCDp5nml0omD/0yoqkFABfx6ls\n",
              "bYO6sDCCD4kncMlY1TdXydDNTPIXq1HYHDukxbLefp3OlP/fFejeALvL9PKlPviiu0hP0nzmsYl2\n",
              "vB/ZtQ2vbVSLWAGXQVOhLO/w+eyB2lJFdWH7vTPXq8gA/OIHJ0Z59wG57EQIKmOrEXRtQMEYqlq6\n",
              "xWNoUPk8OsMfn0Vn7zk+ZfdN7gwf3D0PRAxffJfUeiYggZ8vJChGupgq215AWDjXMXl3qy09OXIQ\n",
              "CTTcxfkqW1aBP7FUzKV4R8s3eUugV4853dijc8MkkoF2NwModUiFAhldLHvIEgG0yTSbtuu7mnPi\n",
              "QIQN/kfeh2u1xoj4vdduAMrYL1A+WpZOrAc9p/utw/u2dCBZW5yXuCu7LTGKxpegMx8MYmFdMQAr\n",
              "gUk34ENmGhkQYCQWOVGkt3ZLCrQeMsuQg4MKOp/y7acTozTw0Slgm5yhIGxF2iFgeosffGbuiOgI\n",
              "+rkznp4bniQ5US83t/5tesyfJFtmhPkRMQYn97QfC3ezCy9WUb6y91m1IAB4PHJi4J6xQ3/o4ul6\n",
              "ufMMdGWcl7yHvxiwL1khfqgS1W8WbK/4fi1xlkMddYZXITJUg5yA8MCfp3m7sGPEL6zWLz/QMUi4\n",
              "NyG7cwfOOn5UL+GXJQL3hga0xPN0tJD9N29lllKvyIgG3j0cceBMVs2V8qbs5eagSPOh7u+brLq9\n",
              "nJnPjBZH9J4BX/rNNuDjDzDoNRI8K1WdP6Scvd8yfV+p2NCFRnx4nGh/JNNItevrnhtKS7E8HPGK\n",
              "OJG1XcmKj3U5ty9vnOy8W2aFIq2NaphJsywhOlq+XHWaYKjX6n3+ImVYH1w+mXi5GFdTiPr8NGVt\n",
              "Cy9a6Aj0uw51JOEg0TVagdE3TRM4yd1ogVckGQvc14PQ+3AlD8aoAdKfGrMpKZTTDqKInHE5ckIM\n",
              "M8zDK/+u5th7DSKL/Cwp4Lf4h05lASoKr0a9CJquSkki7oSYBy18keDghiF7q8obBcCkUPt877y6\n",
              "slmxr9nprAwWz8xaR1N8HIh4PculF1sggBH3PDyYRsIBRG2B5s8F9V0ZvbiT90yZkr8jUuC4v1ja\n",
              "MfXOe2LJA4Xc5oF6fUtyrUF6H+6X4imWKcNaELZwPwvM+bopafRwmjNwmNhN6jlAQSHAYOvrjRsv\n",
              "z6Q+P4cRgPIxMa4p+TbWPrwLkxSjoZcYrm4blX+aKRcvudFyPSgtwRnlbm371uihLQxguJ5omAAw\n",
              "77Jq2ooQgKJOFHpKSAc5BlWLQ+tzmKzMhYhRQueqBDHMF44MOMSMxYjZSzA+U1gSfOFwEJAmqTSj\n",
              "sQ+aSvPdohBnYYq6cRepWq7auPVGpRCQDz7JdyNSPam9b5YPmE5IHNRWb3B+PvKaevwXLEpPaA2o\n",
              "UYxMux50bd91kyJOggHxIlf2f2XlsSJPifeRhXoGgj9PKsc20FtuvOlG02y5drrDHAILf3QBxj6B\n",
              "IWXIoCmEhAAkOaLruyEF18OfGUmvTqGbanK5fsH+nK0TmhRX2w2jfBLZ+keddP9kIPnpns5/LuSn\n",
              "jevObAHvNQDnaPvHmgk9W3YXYkzSrKRZrCNkJ8A0B/8tjY53qxDHWcVIpIWtpwy7a+V4Q2/IAKWF\n",
              "ge9eRFTUkBRXRvkcvD84jU//FUOI1waIKIBGtpXKWDAx5Nb89sS3Z+iQLSuCfuHEHEsdS9C0cguB\n",
              "EQwv3IdfAdiaYMvnz8aJlG9TZowXXYO4VJidHg/LEKzE/4zPUmncJTCXHCeE6bz+83TZSCE6sDDI\n",
              "8jncSNEOx97m5fGMZoCOmcoDDOKvp/MRTkDbSH1Cn0M9w6+WNY5s4o/KUb55snY5XGJgPZ3X4enH\n",
              "JJY1w43VxU0R/+ZeWuqzgrYTAkabuaPe8YCTYrO6EPm/IexUTB8+R6jzpgt2/8M+smBztWZzdZJP\n",
              "NFX011Lc24SA3xRlbputvgYDHIqBnigzZ6jTme6lD2AezAM0kB+B2Q8JzkukqVFGzpw1Q6IGfw3J\n",
              "wCRVcwxKyFgAcHkMEwB/bBloMqP1hhNiPc9LualFkBFPAX2jJIRuXElZChaj31dMLByoWl/3yU8V\n",
              "JmJ4un/iHiNqqFyCQh/ngdfKrwPe2vXtNtCU7pUSiXZ/Qfs8fq9d+X5xnkJiRje+i65Ws7MMz/K8\n",
              "leoZcOh3neyM0esfLxm9X4JpriVmlmt7lzG4WPouTgOw1H7Xej70Jz//PxdgqrNFHo4k1iicyx/n\n",
              "hKgUpQwCz7uoMKVfqdQTWqCZ/urqcHe4SyTzuX9qPvaXYe2XhIz5yyx8DkJjRnaJMZ04cZeGLb/y\n",
              "bKVMmArOVa4y4PvimsRE9aATwzfw/OC8JdxCn7/WHnOmQUCotgeXJ0jgZTrh+bnuyTendSvqSDsv\n",
              "+iEDbb471iWZJteba4txyYy/ykp6hh12RLzrwpWJWgsZjMkj2DgHunshy9WHSi0KeqiM7pMQN2mL\n",
              "HoKSmJoYpg65PGMzb/CvMFg3KBFecKlpHOakCytJ2z26TXGZmMhIdVdzF5dR0+Ka1RjvvxXSGFGd\n",
              "ckY8rSb8AYpG0d+YeyCA1lCqVLimhWWjijVfHjHWHlDW4ONSQh/v1QMnljhFh3+gv9t/mrQB4xQP\n",
              "KGdDtHHNR2maMoGaQEsZc391Xb43QzGgF8G8NAcSmxsh/74CARW8/q7oOQVIZp4oqxiL3eGXjs4J\n",
              "0mdA7GPM7MGy+5VOVQQKkooATJ/M8qpf/r1IKen4IY82p4R2oy0/qL1GoI2eFjGaziLsE/1bJW0F\n",
              "Iz3BIQYCbWpO65Pw3Jy2VG4IEMRPuup5QeVuZe7xmP/K/kslzIjNbWCFd2XrnI3yyLKB/6/riOeg\n",
              "SzRLr7OZ5+7lMOWf+O7Zs9OqAWXuYiY5+IcoA+gOCQ8NasqLjxfRK7Zon2do4dqk8hJUrWf8rUL/\n",
              "hHf25hYPkk9ZqyblmO6pTDlKI5Xq56azfUS+MHNkdd6Wme0H8OMTcnPQxp1QHVz7mhyDLxCW950U\n",
              "M3lKL+FbhThs8d5X0J/35hY5fhT0vMzAWsTjP7Bz+LQVuEC3VJdsW2vJUtRVDmVUecwWkG2sn82A\n",
              "7WBJE2gXoiZx3MJ3BSJylA+pgtd7rk06vNQvERRmDg/mw1EPIGJrOAADel0Xj5/ygAADsNA4BPB2\n",
              "nk4clUE0//z8PIG/A7YmQBrVj1iMsL1RYmueUNnq+z9q8E7+lwSjD/1/B1EmgK8XtJOQaAE6NUnU\n",
              "hJ5Onoa1curXzDhJ4kl/g4jd3BbKYPZV89G2QU5ktTDtwzkLFW0HUKUf+PZG3Xs1nqV1pSy4Vhyx\n",
              "KxeiRbmuliCPAh2lqxy5A5F1pgFjh82EUcopQIq7xqBQm3UQxMCJkL0fnQvJhXp/+R13ILFipA+n\n",
              "2QrA+PoOWyPtZJnveMkIYIFev371+J0QABdxoXmuZ6YbrCiywLr6ZqKIAl2taiYhf5Q3sHhXZjJ+\n",
              "hol1hanpQbxNBOQVmlwtxR5af77w67fn8k8YfZyS918IdgAZSFtfO5MPnE+5FY5qZ52F5DiExa7G\n",
              "htRFPjctAdhNW2xAfiPQmSS3A/TZ+6jztHkAvyCWdWOlqKnLyrfsKtPq4k1QhwUHYTv5+zeeftPf\n",
              "2jgpjJp4t7CHoFqMxUBTpgxIuJ6Ms0ZKq8AC1NR/iXEgUmsvLE4MsWodOAGZWQ2zqS/rO0G0hDoX\n",
              "FdqvsMIXOZWmxv6Rf2DCT0cvWMwRGjOHi3zs5s5Sw+i0UE8DylcEtyhfyn8HkOco8VPsscapHCPU\n",
              "OZNgHC9zT8Lgp6OWq99cCIXFUACm4heAcPPFR7FnsmuGyyi+8ibD/JjVPtPMaRFUleBh1jNESr27\n",
              "GJ2thXwRfFGAfVcWe0WMJGmwMEHfuXnuidf0z20oR3kD1GazDZ6skbZiSxZPTAIt73P0tu3ZY+Bo\n",
              "0y+IS0g8PN8oEMrmfmUrhePGXAJSW978p1utkum/ABN4IbPNJUugQh9GDR+SMLKNieEdcPQNiWK1\n",
              "fYEOLsP68v70+YKGtZ+M+xz76IdsvpnbdiRzOPkfCNTUiXF038sme+rVcSaEzojPduw9U1GdMV7o\n",
              "hVQL7tvV0hvhA1+kejQzMngC5+LpHeOP5/2vRCOwtEgbIuLdAlK1pvtNvHeZVgMrcIht5H1aHMfz\n",
              "t3sWAtVg8i0O6YiI2tYLrLy6C5STMoY68ZSW75P/wJSaELTDLj63+TPITVwITNGJ8pSqR6jJLWnp\n",
              "LINQiVTUYwANnogUwLIDdcAIWl1qui0rPemicsxVpDnPq++b48seLIhl6wUcnvuWYtIq4R7QMUxh\n",
              "WyOR9h2rRbyXhZGVLxMw6vlUeKCEWRdh5TiSP1jnlAdg/8beS8Sd6Ljso20Xsb83FkK4GBnnHE2n\n",
              "D9GS7ma0bvoNNx2uPGD7RMT3dWvDFTCG2Pi6f3MprEdDC2vlssdxLOstdNGrFprGmrukOlq+zV8t\n",
              "5LwLCCWdhay03VHuqjreFiFTCJXsZesW2kW2X2b/Vu1FiVDsdxW1VoSaYw+ETsa4WTxl6ANhvSO0\n",
              "cQKEQMbCu2wNL4K72kCMz1TIhgyHMKPJIHV4N/WQltX1GKJ8L9p3JKvkQ1i8rc6R3T7H4FejaAtC\n",
              "lAW83Ud4Al74UIquZLCa16jkY+W4Wv7npC9oLzBFsjufu8YPKmM2k9kjzyVRxsphzojjZl1o3VcP\n",
              "HReNNGe0Ro2Rwk5vaYHFG3ooN647jlP5V1+1FxLI/+MgJ1te8cVjFalKwYuAaKmE10ZvwBiW7ReL\n",
              "6Y+suVpULCF3pf5Re2Upu6WpV6k8IX2H5agwD8BrPv7GYjf8YD/JN5uj+IB0GgbS22dRpEdL79od\n",
              "xE8N54IJCtUcoUhYy6ifqN7g6pmLpdITsIAotxFSEvuWecYTvlmbHjp5gcbA9k/nPIBuz2yUWuHF\n",
              "PCueMI7HQObfUqr6hBZQTFblUa36EwwV8TDc4aHd+1GokTDair6hYoaQS1m75JCj0I3Dj7dePKhU\n",
              "J5vlcPNBGb5SSbp8Jrc15Y1IJxwWw/NRfVJjBlPsMche3xCY+lgCOTxY9eafpu6Fn31yD2GqZefs\n",
              "hV6Y7sK/MnbIvbpk67U+ZmUVqoK1TL1gHzp9DnfhFJaAWYmAV8HqPYMSUk2p+UZ83zkx5YTxK1tP\n",
              "dLpSuBpApPSVMtwjRY+pprwMfggJfPFVXMSuNFEtTtjdKAiR29tlO5Z6BRlvTrlQb24aXvzhN2Vi\n",
              "YGtFmcK33H+HD/H8ZGIbk4ayvAAQ9uZAAp3AHPWC+a+6qSBeQ8TtU93fob7saX4T/qGy1REaQe5S\n",
              "iXT19Xe05PWKwJt1ERkhptYgkMrml6qJ1ULHnOh8GBxrL9kf/hLDJBG9KWC6l2u+SXyzTiXTbOGQ\n",
              "/XoHaMCJ3rN70hCoTbpijAbdQvaTO22XEgFi7hPROa1w4TVJGkADKjoL4mUa3MxX+fMECf50RPan\n",
              "Ze2FYiPxrFea8RhmhiCPoJo56GQM/N0sooSZ6sD6vMSx/WOhfKyRNnbg2OT0TWpRD+vGqxsfwH0c\n",
              "99V1jfAiqYArRYAJcyB+YDjI03fU44NRv3YT+TjJQ9D+6vSaMSRb2kfwl5i39x8IGQEX0rV8kJMN\n",
              "xWCChXhHh2pWRlKL5eWzCueZsG9TjrPeN4nXqnroKtKmPYWUJcKLimsedpo0Jz1MJaYmSQNhzgbv\n",
              "uOwQynrn2nJwVrBjwnEkPXVy7UqdfEFGh+bvDOCog5OZA4SDLuvNQTD+sAHF3e1vNEkXawlGNQkJ\n",
              "EMRSwH5U9SyPb6KvwKHxI0xEGdlJiuTkX8o6qQMPPgRR8LvZ15NPFHDUAa5mtl/HWdMXZxFmFcnc\n",
              "t/wwQi6pIv3URFe1cnc79YQoqNu7YNi+BxUO2oUenw7COynU5lwBPW5fl8a7Qnn0MxiZH94yiwLD\n",
              "UloTncDXhkXOEYoeRMrwj+xR0GdLAFDp1r7Qljz5fagalewXVM0a2UblCmN1/pQ7dftEK/QnRwWN\n",
              "4IBs5Y2TpEkO3hmLlV2H64Ke9b0gvzeOnop9K6OyR3+zPK8S/YWeC1Fw0/LlZ471GnT63LTqNBun\n",
              "aC4aoYV0k1hNrQxgnqL1TZUrWVhnMO3sOCY3M3jJi8V76ufdlXQp7Cyjzu/Ui/Eba1CWDWkIXXII\n",
              "Xnm7TOPcEp/9MF4PN/oLJxE23DorFDxAg+m3VExTfXn4Qs4w6PZbtLM6/SDaFg92yr9LuS1aSsjU\n",
              "zgWQ9k6BN4GamqS45d4URMrU+uHkDypSHx2rfqhYF1obyef/Y7Y3LZq4x69szmZ5o5tvzUPjFGVV\n",
              "2ZWoJ6VRtsgPhiUfiezoBdCys6sAnfD9TB51rsX2YbnTeDM59n9juqL3cdQ7ZvI9qLYm4SahOV2Q\n",
              "q+xZGSTJ3r/wAczaM03GstNUM8ejTiNGqNjIdJD+lzbqEtV7CZN6rJF6QYDIyTFdHwHT42QHwN6z\n",
              "8a3qtRS34/1yRQVwlauC5xCgi+Pk62AZ8qNeZtBIqre9b/d08HOGPvLTDXOqqXqWTat32UKKYeoc\n",
              "jyo6oqYKP7Vyf0nEdzaJbO8+vFj2UZpUwtJugvczcdLZfBOl1SUBR5kaTieYFhJsTmIi4sqNWcvG\n",
              "rPjbg0xX1D25ixCNlTRZBazm7I58KNDlG8xhpX+tu+i0nkGQWl6B19DevjFNS00cOLD1EzfL5AGX\n",
              "Nr5TdIzq1NeOMrTK0xZ6WQd77PEonkTBhOY4vNjPIuTmOaJ/z3ENLjXiUrrx+MqxzFuDQWiRk9Si\n",
              "xTk4up84V2eSgtbiZfjgQ6zhxpMNqsXnnn+s7j5QdMckjNm3rfoMzbWQGi9mXNPTnpRbgGjKPDGw\n",
              "ndYJ0+2kL++bTGQeKaPS0lyBs/sxOlu2f9ZEfkIPhMnewzU+PAhIH4pCTje3/gdwGNk6m049VNpl\n",
              "81Nu/tBu0E1Hbu7icJBP1KWmTOl0HI8r6k714hnOmAphlaOPVLQ7U806sBBJfQfJ6gYjgx09ZcSh\n",
              "1Q6k8O64KOJFEvV6d9s8eJQUgeTDaZvI3DmU3CSe5HsqE97ZCTuCFv86xeJevJ3LmIuf4vMnL2N9\n",
              "ez4nT403tJl2IpF7AxO+V9vJz+yzr8rxWATHOYlISzv/avrKXiKSZ2JKzEBWBS0gilUOD8+J4B/5\n",
              "pc///54+q18WrLifmWvJRawvsF0HQ7cw6CWVQ5VBP9aYr/25nIYWztbCX7U9Yryw3UWA3HfLpUsG\n",
              "R65aLbalEyu+Fqv56GQO7u6vweQ9UJk3+AtKoM6GO/+q99/2UBvpkQuFgYpMei0idC58dKQufZXK\n",
              "jJB7GXnwaZl8JA7FbnL4jf0HX52LEB2t/G2KFI8gF1Kw4H6KMXq++XIVGPaze/P5NmtpzkU5CIyC\n",
              "EaL+Zwnn9pbp+z05f5k0KfEscPafIIsNPmiMJro2USBWAQChmeF5pXdFlYmCrrbJMlgrqfoK4jzq\n",
              "PjkzxDcnkj/YsRoPJj9GvzrCca76omLYa8MX0BJ9RfumKmqClmdbTy/bKPkAjHRMM+AFL0ItcXsl\n",
              "01kSqzIrP8i4sT8KR/I5GtD+OyoMevVymS8k+jFAeA1Y9znzYRdYUTz4gR4CnfaP2kPxKgVideSz\n",
              "QI1YAFbmGKQyO1h0+UrfVHyHxdvWfXEUk0IfTj5pE7XgPuefQoh/TmScNrANEyRPn3RK3LlsUMx3\n",
              "IJG+/BcKjrwHGvbM1jIuO4LcfygEOOkycdmHymTFOlVhvTbxAu1aBncAxz3TDqtQzZEIG3rFo36r\n",
              "nQibqKE1ZWLoKnu0DvZxhVulojSGqMGmN2rxLDpaRXZdzD+KSCSx+2tE8m4/CXyNkFD2Dm2A/4a5\n",
              "MVlTKdFqgzWxJAS7DpiVYd0PM9qc5ZdwcWyQADxfajGilu815oaq+cxnXO/QOPkOKGzx9WhKVCEW\n",
              "cWzb4+OBonsGODNs2CyZXKGSd7FtVWtBz6Fnd/FJDKlx38TxYtwrleFNVfNhzFQnuJSjjET8yVCE\n",
              "4iCNjxg1Lj3Gm4UmTQF8c7p3Q8d/iF3YbVSfj18vdDiWeYn+Bikf8hHe5gcucLqZw9PLJgYoYA9x\n",
              "Vsm+Id/K6ODJj+RK5/Kk/AAMbBsjVokimwFao5XZ9sHmcyNSsP7weo6N+9E13mjmPteggGmSgsim\n",
              "UyFWKDuQiXlme97b/dIfQ2M6NkLE8Rpw8pvOfZVTp3OJlwIwDDOR6PC4xcfA42h8e4QCV3dUdvUT\n",
              "YByktCpkAkXPSgWax8OBlBKF1IS3QPFO0Betu1wMMzI+Y+/jhsikwyfpWGiZqFeQH/bkJ4EIVShP\n",
              "II5vVGEUNTvqKMlP7hewcG5x37N/7TeWKX0di8UnrmPmsTSA/yPISduAa4Y0tkUqUvFGz51DMwAA\n",
              "AohBmiJsQ3/+p4QAeV0D6AQREzfhUw1oiNb5bLpvR5TVLgfngceT/H1EXEVsYAykq27ci3xmTVCn\n",
              "wgxwITDuh7+msR3txo1Pv7dy71w16vB7YY91StkzhzDbBk+iy8oGu/Az563R32/gBYKPiCcm1EBs\n",
              "j10+QKeyaLeaj0dMOi+6DxG6HtuihnW4ZRp/U5dOu6KQHqq4Src0VEtH4PRF0UNszfpGTj0FZreb\n",
              "ubN6R5glxZhJmn+GGnbkTDzkUU/V4Ncr2TJ2GIrbtMKilvxpzRR8QOKh2ZNwyWB/C6GPzfq88wuc\n",
              "ZpHMQ+UlgVHi1dEDPTTJOaBJlcLPeRPkEdwh/LvHqSv+S+APHbt5WakNDnZQklCCySD4ss0QqHHi\n",
              "CO4vCBtba+i6tpMKimA4uJO9pZd2dcg34TVk5ssHgOyh/0bOln82glikChOrRMUW41sH3ngkEflg\n",
              "72dkodLpcFR2hp1YWUQijaEPcYVweFvuXEIHtNy//RdDUlfj/NriUidOvIcepcebj16SZnBcryrD\n",
              "xCl0VDoU50cRV6cnFL/QeOlsEkJ5bEX+MCSIu3zdOf8RV1xurU9wOcqCz6/z2B6ZkXCCuVMUwrff\n",
              "bXILmlYZz1nJBJNwMlpfx94sFahUIvKCe3769xG+AEJDkavT4V2/sQ8GfFuzc0b2iPSJPRGGFjd3\n",
              "HltNRZQG7JPOkfuwa6k9z8bg0oRl7JIUEARqbK6t5DxSfdS420lX7VQMjhDiOqYIJJ+hkbsbWzFu\n",
              "lVTwV58cgCM5bQhA/D/Fu4uAsTnuBXqyakIIvvnLSEJ3eQT23khYTJE50JYmvWJx167Bg4OKgyQN\n",
              "aaCs4PqsiFl+EnObG099Z1Xi+ZWrqXoAAAGoAZ5BeQr/AAHxA6g4Qg+d+oGILKlHYeAD+ecJaeqZ\n",
              "9SFmxCAwFpFXODKzi3eFM0KbnIPACw/QilPbPFpSNAyTwnLKTlueZCc19V2qwGCdrQF1HcYhoymK\n",
              "k+1wCYWQdwg06ISVx7WyOmhbFwXFzEOpnG0OVQhlKQ0MSPKmzyGySSq33GnTMElajumJBuodf2op\n",
              "H1mbpnM058EV3aE9ZbT5nO6pgd7NM95fqLf1tdYG4N2jd/W+oX/bultoATScVq5xOmIyEZDeYRKO\n",
              "bZIXfPOxyY+vbUHQYaVA7iCG3yoSVdXWW/awonJjpMPeQrcXiFPx0mrT1+C6vJPmS/1l7+iRotao\n",
              "D0VaZoTvKT4Caga34tUG/xK4gdjY6jQ42BQr+E7Lt72DLRweGh/I31jdNZmmIwsCOCFFdaSt8m93\n",
              "2d26iCnp0+d5rPKxLHyerCv97mSUpvjA+z55nrhE1MgUy5WWOGa4DdWLEgCXXCfHu5rVYuZ8+BH2\n",
              "fHy2f86ZkVv5fC5r6odOvcs5onHggLqZEU3dyDvHUptjNE/tVGfx7fa0h/gEVDai0kNcjQAAAi1B\n",
              "mkM8IZMphDv//qmWAABlvbQL4JBHGySnwMsgAHG+Eo69oMxz1/BfWJeFYpYCPScqxZUZIh/hoAUs\n",
              "xeGvsRGL0ThLGNcSwZe9EGnEibRj7GxF7DTr41bgtbQIIGZDGTqvE4ZdxSVklXJWjtF732oX1f23\n",
              "wPz9HB6kYAjQyNGv6zfb4IYXoEvD31tJDB90VdG0s7IbugsfYgnP22FTwkosJRhzG24Rn1GXfk4l\n",
              "/8rhg/WINA3VcJba5Vmmnmh1/kv18NC7oWrM+MqHtwgkKHtNnLBkdQZKsmvw/G919K5/x10qT/Kg\n",
              "9QYVN0engDshrbGWH7VxAeJRJ/OpLMlWIyflR+J/9xLyOygoBFVzsY+Qdqn/IvDUPw9Z6YHDuuuQ\n",
              "bZ0T2IMxHBfeVv086zCctlexQdFmYgN4r8whC0rdGqC2+uq0C4EEKTMlJQOA+aSyLv12RuXwWgRi\n",
              "YBjwrJL7LTc+FvizaMA1Mu0tKAJpQvqVRmY/Ye5Kb5vhtSEx+ecTQGH7PJoJj2CjuAJL1W87NXUs\n",
              "zwjAy4pKSC5UEkJTAXa9NoNJ7eRtOnKvdFhfmWJ4VJ6mSOnKy1QcwG2e2KJ5GmygjRSjR6sXVG30\n",
              "JPpnssdsqseEFFmYioG8bZzy7FFi/sO+hgV/B3K17OzJWaVPlJP0K5t3qIxAIm7FKEKjKxujDTa2\n",
              "vcq6m8Stcjgynr0HVI/hyvM2qp0qJwAmB3Ss/1LZSnvQJ8ZOb51gFEEsxAAAAkVBmmZJ4Q8mUwIb\n",
              "//6nhAAAQ75GreByo7XoaM5c37ilE8uX5YmpAjJz43o5UiAQO4mIqN9bAof/RGFLAFuK9uHISAXS\n",
              "RogjdTGJD1sp+oM3m2IYnsY1sQxZxxIXqSRPlBWBRvDTHiJMujnekhnQEJp+ks6ud6ar8Za0/Qe5\n",
              "5qcEgEhJeC7dizS9F4vCfYLqv/1Y7m9OBFK9YYjnCod+4+qqO29q2o4DKjknMoN/21sJMPH6bo3M\n",
              "4EgAxrABzIaVm1WTb6ocj8vTz7FWN1OQjieYRZvJN4ulAMuFcfFi5MIBxSq7pEpa0E5PhSQp2mgB\n",
              "btajarE35dBsPVBwnW3F/N89p0bR/duPmiBgWqixJfUTmJ+Cb9bzNmvo4CyA6b7L7bFxeZlVjKmP\n",
              "msaQ9MEtZ4qbNJkZ6HlrA15AMbe4UEH1vLmX5TT1V0frEvdYDWeFFY8YlBfZGnmzphxb1rFJWWgQ\n",
              "EsqC/66/AMUl6KCKyK/tk9UUj01J9Lzf9HY+gm03EdzLht1UVNboxuq7LXhFDnLA3Qo+E9sGU4mx\n",
              "j+k8ghWJeK09+94vgGXfEoWF54WpEKmg/+9tf1Y73vzejxRHUOc3lVswFbbDn4EWOJbxVbJvDdNA\n",
              "XCeeQrkSFyFvgl00s3BCk1IFbe7ZAJUyZdGfhhAqMF3MxH42Mrj+dT5X9ak6e/YN5t31CEKfDXir\n",
              "iE5BzM9dXB7IEhwt8m4WN/FFWYw/074dvTpYryWq5stKFXBWSeiHrha2kZsL958wf3L7UoAMRrD0\n",
              "gQAAAidBnoRFETwv/wDiDjQFFW4Mis2vzK6Xs27gAcb0iZSqiSWJc++Ww9giVd28VCF/zBBhmPGj\n",
              "Vygyo87Nq0cqlHDUw40rsHCrrT6U1mbQJT+YyGw5R+skT1gSJ4jp2ZMLuGyObehHEMmsdpalw869\n",
              "CokXhTB6p2P5V1OziquaVwCs3/SEuzO/N3Sk3JIJtBkpsJOeg5QSSc0A3QvtlBqHzYWOAL/BhmUi\n",
              "M5XYgUzx9NCq4MVlj95+I0KGGKHtB5eY9Wqzu1eHobsVwAS45yTfHXTnFO7ZvnNFvxwZ4m6FY6CU\n",
              "Q/wkMheH0kdC71GrFJ8ZcMAgCyNqnd4RET3GTdZ8Pdkl5qoEFyFEeuZLu9yrIblwD98waXl2mtkT\n",
              "29ghxxVOsbAlgJewVpks1yq+mUbx9QYcAWNzTDOk/Jk+xpzgfhJIBHT/FkRuryfmIPv+wNpB4pJu\n",
              "iQ8OsjfKVHPyS+XE4hDYIuDMVhFKeakbXcuGq7i/gs2JD05zWEHp+KITqrDhNj8YyiBObCdzqoek\n",
              "a+mc6VBX/+N4likB5lzm6mShspyGfaFaj/x3d2vU1+QmVEL2OAGQgqCVwUQgKPnhNKt4k4vT7tgx\n",
              "Rn27ntpeT2oZ7yT+QqRJKigxS0x9sOZ2+ZzPBc6h7ER5W8SwwR6MznM81k8nyjF4+OQ4mtdlN/fI\n",
              "PpMfpBPJlF7C7JDcD+mNPpESQUwdr51f2MQ6Lgo/7BQy4HALYWt/cTwV0QAAAWoBnqVqQr8AABR7\n",
              "Cd50/DBVw/k+pi4LuZjMALRUSGsPcz9r4fykkH/u3GO8i6uMqa4zVP4lKQzyen85LozzLXC416Qs\n",
              "giPPFYvJteTOKcmy56UlKFrWPkAQBprdxvFUcnn6AGpeQ3RY6SsKNfmyBs34Txa5AkTu84PRj8Bl\n",
              "qe03GagccHrtVJwCbn7oEGH3QfTVV9/83cay9pGn9PBbKD5HTsAP+vwahx3NpiFa39WNuhUwjdQ1\n",
              "QO/1oA14SNr2xglNYjjpkmpwymb3cqkqmx4pv2qcZ9JmTm+drcxpolubqZZm4zJC2Oe6CS/OMGyC\n",
              "iBfV0NoaEDwon5VsAQXEgCgKz22WEKJT0WyUTFJ6Frnpz2bmzIpnAsuIsCHeH2uK6O9djpcle8wB\n",
              "MaaRqqcyCQEvlw0XsowXbpytY2le8AKDxcY6TK0Ij1MX3KGYZNPxN6A65uKr7lrH4VyPn02G5xuZ\n",
              "QABood4lyhRS+QAAAVhBmqdJqEFomUwIb//+p4QAAAMCHfI1/neu+La1/RetF/geHuKPApAZvubz\n",
              "644i7mlgyAiaqA9xV3etcNX37vr7ge8JInvxz6RkUSa/bG5ZVZpl9rKS+JyNGpgglanMu3BOrT4L\n",
              "WZTeGQlMeB8EETPc2GtudX0/X5Stwu30rwvGz6wE+y0FkQu2OZtsCmTcTfa/9WUOFnmoEDPCeAXk\n",
              "2trlehKaK9OsvMdL4ywk5ddYZxlaPWA7VE4Gasv4GJSHryOKzTXVsk34Hcf49lrhWOYz56wMh1Vr\n",
              "9y/AOfGjPLUaRlZmr9MRxa3yJAyuG1Wd9bVPWtDb0R11F3vlcfHBXh/KDcbxTBKYAyarr4rgSCXJ\n",
              "EdxaGpLlbg+QFYPcEAwq4CfL7a5690D9s7ttxbKZn2vXet9g2qgAERBoA5jhN3XX2EZN8wIwNQ0Y\n",
              "Nf+kVMgelUAD2gr1X26WxQAAATJBmshJ4QpSZTAhv/6nhAAAAwAqP8jCOMcUHEunolw/SkI2M7EY\n",
              "TOGSo9r6IM0/rMZdkYwQDaZxBZljzppYchxJiXm4PiLLHFQlr3kYDnkc3K39zp8J8eRMyFAHHDWs\n",
              "+i1FTUo/GE4hlvnrBRCwXuu/QFwMNoAEFvhny9/+9uEsr0YkhZrsEx8KqMbbJkA6b/C7FptxjXGE\n",
              "VlfiRy58yJdx3yphAktQWtlmuEvqHcWkAFBGb9Y+h4RtYm9FQG6Chf53NOuYvokgj1uSQ+0D9Ut/\n",
              "9ENyKxp5AB7BTSQDIrlTFt3HwYYWzo6mBNdxen+lnZryXT2/nfnShByiwCPadus02YAAV9oOX8Fi\n",
              "ep88v0WPGvofaBLNlwrN2dy7WToa4Go7t126djxaIuU3W2Ev1XES9+IAAAFmQZrpSeEOiZTAh3/+\n",
              "qZYAAAMAFU/rYpGPNIyoiSlmlBU0BF+X614uYRTeF7NULt7g+8XWll3x7GqxZNYQq5OPEIIQ5WMT\n",
              "CH0jWUOq/VZONtq/F4XQS+C7J6Qkk6sQKfeaSlYJwhz72hvZD5zwVI6ty3m0TboWyOWoKKT/i0mC\n",
              "RUPWPgwOb8gMZPxz+677yMYjQ3PK38lVk4cSaIEm6y86EYltkzGJUnOYlY9CkDlZLR1Kv6jtF+lG\n",
              "n6Tnw7z+a+spR3OXyERtEvo3j0sZhTUCGbGNBzaHIEgpngXuhLHNayw+KuVlY3j92NOKFSp2efSb\n",
              "gUEybDpflrNrTnfIrwOxU9OSoOjWOViBYiPoGngAj81ulXz4w+Wcpf74hFocUb1ITUirJv67PCYd\n",
              "YTAA4IjghsUAUYHBEvChquFifbBwvpd02vqvmwob3tPo6I0nQOH7ZQ1J5u1R7wMXJxzUSV/1QOJ1\n",
              "ZvDWjgAAANRBmwpJ4Q8mUwId//6plgAAAwAHoOPSAF6B77kb5Wu2lfD+XpORLCg3VvxlG3o2h70j\n",
              "AZA8so0emWmYHzENRTZ5hpE87hZ0DgHWPolRxolpicKRZqCcq0zGSeQKnAOpvcApwUnP3RlejnRC\n",
              "aoOjZ7hidO8NHbELfBZK7N4XuYzJ8CQBuDMLQDalr56nudKfNeMqKr3NeavP+8vfCsiq3PkVa3kB\n",
              "Hrja8PRfe03eSTVm7zBtSVLtDtANJGM5r/TneZUudmOR5pobsEoMJbuy4Iyz4QTAgQAAAG1Bmy5J\n",
              "4Q8mUwIb//6nhAAAAwAPKpB0gEwL7hjb0pQtWj+Z5raXIVhT6UrHQwBZRIogmJ4YsC03YNJvjJy+\n",
              "/H6wPSs4/zzDK1OFYreDd4A6/hz9iAJshE+tfx2i/NONlAvF8+CW9PceT7OQZqCwAAAAQUGfTEUR\n",
              "PDP/AKgy6CgAeZTYZUIzJ8jtdxrDUn60sX/5Bvs/aXV9aGlWWaI7XpYGUeAJoE2kgq6VDsHLqjSy\n",
              "ALuAAAAAQgGfa3RCvwAAAwAhroMpcSjahdw29Ar1xHyotsSsdKmDsxTqeWmJCkj4DfqzWU1u6yfB\n",
              "q8AJx9aMtHV23BDN6vGp7wAAAGYBn21qQr8AAAMAIbruXIMmpNuzYezorZ261fIATX6MPE+NiNDI\n",
              "gvs/yVvZ5KpneLBWOvsGNdirFyHlPl1zz5NB64y6KYvz0fy8EQkcXpC0e6S1A5boYr4yfkrO/5Wn\n",
              "DuAi8FUAA6sAAAFpQZtwSahBaJlMFPDf/qeEAAADACoAhgBL9OOTaCqerOMr7uAbJ/AiQtBAtBl0\n",
              "Sbxt/rVPI8PCNv9jq0lLfqNkfkeYHWO48AuUBjRCCL7u+Bx0xbWNvBI7unlwbj9tRg6CGv8ZVoBb\n",
              "bGTUVviYClFl50ZVSaQTK5RSxE3zdmEnoeDlExi3RNmG03p562I9Q4CVtU8nbHWe4Jihv6yu4PZM\n",
              "C+tKFWsk0qo0cPoroVzzs5E4ENLDIZlo3sEw4LqV4gjpUg9gxtcllujuZyKFYqk+XACtAqDYQnwy\n",
              "lPPNNWQMXGgD+SRBBwDzLMTwvm+lTPQ8LHBCvVY+2CC+ZHnQ0tZlIXiTWnN3pQPofCTNeEQo5900\n",
              "geZALXZ2sorlQ4Gm7DWBQlbujpEj98ytZfSFzH7k8QfvG0MPfGTYsL7RK64BKesJEbmCqFUOHFab\n",
              "/Ur8xKaEAmsq1xDFuC3EaBbnXelgRAVTDAHixADZgQAAAHEBn49qQr8AAAMAIbJr9Hvv/maXXZFR\n",
              "YlBxiNnXaTB8urqqHVDzOXAVSR262wmEQgQiRDkoNlRw8GQsQvNI2HUQATskdjBm6Dq6GC5o6Hi0\n",
              "7zgN0F/Kq/SsneGcLttwjaAOjoa9M0x+qdREWPexEACygAAAATJBm5FJ4QpSZTAh3/6plgAAAwAV\n",
              "NuvZtQEKtDRCdesobxseH4P8XHWGMTjl889O+Ar4p67AEFoqWtY3D3/gZDYnbxQI1vg1uDwjp9DC\n",
              "E+fYgMecc7Gxb7iOVGVqxuU0Hi+gvxGwQGcNeLb+M3zM7HQs4+S753xvVQjkbAzUXJ490pSxnSPy\n",
              "LQKF2laDAW7qvvc938r1voV3v0b1ULz/CkDbTSUByLKcYvsSz/HOdLxH20sQFiLt5S01lqP+veKj\n",
              "+GPg0qrAiJp6dRPz0FZ7jdD7PiEO8/1V2ads6rR+m+6Kd9J1ECALnOceXEkguxWXGbW3YWMP1sSd\n",
              "crwOBSGg7EysEjMz+SJiKbuGc3Cty7/tmn6opjGtrZE/dCpsHFzdA+w6uBB6jyTKtiSL8mPvvLk4\n",
              "x8AAAAFMQZuySeEOiZTAh3/+qZYAAAMAMZ5fDmUUiS1WhUrGa99il7IbSOiYXIp7KggAE7tSAxkv\n",
              "AjGzWbRdsWa6X65ynZdDFid4J5uBoPUDMSUGoc0xT2h8H6g8B7fy4CuE8zcEW/8E5El7FJm4JODQ\n",
              "jTebT1fUujJhhnAWxo0+Ibv0Eg3iRjcHRa2c2fK3Kkfye6Mv+Rn1ZXeZiL8pUhwg7Qd71vhgbw30\n",
              "BLqTf3nPRo43piXwSfeg1yEpFrgyz0gwDzkia+NbzGqhMxcZAO7V8QVA+kCmyXrJ38IjAO1K/Lk+\n",
              "gX8b23KPE3gONKC5g5JTEsaUIL59ayL84EG4eCCrBnvNj8qkQu+jiNcQXShPBRRsAUX294u7DCOC\n",
              "fTE7YItGGIt1oAfyeY7e2ekv5F/DUkhtZ6NS+KXsdrbcEDDszVuLVnzvFGBXWdRi0rDwImEAAAG0\n",
              "QZvUSeEPJlMFETw///6plgAAAwCE/21B7zYGXsg83vQQX52UMlUZn2xE0FxURLKTzY0IMvljdAvz\n",
              "mM6DA/spvx74PUVbEouzqO4qP0W/JYsutLcF6HWTJuzeeDgtbACulFJlS4RU3WhYkvETjYLB8B4w\n",
              "N3abvKux+UX12eHI5fIseWiARGLjdPqzeYb1NvsuMu+Cy6GveEd6vGzVN4JM7fRzChCyrgVqMjGF\n",
              "IeQWzWfZVmEc6CItmlS7D7DFVDTsPkbrcS0fazQ7KHoDinnI2f/oJeezYfbpDeqpmRYhJtZt8N+A\n",
              "6VYfm7qY5E357uDfw8XszHLXS0qB5F6e2+xK6dCVDwwwPq94lMG9la+GNm6BnaUNewuPz3wDkJNk\n",
              "h/zXABUnMTs8KzRzk8IWkZ79BvOEk1zf6yA7LGS/h6Whx4GiUTJ/XKMg9j2TssM9hDrlCtgKz8n9\n",
              "ql8wsRTDgXSXHzooAMCugOff95nEfybVPmRSU4SrwnbkTiNJXtXVeSBe1LSsXXWbbOzEKHfAEmUm\n",
              "lchNVEG7IsF2jpnxCNs+5dxsvhEgS+JAap6+gHkchumTMcVNIAAAAFkBn/NqQr8AAAMA3TqzH8mz\n",
              "EBbQk/xSSHM/RGw1gp6oCeTjaIj21BQNZsLuyE5XShe55cZ/J0a91w8rceHdiIpDnnJmeY98UT5D\n",
              "Zic7LyCcZirZ1tBe1ADjgAAAAZ9Bm/dJ4Q8mUwIf//6plgAAAwCMT8OWp9bgBysnW7aoWwD70xQx\n",
              "GevocGg7Zbp3lwLtB7EBr3u0nG3Sbypsd2X4qRwdeAapYKwZUW/Jh9yDZsCKkNCnZcAHMvMV6L/O\n",
              "O82cN5Z3TiOcxarUCGJl/4BYUWL1vn7KKy6jncoUxy8nPpPVI/ZmDoktVgICH3KbwAh2fYCZXbzl\n",
              "tU654oF2Xjm6pvU5ZIRvhTJUQ2hYvjrymmMIY+qCjbgHK5JeR5OC0a0HQVUsSaYpWXW3kgMhFTMS\n",
              "00VjgHMh90koxZ4Tb204whQLUV6mFN8o8tVuHEoBcpldo4lbPinqosP1qWoB7Lve8XYosNMTqv+E\n",
              "HCTraQC5SVhnoA1zLuOJIFwmKHpzS+SDoN6bibjLCk7g/H0Nctladihh7DT0FVXP1IovY4tyYzgV\n",
              "+ecGHB2atB3GEj7bPSU+6cXr25B7UgKq3uuqKUapTdaEaeS1BSrekHrnc5pWYiNnJHyH9jW0Ugjk\n",
              "B1eG8OpqQBfW/1+wp5BAcwwBp/+hsuG+viTQGz9PhPsj8aPlAAAAY0GeFUURPC//AOIONAQEdvkR\n",
              "d0Ye34VRIzT1c4X7pAGeKjSLvuEbQFwSlePDahdvnVuvoSkBU1JnDYjBh0Bf9p4XF3eTmXFDBFyF\n",
              "i2HJ0JNbmDzO9FmM9C4Onr9VgNIuj04XsAAAAEcBnjZqQr8AAAMA7bJKh/zVGYtXMrsv2K1TXS14\n",
              "YJfobuww4R+t267pDGmRwy7THyKxNYgCo9sEOJs7i5gg+rLlnMBsLmxR0QAAAKBBmjtJqEFomUwI\n",
              "f//+qZYAAAMAkPVvXQfXwguhtgKlYcB1Inepp6XrSC2iQtQfHgGWxun+SEe1k+QaG0m9m5VvZa4L\n",
              "ee24haUCB02xy4vOkEeZ1TCM0G1oDbTMNTkSbs+jJ04v0prwdF2Y5rnmNYWVpqQf0zyLL2jMvxdM\n",
              "jP29iEeZWFPzgcpZ0I9hQ6zA9coahokJxE5f3+kUX4Bi4iS7AAAAQUGeWUURLDP/AKhTUkgGwMmu\n",
              "7fBY//Jwm/goAK3qiPj/Ai7YX29FSpTAqiGDcbMzoAdyp4V3F7QFEhf+ruVmcWmFAAAAJwGeeHRC\n",
              "vwAAAwJb4lmPqNi4bDmMVYoWjCNjyoq2jx7gmmwAdCSwYQAAACoBnnpqQr8AAAMCWyPstZLGxM5r\n",
              "LiR/6G2kdo2yNF6pQDXHtAn+AMa1g0AAAAFKQZp+SahBbJlMCH///qmWAAADAIz1b2JIhpKznNjA\n",
              "An+VGD72vGRFkV6uLVj7lSZBUfhRGtmwRWCgkmUV72Ig4CdOPDTXnV/HMkjELpBAsjmLuWPlMdfM\n",
              "Ev5qA2JTNTAEd4plF1iruHa30E7URX+QYhfb0JzsVR+b8VvxRjoN+D9CiuwRRNND18rLTNOX5lbl\n",
              "yyLjoSuvLtMMvJpnUu89xNH2QaDFj1A2GpSMuPsGUedEPMMfpzrKyyJv4wn8Jzl1DoQ6LHMhXLU/\n",
              "ZESvdWb0YXVYrf+ZYEY4LaE9MK+z6H5yGt0Kdm2mIFoyI4ERAU59ISZ5XV/jVskRXXUv2cvVWEpE\n",
              "GK/JyKOpBrvVT0dWiiP7yMm/yRlkRbH4Gl4iLmSp9uRVsh2X2MaF9YqdUsIp4Erq7zDfi1mWFkH9\n",
              "f03ol3uP9S7cVulieIkXAAAAU0GenEUVLC//AOJEXaAJ9qmPBuk/YophwU1BY1zaByp/eNxRkMlb\n",
              "Kv2Nr/WyTwXsC/7t1aH3hTKrRUbDaxfjboK5h5tPaI5XFxwiseAp9q8qTR91AAAAQgGevWpCvwAA\n",
              "AwJLr/kYWYFZNlfcIvjEwtsuBL+cF/I3+wEAkV5dcs0EteR4ptooyKMW3EImy8tDNiAJ9V4ScOdd\n",
              "0AAAAbdBmqJJqEFsmUwIf//+qZYAAAMAhPVvXXG94ygvZIW6tRymOo9RHT1MyoxMpXyKayAqJKpR\n",
              "KM8OhBAeQmEc5TyP7pkwImGYEmJt3PluKmBe/cIlYSDZIRpyfd5TNV3bOpOvbU7Yk/cWZSSgSqTZ\n",
              "h58j9BLvtS6T8mRRDqT7CaxCUCuywsA58wgI8L+cUz62eXeEi/bvELjurpyEh2L0BznYKZiBRI17\n",
              "H+nWNEYOE0EujMgTDG4SMGlBNDTkWgWtTUQJzVHqn0xnhE+KgGBlzK6/JEbK9Ly74/c2YnO82Iv1\n",
              "tPivXB2S0ndl8Go26iTQDCjuOui18Z8h3nuA1owK3A2FZ4+NM8+MRxp9SJ8E5STnSxfnwfIifarH\n",
              "Q8QGRmSDfVZ3OrQS3kCUhHQAZHEiwMmPEPEoRghejvE2RaoUck2tKRbLQ8piFqS8zaY1CExZH6vF\n",
              "pEbhJAmF4bkP7vouqWEL/20tPkWNofBv/MBl3bUz6CXj0hIdEF4cZu0o1rwZK8DAG6729LEk82xy\n",
              "+vcymdnwu6X02JC7qmM417GtEhwCTQGU1ZPA/JCMPueG+uWcuRVjVhX724+AAAAAeUGewEUVLDP/\n",
              "AKhTUkgGwdpIyq0oQfsICvICSdcOr8VwXxLicFkVq0ksKQHPDCSEDWRGYPlr79KGR5pLYOWQBqBO\n",
              "Qre95M4Voz6gbFDuhuVoQWgwkSATM1rP5anYIkX+qMRe+x6aGLstjZiDLgz+saT1zR/N751eIOEA\n",
              "AABAAZ7/dEK/AAADAkrocOxM/WfXxZe1taMMmO1i4iVWmimpxdWg0e2XP0AvXxR1O1L5COJD/zKE\n",
              "gAmntqEACGoiqAAAAEkBnuFqQr8AAAMCS6/5GBR03DLL4TJ7vGYRty+HLPwzfr8AJnl8eFS2ZzJe\n",
              "7vsmsfV+oPjigGmfilFfR3eZhoCleC2SR7mklGXBAAABB0Ga5kmoQWyZTAh///6plgAAAwA0H8eE\n",
              "GM/w7jtu/KH/zaBNyAwkusKHRnRvzYY0l6MNVAZ1tssJ86aXWcLw7+O3qpBFSci88BUX+aFaLKtZ\n",
              "M8x8sJz5ki1/9zilQdUQVhRHSmw3zeeIaJqkRpMTABLXrsWsAHCQZebDG/K/aOfA9XIypkLFflxJ\n",
              "e8em5K6qioxo2Q5q5krWRoOwecKT/lQQbhsXWCCUmfgWNs0KilZW9xHHvQS0d34hVifxbouZtS+Y\n",
              "DpD8wIBn2HvlokyiiAUD6FoEKZYz4POsBOoO9upPQ4q19Key8s0D2b+Nr+OpegPxC4k8dNYfdFxU\n",
              "TmddB6H5/q6aaTfAAAAAOUGfBEUVLDP/AKhTUkgGwdpIypyPlOAAOuTM76Ytlfhu9G3uAzykkKeH\n",
              "JFqbD4L4M9ZrbyApwFES9wAAADYBnyN0Qr8AAAMCSuhw7CrIzrzizlyLFZhCWSQVOgATqYxxy5H5\n",
              "ljHSiadCzsJ/V+V9VdgALKEAAAAhAZ8lakK/AAADAkuv+RgysQgD3UM2CK+Y6IfQAbNBD4l5AAAA\n",
              "oUGbKkmoQWyZTAh///6plgAAAwAz47mtYq/vs15OSGmGmJBL/jGTrIwkIMg68qaqL+dQhbe8QexV\n",
              "0daoDsQHkHJ/+Lfs7RraBsA1xsF99198xm6agpcSgQwKDq9SU6GZen2LQeos7Dg3Dlsfm7/Jd96V\n",
              "QbGUCZTokL8fKjLyt/rOziUqS/UMr90B/ohCKOEIQC38Qzj37Gzxr6r4FFtPx6GBAAAALUGfSEUV\n",
              "LDP/AKhTUkgGwdpIypyRaS2MHXoOogml7rVaALre/d66CQAAbc2NgAAAACYBn2d0Qr8AAAMCSuhw\n",
              "7CqwsZkUIIXoe0AH6TS39fwmamMwBHF7FgAAACkBn2lqQr8AAAMCS6/5GDLInToXpIOwizzJ+n1e\n",
              "xmf6ccCR9gRADSDjuwAAAN5Bm25JqEFsmUwIf//+qZYAAAMAgB2bAyFbEXiHmF4bLTEtyO0KH3oD\n",
              "JqAywycbkTPIrLCXGJstcifef8qE4rv8jqih0jj3KjiXGSXcOIm0mz/yiuBnOXiPhwe9ae5IAuOv\n",
              "2jgJJZIUOUdTn7fQLDheNEQ82hHDUpezykiOXAw2S/lDDXDApvNUaB90CssVSv3+cvaGD5QvF8qx\n",
              "CMdUu6ESED1HXrsuhy5yIB9wBFyh5/GxKtFbMiwzTA1cduwA4UYqjzDUqzODzhRpdOYy6MbDw1Ho\n",
              "CS8qGXfvr9/07mAAAABDQZ+MRRUsM/8AqFNSSAbB2kjKnJB2ZjdxMVqAw7BfsC26tRBaALFNdOze\n",
              "fl4RO8jKOTXvzT8PPUhKgsZAkxR6FgiXgAAAACcBn6t0Qr8AAAMCSuhw7CrGoJPZ3PweJCMRI5HQ\n",
              "lDZ0dynHKcYAA1MAAAAzAZ+takK/AAADAkuv+RgyxtVsKdZemkv7cNUAE5jrs+eg1RWQxsFcXuGC\n",
              "6GfEwBeweBUlAAAAo0GbskmoQWyZTAh///6plgAAAwCAJtET4+FvwUOIUt2V5o2nAp3QOZGZUXjD\n",
              "vWXpkSNsCGTB9dTCOIFlHxbdXBBLRTGOv/VbCEcvrtvFqGyn7kSYAGFKV3AOLadjeEj0FaFUYPFC\n",
              "y1g+CxRfzQUrAnPQHDsDnlf7r0reQWnb+36+rwW+97seq69UzT1N0hGs5twbmKy7fjqPq/Z+Kcdy\n",
              "jle/EocAAAA6QZ/QRRUsM/8AqFNSSAbB2kjKlBCGHpjrajXGsX1AYHQxAaz+tY/5ZqC5LqcPYZSe\n",
              "/SvBQEa4wxrnwAAAACUBn+90Qr8AAAMCSuhw7ApIc9C2FZGzQ2qUNgmesZvBCzz/gAb0AAAAJAGf\n",
              "8WpCvwAAAwJLr/kYFHRM2GfhBfDND8ioIytccADSrXgbMQAAAHJBm/ZJqEFsmUwIf//+qZYAAAMA\n",
              "NRbQdDfHiVabbmzqLHKeosVbu4QjLjaedPBgD60UMAK7dVFN9h9dtKrHNuql5p/VzCgz06TpJvE0\n",
              "+hwopY4sFyY+4dtWLDXjCOnbDbjEBk/RytJdQ7bYzM5dluYL3MAAAAAtQZ4URRUsM/8AqFNSSAbB\n",
              "2kjKmgtwwvJXacBAPHPNIlH4+QP9VggDf9JEli4gAAAAHQGeM3RCvwAAAwJK6HDsJWhu/ZbBYDuS\n",
              "4AFXfN6BAAAAFwGeNWpCvwAAAwJLr/kYL4raWsAmMZfkAAAAiEGaOkmoQWyZTAh///6plgAAAwCA\n",
              "JyK1BTIEJV8Kv7ZCSNLtOV3w2oMkJxPnGuKgS7zEw2n6G4mLNWR8PAayZvpLyKIpqfyFu0fu8QrV\n",
              "W8StHSQQF+FZnzHn/i4DLVAepZClgzhWXfWwhtPn4BqPOkVnrprp/VbSYiHCGseIyOfHheumXtq2\n",
              "0cEAAAA3QZ5YRRUsM/8AqFNSSAbB2kjKjtsGq8hmpBiOcspABBx4AeQcJnMxWTKeTd4P3mNKh6AH\n",
              "ketmqwAAACQBnnd0Qr8AAAMCSuhw7BbkK+lwKwwATCjUcwnI3bkiABk4hDQAAAAdAZ55akK/AAAD\n",
              "Akuv+Rgysn4cfO2uDEn4AbQTysEAAABsQZp+SahBbJlMCH///qmWAAADAIAyziEi/2iE9tBa4plq\n",
              "3gYiKb+XfRoAjlaT4lbDBaXbjhfyLlpiFEugPU8OqcCGe0QW+7sfC0Wt4ScH+Q/Kpd4UrKndPhCO\n",
              "LFHU84j4ZTUOryvFcXT6j9PYAAAANUGenEUVLDP/AKhTUkgGwdpIypOwMvNmNygN7w8q+1QAbK2L\n",
              "wKP8dieSFk+FPGAO+AAJz79JAAAAFgGeu3RCvwAAAwJK6HDsKobjG1gACbkAAAAYAZ69akK/AAAD\n",
              "Akuv+Rff/+XEoktaAAPmAAAAUEGaokmoQWyZTAh///6plgAAAwAz0oKdALTsHP4DDJPtP6FjHoig\n",
              "wCjep1w00aaql/VpQSyy8lff+mgKh+TvY96YoUeUVKG3fJl3A3WyhHVsAAAAJ0GewEUVLDP/AKhT\n",
              "UkgGwdpIypyPk2dFjl+C0aVWzXPX/AXTuAA6YQAAABUBnv90Qr8AAAMCSuhw7CqE8tIAA3oAAAAV\n",
              "AZ7hakK/AAADAkuv+RgwUJS1gAK/AAAAR0Ga5kmoQWyZTAh///6plgAAAwAz0g6EO+rbIAJo81Gu\n",
              "DKWtZyiM8ci7RN2cqQseKT4J1z7u5lSkpc6sP7QMsrNKJV3+5xtwAAAAI0GfBEUVLDP/AKhTUkgG\n",
              "wdpIypxJFZzfmg8wDAQLk4AFzWoFAAAAFwGfI3RCvwAAAwJK6HDsKoccMou1gAH3AAAAFwGfJWpC\n",
              "vwAAAwJLr/kYMFCUtYAb70/9AAAAekGbKkmoQWyZTAh///6plgAAAwCAQl3wdzEW25BQlVRIo0XK\n",
              "DeeVEcdmLa64kij0n2rXTkRVyV1QtUc4nDZwuN/tOmtyCYvCB2fCXkj8v7p2y5vU5X8oCM8PqTHI\n",
              "0/iG6zLyOnqfV/96vlM9gtk9+NUqLLGedqS9c0FBAAAAI0GfSEUVLDP/AKhTUkgGwdpIyo7eFc3f\n",
              "sS+aWigGHeACwAIuAAAAGgGfZ3RCvwAAAwJK6HDr3boiZIgKjAA15JMYAAAAFwGfaWpCvwAAAwJL\n",
              "r/kYMFCUtYAb70/9AAAAQEGbbkmoQWyZTAh///6plgAAAwAzzyOJ6PAHK3n4Qwt+/DQqqRENzIoN\n",
              "d+rZINaGygvmuYOQ7Ft7Nn49XqlAAVMAAAAjQZ+MRRUsM/8AqFNSSAbB2kjKnEkVnN9EgXyhigor\n",
              "gATw1SQAAAAXAZ+rdEK/AAADAkrocOwoT+grACGZhAkAAAAXAZ+takK/AAADAkuv+RgwUJS1gBvv\n",
              "T/0AAAArQZuySahBbJlMCH///qmWAAADADKXJSQCWJZXDnzYCNXV8JiSLu/o4AAl4QAAACNBn9BF\n",
              "FSwz/wCoU1JIBsHaSMqcSRWc3zKVrWQDXNABNAjKgAAAABcBn+90Qr8AAAMCSuhw7ChP6CsAIZmE\n",
              "CAAAABcBn/FqQr8AAAMCS6/5GDBQlLWAG+9P/QAAADVBm/ZJqEFsmUwIf//+qZYAAAMAM9BGvLHw\n",
              "AJj+jEPlxF0FFwSik3qNBIrNgNDC32DgQADFgAAAACNBnhRFFSwz/wCoU1JIBsHaSMqcSRWc3zKV\n",
              "rWQDXNABNAjKgAAAABcBnjN0Qr8AAAMCSuhw7ChP6CsAIZmECQAAABcBnjVqQr8AAAMCS6/5GDBQ\n",
              "lLWAG+9P/AAAADNBmjpJqEFsmUwIf//+qZYAAAMAM9BMe9OySB/4AEuOOKtm/g6mXBuqqnN5+cIP\n",
              "bbQAEXEAAAAjQZ5YRRUsM/8AqFNSSAbB2kjKnEkVnN8yla1kA1zQATQIyoEAAAAXAZ53dEK/AAAD\n",
              "AkrocOwoT+grACGZhAgAAAAXAZ55akK/AAADAkuv+RgwUJS1gBvvT/0AAAAZQZp+SahBbJlMCH//\n",
              "/qmWAAADAAADAAAs4AAAACRBnpxFFSwz/wCoU1JIBsHaSMqcSRWc30NS7ZQgwDNIgBfA1NEAAAAX\n",
              "AZ67dEK/AAADAkrocOwoT+grACGZhAkAAAAXAZ69akK/AAADAkuv+RgwUJS1gBvvT/wAAAAeQZqi\n",
              "SahBbJlMCH///qmWAAADADAPF7QB++VsAAFBAAAAI0GewEUVLDP/AKhTUkgGwdpIypxJFZzfQo+t\n",
              "jsQCB/gBVzVtAAAAFwGe/3RCvwAAAwJK6HDsKE/oKwAhmYQIAAAAFwGe4WpCvwAAAwJLr/kYMFCU\n",
              "tYAb70/9AAAAMkGa5kmoQWyZTAh///6plgAAAwAzyy9JTEAxq2z3epy3vVxaPd6Y9IMAby55Z2FY\n",
              "ABqQAAAAJEGfBEUVLDP/AKhTUkgGwdpIypyPpVMFrXADC/ggR8IALkgs4QAAABcBnyN0Qr8AAAMC\n",
              "Suhw7ChP6CsAIZmECQAAABcBnyVqQr8AAAMCS6/5GDBQlLWAG+9P/QAAABlBmypJqEFsmUwIf//+\n",
              "qZYAAAMAAAMAACzhAAAAI0GfSEUVLDP/AKhTUkgGwdpIypxJFZzfMpWtZANc0AE0CMqAAAAAFwGf\n",
              "Z3RCvwAAAwJK6HDsKE/oKwAhmYQIAAAAFwGfaWpCvwAAAwJLr/kYMFCUtYAb70/9AAAAGUGbbkmo\n",
              "QWyZTAh///6plgAAAwAAAwAALOAAAAAjQZ+MRRUsM/8AqFNSSAbB2kjKnEkVnN8yla1kA1zQATQI\n",
              "yoAAAAAXAZ+rdEK/AAADAkrocOwoT+grACGZhAkAAAAXAZ+takK/AAADAkuv+RgwUJS1gBvvT/0A\n",
              "AAAZQZuySahBbJlMCH///qmWAAADAAADAAAs4QAAACNBn9BFFSwz/wCoU1JIBsHaSMqcSRWc3zKV\n",
              "rWQDXNABNAjKgAAAABcBn+90Qr8AAAMCSuhw7ChP6CsAIZmECAAAABcBn/FqQr8AAAMCS6/5GDBQ\n",
              "lLWAG+9P/QAAABlBm/ZJqEFsmUwIf//+qZYAAAMAAAMAACzgAAAAI0GeFEUVLDP/AKhTUkgGwdpI\n",
              "ypxJFZzfMpWtZANc0AE0CMqAAAAAFwGeM3RCvwAAAwJK6HDsKE/oKwAhmYQJAAAAFwGeNWpCvwAA\n",
              "AwJLr/kYMFCUtYAb70/8AAAAGUGaOkmoQWyZTAh///6plgAAAwAAAwAALOEAAAAjQZ5YRRUsM/8A\n",
              "qFNSSAbB2kjKnEkVnN8yla1kA1zQATQIyoEAAAAXAZ53dEK/AAADAkrocOwoT+grACGZhAgAAAAX\n",
              "AZ55akK/AAADAkuv+RgwUJS1gBvvT/0AAAAZQZp+SahBbJlMCH///qmWAAADAAADAAAs4AAAACNB\n",
              "npxFFSwz/wCoU1JIBsHaSMqcSRWc3zKVrWQDXNABNAjKgQAAABcBnrt0Qr8AAAMCSuhw7ChP6CsA\n",
              "IZmECQAAABcBnr1qQr8AAAMCS6/5GDBQlLWAG+9P/AAAABlBmqJJqEFsmUwIf//+qZYAAAMAAAMA\n",
              "ACzgAAAAI0GewEUVLDP/AKhTUkgGwdpIypxJFZzfMpWtZANc0AE0CMqBAAAAFwGe/3RCvwAAAwJK\n",
              "6HDsKE/oKwAhmYQIAAAAFwGe4WpCvwAAAwJLr/kYMFCUtYAb70/9AAAAGUGa5kmoQWyZTAh///6p\n",
              "lgAAAwAAAwAALOAAAAAjQZ8ERRUsM/8AqFNSSAbB2kjKnEkVnN8yla1kA1zQATQIyoEAAAAXAZ8j\n",
              "dEK/AAADAkrocOwoT+grACGZhAkAAAAXAZ8lakK/AAADAkuv+RgwUJS1gBvvT/0AAAAZQZsqSahB\n",
              "bJlMCH///qmWAAADAAADAAAs4QAAACNBn0hFFSwz/wCoU1JIBsHaSMqcSRWc3zKVrWQDXNABNAjK\n",
              "gAAAABcBn2d0Qr8AAAMCSuhw7ChP6CsAIZmECAAAABcBn2lqQr8AAAMCS6/5GDBQlLWAG+9P/QAA\n",
              "ABlBm25JqEFsmUwIf//+qZYAAAMAAAMAACzgAAAAI0GfjEUVLDP/AKhTUkgGwdpIypxJFZzfMpWt\n",
              "ZANc0AE0CMqAAAAAFwGfq3RCvwAAAwJK6HDsKE/oKwAhmYQJAAAAFwGfrWpCvwAAAwJLr/kYMFCU\n",
              "tYAb70/9AAAAGUGbskmoQWyZTAh///6plgAAAwAAAwAALOEAAAAjQZ/QRRUsM/8AqFNSSAbB2kjK\n",
              "nEkVnN8yla1kA1zQATQIyoAAAAAXAZ/vdEK/AAADAkrocOwoT+grACGZhAgAAAAXAZ/xakK/AAAD\n",
              "Akuv+RgwUJS1gBvvT/0AAAAZQZv2SahBbJlMCH///qmWAAADAAADAAAs4AAAACNBnhRFFSwz/wCo\n",
              "U1JIBsHaSMqcSRWc3zKVrWQDXNABNAjKgAAAABcBnjN0Qr8AAAMCSuhw7ChP6CsAIZmECQAAABcB\n",
              "njVqQr8AAAMCS6/5GDBQlLWAG+9P/AAAABlBmjpJqEFsmUwIf//+qZYAAAMAAAMAACzhAAAAI0Ge\n",
              "WEUVLDP/AKhTUkgGwdpIypxJFZzfMpWtZANc0AE0CMqBAAAAFwGed3RCvwAAAwJK6HDsKE/oKwAh\n",
              "mYQIAAAAFwGeeWpCvwAAAwJLr/kYMFCUtYAb70/9AAAAGUGafkmoQWyZTAh///6plgAAAwAAAwAA\n",
              "LOAAAAAjQZ6cRRUsM/8AqFNSSAbB2kjKnEkVnN8yla1kA1zQATQIyoEAAAAXAZ67dEK/AAADAkro\n",
              "cOwoT+grACGZhAkAAAAXAZ69akK/AAADAkuv+RgwUJS1gBvvT/wAAAAZQZqiSahBbJlMCH///qmW\n",
              "AAADAAADAAAs4AAAACNBnsBFFSwz/wCoU1JIBsHaSMqcSRWc3zKVrWQDXNABNAjKgQAAABcBnv90\n",
              "Qr8AAAMCSuhw7ChP6CsAIZmECAAAABcBnuFqQr8AAAMCS6/5GDBQlLWAG+9P/QAAABlBmuZJqEFs\n",
              "mUwIf//+qZYAAAMAAAMAACzgAAAAI0GfBEUVLDP/AKhTUkgGwdpIypxJFZzfMpWtZANc0AE0CMqB\n",
              "AAAAFwGfI3RCvwAAAwJK6HDsKE/oKwAhmYQJAAAAFwGfJWpCvwAAAwJLr/kYMFCUtYAb70/9AAAA\n",
              "GUGbKkmoQWyZTAh///6plgAAAwAAAwAALOEAAAAjQZ9IRRUsM/8AqFNSSAbB2kjKnEkVnN8yla1k\n",
              "A1zQATQIyoAAAAAXAZ9ndEK/AAADAkrocOwoT+grACGZhAgAAAAXAZ9pakK/AAADAkuv+RgwUJS1\n",
              "gBvvT/0AAAAZQZtuSahBbJlMCH///qmWAAADAAADAAAs4AAAACNBn4xFFSwz/wCoU1JIBsHaSMqc\n",
              "SRWc3zKVrWQDXNABNAjKgAAAABcBn6t0Qr8AAAMCSuhw7ChP6CsAIZmECQAAABcBn61qQr8AAAMC\n",
              "S6/5GDBQlLWAG+9P/QAAABlBm7JJqEFsmUwIf//+qZYAAAMAAAMAACzhAAAAI0Gf0EUVLDP/AKhT\n",
              "UkgGwdpIypxJFZzfMpWtZANc0AE0CMqAAAAAFwGf73RCvwAAAwJK6HDsKE/oKwAhmYQIAAAAFwGf\n",
              "8WpCvwAAAwJLr/kYMFCUtYAb70/9AAAAGUGb9kmoQWyZTAh///6plgAAAwAAAwAALOAAAAAjQZ4U\n",
              "RRUsM/8AqFNSSAbB2kjKnEkVnN8yla1kA1zQATQIyoAAAAAXAZ4zdEK/AAADAkrocOwoT+grACGZ\n",
              "hAkAAAAXAZ41akK/AAADAkuv+RgwUJS1gBvvT/wAAAAZQZo6SahBbJlMCH///qmWAAADAAADAAAs\n",
              "4QAAACNBnlhFFSwz/wCoU1JIBsHaSMqcSRWc3zKVrWQDXNABNAjKgQAAABcBnnd0Qr8AAAMCSuhw\n",
              "7ChP6CsAIZmECAAAABcBnnlqQr8AAAMCS6/5GDBQlLWAG+9P/QAAABlBmn5JqEFsmUwIf//+qZYA\n",
              "AAMAAAMAACzgAAAAI0GenEUVLDP/AKhTUkgGwdpIypxJFZzfMpWtZANc0AE0CMqBAAAAFwGeu3RC\n",
              "vwAAAwJK6HDsKE/oKwAhmYQJAAAAFwGevWpCvwAAAwJLr/kYMFCUtYAb70/8AAAAGUGaokmoQWyZ\n",
              "TAh///6plgAAAwAAAwAALOAAAAAjQZ7ARRUsM/8AqFNSSAbB2kjKnEkVnN8yla1kA1zQATQIyoEA\n",
              "AAAXAZ7/dEK/AAADAkrocOwoT+grACGZhAgAAAAXAZ7hakK/AAADAkuv+RgwUJS1gBvvT/0AAAAZ\n",
              "QZrmSahBbJlMCH///qmWAAADAAADAAAs4AAAACNBnwRFFSwz/wCoU1JIBsHaSMqcSRWc3zKVrWQD\n",
              "XNABNAjKgQAAABcBnyN0Qr8AAAMCSuhw7ChP6CsAIZmECQAAABcBnyVqQr8AAAMCS6/5GDBQlLWA\n",
              "G+9P/QAAABlBmypJqEFsmUwIf//+qZYAAAMAAAMAACzhAAAAI0GfSEUVLDP/AKhTUkgGwdpIypxJ\n",
              "FZzfMpWtZANc0AE0CMqAAAAAFwGfZ3RCvwAAAwJK6HDsKE/oKwAhmYQIAAAAFwGfaWpCvwAAAwJL\n",
              "r/kYMFCUtYAb70/9AAAAGUGbbkmoQWyZTAh///6plgAAAwAAAwAALOAAAAAjQZ+MRRUsM/8AqFNS\n",
              "SAbB2kjKnEkVnN8yla1kA1zQATQIyoAAAAAXAZ+rdEK/AAADAkrocOwoT+grACGZhAkAAAAXAZ+t\n",
              "akK/AAADAkuv+RgwUJS1gBvvT/0AAAAZQZuySahBbJlMCH///qmWAAADAAADAAAs4QAAACNBn9BF\n",
              "FSwz/wCoU1JIBsHaSMqcSRWc3zKVrWQDXNABNAjKgAAAABcBn+90Qr8AAAMCSuhw7ChP6CsAIZmE\n",
              "CAAAABcBn/FqQr8AAAMCS6/5GDBQlLWAG+9P/QAAABlBm/ZJqEFsmUwIf//+qZYAAAMAAAMAACzg\n",
              "AAAAI0GeFEUVLDP/AKhTUkgGwdpIypxJFZzfMpWtZANc0AE0CMqAAAAAFwGeM3RCvwAAAwJK6HDs\n",
              "KE/oKwAhmYQJAAAAFwGeNWpCvwAAAwJLr/kYMFCUtYAb70/8AAAAGUGaOkmoQWyZTAh///6plgAA\n",
              "AwAAAwAALOEAAAAjQZ5YRRUsM/8AqFNSSAbB2kjKnEkVnN8yla1kA1zQATQIyoEAAAAXAZ53dEK/\n",
              "AAADAkrocOwoT+grACGZhAgAAAAXAZ55akK/AAADAkuv+RgwUJS1gBvvT/0AAAAZQZp+SahBbJlM\n",
              "CH///qmWAAADAAADAAAs4AAAACNBnpxFFSwz/wCoU1JIBsHaSMqcSRWc3zKVrWQDXNABNAjKgQAA\n",
              "ABcBnrt0Qr8AAAMCSuhw7ChP6CsAIZmECQAAABcBnr1qQr8AAAMCS6/5GDBQlLWAG+9P/AAAABlB\n",
              "mqJJqEFsmUwIf//+qZYAAAMAAAMAACzgAAAAI0GewEUVLDP/AKhTUkgGwdpIypxJFZzfMpWtZANc\n",
              "0AE0CMqBAAAAFwGe/3RCvwAAAwJK6HDsKE/oKwAhmYQIAAAAFwGe4WpCvwAAAwJLr/kYMFCUtYAb\n",
              "70/9AAAAGUGa5kmoQWyZTAh///6plgAAAwAAAwAALOAAAAAjQZ8ERRUsM/8AqFNSSAbB2kjKnEkV\n",
              "nN8yla1kA1zQATQIyoEAAAAXAZ8jdEK/AAADAkrocOwoT+grACGZhAkAAAAXAZ8lakK/AAADAkuv\n",
              "+RgwUJS1gBvvT/0AAAAZQZsqSahBbJlMCH///qmWAAADAAADAAAs4QAAACNBn0hFFSwz/wCoU1JI\n",
              "BsHaSMqcSRWc3zKVrWQDXNABNAjKgAAAABcBn2d0Qr8AAAMCSuhw7ChP6CsAIZmECAAAABcBn2lq\n",
              "Qr8AAAMCS6/5GDBQlLWAG+9P/QAAABlBm25JqEFsmUwIf//+qZYAAAMAAAMAACzgAAAAI0GfjEUV\n",
              "LDP/AKhTUkgGwdpIypxJFZzfMpWtZANc0AE0CMqAAAAAFwGfq3RCvwAAAwJK6HDsKE/oKwAhmYQJ\n",
              "AAAAFwGfrWpCvwAAAwJLr/kYMFCUtYAb70/9AAAAGUGbskmoQWyZTAh///6plgAAAwAAAwAALOEA\n",
              "AAAjQZ/QRRUsM/8AqFNSSAbB2kjKnEkVnN8yla1kA1zQATQIyoAAAAAXAZ/vdEK/AAADAkrocOwo\n",
              "T+grACGZhAgAAAAXAZ/xakK/AAADAkuv+RgwUJS1gBvvT/0AAAAZQZv2SahBbJlMCH///qmWAAAD\n",
              "AAADAAAs4AAAACNBnhRFFSwz/wCoU1JIBsHaSMqcSRWc3zKVrWQDXNABNAjKgAAAABcBnjN0Qr8A\n",
              "AAMCSuhw7ChP6CsAIZmECQAAABcBnjVqQr8AAAMCS6/5GDBQlLWAG+9P/AAAABhBmjlJqEFsmUwI\n",
              "V//+OEAAAAMAAAMABU0AAAAhQZ5XRRUsK/8AAAMCTBmcgk7H8I4pO100zsA8cwATycwJAAAAFwGe\n",
              "eGpCvwAAAwJLr/kYMFCUtYAb70/8AAAf+mWIggAEv/73rd+BTcBA7Wu6Vzi0y6uUND1R9pSmeLZI\n",
              "AAADAAADAAAP8M2+n1EV15emAAADAH4iLWul54S3t+AAjAKrIDhIJCRa+QjLjiMMNUJshPIrsi48\n",
              "OQBztsa71XAwhcv3ayPbPaKMoHYG4DYOkUthBx6D45jx+TRkqRkPWj+fnzrwl9GYPw8YtjXbEmpB\n",
              "oZrcyy8nAlIR0WFuLsoVObhOkdCN/qAuuGktX+QDnLgskeM9FqOMnJxLAZ8C42Eq9MoZExgk7z0r\n",
              "gIgSsp6vqWprWdp/EvSu46g7fzt0r2icpleMK4FE2iZcM0dXoQcPnNy7DExdvuQIFVivE20YI4x9\n",
              "x2qXFkeDuSuIsUbpTbCAiD8gmPschvK4/u7V/6YGi5Z63wjOEWm6MLsjJj3kAAqwIWpDkiuR0Rlg\n",
              "BtMwzKh5XdSu1hIEhy5JJksEVI1xWHTHm+17RWJ3mZPoHDJZ/RiI9mgA3PYiHN/uj/TfDpzRB79r\n",
              "jbY6dh0LrngmbPTG8H0SrOC/bX/Vn0nxEDvbBkMxHocEkC9aeLj42H6XHC6w2XtxbtY+DFOHMsGG\n",
              "AkpGvDco9xdmdAeOA1ivDKzoXtkXoraBHq3KsnCazNS8hAkA7KJhk3nol3Jdzw+vMMqQh4yt1MTH\n",
              "WVeI4RN810idgw/vh6VhkFpqcarwJznCB0ms6dOXK+G/BLXzOXiKgiPwiGHWaHuTkgKtHrWK116/\n",
              "IUnO/LFvuLSj1dMh1ywYWkyVc17nU4eytGqPmNVVq7ZWMB7/+b4bAWc2AeIhl26uYW446VLnQrbX\n",
              "CtDJnPo52P9RgqkPexF2j00BDQcnDcZ7xTtZ+Fc20c4W4U/oqTmlts/4T/LnGIkrF3aB8kbVNKEL\n",
              "Sca/7tHc8f/vzKxwkzkGc/3J/FT/3QgumU6uGV14rSSSLvZ+BiIWpPmgO2G6eJ4H6KovOOeBvR3u\n",
              "a+cRXL3MnbEAYKwNFpaf3FN0jinMDh5sGO9IsLYQ1wYJn7BS8ankft/CZwAd9YMLExEHN5xFeA2s\n",
              "o4QBkDOw/NHwEE7al+c3lahGHWQJP2LhT8LQ1Pd3Kkb+WquFMwyCiPPxt3X7pf99pa0a5UAC6j92\n",
              "4pkpgB0jfx+ViwZRb+WO1M3x+PnmJFPCiDDgKNlQ/HaUtBVbTee5zWZ2aacsXFTi2s7/gpFIzrFK\n",
              "C7IJw2aBkbWkHEZXGNjsvFtmhSLjfktxTXLAgY90nDFMeTdi1afxI8m+R7XnczlK/eRAnhk7evuK\n",
              "tubB1d/AdywdSLXdBdSVfqKUPL6GYizGY0CD9o3nqiBCWiir/It19bastYAey+I+DO6FJZDGXy2x\n",
              "gGEhjSdYuuVIhog3cPCQtZqztl8iKQOCvTC5gYqlTM0w5rjUkw7xvgGBnhGi/1i8BS0LBEf5gNec\n",
              "W4nizEsP8OhnjN/z4lce8UU6tsNmm5UL9cfHRWxYhRHF8PVkMULjn7mH8yLmpD8IduqM9oBvqWe9\n",
              "QnhtwNqdSc8uemO5Xc8KzWe2ARENUrbnKxdms9zEOTxpBRx/dbqwjoYEDLBpgz3FGtspFT6TObxd\n",
              "sQI1NH+gpZcxCxJ7Ems+BNldNB6br5qTaDkQ9Tjs4bVydVmlCFnBOulWBzkD4rJFwropIwk305Ct\n",
              "7KqD5y+xt9WAedUtXK0m7imWvpx49Gonq1uSLVt63R0a4XNLTWR2v7HyVXrRrNsrXzXaCAHjt/Jy\n",
              "UJrEdCRFcKxF6ddgHr3QqMd23DwQoSTjIQQgxSNn7bWoQgh1KnGVkE4wjJcf5ojuHQ3TdA2p2b7d\n",
              "T1JQShQEl0A+pZDwOEfyhR7fByrHf4rsoukvhfiPqska2/BcMSD/DIR5nzdJiTFDmGGNCJBC+ErE\n",
              "vhRpGzmEd7RF5BVGxkuLTUPW6IbouzkSfE+8kTOE3x3hYlJYjmDVCsRtmi2bSKEZIA4/Nyb68nrj\n",
              "PsR9e7es1mebuKBpYKEAQTQWNIdPR6Va1ni06C5eQdKW6YHsq3bWMvgoEXDU4fzXGj+oinjJGoax\n",
              "jcTTToqPMnJ9fXqmB5XqMsEhtoxEHvlQfZWeSfG7rxsb70FjeTLftDpHC5DmaUNcvWmhSVEQQZMM\n",
              "PqA8dE5Oro2x9qV1NnqpJgT3BGl9wEVZIj5zw7cq9QYG8l2PLHDCw53l66i8i96vlqeP760rojF5\n",
              "833OwYhTVdDAkmU1Q7umaRGp7PPUOuXAWHnv7x20LO08QR+lLTn2k2EJVxDvSaRbk3iL5Cnpi+qw\n",
              "g/wtQj2ipNQ8olhg3/53pI38KG5Sh4yLqaTdfourTElVL8im/cCxumeuCaahsudqlaQvbxcaZwum\n",
              "iD0Mla2NlSuYrzZlqS9bcbRdrEJCgybM27AnYmeGN7nSqoPuoVioo0UKhl03oofZIhINVe3lOFjI\n",
              "a7NBXnus/Als9ykeoU5P41rAse5i+uKjTdw9w/Q0gPSAhehGJeYLJ7jggn53Ztl0VjqUaTc3PkHs\n",
              "bsjX7HPyHJejEJ7Dp/lLMBs2pNsFCDaisNUwhX7K2jucLzmweQxZBwUlOgxb8jiTaye5OqDC5/AA\n",
              "NvG6xz8OMai+vAiMriiicwrHz/21okAhxv3ldfKLDSEJe1bRGcF4eUNQxwEk//RcYQvJDm+2KjyK\n",
              "Oo82nH7xsI6kqi4sRWADkUWU2IpimvwkdrYrwUWnxem1zXANecdeHff0hOY0fs1p2BhQ7zzowB9/\n",
              "g0GSnN9IVszj+3DepkOKVmHFZbLo3knsjcROSqnONhO2971EVIKvyCh4KG0uryZUHwJm1h7BLYMq\n",
              "lu//JrzuYtirnjPf9xWLCLNCsNs40b9DzvYvCXtjP7KTcSr1MiDw2GSHr2mcOIoAuWfqnOXXTsZn\n",
              "heWQGBCQcdrJPtxLxV+SA72UcodOWRDje1m07ohyRdVBoedb/WjGVtvz50pC8RdNji15L22q2BEJ\n",
              "oFShgqP2DB8UQwo81YKXxv8CdLYf1J4/kPVQ0um+tIIrW/K9HpOgGa+C6dWfYLaTvjLdZxAugWIy\n",
              "WYpV/1x6ujyL4e2qRSZnr5BnbzfTgzDkEXlzhJFk3dOrdkLpPjKbAmP0J+JhqDaotXm/2NvkKHSd\n",
              "Qjwsm9LbNGo33xDVVWFc/rAjJuNqBv/fN5n5p0ThuyxcF0IaxSgCv1jbBNOUW1eEEIgt3MRxF4AY\n",
              "Uawby9IQjyghglkUBxw43f6g0yaK2rbgfFZI+iK1nDnyR4SzfA1NAWqYQOewgDOPqPQv/RQuq/J6\n",
              "k3tsdrBDZlQ5A9HjCv4lpP4wXx8gGzKL9pscVlN1zoAt+V0oA/5qhOn51EgWyjkBYRribF94UCB1\n",
              "V1uljiQ5C5XfbUXJmjTAeBRBpqFkTGdRVUDgPEy7CcktJaoIBOeJDeopNlo7XpWpM8a4+CUY+Mir\n",
              "kDUhiu5tzF035FRd/FEseQzkcZbzYxsy0fm4vDhDXWs0CmITUfE0fueFAoe6U7IlcbrIERV+KOui\n",
              "2P+HLPlLZD0J2kxHidXSk2uMBwk4C0M7MYUuRj/7ewZyiAysPgvvRxk3dmKvgbM8l3dnjPk6jf3M\n",
              "bKOYuTxpb4UDaRJ+Cc2D/QySqcS6eoS6GhfJ9YjgNw7WrWzoyaVyIsEs0HGBN7Nk4N4iSVGk1TUP\n",
              "WH9RGJc+FjS6w7b9ctX+x+6Np1rcPgUQIib7wcm6sBRNCwVCDlrpcFggwMLhAyEYX7jGoW0bvMnY\n",
              "aNMAcS8V6/FW0Amj3/kch+V4gIaeCsImTeHygrF2Sgu0pkEOpIplCISbFPywABDE/YYAAAMAKvT8\n",
              "A7ZBssbDdOwYW/+fcjXmnOE+1HQ7bjTBUF0ba3/8gUPcKKnLhnYmxdrz5wyAn/C1FBft3a88Cu8Y\n",
              "yTa2uEqZVONbMPLKKQ8g3k90VW0YtclTtcvka3LJrQRkaArQGwiVVoqGYRzdaDpHB73MZBOgegKh\n",
              "FsrwCyX//QZD0wU/C2ImJZw3Mb5AqB0AB2nXVxAvnY31lWtAzmqihLZpGgG12aDeUEuIvVXP4eDB\n",
              "Ni4+etlE9l62HcTDkjGLdKbNH3MpNXNnl8luwoTiiDvmgfecIp0CXg5cl0YZeQU4Hfb1qNs2AAAD\n",
              "A8/+SvKOC9HvZOS8AVBKAyZTP46uto28keFdTdZAowEF3UHsL9I4waXwlToCOezGZgSP///wzgh4\n",
              "D34NFLJ0LvbRW2+aSPm1XRjAdAWEj/QYSvQz3PMdMTRHjIneI67EZw99hUjf5h/UeA9ScfJVRZI6\n",
              "ANDXpBW7C9aFHII0iHhL25bO6uifWKgGhHgyA4Uh65FjuzoDxXqT8WcREaGI9B4KHVkLy/of9axc\n",
              "6J9MXXdRityN48DoBwQ7L0AXNVulfhndTTzbeEoegwDXQAAHjtQDdxh8Bqbw52CyP/MmPXbcg34L\n",
              "17StzPa5lXYbWzRPPQBUsq65kjC7s1a+imOqSaXBm3Ryn3kTYMbN6TYtMw37WV+uBD9IEdLCr/Cr\n",
              "Nb7CDQI+QGLptHbHKieeZAIeKVN3cnd9GB2b7v1Hnh+qx2Nnc3o03FyvEgqF69nkt7wpzokbV5x7\n",
              "TTr6koENkPpaIPhJIgk5MyGhl9b7zCHbOp8hYPbvHJB5XAgaX63JfLXVYABa7MmsqEH0vM5nj8gU\n",
              "b3y4OdPyq7IlQu/2kdbqBo0dHx3YP0aHe2gYL2Qx8Ory3vWiwCpfu7aBRtaTYyMCzUBUrNi+NKmw\n",
              "0VVr54sIkrQf0kDBAlxdvMv7uxdTU2xDE0XkLDbapYibu+LHy8/czX//Yc46BORl0lgz9xRGHOHu\n",
              "J4wdCmrtZA3V1bM0NzbEuT/Eteoj5M0ET5KHw7IaCwsd9V2InFiKFgqzL3Ei38rAt8FOnezmpnSD\n",
              "wWUjveYde9F9f6Czgk+largo8YaFo4uqF74fARU+6wWIOvBZuoFOymEZbbjgvnVlAPA1kp0tWb8U\n",
              "HjlwqHtzGvl5xsRS0qdX3QdIBy/vX0LnG40RVYRuMiXAkdQF/MZUQKoBx+sPkoSziYREPPg2/4yh\n",
              "NlCcYo7a7j83YO3/0tO3OksYeiJJbGcAzP8NWP9Ac7+cUXvDiw+Lt/8EeA8vnqKNd05QiBfHKVFa\n",
              "kzofDirY0JzV4+Ameb10uHd7W+8ZbsQnl6/3yxHY3/nSLKIe1YrxNuH9Os1+PstP0aV8kOLBMRKW\n",
              "7AhP0u3TLRLzZIvxxstPiIMCXjTYWyzlZm0zOVkbth2D7Vb34ZFqS/LNUVPPm7PIx3Lh60j2l87x\n",
              "Aq17PBZstb4Fwv926z0Op4m8362E97B3py+Lx6lBgMFvLAJepkY0UGnt4qUSJthhmCAjOY7xRkqQ\n",
              "N1IbrNr0gqH/th0koVEHCfJWkQuPN89wO5XhKWmsva1HEUjShaCX2Aogr2yCasEStPmppNdK/ink\n",
              "Tq4IIJyL1CzNySJD9Wb+J/9pWy2GlGvvQcEvG6TbC9WE85HT0ZRXv4BZ/O8NvWZbkfLo1ETI1Jpg\n",
              "k4tFjd5MVT4+Fh2YexkrT6nGhnf0INTNNkuezz+4zel4DEQCE9V3bp4SGzeOqcnAurnYlZlVaQAT\n",
              "gfFfedwaY3ajxNVhQ1Vrg5o5D/VSbG1iGtkzLIvIHmomNe1wN8xDhx4QTSOp+EmWtczspVPlypNa\n",
              "XLMArr0Z7j9uteMLHKspN72rL8gaAwHP5VOnyEEVWAcOtPuWwRSxLOCbUAh/aelEu72S9nW2KRqz\n",
              "J5d47BWaXsfcIDxVPISu2NfEJzcZWmry5JGI49BoS0vePhg4kLXdq6ZU3diXGJlRlsqvZ2UZ+sSW\n",
              "Q1T9aSXuZTYFR2tlhux45Xm9jNSAO578k4Eg+P5HGk8pdXOSOJsfO2davwOaOe5Ct2J/GtJl6cq7\n",
              "OQPaaSb2+l7ia2CumO0Zb7re0lCFn01c+mDukJrlovDioLpVgHNccM11/Iepmi9rYtUeoLYi7L/+\n",
              "XhosKzNOu8rz6GM4ZP/TT2uy1lgFbeun16c52LLO8KQRUL2ZtrW3f74D7eK+CFRfzJqaDVMLzE2j\n",
              "u14TacxU2CIRQ0LkNr+WbC7XzGvKmmmDwwcjuXcCyeccq0ptyuJhSrKmRKWpwJLwO8PDPUlmD4ll\n",
              "EoX1EWHK6ioZPBddHxOHmgVAZzEqOXDvdZV4KjE2hbr2vopmTH/kRumHtRNwahhKhSw03ZD9td/z\n",
              "Jwod9ZCj789tqTEXXhT9DjH9N95SAOoW8rsXrgY6sdVv4K20R27GSINPcywNsTire7sJW/VcKBNh\n",
              "pi0hvaPt1230oKoWN3PjbRVu7K+PZGRaGSzvXlERB7npvGtIunyCoaVD5E+veRHWMnPcBEkDD1U2\n",
              "ei3m537PUaqmgvomjxWTREvSqsha1ydNXO5wyZ6eNgKWvfc81mrIx6aMtsLwAw4xa0frM3FHunWC\n",
              "uFBx1H/7Z0/WiXVR9bntFtdsOsqPSTTurz3InByltt5rHMf8xU2H2IrgKAUweAi7c/uGvnhFgy8S\n",
              "ymwmR6RK3e/54d3VCIdI4Cvz/NXA3VXztDoJu8AKyU7zkjMeyE1X009OljLoxXKt+GQ1t2P7X6AC\n",
              "lj4IWqZVup8hhh5x5O9jDz4+S+J8QVBimQkOU4zT1fM8/qrPjA39LreX1vN01/IriqPiQAdcq05d\n",
              "u1x/xbjxH6HpVn/MFfP9FTTxRtHFWx+mjl99L6lwTyNZ8Kh86wzrAABtqKuH5sbprP8mBZgWH3rm\n",
              "aYfT/+l/0Ke4eHJrLTIglLqRKq4BmjzAurwLeqT2K38XvgrLEdUrKpJq5Qo6bVcNlMjFT1h+bE/g\n",
              "muF9A7jQeM2IJoLhzvmaXea9Ep89hPsiiodU26tAED4b5zop5+1Fkc3GXMp+CJMaWF/IlaLEFkcx\n",
              "1TRrdug479krctXMsJaXpvrfBObsAvSTK8/V93v/ztjbXY8y2KsE0Dfpi2usFHfkD2Y8V4lqdLGE\n",
              "kArMt2VGDRHE/OPY3DSBBVwCbYYKDkkFNjiVBa0z85HraDi/+KIuGA7IcXX37douVmFEldyw4WVZ\n",
              "Fc4cqcQ/b/KJ9WGJO3URV0TQitQQyfMTsqGuIvaWmmax+7mtULfu8jAVaIyvmQp7d31XojqB17tl\n",
              "KFJsK/tAzBF5MTmxw2A+GHkk8gzArlaYBiuIZWgtQt6QHmRd94qPzgdU2+U6y6ht6ACx4oaCC1Ai\n",
              "h22SmNrppgtabg4Y55aeV4UYA1Kz3ADy8ws6hlevKCZquDWa3ThafzMqWffJhuunWGAXW/VvRRDl\n",
              "sfhWLzB5txHFEyhMit2KZAnPNlL7lrIY0lsR+AkBllcd3YuU1tZtAMUxeEFXhZQtYsHM3ObghduV\n",
              "QOidWcuQQ17eLptkJihnNnhovsKat6FRh5fi4NMaZFY04PV9bblgiIJbRPhaCUNiuL/6tAY0BtpP\n",
              "X7ok2s/Xeh78jHXprznvK+1JircFNmIgDc0WOUIVUXaK5TCeQwfYKYstDp+t+jClJTJNTcbo7BoU\n",
              "lNu10JhGeObn5pPAIrBjB4lB2oo3awhgAK6wXv515c5AbFSBIJ9aAZok8LKEfEsj9e4WCoEStOYo\n",
              "EREYvIypVj2wHDFA8HVlxv0GpQ4eWEOtATKwcm6+IDk/SdssRf/z8hESF/vfp6EKX14Ly46fq9aZ\n",
              "Iwk25D+2TVt2opMX5ZEhKynyEzVcmWY+X7f8x1VxKTYevvqaQVAecmLiQlWwgO53sNNOau4DFWwA\n",
              "Twt5/a39FfpUWiTgognsoVqEpvzmmP1jElwUaqThnMTeh/oW9sUmqkKdjCcTM9UHD+nz65/woccA\n",
              "x9XFunHGscBPbkanE/pYhJ78wiQYBLxfazVvtJeMAiuBgEOU++bkxQDkmgJQ4CJA51AHnCuOTM6k\n",
              "mLGMBYc00kNEE2Nnro+sXN2IUIMoR7HNAEDjJXcbK7WrVPH3oSyYGiiOqXjf2DHpAJ5x9cm6YtFe\n",
              "ZXYny/3BlvdYgbl2G0JnZ7YFNzG43oVm3XYEcoTPU/qtgVuItn4Kwp3Pl9O60hx8FtC7jFwnEjcE\n",
              "ByVDvGbq36wtUMEaX6cSZxlqkerEHe6sxANMt7+BalsB9OXMHIOydb7O1Q7PsBfUO8QZn+jFEUon\n",
              "ARY2mYE0l+1/jFrGjrCPRkgJmFcdeAdv4Q5k4bAXL6znGuOT1CGR1hzjZDZQCLxrFgD20DoyaEv5\n",
              "DfCRQeLaWjzoIx6VR6JbBe17ccioWzUyFrMmE2DE3p7oGhRMgDgypV2NT3ThjCvFw6Q0yo7cUap2\n",
              "Hwu1Iv5RhyecN1MyYFADp+nL5/R62/f3xouMV7A4hOluZ7iGP8AuXSIKxSYV7cDM/ysnmqda4ih6\n",
              "AjUBaUI+6uf+U6gknMU/ZIyrwxP349WrdA1iNC8X4S8UmK3DW5fjbWFSAwjJf7yPwRV9KxgjHStc\n",
              "6mJnfDvC0NELOsoppTX5JXoJEPTwYWKzzHzpFNZKt9bx2J+/0/Ay31kjf11JeDwcsr0UkB67I677\n",
              "4OplHckcT/tuDXJMv91xSLFwv5l8g8pAcwYZC+P0norRB68dIWkiW8ICr8hQeBzecCXyPZjJ9gRd\n",
              "yXA/5sVRmB+p31Z34Y2tKUcc0Kq9gnxZxa7PfQcv+I6B8hJnXUJVrV3/FN/myJVDo83YkBMMKDSf\n",
              "iTUn6g+nycdnJYqojiKSnuvnJP6Y9Grs//1CvFndeT6/3IusBcoijgB87dRx4+/Ew31lzx9iKQQI\n",
              "ydOVdZhZHTvCqZyQfYCq3Ca9xOFx8gTt/JL6rNHvsGX4eshE8DrOC0ehiAKMLK5gwmAAWk0Kq9jl\n",
              "5WhWRADqf7ysFILWFJe3rC9D/hdnn5MxyBbK6A4X5369feh5JMjMHNfcVhEFHgNHwYDkIGslfZEg\n",
              "DQ99U/FktZSDfpeaBwjT1FMyB9hbSVzTCbGiigsZmtlTNL0H/kTKOsVbCW+i/Xtb4d0I/MlAxTcr\n",
              "lq+7Y7vAhV2cvyXYi+mhkkNGhUOVWK1l731NBs4nO1pPOstnvw+6/QuoLGmDERdbnPaC3TAohT5D\n",
              "JeXukmBkGrI6A9sDk8/H7XuU83ksRLLNwsxD4pb/LmRlvCuIr2KpE11An2p+l1SS8mRWjOboEd5w\n",
              "mrfd6Kmr2kMg4AixK/V3LjDQE9hTOYb8/FdPQOyWRHrqXKBNCN/bVFvZ3o1PWj0maeIMxZog1T6Y\n",
              "YJj1UHCQojU0HSHoVGUOOJAWuIrAQJd61O7CSTHHvSs737dArV6xiDRylUfoF9/BbB0yRlh/qDOi\n",
              "kFq1eGOD2djVMQyE+dsbX5UH810Cr7XFzb1itedwXRfYLemeonS+f89qNtXvGj2VIfz9/bxfse6m\n",
              "WcNssygANy7dMbMSqGW52WJdQjvowWUrYghK3Yj5enxZ8j2LvXWIP816x0a/KckbS/jMBYrTcenE\n",
              "USA0fpfmEb6qudTVOl5pAkoHPsEMOBDkW+8wUlqPlDVFi17MXZHijhldlhfarkWwfSP6wu+HouwN\n",
              "shOjhfiQADMbpD7WqbsR4Vwzs+HkftWui3N8/fIR79QfaqRHKMW+6JTBJ8iOb+bSYLFTaTDFT4Vh\n",
              "9IvGP0QLoZxmmDUCwhpHS5q2R9HRhJjjh02UVVNowqZQzdemw8yQX2r4jUNjRthMmzH2znSZt37D\n",
              "w0z3ZJALwKAwQqGc///mCAeCpWBjSn6E4KNDL13O0O3VwWH8QBn4W43mqbVlJppqwT8C2oZSSJB+\n",
              "qIe8gPkz/9BYunC81lU8eXa/0V4ZfrVtdwvSvgfAw79mvp/QWwbzLk3x8DXSnnorq3/TDTu/Rmai\n",
              "zCmLSgty6rbWl41TERGA/fLUJ0tikYoLTYZEWzeSQ4oObhVN4962Dbss+yQziTLlDPiJERBcT96U\n",
              "rZ61BvvkCyUY1W+j5/VP2mNQ0i7omxUS9thKjQd2/7QtWqQtQJBPIEObZzgP8ftfjnZBexIWsHMj\n",
              "jmL8oM60WdAjIjv90cYF2q3XCqeTP349p0DHsSAPfmm80hU+Rhq19HG6K0f6UixHSyqyqQEyuyMA\n",
              "gydBdkPaVmO3xwc61dsgsUB6IyR1b5y5vYWq19XtpjH2geLl9pUM8kAbFVFh9WrTDkr822Dv+N2l\n",
              "T/XvgFJ1SSQD+QI0P4yFU2edoP4SLz6mDlkMYLrrlJ29L90Hg3LTaGb7do4MdBjTqr4ADJ9Ka2MU\n",
              "XRc+pCBWrAmAuoBIw7JDSAQUvFIBQEzArkNRjyYQWbYNNnAEb6PuW0RbiCvKrEESz+0hUjsU4IoV\n",
              "ckNwXpg2UrjW2RMhv3LYolU7KzpLV5tgS4H3swWncLliXklNKQ53DbnH0YQEMZBW28IPrhlOUgze\n",
              "UsA09Ny4kzWULjC2pBs5qBwxrttKNAF1g4/9HDVeIyM1gxCi4p9iWNSoontb9IL8b3vcS4UQrcVl\n",
              "RG50J9IfGvEn1wUBL5e1YQ4awFgZuBWuAv4oxN/PEILk/SzO3AQXAEvMP/j3UO/hGAWbMve/3F6t\n",
              "jKnBhJc7BMA6l6/wquyRGV1T8xvviub4niucc1D+rK51dTahdzs8IH78u1zXU6NR7eTi2iDnUsLi\n",
              "JXn45Vpo9Vy9Z8WGrIr2BKmmCWGrYMdxveuwRrFMcxpOk6fAzlbUOMU0AiKmUhloJHOUluKWxiwj\n",
              "1o9eBaPSvLXgj0F51YUIQJqdNLmaofXuhn/Jefhjn3uz95LKluvDd3WPyOFnVbEFCqH6vyDzDBQA\n",
              "DEZGtwqaN3dgc06uBmQb4ulDN2AJLMJtpDwdqbHidSP0UzYwZJi4omVstcvz96Vh86VLLWlntUm7\n",
              "+kzWjskQr6JYTYD8sE5cwZwM1CYHjixHcFWmyaUphxYYJDeSYQIK5aQgMISpgIl5j6b6XhH0ptAz\n",
              "vpoe/9jWU+7ZE5Hpg7W3Fy1+vH974ua98R1Ob2O3qoNAG+fwcpds82z0VHnuK6oaAgdzhxFl6ct4\n",
              "YAxiGGUi6cv09ZnfsBt6kXNWZcd/T0OppCHkZeo0JZdFECqeZRAwru3nq4zunXETzdi3H/7RhB1E\n",
              "ejKhAAAAhkGaJGxD//6plgAoImXoAadvjcQ0+qAlX+i5HvSfGJhzYIf7+P/nVfh0aubP03h4d3Q2\n",
              "nAo0wCmxN3Qe85jQeRV0LjF2Kn8+Pz9/CTNcfNQCsJae/cYPePdo+Wc8/YhvIdMFEvZjjlLOYmuW\n",
              "HCRf32sNmms+hTVfU2PrwWxax5ji1wYkuT2lAAAAKEGeQniGfwAAmUHC3qoirSaC4iVC7n2eouWv\n",
              "h5w8mc8CsdlteA//DVEAAAAgAZ5hdEK/AAEdc2KEe/Q9uJH/uMrSTmAOaw0eCP/gmp0AAAAWAZ5j\n",
              "akK/AAEd1/Xi+ultRt+GGAABswAAABpBmmhJqEFomUwIf//+qZYAAD0LonPgAAAGLAAAABxBnoZF\n",
              "ESwz/wAAmuu8N+Lel8QVyPJiAAgMwezBAAAAFgGepXRCvwABHXQx3XnpSdk1LrAABAwAAAAVAZ6n\n",
              "akK/AAEd1+gRUVdM+UwAALiBAAAAGUGarEmoQWyZTAh///6plgAAAwAAAwAALOAAAAAaQZ7KRRUs\n",
              "M/8AAJrru1sVxfXBXpwABuiu4iEAAAAUAZ7pdEK/AAEddCQREy+Ko/gAAccAAAAVAZ7rakK/AAEd\n",
              "1+gRUVdM+UwAALiBAAAAGUGa8EmoQWyZTAh///6plgAAAwAAAwAALOEAAAAaQZ8ORRUsM/8AAJrr\n",
              "u1sVxfXBXpwABuiu4iAAAAAUAZ8tdEK/AAEddCQREy+Ko/gAAccAAAAVAZ8vakK/AAEd1+gRUVdM\n",
              "+UwAALiBAAAAGUGbNEmoQWyZTAh///6plgAAAwAAAwAALOAAAAAaQZ9SRRUsM/8AAJrru1sVxfXB\n",
              "XpwABuiu4iAAAAAUAZ9xdEK/AAEddCQREy+Ko/gAAccAAAAVAZ9zakK/AAEd1+gRUVdM+UwAALiB\n",
              "AAAAGUGbeEmoQWyZTAh///6plgAAAwAAAwAALOEAAAAaQZ+WRRUsM/8AAJrru1sVxfXBXpwABuiu\n",
              "4iAAAAAUAZ+1dEK/AAEddCQREy+Ko/gAAccAAAAVAZ+3akK/AAEd1+gRUVdM+UwAALiBAAAAGUGb\n",
              "vEmoQWyZTAh///6plgAAAwAAAwAALOAAAAAaQZ/aRRUsM/8AAJrru1sVxfXBXpwABuiu4iAAAAAU\n",
              "AZ/5dEK/AAEddCQREy+Ko/gAAccAAAAVAZ/7akK/AAEd1+gRUVdM+UwAALiAAAAAGUGb4EmoQWyZ\n",
              "TAh///6plgAAAwAAAwAALOEAAAAaQZ4eRRUsM/8AAJrru1sVxfXBXpwABuiu4iEAAAAUAZ49dEK/\n",
              "AAEddCQREy+Ko/gAAccAAAAVAZ4/akK/AAEd1+gRUVdM+UwAALiBAAAAGUGaJEmoQWyZTAh///6p\n",
              "lgAAAwAAAwAALOAAAAAaQZ5CRRUsM/8AAJrru1sVxfXBXpwABuiu4iEAAAAUAZ5hdEK/AAEddCQR\n",
              "Ey+Ko/gAAccAAAAVAZ5jakK/AAEd1+gRUVdM+UwAALiAAAAAGUGaaEmoQWyZTAh///6plgAAAwAA\n",
              "AwAALOAAAAAaQZ6GRRUsM/8AAJrru1sVxfXBXpwABuiu4iEAAAAUAZ6ldEK/AAEddCQREy+Ko/gA\n",
              "AccAAAAVAZ6nakK/AAEd1+gRUVdM+UwAALiBAAAAGUGarEmoQWyZTAh///6plgAAAwAAAwAALOAA\n",
              "AAAaQZ7KRRUsM/8AAJrru1sVxfXBXpwABuiu4iEAAAAUAZ7pdEK/AAEddCQREy+Ko/gAAccAAAAV\n",
              "AZ7rakK/AAEd1+gRUVdM+UwAALiBAAAAGUGa8EmoQWyZTAh///6plgAAAwAAAwAALOEAAAAaQZ8O\n",
              "RRUsM/8AAJrru1sVxfXBXpwABuiu4iAAAAAUAZ8tdEK/AAEddCQREy+Ko/gAAccAAAAVAZ8vakK/\n",
              "AAEd1+gRUVdM+UwAALiBAAAAGUGbNEmoQWyZTAh///6plgAAAwAAAwAALOAAAAAaQZ9SRRUsM/8A\n",
              "AJrru1sVxfXBXpwABuiu4iAAAAAUAZ9xdEK/AAEddCQREy+Ko/gAAccAAAAVAZ9zakK/AAEd1+gR\n",
              "UVdM+UwAALiBAAAAGUGbeEmoQWyZTAh///6plgAAAwAAAwAALOEAAAAaQZ+WRRUsM/8AAJrru1sV\n",
              "xfXBXpwABuiu4iAAAAAUAZ+1dEK/AAEddCQREy+Ko/gAAccAAAAVAZ+3akK/AAEd1+gRUVdM+UwA\n",
              "ALiBAAAAGUGbvEmoQWyZTAh///6plgAAAwAAAwAALOAAAAAaQZ/aRRUsM/8AAJrru1sVxfXBXpwA\n",
              "Buiu4iAAAAAUAZ/5dEK/AAEddCQREy+Ko/gAAccAAAAVAZ/7akK/AAEd1+gRUVdM+UwAALiAAAAA\n",
              "GUGb4EmoQWyZTAh///6plgAAAwAAAwAALOEAAAAaQZ4eRRUsM/8AAJrru1sVxfXBXpwABuiu4iEA\n",
              "AAAUAZ49dEK/AAEddCQREy+Ko/gAAccAAAAVAZ4/akK/AAEd1+gRUVdM+UwAALiBAAAAGUGaJEmo\n",
              "QWyZTAh///6plgAAAwAAAwAALOAAAAAaQZ5CRRUsM/8AAJrru1sVxfXBXpwABuiu4iEAAAAUAZ5h\n",
              "dEK/AAEddCQREy+Ko/gAAccAAAAVAZ5jakK/AAEd1+gRUVdM+UwAALiAAAAAGUGaaEmoQWyZTAh/\n",
              "//6plgAAAwAAAwAALOAAAAAaQZ6GRRUsM/8AAJrru1sVxfXBXpwABuiu4iEAAAAUAZ6ldEK/AAEd\n",
              "dCQREy+Ko/gAAccAAAAVAZ6nakK/AAEd1+gRUVdM+UwAALiBAAAAGUGarEmoQWyZTAh///6plgAA\n",
              "AwAAAwAALOAAAAAaQZ7KRRUsM/8AAJrru1sVxfXBXpwABuiu4iEAAAAUAZ7pdEK/AAEddCQREy+K\n",
              "o/gAAccAAAAVAZ7rakK/AAEd1+gRUVdM+UwAALiBAAAAGUGa8EmoQWyZTAh///6plgAAAwAAAwAA\n",
              "LOEAAAAaQZ8ORRUsM/8AAJrru1sVxfXBXpwABuiu4iAAAAAUAZ8tdEK/AAEddCQREy+Ko/gAAccA\n",
              "AAAVAZ8vakK/AAEd1+gRUVdM+UwAALiBAAAAGUGbNEmoQWyZTAh///6plgAAAwAAAwAALOAAAAAa\n",
              "QZ9SRRUsM/8AAJrru1sVxfXBXpwABuiu4iAAAAAUAZ9xdEK/AAEddCQREy+Ko/gAAccAAAAVAZ9z\n",
              "akK/AAEd1+gRUVdM+UwAALiBAAAAGUGbeEmoQWyZTAh///6plgAAAwAAAwAALOEAAAAaQZ+WRRUs\n",
              "M/8AAJrru1sVxfXBXpwABuiu4iAAAAAUAZ+1dEK/AAEddCQREy+Ko/gAAccAAAAVAZ+3akK/AAEd\n",
              "1+gRUVdM+UwAALiBAAAAGUGbvEmoQWyZTAh///6plgAAAwAAAwAALOAAAAAaQZ/aRRUsM/8AAJrr\n",
              "u1sVxfXBXpwABuiu4iAAAAAUAZ/5dEK/AAEddCQREy+Ko/gAAccAAAAVAZ/7akK/AAEd1+gRUVdM\n",
              "+UwAALiAAAAAGUGb4EmoQWyZTAh///6plgAAAwAAAwAALOEAAAAaQZ4eRRUsM/8AAJrru1sVxfXB\n",
              "XpwABuiu4iEAAAAUAZ49dEK/AAEddCQREy+Ko/gAAccAAAAVAZ4/akK/AAEd1+gRUVdM+UwAALiB\n",
              "AAAAGUGaJEmoQWyZTAh///6plgAAAwAAAwAALOAAAAAaQZ5CRRUsM/8AAJrru1sVxfXBXpwABuiu\n",
              "4iEAAAAUAZ5hdEK/AAEddCQREy+Ko/gAAccAAAAVAZ5jakK/AAEd1+gRUVdM+UwAALiAAAAAGUGa\n",
              "aEmoQWyZTAh///6plgAAAwAAAwAALOAAAAAaQZ6GRRUsM/8AAJrru1sVxfXBXpwABuiu4iEAAAAU\n",
              "AZ6ldEK/AAEddCQREy+Ko/gAAccAAAAVAZ6nakK/AAEd1+gRUVdM+UwAALiBAAAAGUGarEmoQWyZ\n",
              "TAh///6plgAAAwAAAwAALOAAAAAaQZ7KRRUsM/8AAJrru1sVxfXBXpwABuiu4iEAAAAUAZ7pdEK/\n",
              "AAEddCQREy+Ko/gAAccAAAAVAZ7rakK/AAEd1+gRUVdM+UwAALiBAAAAGUGa8EmoQWyZTAh///6p\n",
              "lgAAAwAAAwAALOEAAAAaQZ8ORRUsM/8AAJrru1sVxfXBXpwABuiu4iAAAAAUAZ8tdEK/AAEddCQR\n",
              "Ey+Ko/gAAccAAAAVAZ8vakK/AAEd1+gRUVdM+UwAALiBAAAAGUGbNEmoQWyZTAh3//6plgAAAwAA\n",
              "AwAALOAAAAAaQZ9SRRUsM/8AAJrru1sVxfXBXpwABuiu4iAAAAAUAZ9xdEK/AAEddCQREy+Ko/gA\n",
              "AccAAAAVAZ9zakK/AAEd1+gRUVdM+UwAALiBAAAAGUGbeEmoQWyZTAh3//6plgAAAwAAAwAALOEA\n",
              "AAAaQZ+WRRUsM/8AAJrru1sVxfXBXpwABuiu4iAAAAAUAZ+1dEK/AAEddCQREy+Ko/gAAccAAAAV\n",
              "AZ+3akK/AAEd1+gRUVdM+UwAALiBAAAAGUGbvEmoQWyZTAhv//6nhAAAAwAAAwAAWUAAAAAaQZ/a\n",
              "RRUsM/8AAJrru1sVxfXBXpwABuiu4iAAAAAUAZ/5dEK/AAEddCQREy+Ko/gAAccAAAAVAZ/7akK/\n",
              "AAEd1+gRUVdM+UwAALiAAAAAGEGb4EmoQWyZTAhX//44QAAAAwAAAwAFTQAAABpBnh5FFSwz/wAA\n",
              "muu7WxXF9cFenAAG6K7iIQAAABQBnj10Qr8AAR10JBETL4qj+AABxwAAABUBnj9qQr8AAR3X6BFR\n",
              "V0z5TAAAuIEAABS6bW9vdgAAAGxtdmhkAAAAAAAAAAAAAAAAAAAD6AAASgYAAQAAAQAAAAAAAAAA\n",
              "AAAAAAEAAAAAAAAAAAAAAAAAAAABAAAAAAAAAAAAAAAAAABAAAAAAAAAAAAAAAAAAAAAAAAAAAAA\n",
              "AAAAAAAAAAAAAgAAE+R0cmFrAAAAXHRraGQAAAADAAAAAAAAAAAAAAABAAAAAAAASgYAAAAAAAAA\n",
              "AAAAAAAAAAAAAAEAAAAAAAAAAAAAAAAAAAABAAAAAAAAAAAAAAAAAABAAAAAAoAAAAHgAAAAAAAk\n",
              "ZWR0cwAAABxlbHN0AAAAAAAAAAEAAEoGAAAEAAABAAAAABNcbWRpYQAAACBtZGhkAAAAAAAAAAAA\n",
              "AAAAAAAoAAAC9gBVxAAAAAAALWhkbHIAAAAAAAAAAHZpZGUAAAAAAAAAAAAAAABWaWRlb0hhbmRs\n",
              "ZXIAAAATB21pbmYAAAAUdm1oZAAAAAEAAAAAAAAAAAAAACRkaW5mAAAAHGRyZWYAAAAAAAAAAQAA\n",
              "AAx1cmwgAAAAAQAAEsdzdGJsAAAAt3N0c2QAAAAAAAAAAQAAAKdhdmMxAAAAAAAAAAEAAAAAAAAA\n",
              "AAAAAAAAAAAAAoAB4ABIAAAASAAAAAAAAAABAAAAAAAAAAAAAAAAAAAAAAAAAAAAAAAAAAAAAAAA\n",
              "AAAAGP//AAAANWF2Y0MBZAAe/+EAGGdkAB6s2UCgPaEAAAMAAQAAAwAoDxYtlgEABmjr48siwP34\n",
              "+AAAAAAcdXVpZGtoQPJfJE/FujmlG88DI/MAAAAAAAAAGHN0dHMAAAAAAAAAAQAAAXsAAAIAAAAA\n",
              "GHN0c3MAAAAAAAAAAgAAAAEAAAD7AAALqGN0dHMAAAAAAAABcwAAAAEAAAQAAAAAAQAABgAAAAAB\n",
              "AAACAAAAAAEAAAQAAAAAAQAACAAAAAACAAACAAAAAAQAAAQAAAAAAQAACgAAAAABAAAEAAAAAAEA\n",
              "AAAAAAAAAQAAAgAAAAABAAAGAAAAAAEAAAIAAAAAAgAABAAAAAABAAAGAAAAAAEAAAIAAAAAAQAA\n",
              "CAAAAAACAAACAAAAAAEAAAoAAAAAAQAABAAAAAABAAAAAAAAAAEAAAIAAAAAAQAACAAAAAACAAAC\n",
              "AAAAAAEAAAoAAAAAAQAABAAAAAABAAAAAAAAAAEAAAIAAAAAAQAACgAAAAABAAAEAAAAAAEAAAAA\n",
              "AAAAAQAAAgAAAAABAAAKAAAAAAEAAAQAAAAAAQAAAAAAAAABAAACAAAAAAEAAAoAAAAAAQAABAAA\n",
              "AAABAAAAAAAAAAEAAAIAAAAAAQAACgAAAAABAAAEAAAAAAEAAAAAAAAAAQAAAgAAAAABAAAKAAAA\n",
              "AAEAAAQAAAAAAQAAAAAAAAABAAACAAAAAAEAAAoAAAAAAQAABAAAAAABAAAAAAAAAAEAAAIAAAAA\n",
              "AQAACgAAAAABAAAEAAAAAAEAAAAAAAAAAQAAAgAAAAABAAAKAAAAAAEAAAQAAAAAAQAAAAAAAAAB\n",
              "AAACAAAAAAEAAAoAAAAAAQAABAAAAAABAAAAAAAAAAEAAAIAAAAAAQAACgAAAAABAAAEAAAAAAEA\n",
              "AAAAAAAAAQAAAgAAAAABAAAKAAAAAAEAAAQAAAAAAQAAAAAAAAABAAACAAAAAAEAAAoAAAAAAQAA\n",
              "BAAAAAABAAAAAAAAAAEAAAIAAAAAAQAACgAAAAABAAAEAAAAAAEAAAAAAAAAAQAAAgAAAAABAAAK\n",
              "AAAAAAEAAAQAAAAAAQAAAAAAAAABAAACAAAAAAEAAAoAAAAAAQAABAAAAAABAAAAAAAAAAEAAAIA\n",
              "AAAAAQAACgAAAAABAAAEAAAAAAEAAAAAAAAAAQAAAgAAAAABAAAKAAAAAAEAAAQAAAAAAQAAAAAA\n",
              "AAABAAACAAAAAAEAAAoAAAAAAQAABAAAAAABAAAAAAAAAAEAAAIAAAAAAQAACgAAAAABAAAEAAAA\n",
              "AAEAAAAAAAAAAQAAAgAAAAABAAAKAAAAAAEAAAQAAAAAAQAAAAAAAAABAAACAAAAAAEAAAoAAAAA\n",
              "AQAABAAAAAABAAAAAAAAAAEAAAIAAAAAAQAACgAAAAABAAAEAAAAAAEAAAAAAAAAAQAAAgAAAAAB\n",
              "AAAKAAAAAAEAAAQAAAAAAQAAAAAAAAABAAACAAAAAAEAAAoAAAAAAQAABAAAAAABAAAAAAAAAAEA\n",
              "AAIAAAAAAQAACgAAAAABAAAEAAAAAAEAAAAAAAAAAQAAAgAAAAABAAAKAAAAAAEAAAQAAAAAAQAA\n",
              "AAAAAAABAAACAAAAAAEAAAoAAAAAAQAABAAAAAABAAAAAAAAAAEAAAIAAAAAAQAACgAAAAABAAAE\n",
              "AAAAAAEAAAAAAAAAAQAAAgAAAAABAAAKAAAAAAEAAAQAAAAAAQAAAAAAAAABAAACAAAAAAEAAAoA\n",
              "AAAAAQAABAAAAAABAAAAAAAAAAEAAAIAAAAAAQAACgAAAAABAAAEAAAAAAEAAAAAAAAAAQAAAgAA\n",
              "AAABAAAKAAAAAAEAAAQAAAAAAQAAAAAAAAABAAACAAAAAAEAAAoAAAAAAQAABAAAAAABAAAAAAAA\n",
              "AAEAAAIAAAAAAQAACgAAAAABAAAEAAAAAAEAAAAAAAAAAQAAAgAAAAABAAAKAAAAAAEAAAQAAAAA\n",
              "AQAAAAAAAAABAAACAAAAAAEAAAoAAAAAAQAABAAAAAABAAAAAAAAAAEAAAIAAAAAAQAACgAAAAAB\n",
              "AAAEAAAAAAEAAAAAAAAAAQAAAgAAAAABAAAKAAAAAAEAAAQAAAAAAQAAAAAAAAABAAACAAAAAAEA\n",
              "AAoAAAAAAQAABAAAAAABAAAAAAAAAAEAAAIAAAAAAQAACgAAAAABAAAEAAAAAAEAAAAAAAAAAQAA\n",
              "AgAAAAABAAAKAAAAAAEAAAQAAAAAAQAAAAAAAAABAAACAAAAAAEAAAoAAAAAAQAABAAAAAABAAAA\n",
              "AAAAAAEAAAIAAAAAAQAACgAAAAABAAAEAAAAAAEAAAAAAAAAAQAAAgAAAAABAAAKAAAAAAEAAAQA\n",
              "AAAAAQAAAAAAAAABAAACAAAAAAEAAAoAAAAAAQAABAAAAAABAAAAAAAAAAEAAAIAAAAAAQAACgAA\n",
              "AAABAAAEAAAAAAEAAAAAAAAAAQAAAgAAAAABAAAKAAAAAAEAAAQAAAAAAQAAAAAAAAABAAACAAAA\n",
              "AAEAAAoAAAAAAQAABAAAAAABAAAAAAAAAAEAAAIAAAAAAQAACgAAAAABAAAEAAAAAAEAAAAAAAAA\n",
              "AQAAAgAAAAABAAAKAAAAAAEAAAQAAAAAAQAAAAAAAAABAAACAAAAAAEAAAoAAAAAAQAABAAAAAAB\n",
              "AAAAAAAAAAEAAAIAAAAAAQAACgAAAAABAAAEAAAAAAEAAAAAAAAAAQAAAgAAAAABAAAKAAAAAAEA\n",
              "AAQAAAAAAQAAAAAAAAABAAACAAAAAAEAAAgAAAAAAgAAAgAAAAABAAAEAAAAAAEAAAoAAAAAAQAA\n",
              "BAAAAAABAAAAAAAAAAEAAAIAAAAAAQAACgAAAAABAAAEAAAAAAEAAAAAAAAAAQAAAgAAAAABAAAK\n",
              "AAAAAAEAAAQAAAAAAQAAAAAAAAABAAACAAAAAAEAAAoAAAAAAQAABAAAAAABAAAAAAAAAAEAAAIA\n",
              "AAAAAQAACgAAAAABAAAEAAAAAAEAAAAAAAAAAQAAAgAAAAABAAAKAAAAAAEAAAQAAAAAAQAAAAAA\n",
              "AAABAAACAAAAAAEAAAoAAAAAAQAABAAAAAABAAAAAAAAAAEAAAIAAAAAAQAACgAAAAABAAAEAAAA\n",
              "AAEAAAAAAAAAAQAAAgAAAAABAAAKAAAAAAEAAAQAAAAAAQAAAAAAAAABAAACAAAAAAEAAAoAAAAA\n",
              "AQAABAAAAAABAAAAAAAAAAEAAAIAAAAAAQAACgAAAAABAAAEAAAAAAEAAAAAAAAAAQAAAgAAAAAB\n",
              "AAAKAAAAAAEAAAQAAAAAAQAAAAAAAAABAAACAAAAAAEAAAoAAAAAAQAABAAAAAABAAAAAAAAAAEA\n",
              "AAIAAAAAAQAACgAAAAABAAAEAAAAAAEAAAAAAAAAAQAAAgAAAAABAAAKAAAAAAEAAAQAAAAAAQAA\n",
              "AAAAAAABAAACAAAAAAEAAAoAAAAAAQAABAAAAAABAAAAAAAAAAEAAAIAAAAAAQAACgAAAAABAAAE\n",
              "AAAAAAEAAAAAAAAAAQAAAgAAAAABAAAKAAAAAAEAAAQAAAAAAQAAAAAAAAABAAACAAAAAAEAAAoA\n",
              "AAAAAQAABAAAAAABAAAAAAAAAAEAAAIAAAAAAQAACgAAAAABAAAEAAAAAAEAAAAAAAAAAQAAAgAA\n",
              "AAABAAAKAAAAAAEAAAQAAAAAAQAAAAAAAAABAAACAAAAAAEAAAoAAAAAAQAABAAAAAABAAAAAAAA\n",
              "AAEAAAIAAAAAAQAACgAAAAABAAAEAAAAAAEAAAAAAAAAAQAAAgAAAAABAAAKAAAAAAEAAAQAAAAA\n",
              "AQAAAAAAAAABAAACAAAAAAEAAAoAAAAAAQAABAAAAAABAAAAAAAAAAEAAAIAAAAAAQAACgAAAAAB\n",
              "AAAEAAAAAAEAAAAAAAAAAQAAAgAAAAABAAAKAAAAAAEAAAQAAAAAAQAAAAAAAAABAAACAAAAAAEA\n",
              "AAoAAAAAAQAABAAAAAABAAAAAAAAAAEAAAIAAAAAAQAACgAAAAABAAAEAAAAAAEAAAAAAAAAAQAA\n",
              "AgAAAAABAAAKAAAAAAEAAAQAAAAAAQAAAAAAAAABAAACAAAAAAEAAAoAAAAAAQAABAAAAAABAAAA\n",
              "AAAAAAEAAAIAAAAAAQAACgAAAAABAAAEAAAAAAEAAAAAAAAAAQAAAgAAAAAcc3RzYwAAAAAAAAAB\n",
              "AAAAAQAAAXsAAAABAAAGAHN0c3oAAAAAAAAAAAAAAXsAABvcAAACjAAAAawAAAIxAAACSQAAAisA\n",
              "AAFuAAABXAAAATYAAAFqAAAA2AAAAHEAAABFAAAARgAAAGoAAAFtAAAAdQAAATYAAAFQAAABuAAA\n",
              "AF0AAAGjAAAAZwAAAEsAAACkAAAARQAAACsAAAAuAAABTgAAAFcAAABGAAABuwAAAH0AAABEAAAA\n",
              "TQAAAQsAAAA9AAAAOgAAACUAAAClAAAAMQAAACoAAAAtAAAA4gAAAEcAAAArAAAANwAAAKcAAAA+\n",
              "AAAAKQAAACgAAAB2AAAAMQAAACEAAAAbAAAAjAAAADsAAAAoAAAAIQAAAHAAAAA5AAAAGgAAABwA\n",
              "AABUAAAAKwAAABkAAAAZAAAASwAAACcAAAAbAAAAGwAAAH4AAAAnAAAAHgAAABsAAABEAAAAJwAA\n",
              "ABsAAAAbAAAALwAAACcAAAAbAAAAGwAAADkAAAAnAAAAGwAAABsAAAA3AAAAJwAAABsAAAAbAAAA\n",
              "HQAAACgAAAAbAAAAGwAAACIAAAAnAAAAGwAAABsAAAA2AAAAKAAAABsAAAAbAAAAHQAAACcAAAAb\n",
              "AAAAGwAAAB0AAAAnAAAAGwAAABsAAAAdAAAAJwAAABsAAAAbAAAAHQAAACcAAAAbAAAAGwAAAB0A\n",
              "AAAnAAAAGwAAABsAAAAdAAAAJwAAABsAAAAbAAAAHQAAACcAAAAbAAAAGwAAAB0AAAAnAAAAGwAA\n",
              "ABsAAAAdAAAAJwAAABsAAAAbAAAAHQAAACcAAAAbAAAAGwAAAB0AAAAnAAAAGwAAABsAAAAdAAAA\n",
              "JwAAABsAAAAbAAAAHQAAACcAAAAbAAAAGwAAAB0AAAAnAAAAGwAAABsAAAAdAAAAJwAAABsAAAAb\n",
              "AAAAHQAAACcAAAAbAAAAGwAAAB0AAAAnAAAAGwAAABsAAAAdAAAAJwAAABsAAAAbAAAAHQAAACcA\n",
              "AAAbAAAAGwAAAB0AAAAnAAAAGwAAABsAAAAdAAAAJwAAABsAAAAbAAAAHQAAACcAAAAbAAAAGwAA\n",
              "AB0AAAAnAAAAGwAAABsAAAAdAAAAJwAAABsAAAAbAAAAHQAAACcAAAAbAAAAGwAAAB0AAAAnAAAA\n",
              "GwAAABsAAAAdAAAAJwAAABsAAAAbAAAAHQAAACcAAAAbAAAAGwAAAB0AAAAnAAAAGwAAABsAAAAd\n",
              "AAAAJwAAABsAAAAbAAAAHQAAACcAAAAbAAAAGwAAAB0AAAAnAAAAGwAAABsAAAAdAAAAJwAAABsA\n",
              "AAAbAAAAHQAAACcAAAAbAAAAGwAAAB0AAAAnAAAAGwAAABsAAAAdAAAAJwAAABsAAAAbAAAAHAAA\n",
              "ACUAAAAbAAAf/gAAAIoAAAAsAAAAJAAAABoAAAAeAAAAIAAAABoAAAAZAAAAHQAAAB4AAAAYAAAA\n",
              "GQAAAB0AAAAeAAAAGAAAABkAAAAdAAAAHgAAABgAAAAZAAAAHQAAAB4AAAAYAAAAGQAAAB0AAAAe\n",
              "AAAAGAAAABkAAAAdAAAAHgAAABgAAAAZAAAAHQAAAB4AAAAYAAAAGQAAAB0AAAAeAAAAGAAAABkA\n",
              "AAAdAAAAHgAAABgAAAAZAAAAHQAAAB4AAAAYAAAAGQAAAB0AAAAeAAAAGAAAABkAAAAdAAAAHgAA\n",
              "ABgAAAAZAAAAHQAAAB4AAAAYAAAAGQAAAB0AAAAeAAAAGAAAABkAAAAdAAAAHgAAABgAAAAZAAAA\n",
              "HQAAAB4AAAAYAAAAGQAAAB0AAAAeAAAAGAAAABkAAAAdAAAAHgAAABgAAAAZAAAAHQAAAB4AAAAY\n",
              "AAAAGQAAAB0AAAAeAAAAGAAAABkAAAAdAAAAHgAAABgAAAAZAAAAHQAAAB4AAAAYAAAAGQAAAB0A\n",
              "AAAeAAAAGAAAABkAAAAdAAAAHgAAABgAAAAZAAAAHQAAAB4AAAAYAAAAGQAAAB0AAAAeAAAAGAAA\n",
              "ABkAAAAdAAAAHgAAABgAAAAZAAAAHQAAAB4AAAAYAAAAGQAAAB0AAAAeAAAAGAAAABkAAAAcAAAA\n",
              "HgAAABgAAAAZAAAAFHN0Y28AAAAAAAAAAQAAADAAAABidWR0YQAAAFptZXRhAAAAAAAAACFoZGxy\n",
              "AAAAAAAAAABtZGlyYXBwbAAAAAAAAAAAAAAAAC1pbHN0AAAAJal0b28AAAAdZGF0YQAAAAEAAAAA\n",
              "TGF2ZjU4Ljc2LjEwMA==\n",
              "\">\n",
              "  Your browser does not support the video tag.\n",
              "</video>"
            ]
          },
          "metadata": {},
          "execution_count": 24
        }
      ]
    },
    {
      "cell_type": "markdown",
      "source": [
        "# Pasos Adicionales"
      ],
      "metadata": {
        "id": "QGbjX5oJurqV"
      }
    },
    {
      "cell_type": "markdown",
      "source": [
        "# Representación en Espacio de Estados"
      ],
      "metadata": {
        "id": "T4uf9PfLvD5y"
      }
    },
    {
      "cell_type": "code",
      "source": [
        "# Convertir el modelo de función de transferencia a espacio de estados\n",
        "sys_ss = ctrl.tf2ss(G)\n",
        "\n",
        "# Mostrar matrices de espacio de estados\n",
        "print(\"Matriz de estado A:\")\n",
        "print(sys_ss.A)\n",
        "print(\"\\nMatriz de entrada B:\")\n",
        "print(sys_ss.B)\n",
        "print(\"\\nMatriz de salida C:\")\n",
        "print(sys_ss.C)\n",
        "print(\"\\nMatriz de transmisión directa D:\")\n",
        "print(sys_ss.D)\n",
        "\n",
        "# Verificar controlabilidad y observabilidad\n",
        "controllable = ctrl.ctrb(sys_ss.A, sys_ss.B)\n",
        "observable = ctrl.obsv(sys_ss.A, sys_ss.C)\n",
        "\n",
        "print(\"\\nEl sistema es controlable:\", np.linalg.matrix_rank(controllable) == sys_ss.A.shape[0])\n",
        "print(\"El sistema es observable:\", np.linalg.matrix_rank(observable) == sys_ss.A.shape[0])"
      ],
      "metadata": {
        "id": "ui2jEt5dvDeO",
        "colab": {
          "base_uri": "https://localhost:8080/"
        },
        "outputId": "54356e0f-fbbc-4b23-cbc2-ed7d5712f1e4"
      },
      "execution_count": 19,
      "outputs": [
        {
          "output_type": "stream",
          "name": "stdout",
          "text": [
            "Matriz de estado A:\n",
            "[[-0.    9.81]\n",
            " [ 1.    0.  ]]\n",
            "\n",
            "Matriz de entrada B:\n",
            "[[1.]\n",
            " [0.]]\n",
            "\n",
            "Matriz de salida C:\n",
            "[[0. 1.]]\n",
            "\n",
            "Matriz de transmisión directa D:\n",
            "[[0.]]\n",
            "\n",
            "El sistema es controlable: True\n",
            "El sistema es observable: True\n"
          ]
        }
      ]
    },
    {
      "cell_type": "markdown",
      "source": [
        "# Diseño de Observador"
      ],
      "metadata": {
        "id": "0HZ93q_LvH6z"
      }
    },
    {
      "cell_type": "code",
      "source": [
        "# Definir las matrices de estado del sistema\n",
        "A = np.array([[-0, 9.81],\n",
        "              [1, 0]])\n",
        "B = np.array([[1],\n",
        "              [0]])\n",
        "C = np.array([[0, 1]])\n",
        "D = np.array([[0]])\n",
        "\n",
        "# Crear el sistema de espacio de estados\n",
        "sys_ss = ctrl.ss(A, B, C, D)\n",
        "\n",
        "# Diseñar un observador de Luenberger\n",
        "L = ctrl.place(sys_ss.A.T, sys_ss.C.T, [-10, -20])\n",
        "L = L.T  # Transponer la matriz de ganancias L\n",
        "observer_ss = ctrl.ss(sys_ss.A - L @ sys_ss.C, L, np.eye(2), np.zeros((2, 1)))\n",
        "\n",
        "# Simular el sistema con el observador\n",
        "t_obs, y_obs = ctrl.impulse_response(observer_ss)\n",
        "\n",
        "# Obtener la respuesta del observador en la forma adecuada\n",
        "y_obs = np.squeeze(y_obs)\n",
        "\n",
        "# Obtener el tiempo de la respuesta del observador\n",
        "t_obs = np.linspace(0, len(y_obs) - 1, len(y_obs))\n",
        "\n",
        "# Graficar la respuesta del observador\n",
        "import matplotlib.pyplot as plt\n",
        "plt.plot(t_obs, y_obs)\n",
        "plt.xlabel('Tiempo (s)')\n",
        "plt.ylabel('Salida del observador')\n",
        "plt.title('Respuesta del observador de Luenberger')\n",
        "plt.grid(True)\n",
        "plt.show()"
      ],
      "metadata": {
        "id": "YHNV9LwUvHps",
        "colab": {
          "base_uri": "https://localhost:8080/",
          "height": 472
        },
        "outputId": "67e7ae2a-8644-47ac-c71a-da9bc8af608f"
      },
      "execution_count": 20,
      "outputs": [
        {
          "output_type": "display_data",
          "data": {
            "text/plain": [
              "<Figure size 640x480 with 1 Axes>"
            ],
            "image/png": "[encoded data removed]"
          },
          "metadata": {}
        }
      ]
    },
    {
      "cell_type": "markdown",
      "source": [
        "# Control Óptimo (LQR)"
      ],
      "metadata": {
        "id": "tkYxEcJ2vLKb"
      }
    },
    {
      "cell_type": "markdown",
      "source": [
        "Hemos añadido un paso adicional para diseñar un controlador LQR. Lo primero que hacemos es definir una matriz de pesos para los estados **Q** y un peso para la entrada de control **R**. Después, utilizamos la función *ctrl.lqr()* para calcular las ganancias óptimas del controlador LQR basadas en la matriz de estados del sistema, la matriz de entrada y las matrices de peso **Q** y **R**. Luego, simulamos el sistema con el controlador LQR utilizando la función *ctrl.forced_response()*, especificando el tiempo de simulación, la entrada de control y las condiciones iniciales."
      ],
      "metadata": {
        "id": "zg3pXiSrN28b"
      }
    },
    {
      "cell_type": "code",
      "source": [
        "# Diseñar un controlador LQR\n",
        "Q = np.eye(2)  # Matriz de pesos para los estados\n",
        "R = 1          # Peso para la entrada de control\n",
        "K_lqr, _, _ = ctrl.lqr(sys_ss.A, sys_ss.B, Q, R)\n",
        "\n",
        "# Simular el sistema con el controlador LQR\n",
        "t_lqr, x_lqr = ctrl.forced_response(ctrl.ss(sys_ss.A - sys_ss.B @ K_lqr, sys_ss.B, sys_ss.C, sys_ss.D), T=np.linspace(0, 10, 100), U=0, X0=np.array([0.1, 0]))\n",
        "\n",
        "# Ajustar la forma de x_lqr[0] si es necesario\n",
        "if len(x_lqr.shape) == 1:\n",
        "    x_lqr = np.expand_dims(x_lqr, axis=0)\n",
        "\n",
        "# Graficar la respuesta del sistema con el controlador LQR\n",
        "plt.plot(t_lqr, x_lqr[0], label='Ángulo')\n",
        "plt.xlabel('Tiempo (s)')\n",
        "plt.ylabel('Ángulo (rad)')\n",
        "plt.title('Respuesta del Sistema con Controlador LQR')\n",
        "plt.legend()\n",
        "plt.grid(True)\n",
        "plt.show()"
      ],
      "metadata": {
        "id": "Od_Ct0XdvNOF",
        "colab": {
          "base_uri": "https://localhost:8080/",
          "height": 472
        },
        "outputId": "a2f82da5-fe6a-42e7-ecb2-1d104dcd5cfe"
      },
      "execution_count": 21,
      "outputs": [
        {
          "output_type": "display_data",
          "data": {
            "text/plain": [
              "<Figure size 640x480 with 1 Axes>"
            ],
            "image/png": "[encoded data removed]"
          },
          "metadata": {}
        }
      ]
    },
    {
      "cell_type": "markdown",
      "source": [
        "\n",
        "Al examinar la gráfica, se aprecia que inicialmente, a partir del segundo 0, el ángulo experimenta un aumento. No obstante, alrededor del segundo 1, se inicia un proceso de disminución gradual del ángulo hasta alcanzar 0 alrededor del segundo 3. Esto sugiere que, aunque el sistema inicialmente se aleja del punto de equilibrio, el controlador LQR logra estabilizarlo con eficacia y retornarlo a dicho equilibrio en un lapso de tiempo relativamente breve."
      ],
      "metadata": {
        "id": "wMRUDNhROn0d"
      }
    },
    {
      "cell_type": "markdown",
      "source": [
        "# Control Adaptativo"
      ],
      "metadata": {
        "id": "KxB_WoSHvRA-"
      }
    },
    {
      "cell_type": "code",
      "source": [
        "# Implementar un controlador adaptativo (puedes usar un método específico)\n",
        "# Aquí hay un ejemplo simple de cómo podrías hacerlo:\n",
        "class AdaptiveController:\n",
        "    def __init__(self):\n",
        "        self.Kp = 0.0  # Inicializar ganancias\n",
        "        self.Ki = 0.0\n",
        "        self.Kd = 0.0\n",
        "\n",
        "    def update(self, error):\n",
        "        # Algoritmo adaptativo para ajustar las ganancias basado en el error\n",
        "        self.Kp += 0.1 * error\n",
        "        self.Ki += 0.05 * error\n",
        "        self.Kd += 0.01 * error\n",
        "\n",
        "# Crear instancia del controlador adaptativo\n",
        "adaptive_controller = AdaptiveController()\n",
        "\n",
        "# Simular el sistema con el controlador adaptativo\n",
        "# (debes proporcionar la implementación específica para esta simulación)\n",
        "\n",
        "# Graficar la respuesta del sistema con el controlador adaptativo\n",
        "# (debes proporcionar la implementación específica para esta gráfica)\n"
      ],
      "metadata": {
        "id": "OTp6Pm7WvQoJ"
      },
      "execution_count": 22,
      "outputs": []
    }
  ]
}